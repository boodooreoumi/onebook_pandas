{
 "cells": [
  {
   "cell_type": "code",
   "execution_count": 1,
   "id": "10be1047",
   "metadata": {},
   "outputs": [],
   "source": [
    "# 카이제곱검정 : 표본의 관측된 빈도수와 기대빈도의 차이를 바탕으로\n",
    "# 두 집단의 동일성과 독립성을 확인할 수 있는 방법\n",
    "\n",
    "# 연속형변수 -> 모평균차이검정, 범주형변수 -> 독립성검정\n",
    "\n",
    "# 독립표본t검정(독립인 두집단에 대한 모평균차이 비교)\n",
    "# 대응표본t검정(대응되는 두집단에 대한 평균차이 비교)\n",
    "# 카이제곱검정(두 범주형 변수에 대한 독립성 여부 검정)"
   ]
  },
  {
   "cell_type": "code",
   "execution_count": 4,
   "id": "ae451987",
   "metadata": {},
   "outputs": [
    {
     "name": "stdout",
     "output_type": "stream",
     "text": [
      "Collecting scipy\n",
      "  Downloading scipy-1.7.3-cp37-cp37m-win_amd64.whl (34.1 MB)\n",
      "     ---------------------------------------- 34.1/34.1 MB 3.8 MB/s eta 0:00:00\n",
      "Requirement already satisfied: numpy<1.23.0,>=1.16.5 in c:\\users\\m\\.conda\\envs\\cospropython\\lib\\site-packages (from scipy) (1.21.6)\n",
      "Installing collected packages: scipy\n",
      "Successfully installed scipy-1.7.3\n"
     ]
    },
    {
     "data": {
      "text/plain": [
       "ShapiroResult(statistic=0.978407084941864, pvalue=0.9708739519119263)"
      ]
     },
     "execution_count": 4,
     "metadata": {},
     "output_type": "execute_result"
    }
   ],
   "source": [
    "# 독립표본t검정\n",
    "# 일평균 스마트폰 사용시간이 성별에 따라 다를까?\n",
    "# 동아리 활동여부에 따라 학교생활 만족도에 차이가 있을까?\n",
    "\n",
    "# 1.각데이터셋의 정규성 확인을 위해 shapiro()함수를 적용\n",
    "x1 = [44,44,56,46,47,38,58,53,49,35,46,30,41]\n",
    "x2 = [35,47,55,29,40,39,32,41,42,57,51,39]\n",
    "\n",
    "!pip install scipy\n",
    "\n",
    "from scipy.stats import levene, ttest_ind, shapiro\n",
    "\n",
    "shapiro(x1)"
   ]
  },
  {
   "cell_type": "code",
   "execution_count": 5,
   "id": "cb3444e5",
   "metadata": {},
   "outputs": [
    {
     "data": {
      "text/plain": [
       "ShapiroResult(statistic=0.9537350535392761, pvalue=0.6920550465583801)"
      ]
     },
     "execution_count": 5,
     "metadata": {},
     "output_type": "execute_result"
    }
   ],
   "source": [
    "shapiro(x2) # pvalue가 0.05이상이므로 귀무가설을 채택하므로 정규성을 만족"
   ]
  },
  {
   "cell_type": "code",
   "execution_count": 6,
   "id": "411be8f2",
   "metadata": {},
   "outputs": [
    {
     "data": {
      "text/plain": [
       "LeveneResult(statistic=0.09230190178073239, pvalue=0.7640023844571427)"
      ]
     },
     "execution_count": 6,
     "metadata": {},
     "output_type": "execute_result"
    }
   ],
   "source": [
    "# 두 집단 데이터에 대한 등분산 가정을 확인하기 위해 levene()함수 적용\n",
    "levene(x1,x2) # pvalue가 0.05이상이므로 귀무가설을 채택하므로 등분산을 만족"
   ]
  },
  {
   "cell_type": "code",
   "execution_count": 7,
   "id": "ce4a8ae4",
   "metadata": {},
   "outputs": [
    {
     "name": "stdout",
     "output_type": "stream",
     "text": [
      "one sample 평균1)  45.15384615384615\n",
      "one sample 평균2)  42.25\n",
      "one sample 표준편차1)  7.6846115346105694\n",
      "one sample 표준편차2)  8.367845202519781\n"
     ]
    }
   ],
   "source": [
    "# 독립표본 t검정\n",
    "import numpy as np\n",
    "print(\"one sample 평균1) \", np.mean(x1))\n",
    "print(\"one sample 평균2) \", np.mean(x2))\n",
    "\n",
    "print(\"one sample 표준편차1) \", np.std(x1))\n",
    "print(\"one sample 표준편차2) \", np.std(x2))"
   ]
  },
  {
   "cell_type": "code",
   "execution_count": 9,
   "id": "6662e74b",
   "metadata": {},
   "outputs": [
    {
     "name": "stdout",
     "output_type": "stream",
     "text": [
      "t 검정통계량: 0.86755, p값: 0.39460\n"
     ]
    }
   ],
   "source": [
    "result = ttest_ind(x1,x2) # equal_var=True(기본값)\n",
    "print(\"t 검정통계량: %.5f, p값: %.5f\"%result) # pvalue가 0.05이상이므로 귀무가설을 채택"
   ]
  },
  {
   "cell_type": "code",
   "execution_count": 10,
   "id": "f326c514",
   "metadata": {},
   "outputs": [
    {
     "name": "stdout",
     "output_type": "stream",
     "text": [
      "t 검정통계량: 0.86755, p값: 0.19730\n"
     ]
    }
   ],
   "source": [
    "# 단측검정의 경우에는,\n",
    "result = ttest_ind(x1,x2, alternative=\"greater\") # equal_var=True(기본값)\n",
    "print(\"t 검정통계량: %.5f, p값: %.5f\"%result) # pvalue가 0.05이상이므로 귀무가설을 채택"
   ]
  },
  {
   "cell_type": "code",
   "execution_count": 15,
   "id": "7b7811b1",
   "metadata": {},
   "outputs": [],
   "source": [
    "# 대응표본 t검정\n",
    "# 두 모평균 비교에 있어서 두 모집단이 서로 독립이 아닌 경우 실험단위를 동질적인 쌍으로\n",
    "# 묶은 다음 각 쌍을 임의로 추출하여 통계적으로 비교하는 방법\n",
    "\n",
    "x1 = [70,80,72,76,76,76,72,78,82,64,74,92,74,68,84]\n",
    "x2 = [68,72,62,70,58,66,68,52,64,72,74,60,74,72,74]\n",
    "\n",
    "from scipy.stats import ttest_rel, shapiro"
   ]
  },
  {
   "cell_type": "code",
   "execution_count": 16,
   "id": "925499a1",
   "metadata": {},
   "outputs": [
    {
     "data": {
      "text/plain": [
       "ShapiroResult(statistic=0.9687387943267822, pvalue=0.8389564752578735)"
      ]
     },
     "execution_count": 16,
     "metadata": {},
     "output_type": "execute_result"
    }
   ],
   "source": [
    "# 각 데이터셋의 정규성 확인을 위해 shapiro()함수를 적용\n",
    "shapiro(x1)"
   ]
  },
  {
   "cell_type": "code",
   "execution_count": 17,
   "id": "8b10e3bf",
   "metadata": {},
   "outputs": [
    {
     "data": {
      "text/plain": [
       "ShapiroResult(statistic=0.900780975818634, pvalue=0.09782424569129944)"
      ]
     },
     "execution_count": 17,
     "metadata": {},
     "output_type": "execute_result"
    }
   ],
   "source": [
    "shapiro(x2)"
   ]
  },
  {
   "cell_type": "code",
   "execution_count": 18,
   "id": "6016d808",
   "metadata": {},
   "outputs": [
    {
     "name": "stdout",
     "output_type": "stream",
     "text": [
      "one sample 평균1)  75.86666666666666\n",
      "one sample 평균2)  67.06666666666666\n",
      "one sample 표준편차1)  6.631909394904474\n",
      "one sample 표준편차2)  6.444291185917105\n"
     ]
    }
   ],
   "source": [
    "import numpy as np\n",
    "print(\"one sample 평균1) \", np.mean(x1))\n",
    "print(\"one sample 평균2) \", np.mean(x2))\n",
    "\n",
    "print(\"one sample 표준편차1) \", np.std(x1))\n",
    "print(\"one sample 표준편차2) \", np.std(x2))"
   ]
  },
  {
   "cell_type": "code",
   "execution_count": 19,
   "id": "b93d5c3c",
   "metadata": {},
   "outputs": [
    {
     "name": "stdout",
     "output_type": "stream",
     "text": [
      "t 검정통계량: 3.10536, p값: 0.00387\n"
     ]
    }
   ],
   "source": [
    "result = ttest_rel(x1, x2, alternative=\"greater\")\n",
    "print(\"t 검정통계량: %.5f, p값: %.5f\"%result) #유의확률이 유의수준 0.05보다 작으므로 귀무가설을 기각, 대응인 두 집단에 평균차이가 있다"
   ]
  },
  {
   "cell_type": "code",
   "execution_count": 20,
   "id": "a30cf853",
   "metadata": {},
   "outputs": [
    {
     "name": "stdout",
     "output_type": "stream",
     "text": [
      "    species     island  bill_length_mm  bill_depth_mm  flipper_length_mm  \\\n",
      "0    Adelie  Torgersen            39.1           18.7              181.0   \n",
      "1    Adelie  Torgersen            39.5           17.4              186.0   \n",
      "2    Adelie  Torgersen            40.3           18.0              195.0   \n",
      "3    Adelie  Torgersen             NaN            NaN                NaN   \n",
      "4    Adelie  Torgersen            36.7           19.3              193.0   \n",
      "..      ...        ...             ...            ...                ...   \n",
      "339  Gentoo     Biscoe             NaN            NaN                NaN   \n",
      "340  Gentoo     Biscoe            46.8           14.3              215.0   \n",
      "341  Gentoo     Biscoe            50.4           15.7              222.0   \n",
      "342  Gentoo     Biscoe            45.2           14.8              212.0   \n",
      "343  Gentoo     Biscoe            49.9           16.1              213.0   \n",
      "\n",
      "     body_mass_g     sex  \n",
      "0         3750.0    Male  \n",
      "1         3800.0  Female  \n",
      "2         3250.0  Female  \n",
      "3            NaN     NaN  \n",
      "4         3450.0  Female  \n",
      "..           ...     ...  \n",
      "339          NaN     NaN  \n",
      "340       4850.0  Female  \n",
      "341       5750.0    Male  \n",
      "342       5200.0  Female  \n",
      "343       5400.0    Male  \n",
      "\n",
      "[344 rows x 7 columns]\n"
     ]
    }
   ],
   "source": [
    "# 카이제곱검정 : 두 범주형 변수간의 상호관련성이 존재하는지 확인하기 위한 검정\n",
    "import seaborn as sns\n",
    "df = sns.load_dataset('penguins')\n",
    "print(df)"
   ]
  },
  {
   "cell_type": "code",
   "execution_count": 21,
   "id": "1ba6e75c",
   "metadata": {},
   "outputs": [
    {
     "name": "stdout",
     "output_type": "stream",
     "text": [
      "island     Biscoe  Dream  Torgersen\n",
      "species                            \n",
      "Adelie         44     56         52\n",
      "Chinstrap       0     68          0\n",
      "Gentoo        124      0          0\n"
     ]
    }
   ],
   "source": [
    "# 귀무가설 : 서식지(island)와 펭귄의 종(species)는 관계가 없다\n",
    "# 대립가설 : 서식지(island)와 펭귄의 종(species)는 관계가 있다\n",
    "\n",
    "# 1. 이원분할표 만들기\n",
    "# 빈도표 작성을 위해 pandas 모듈의 crosstab()함수 사용\n",
    "\n",
    "import pandas as pd\n",
    "cross_data = pd.crosstab(df.species, df.island)\n",
    "print(cross_data)"
   ]
  },
  {
   "cell_type": "code",
   "execution_count": 22,
   "id": "fcbc7b54",
   "metadata": {},
   "outputs": [
    {
     "name": "stdout",
     "output_type": "stream",
     "text": [
      "island     Biscoe  Dream  Torgersen  All\n",
      "species                                 \n",
      "Adelie         44     56         52  152\n",
      "Chinstrap       0     68          0   68\n",
      "Gentoo        124      0          0  124\n",
      "All           168    124         52  344\n"
     ]
    }
   ],
   "source": [
    "cross_data1 = pd.crosstab(df.species, df.island, margins=True)\n",
    "print(cross_data1)"
   ]
  },
  {
   "cell_type": "code",
   "execution_count": 23,
   "id": "1cdddd53",
   "metadata": {},
   "outputs": [
    {
     "data": {
      "text/plain": [
       "(299.55032743148195,\n",
       " 1.3545738297192517e-63,\n",
       " 4,\n",
       " array([[74.23255814, 54.79069767, 22.97674419],\n",
       "        [33.20930233, 24.51162791, 10.27906977],\n",
       "        [60.55813953, 44.69767442, 18.74418605]]))"
      ]
     },
     "execution_count": 23,
     "metadata": {},
     "output_type": "execute_result"
    }
   ],
   "source": [
    "# 2. chi2_contingency() 함수에 이원분할표를 대입하여 카이제곱검정 실시\n",
    "from scipy.stats import chi2_contingency\n",
    "chi2_contingency(cross_data) # 카이제곱통계량, 유의확률, 자유도"
   ]
  },
  {
   "cell_type": "code",
   "execution_count": 24,
   "id": "1ae93169",
   "metadata": {},
   "outputs": [
    {
     "name": "stdout",
     "output_type": "stream",
     "text": [
      "chi2 검정통계량: 299.55033, 자유도: 4, p값: 0.00000\n"
     ]
    }
   ],
   "source": [
    "chi2, p, dof, expected = chi2_contingency(cross_data)\n",
    "print(\"chi2 검정통계량: %.5f, 자유도: %d, p값: %.5f\"%(chi2, dof, p))"
   ]
  },
  {
   "cell_type": "code",
   "execution_count": 25,
   "id": "fe12577b",
   "metadata": {},
   "outputs": [
    {
     "name": "stdout",
     "output_type": "stream",
     "text": [
      "island        Biscoe      Dream  Torgersen\n",
      "species                                   \n",
      "Adelie     74.232558  54.790698  22.976744\n",
      "Chinstrap  33.209302  24.511628  10.279070\n",
      "Gentoo     60.558140  44.697674  18.744186\n"
     ]
    }
   ],
   "source": [
    "EX = pd.DataFrame(expected)\n",
    "EX.columns = cross_data.columns\n",
    "EX.index = cross_data.index\n",
    "print(EX)"
   ]
  },
  {
   "cell_type": "code",
   "execution_count": 26,
   "id": "785ba1b6",
   "metadata": {},
   "outputs": [
    {
     "name": "stdout",
     "output_type": "stream",
     "text": [
      "      mpg  cylinders  displacement  horsepower  weight  acceleration  \\\n",
      "0    18.0          8         307.0       130.0    3504          12.0   \n",
      "1    15.0          8         350.0       165.0    3693          11.5   \n",
      "2    18.0          8         318.0       150.0    3436          11.0   \n",
      "3    16.0          8         304.0       150.0    3433          12.0   \n",
      "4    17.0          8         302.0       140.0    3449          10.5   \n",
      "..    ...        ...           ...         ...     ...           ...   \n",
      "393  27.0          4         140.0        86.0    2790          15.6   \n",
      "394  44.0          4          97.0        52.0    2130          24.6   \n",
      "395  32.0          4         135.0        84.0    2295          11.6   \n",
      "396  28.0          4         120.0        79.0    2625          18.6   \n",
      "397  31.0          4         119.0        82.0    2720          19.4   \n",
      "\n",
      "     model_year  origin                       name  \n",
      "0            70     usa  chevrolet chevelle malibu  \n",
      "1            70     usa          buick skylark 320  \n",
      "2            70     usa         plymouth satellite  \n",
      "3            70     usa              amc rebel sst  \n",
      "4            70     usa                ford torino  \n",
      "..          ...     ...                        ...  \n",
      "393          82     usa            ford mustang gl  \n",
      "394          82  europe                  vw pickup  \n",
      "395          82     usa              dodge rampage  \n",
      "396          82     usa                ford ranger  \n",
      "397          82     usa                 chevy s-10  \n",
      "\n",
      "[398 rows x 9 columns]\n"
     ]
    }
   ],
   "source": [
    "# 데이터분석 실습\n",
    "# 1. 제조국에 따른 가속성능(acceleration) 차이 검정\n",
    "import seaborn as sns\n",
    "df = sns.load_dataset('mpg')\n",
    "print(df)"
   ]
  },
  {
   "cell_type": "code",
   "execution_count": 27,
   "id": "41b16614",
   "metadata": {},
   "outputs": [
    {
     "name": "stdout",
     "output_type": "stream",
     "text": [
      "<class 'pandas.core.frame.DataFrame'>\n",
      "RangeIndex: 398 entries, 0 to 397\n",
      "Data columns (total 9 columns):\n",
      " #   Column        Non-Null Count  Dtype  \n",
      "---  ------        --------------  -----  \n",
      " 0   mpg           398 non-null    float64\n",
      " 1   cylinders     398 non-null    int64  \n",
      " 2   displacement  398 non-null    float64\n",
      " 3   horsepower    392 non-null    float64\n",
      " 4   weight        398 non-null    int64  \n",
      " 5   acceleration  398 non-null    float64\n",
      " 6   model_year    398 non-null    int64  \n",
      " 7   origin        398 non-null    object \n",
      " 8   name          398 non-null    object \n",
      "dtypes: float64(4), int64(3), object(2)\n",
      "memory usage: 28.1+ KB\n"
     ]
    }
   ],
   "source": [
    "df.info()"
   ]
  },
  {
   "cell_type": "code",
   "execution_count": 28,
   "id": "85b2e7fc",
   "metadata": {},
   "outputs": [
    {
     "name": "stdout",
     "output_type": "stream",
     "text": [
      "0      12.0\n",
      "1      11.5\n",
      "2      11.0\n",
      "3      12.0\n",
      "4      10.5\n",
      "       ... \n",
      "392    17.3\n",
      "393    15.6\n",
      "395    11.6\n",
      "396    18.6\n",
      "397    19.4\n",
      "Name: acceleration, Length: 249, dtype: float64\n"
     ]
    }
   ],
   "source": [
    "origin_USA = df.loc[df.origin==\"usa\",'acceleration']\n",
    "print(origin_USA)"
   ]
  },
  {
   "cell_type": "code",
   "execution_count": 29,
   "id": "3bac8965",
   "metadata": {},
   "outputs": [
    {
     "name": "stdout",
     "output_type": "stream",
     "text": [
      "14     15.0\n",
      "18     14.5\n",
      "29     14.5\n",
      "31     14.0\n",
      "53     19.0\n",
      "       ... \n",
      "382    16.9\n",
      "383    15.0\n",
      "384    15.7\n",
      "385    16.2\n",
      "390    13.9\n",
      "Name: acceleration, Length: 79, dtype: float64\n"
     ]
    }
   ],
   "source": [
    "origin_JAP = df.loc[df.origin==\"japan\",'acceleration']\n",
    "print(origin_JAP)"
   ]
  },
  {
   "cell_type": "code",
   "execution_count": 30,
   "id": "482fbafb",
   "metadata": {},
   "outputs": [
    {
     "data": {
      "text/plain": [
       "ShapiroResult(statistic=0.9953622221946716, pvalue=0.6593465805053711)"
      ]
     },
     "execution_count": 30,
     "metadata": {},
     "output_type": "execute_result"
    }
   ],
   "source": [
    "# 정규성검정 확인\n",
    "from scipy.stats import levene, ttest_ind, shapiro\n",
    "shapiro(origin_USA) # 미국의 가속성능은 정규성을 만족"
   ]
  },
  {
   "cell_type": "code",
   "execution_count": 31,
   "id": "d73cd1d9",
   "metadata": {},
   "outputs": [
    {
     "data": {
      "text/plain": [
       "ShapiroResult(statistic=0.9857597947120667, pvalue=0.5289148092269897)"
      ]
     },
     "execution_count": 31,
     "metadata": {},
     "output_type": "execute_result"
    }
   ],
   "source": [
    "shapiro(origin_JAP) # 일본의 가속성능은 정규성을 만족"
   ]
  },
  {
   "cell_type": "code",
   "execution_count": 32,
   "id": "d3003e48",
   "metadata": {},
   "outputs": [
    {
     "data": {
      "text/plain": [
       "LeveneResult(statistic=8.840152557033464, pvalue=0.0031662912439459037)"
      ]
     },
     "execution_count": 32,
     "metadata": {},
     "output_type": "execute_result"
    }
   ],
   "source": [
    "levene(origin_USA, origin_JAP) # 미국의 가속성능과 일본의 가속성능은 유의수준 0.05보다 작으므로 \n",
    "# 귀무가설을 채택, 등분산성을 만족하지 않는다"
   ]
  },
  {
   "cell_type": "code",
   "execution_count": 33,
   "id": "d159684e",
   "metadata": {},
   "outputs": [
    {
     "name": "stdout",
     "output_type": "stream",
     "text": [
      "one sample 평균1)  15.033734939759036\n",
      "one sample 평균2)  16.17215189873418\n",
      "one sample 표준편차1)  2.7455817932741198\n",
      "one sample 표준편차2)  1.94252456829914\n"
     ]
    }
   ],
   "source": [
    "import numpy as np\n",
    "print(\"one sample 평균1) \", np.mean(origin_USA))\n",
    "print(\"one sample 평균2) \", np.mean(origin_JAP))\n",
    "\n",
    "print(\"one sample 표준편차1) \", np.std(origin_USA))\n",
    "print(\"one sample 표준편차2) \", np.std(origin_JAP))"
   ]
  },
  {
   "cell_type": "code",
   "execution_count": 34,
   "id": "1de14033",
   "metadata": {},
   "outputs": [],
   "source": [
    "result = ttest_ind(origin_USA, origin_JAP, equal_var=False)"
   ]
  },
  {
   "cell_type": "code",
   "execution_count": 35,
   "id": "73282004",
   "metadata": {},
   "outputs": [
    {
     "name": "stdout",
     "output_type": "stream",
     "text": [
      "t 검정통계량: -4.05614, p값: 0.00007\n"
     ]
    }
   ],
   "source": [
    "print(\"t 검정통계량: %.5f, p값: %.5f\"%result) # 유의확률이 0.0007이므로 귀무가설을 기각하므로, \n",
    "# 제조국에 따라 가속성능에는 차이가 있다"
   ]
  },
  {
   "cell_type": "code",
   "execution_count": 36,
   "id": "b065f457",
   "metadata": {},
   "outputs": [
    {
     "name": "stdout",
     "output_type": "stream",
     "text": [
      "t 검정통계량: -4.05614, p값: 0.00004\n"
     ]
    }
   ],
   "source": [
    "result = ttest_ind(origin_USA, origin_JAP, equal_var=False, alternative='less')\n",
    "print(\"t 검정통계량: %.5f, p값: %.5f\"%result) \n",
    "# 일본의 가속성능 평균값이 미국에 비해 크다는 대립가설을 검정시 alternative 옵션에 less 입력"
   ]
  },
  {
   "cell_type": "code",
   "execution_count": 37,
   "id": "9f4ff63b",
   "metadata": {},
   "outputs": [
    {
     "name": "stdout",
     "output_type": "stream",
     "text": [
      "   total  speeding  alcohol  not_distracted  no_previous  ins_premium  \\\n",
      "0   18.8     7.332    5.640          18.048       15.040       784.55   \n",
      "1   18.1     7.421    4.525          16.290       17.014      1053.48   \n",
      "2   18.6     6.510    5.208          15.624       17.856       899.47   \n",
      "3   22.4     4.032    5.824          21.056       21.280       827.34   \n",
      "4   12.0     4.200    3.360          10.920       10.680       878.41   \n",
      "\n",
      "   ins_losses abbrev  \n",
      "0      145.08     AL  \n",
      "1      133.93     AK  \n",
      "2      110.35     AZ  \n",
      "3      142.39     AR  \n",
      "4      165.63     CA  \n"
     ]
    }
   ],
   "source": [
    "# 자동차 사고 원인 변수에 대한 차이 검정\n",
    "import seaborn as sns\n",
    "df = sns.load_dataset('car_crashes')\n",
    "print(df.head())"
   ]
  },
  {
   "cell_type": "code",
   "execution_count": 38,
   "id": "e1bd86e8",
   "metadata": {},
   "outputs": [
    {
     "name": "stdout",
     "output_type": "stream",
     "text": [
      "<class 'pandas.core.frame.DataFrame'>\n",
      "RangeIndex: 51 entries, 0 to 50\n",
      "Data columns (total 8 columns):\n",
      " #   Column          Non-Null Count  Dtype  \n",
      "---  ------          --------------  -----  \n",
      " 0   total           51 non-null     float64\n",
      " 1   speeding        51 non-null     float64\n",
      " 2   alcohol         51 non-null     float64\n",
      " 3   not_distracted  51 non-null     float64\n",
      " 4   no_previous     51 non-null     float64\n",
      " 5   ins_premium     51 non-null     float64\n",
      " 6   ins_losses      51 non-null     float64\n",
      " 7   abbrev          51 non-null     object \n",
      "dtypes: float64(7), object(1)\n",
      "memory usage: 3.3+ KB\n"
     ]
    }
   ],
   "source": [
    "df.info()"
   ]
  },
  {
   "cell_type": "code",
   "execution_count": 39,
   "id": "b4d894f3",
   "metadata": {},
   "outputs": [
    {
     "data": {
      "text/plain": [
       "ShapiroResult(statistic=0.9856274127960205, pvalue=0.788989245891571)"
      ]
     },
     "execution_count": 39,
     "metadata": {},
     "output_type": "execute_result"
    }
   ],
   "source": [
    "# 정규성검정\n",
    "from scipy.stats import shapiro\n",
    "shapiro(df.not_distracted) # 유의확률이 0.05보다 크고 귀무가설을 채택하므로, 정규성을 만족한다"
   ]
  },
  {
   "cell_type": "code",
   "execution_count": 40,
   "id": "c0bbd493",
   "metadata": {},
   "outputs": [
    {
     "data": {
      "text/plain": [
       "ShapiroResult(statistic=0.9862307906150818, pvalue=0.8144702315330505)"
      ]
     },
     "execution_count": 40,
     "metadata": {},
     "output_type": "execute_result"
    }
   ],
   "source": [
    "shapiro(df.no_previous) # 유의확률이 0.05보다 크고 귀무가설을 채택하므로, 정규성을 만족한다"
   ]
  },
  {
   "cell_type": "code",
   "execution_count": 41,
   "id": "5213fe44",
   "metadata": {},
   "outputs": [
    {
     "name": "stdout",
     "output_type": "stream",
     "text": [
      "one sample 평균1)  13.573176470588237\n",
      "one sample 평균2)  14.004882352941177\n",
      "one sample 표준편차1)  4.464552581521676\n",
      "one sample 표준편차2)  3.727580630745389\n"
     ]
    }
   ],
   "source": [
    "import numpy as np\n",
    "print(\"one sample 평균1) \", np.mean(df.not_distracted))\n",
    "print(\"one sample 평균2) \", np.mean(df.no_previous))\n",
    "\n",
    "print(\"one sample 표준편차1) \", np.std(df.not_distracted))\n",
    "print(\"one sample 표준편차2) \", np.std(df.no_previous))"
   ]
  },
  {
   "cell_type": "code",
   "execution_count": 42,
   "id": "155abbfb",
   "metadata": {},
   "outputs": [
    {
     "name": "stdout",
     "output_type": "stream",
     "text": [
      "t 검정통계량: -1.02016, p값: 0.31256\n"
     ]
    }
   ],
   "source": [
    "from scipy.stats import ttest_rel\n",
    "result = ttest_rel(df.not_distracted, df.no_previous)\n",
    "print(\"t 검정통계량: %.5f, p값: %.5f\"%result) # 유의확률이 0.31256이므로, 귀무가설을 채택하고,\n",
    "# 자동차 사고 원인 변수에 대해 차이가 없다"
   ]
  },
  {
   "cell_type": "code",
   "execution_count": 43,
   "id": "c6784e78",
   "metadata": {},
   "outputs": [
    {
     "name": "stdout",
     "output_type": "stream",
     "text": [
      "t 검정통계량: -1.02016, p값: 0.15628\n"
     ]
    }
   ],
   "source": [
    "result = ttest_rel(df.not_distracted, df.no_previous, alternative='less')\n",
    "print(\"t 검정통계량: %.5f, p값: %.5f\"%result) # 유의확률이 0.15628이므로, 귀무가설을 채택하므로,\n",
    "# 자동차 사고 원인 변수에 대한 차이가 없다"
   ]
  },
  {
   "cell_type": "code",
   "execution_count": 44,
   "id": "d542af80",
   "metadata": {},
   "outputs": [
    {
     "name": "stdout",
     "output_type": "stream",
     "text": [
      "     survived  pclass     sex   age  sibsp  parch     fare embarked   class  \\\n",
      "0           0       3    male  22.0      1      0   7.2500        S   Third   \n",
      "1           1       1  female  38.0      1      0  71.2833        C   First   \n",
      "2           1       3  female  26.0      0      0   7.9250        S   Third   \n",
      "3           1       1  female  35.0      1      0  53.1000        S   First   \n",
      "4           0       3    male  35.0      0      0   8.0500        S   Third   \n",
      "..        ...     ...     ...   ...    ...    ...      ...      ...     ...   \n",
      "886         0       2    male  27.0      0      0  13.0000        S  Second   \n",
      "887         1       1  female  19.0      0      0  30.0000        S   First   \n",
      "888         0       3  female   NaN      1      2  23.4500        S   Third   \n",
      "889         1       1    male  26.0      0      0  30.0000        C   First   \n",
      "890         0       3    male  32.0      0      0   7.7500        Q   Third   \n",
      "\n",
      "       who  adult_male deck  embark_town alive  alone  \n",
      "0      man        True  NaN  Southampton    no  False  \n",
      "1    woman       False    C    Cherbourg   yes  False  \n",
      "2    woman       False  NaN  Southampton   yes   True  \n",
      "3    woman       False    C  Southampton   yes  False  \n",
      "4      man        True  NaN  Southampton    no   True  \n",
      "..     ...         ...  ...          ...   ...    ...  \n",
      "886    man        True  NaN  Southampton    no   True  \n",
      "887  woman       False    B  Southampton   yes   True  \n",
      "888  woman       False  NaN  Southampton    no  False  \n",
      "889    man        True    C    Cherbourg   yes   True  \n",
      "890    man        True  NaN   Queenstown    no   True  \n",
      "\n",
      "[891 rows x 15 columns]\n"
     ]
    }
   ],
   "source": [
    "# 성별과 생존여부 간의 독립성 검정\n",
    "import seaborn as sns\n",
    "df = sns.load_dataset('titanic')\n",
    "print(df)"
   ]
  },
  {
   "cell_type": "code",
   "execution_count": 45,
   "id": "32cd0f6d",
   "metadata": {},
   "outputs": [
    {
     "name": "stdout",
     "output_type": "stream",
     "text": [
      "<class 'pandas.core.frame.DataFrame'>\n",
      "RangeIndex: 891 entries, 0 to 890\n",
      "Data columns (total 15 columns):\n",
      " #   Column       Non-Null Count  Dtype   \n",
      "---  ------       --------------  -----   \n",
      " 0   survived     891 non-null    int64   \n",
      " 1   pclass       891 non-null    int64   \n",
      " 2   sex          891 non-null    object  \n",
      " 3   age          714 non-null    float64 \n",
      " 4   sibsp        891 non-null    int64   \n",
      " 5   parch        891 non-null    int64   \n",
      " 6   fare         891 non-null    float64 \n",
      " 7   embarked     889 non-null    object  \n",
      " 8   class        891 non-null    category\n",
      " 9   who          891 non-null    object  \n",
      " 10  adult_male   891 non-null    bool    \n",
      " 11  deck         203 non-null    category\n",
      " 12  embark_town  889 non-null    object  \n",
      " 13  alive        891 non-null    object  \n",
      " 14  alone        891 non-null    bool    \n",
      "dtypes: bool(2), category(2), float64(2), int64(4), object(5)\n",
      "memory usage: 80.7+ KB\n"
     ]
    }
   ],
   "source": [
    "df.info()"
   ]
  },
  {
   "cell_type": "code",
   "execution_count": 46,
   "id": "e0805990",
   "metadata": {},
   "outputs": [
    {
     "name": "stdout",
     "output_type": "stream",
     "text": [
      "alive    no  yes  All\n",
      "sex                  \n",
      "female   81  233  314\n",
      "male    468  109  577\n",
      "All     549  342  891\n"
     ]
    }
   ],
   "source": [
    "# 이원분할표 생성\n",
    "import pandas as pd\n",
    "cross_data1 = pd.crosstab(df.sex, df.alive, margins=True)\n",
    "print(cross_data1)"
   ]
  },
  {
   "cell_type": "code",
   "execution_count": 50,
   "id": "488aae7b",
   "metadata": {},
   "outputs": [
    {
     "data": {
      "text/plain": [
       "(263.05057407065567,\n",
       " 1.0036732821369117e-55,\n",
       " 4,\n",
       " array([[193.47474747, 120.52525253, 314.        ],\n",
       "        [355.52525253, 221.47474747, 577.        ],\n",
       "        [549.        , 342.        , 891.        ]]))"
      ]
     },
     "execution_count": 50,
     "metadata": {},
     "output_type": "execute_result"
    }
   ],
   "source": [
    "from scipy.stats import chi2_contingency\n",
    "chi2_contingency(cross_data1)"
   ]
  },
  {
   "cell_type": "code",
   "execution_count": 51,
   "id": "e94f6125",
   "metadata": {},
   "outputs": [
    {
     "name": "stdout",
     "output_type": "stream",
     "text": [
      "chi2 검정통계량: 263.05057, 자유도: 4, p값: 0.00000\n"
     ]
    }
   ],
   "source": [
    "chi2, p, dof, expected = chi2_contingency(cross_data1)\n",
    "print(\"chi2 검정통계량: %.5f, 자유도: %d, p값: %.5f\"%(chi2, dof, p))\n",
    "# 유의확률이 0.0000이므로 귀무가설을 기각하므로, 성별과 생존여부에 대해선 독립이 아니다"
   ]
  },
  {
   "cell_type": "code",
   "execution_count": 52,
   "id": "1e3a5dfc",
   "metadata": {},
   "outputs": [
    {
     "name": "stdout",
     "output_type": "stream",
     "text": [
      "alive           no         yes    All\n",
      "sex                                  \n",
      "female  193.474747  120.525253  314.0\n",
      "male    355.525253  221.474747  577.0\n",
      "All     549.000000  342.000000  891.0\n"
     ]
    }
   ],
   "source": [
    "EX = pd.DataFrame(expected)\n",
    "EX.columns = cross_data1.columns\n",
    "EX.index = cross_data1.index\n",
    "print(EX)"
   ]
  },
  {
   "cell_type": "code",
   "execution_count": null,
   "id": "f5108cf1",
   "metadata": {},
   "outputs": [],
   "source": []
  }
 ],
 "metadata": {
  "kernelspec": {
   "display_name": "Python 3 (ipykernel)",
   "language": "python",
   "name": "python3"
  },
  "language_info": {
   "codemirror_mode": {
    "name": "ipython",
    "version": 3
   },
   "file_extension": ".py",
   "mimetype": "text/x-python",
   "name": "python",
   "nbconvert_exporter": "python",
   "pygments_lexer": "ipython3",
   "version": "3.7.16"
  }
 },
 "nbformat": 4,
 "nbformat_minor": 5
}
