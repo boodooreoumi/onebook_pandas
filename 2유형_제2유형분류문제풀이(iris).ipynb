{
 "cells": [
  {
   "cell_type": "code",
   "execution_count": 17,
   "id": "75ea4abf",
   "metadata": {},
   "outputs": [],
   "source": [
    "import pandas as pd\n",
    "import numpy as np\n",
    "# 실기 시험 데이터셋으로 셋팅하기 (수정금지)\n",
    "from sklearn.datasets import load_iris\n",
    "# Iris 데이터셋을 로드\n",
    "iris = load_iris()\n",
    "x = pd.DataFrame(iris.data, columns=['sepal_length', 'sepal_width', 'petal_length', 'petal_width'])\n",
    "y = iris.target   # 'setosa'=0, 'versicolor'=1, 'virginica'=2\n",
    "y = np.where(y>0, 1, 0) # setosa 종은 0, 나머지 종은 1로 변경\n",
    "\n",
    "# 실기 시험 데이터셋으로 셋팅하기 (수정금지)\n",
    "from sklearn.model_selection import train_test_split\n",
    "x_train, x_test, y_train, y_test = train_test_split(x, y, test_size=0.2, \n",
    "                                                    stratify=y,\n",
    "                                                    random_state=2023)\n",
    "\n",
    "x_test = pd.DataFrame(x_test)\n",
    "x_train = pd.DataFrame(x_train)\n",
    "y_train = pd.DataFrame(y_train)\n",
    "y_train.columns = ['species']\n",
    "\n",
    "# 결측치 삽입\n",
    "x_test['sepal_length'].iloc[0] = None  \n",
    "x_train['sepal_length'].iloc[0] = None\n",
    "# 이상치 삽입\n",
    "x_train['sepal_width'].iloc[0] = 150"
   ]
  },
  {
   "cell_type": "markdown",
   "id": "266ee7f4",
   "metadata": {},
   "source": [
    "- 붓꽃의 종(Species)을 분류해보자.\n",
    "- 데이터의 결측치, 이상치에 대해 처리하고\n",
    "- 분류모델을 사용하여 정확도, F1 score, AUC 값을 산출하시오.\n",
    "- 제출은 result 변수에 담아 양식에 맞게 제출하시오."
   ]
  },
  {
   "cell_type": "code",
   "execution_count": 18,
   "id": "e394a3f6",
   "metadata": {},
   "outputs": [
    {
     "name": "stdout",
     "output_type": "stream",
     "text": [
      ".. _iris_dataset:\n",
      "\n",
      "Iris plants dataset\n",
      "--------------------\n",
      "\n",
      "**Data Set Characteristics:**\n",
      "\n",
      "    :Number of Instances: 150 (50 in each of three classes)\n",
      "    :Number of Attributes: 4 numeric, predictive attributes and the class\n",
      "    :Attribute Information:\n",
      "        - sepal length in cm\n",
      "        - sepal width in cm\n",
      "        - petal length in cm\n",
      "        - petal width in cm\n",
      "        - class:\n",
      "                - Iris-Setosa\n",
      "                - Iris-Versicolour\n",
      "                - Iris-Virginica\n",
      "                \n",
      "    :Summary Statistics:\n",
      "\n",
      "    ============== ==== ==== ======= ===== ====================\n",
      "                    Min  Max   Mean    SD   Class Correlation\n",
      "    ============== ==== ==== ======= ===== ====================\n",
      "    sepal length:   4.3  7.9   5.84   0.83    0.7826\n",
      "    sepal width:    2.0  4.4   3.05   0.43   -0.4194\n",
      "    petal length:   1.0  6.9   3.76   1.76    0.9490  (high!)\n",
      "    petal width:    0.1  2.5   1.20   0.76    0.9565  (high!)\n",
      "    ============== ==== ==== ======= ===== ====================\n",
      "\n",
      "    :Missing Attribute Values: None\n",
      "    :Class Distribution: 33.3% for each of 3 classes.\n",
      "    :Creator: R.A. Fisher\n",
      "    :Donor: Michael Marshall (MARSHALL%PLU@io.arc.nasa.gov)\n",
      "    :Date: July, 1988\n",
      "\n",
      "The famous Iris database, first used by Sir R.A. Fisher. The dataset is taken\n",
      "from Fisher's paper. Note that it's the same as in R, but not as in the UCI\n",
      "Machine Learning Repository, which has two wrong data points.\n",
      "\n",
      "This is perhaps the best known database to be found in the\n",
      "pattern recognition literature.  Fisher's paper is a classic in the field and\n",
      "is referenced frequently to this day.  (See Duda & Hart, for example.)  The\n",
      "data set contains 3 classes of 50 instances each, where each class refers to a\n",
      "type of iris plant.  One class is linearly separable from the other 2; the\n",
      "latter are NOT linearly separable from each other.\n",
      "\n",
      ".. topic:: References\n",
      "\n",
      "   - Fisher, R.A. \"The use of multiple measurements in taxonomic problems\"\n",
      "     Annual Eugenics, 7, Part II, 179-188 (1936); also in \"Contributions to\n",
      "     Mathematical Statistics\" (John Wiley, NY, 1950).\n",
      "   - Duda, R.O., & Hart, P.E. (1973) Pattern Classification and Scene Analysis.\n",
      "     (Q327.D83) John Wiley & Sons.  ISBN 0-471-22361-1.  See page 218.\n",
      "   - Dasarathy, B.V. (1980) \"Nosing Around the Neighborhood: A New System\n",
      "     Structure and Classification Rule for Recognition in Partially Exposed\n",
      "     Environments\".  IEEE Transactions on Pattern Analysis and Machine\n",
      "     Intelligence, Vol. PAMI-2, No. 1, 67-71.\n",
      "   - Gates, G.W. (1972) \"The Reduced Nearest Neighbor Rule\".  IEEE Transactions\n",
      "     on Information Theory, May 1972, 431-433.\n",
      "   - See also: 1988 MLC Proceedings, 54-64.  Cheeseman et al\"s AUTOCLASS II\n",
      "     conceptual clustering system finds 3 classes in the data.\n",
      "   - Many, many more ...\n"
     ]
    }
   ],
   "source": [
    "# 데이터 설명\n",
    "print(iris.DESCR)"
   ]
  },
  {
   "cell_type": "markdown",
   "id": "e0a3f6b5",
   "metadata": {},
   "source": [
    "- 2. 데이터 탐색(EDA)"
   ]
  },
  {
   "cell_type": "code",
   "execution_count": 19,
   "id": "5a38179d",
   "metadata": {},
   "outputs": [
    {
     "name": "stdout",
     "output_type": "stream",
     "text": [
      "(120, 4)\n",
      "(30, 4)\n",
      "(120, 1)\n"
     ]
    }
   ],
   "source": [
    "# 데이터의 행/열 확인\n",
    "\n",
    "print(x_train.shape)\n",
    "print(x_test.shape)\n",
    "print(y_train.shape)"
   ]
  },
  {
   "cell_type": "code",
   "execution_count": 20,
   "id": "10524fa8",
   "metadata": {},
   "outputs": [
    {
     "name": "stdout",
     "output_type": "stream",
     "text": [
      "    sepal_length  sepal_width  petal_length  petal_width\n",
      "2            NaN        150.0           1.3          0.2\n",
      "49           5.0          3.3           1.4          0.2\n",
      "66           5.6          3.0           4.5          1.5\n",
      "     sepal_length  sepal_width  petal_length  petal_width\n",
      "93            NaN          2.3           3.3          1.0\n",
      "69            5.6          2.5           3.9          1.1\n",
      "137           6.4          3.1           5.5          1.8\n",
      "   species\n",
      "0        0\n",
      "1        0\n",
      "2        1\n"
     ]
    }
   ],
   "source": [
    "# 초기 데이터 확인\n",
    "\n",
    "print(x_train.head(3))\n",
    "print(x_test.head(3))\n",
    "print(y_train.head(3))"
   ]
  },
  {
   "cell_type": "code",
   "execution_count": 21,
   "id": "154632b0",
   "metadata": {},
   "outputs": [
    {
     "name": "stdout",
     "output_type": "stream",
     "text": [
      "<class 'pandas.core.frame.DataFrame'>\n",
      "Int64Index: 120 entries, 2 to 44\n",
      "Data columns (total 4 columns):\n",
      " #   Column        Non-Null Count  Dtype  \n",
      "---  ------        --------------  -----  \n",
      " 0   sepal_length  119 non-null    float64\n",
      " 1   sepal_width   120 non-null    float64\n",
      " 2   petal_length  120 non-null    float64\n",
      " 3   petal_width   120 non-null    float64\n",
      "dtypes: float64(4)\n",
      "memory usage: 4.7 KB\n",
      "None\n",
      "<class 'pandas.core.frame.DataFrame'>\n",
      "Int64Index: 30 entries, 93 to 55\n",
      "Data columns (total 4 columns):\n",
      " #   Column        Non-Null Count  Dtype  \n",
      "---  ------        --------------  -----  \n",
      " 0   sepal_length  29 non-null     float64\n",
      " 1   sepal_width   30 non-null     float64\n",
      " 2   petal_length  30 non-null     float64\n",
      " 3   petal_width   30 non-null     float64\n",
      "dtypes: float64(4)\n",
      "memory usage: 1.2 KB\n",
      "None\n",
      "<class 'pandas.core.frame.DataFrame'>\n",
      "RangeIndex: 120 entries, 0 to 119\n",
      "Data columns (total 1 columns):\n",
      " #   Column   Non-Null Count  Dtype\n",
      "---  ------   --------------  -----\n",
      " 0   species  120 non-null    int32\n",
      "dtypes: int32(1)\n",
      "memory usage: 608.0 bytes\n",
      "None\n"
     ]
    }
   ],
   "source": [
    "# 변수명과 데이터 타입이 매칭이 되는지, 결측치가 있는지 확인해보세요\n",
    "\n",
    "print(x_train.info())\n",
    "print(x_test.info())\n",
    "print(y_train.info())"
   ]
  },
  {
   "cell_type": "code",
   "execution_count": 22,
   "id": "702fdff7",
   "metadata": {},
   "outputs": [
    {
     "name": "stdout",
     "output_type": "stream",
     "text": [
      "       sepal_length  sepal_width  petal_length  petal_width\n",
      "count    119.000000     120.0000    120.000000   120.000000\n",
      "mean       5.920168       4.2950      3.816667     1.226667\n",
      "std        0.841667      13.4191      1.798848     0.780512\n",
      "min        4.300000       2.2000      1.100000     0.100000\n",
      "25%        5.150000       2.8000      1.575000     0.300000\n",
      "50%        6.000000       3.0000      4.400000     1.350000\n",
      "75%        6.500000       3.4000      5.225000     1.800000\n",
      "max        7.900000     150.0000      6.900000     2.500000\n",
      "       sepal_length  sepal_width  petal_length  petal_width\n",
      "count     29.000000    30.000000     30.000000     30.00000\n",
      "mean       5.596552     3.000000      3.523333      1.09000\n",
      "std        0.709367     0.522593      1.631518      0.68549\n",
      "min        4.600000     2.000000      1.000000      0.10000\n",
      "25%        5.000000     2.625000      1.600000      0.35000\n",
      "50%        5.500000     3.000000      4.050000      1.15000\n",
      "75%        5.900000     3.300000      4.925000      1.57500\n",
      "max        7.600000     4.200000      6.600000      2.30000\n",
      "          species\n",
      "count  120.000000\n",
      "mean     0.666667\n",
      "std      0.473381\n",
      "min      0.000000\n",
      "25%      0.000000\n",
      "50%      1.000000\n",
      "75%      1.000000\n",
      "max      1.000000\n"
     ]
    }
   ],
   "source": [
    "# x_train과 x_test 데이터의 기초통계량을 잘 비교해보세요.\n",
    "\n",
    "print(x_train.describe())\n",
    "print(x_test.describe())\n",
    "print(y_train.describe())"
   ]
  },
  {
   "cell_type": "code",
   "execution_count": 23,
   "id": "37a1f86d",
   "metadata": {},
   "outputs": [
    {
     "name": "stdout",
     "output_type": "stream",
     "text": [
      "   species\n",
      "0        0\n",
      "1        0\n",
      "2        1\n",
      "3        1\n",
      "4        1\n"
     ]
    }
   ],
   "source": [
    "# y데이터도 구체적으로 살펴보세요\n",
    "print(y_train.head())"
   ]
  },
  {
   "cell_type": "code",
   "execution_count": 24,
   "id": "d7f9ab16",
   "metadata": {},
   "outputs": [
    {
     "name": "stdout",
     "output_type": "stream",
     "text": [
      "species\n",
      "1          80\n",
      "0          40\n",
      "dtype: int64\n"
     ]
    }
   ],
   "source": [
    "# y데이터도 구체적으로 살펴보세요\n",
    "print(y_train.value_counts())"
   ]
  },
  {
   "cell_type": "markdown",
   "id": "47268df9",
   "metadata": {},
   "source": [
    "- 3. 데이터 전처리 및 분리\n",
    "- 1) 결측치 2) 이상치 3) 변수처리하기"
   ]
  },
  {
   "cell_type": "code",
   "execution_count": 25,
   "id": "333fbd0e",
   "metadata": {},
   "outputs": [
    {
     "name": "stdout",
     "output_type": "stream",
     "text": [
      "sepal_length    1\n",
      "sepal_width     0\n",
      "petal_length    0\n",
      "petal_width     0\n",
      "dtype: int64\n",
      "sepal_length    1\n",
      "sepal_width     0\n",
      "petal_length    0\n",
      "petal_width     0\n",
      "dtype: int64\n",
      "species    0\n",
      "dtype: int64\n"
     ]
    }
   ],
   "source": [
    "# 결측치 확인\n",
    "print(x_train.isnull().sum())\n",
    "print(x_test.isnull().sum())\n",
    "print(y_train.isnull().sum())"
   ]
  },
  {
   "cell_type": "code",
   "execution_count": 26,
   "id": "8250e97e",
   "metadata": {},
   "outputs": [],
   "source": [
    "# 결측치 대체(중앙값)\n",
    "# 주의사항 : train 데이터의 중앙값으로 test 데이터도 변경해줘야 함\n",
    "\n",
    "median = x_train['sepal_length'].median()\n",
    "x_train['sepal_length'] = x_train['sepal_length'].fillna(median)\n",
    "x_test['sepal_length'] = x_test['sepal_length'].fillna(median)"
   ]
  },
  {
   "cell_type": "code",
   "execution_count": 27,
   "id": "5b7915d5",
   "metadata": {},
   "outputs": [
    {
     "name": "stdout",
     "output_type": "stream",
     "text": [
      "1\n"
     ]
    }
   ],
   "source": [
    "# 이상치 확인\n",
    "cond1 = (x_train['sepal_width']>=10)\n",
    "print(len(x_train[cond1]))"
   ]
  },
  {
   "cell_type": "code",
   "execution_count": 28,
   "id": "d9aeb4c8",
   "metadata": {},
   "outputs": [
    {
     "name": "stdout",
     "output_type": "stream",
     "text": [
      "4.4\n",
      "       sepal_length  sepal_width  petal_length  petal_width\n",
      "count    120.000000   120.000000    120.000000   120.000000\n",
      "mean       5.920833     3.081667      3.816667     1.226667\n",
      "std        0.838155     0.429966      1.798848     0.780512\n",
      "min        4.300000     2.200000      1.100000     0.100000\n",
      "25%        5.175000     2.800000      1.575000     0.300000\n",
      "50%        6.000000     3.000000      4.400000     1.350000\n",
      "75%        6.500000     3.400000      5.225000     1.800000\n",
      "max        7.900000     4.400000      6.900000     2.500000\n"
     ]
    }
   ],
   "source": [
    "# 이상치 대체\n",
    "# (참고) df['변수명'] = np.where(df['변수명'],대체할 값,df['변수명'])\n",
    "\n",
    "# 예를 들어 'sepal_width'값이 10이 넘으면 이상치라고 가정해본다면\n",
    "# 이상치를 제외한 Max 값을 구해서 대체해보자\n",
    "\n",
    "cond1 = (x_train['sepal_width'] <= 10)\n",
    "max_sw = x_train[cond1]['sepal_width'].max()\n",
    "print(max_sw)\n",
    "\n",
    "x_train['sepal_width'] = np.where(x_train['sepal_width']>=10, max_sw, x_train['sepal_width'])\n",
    "print(x_train.describe())"
   ]
  },
  {
   "cell_type": "markdown",
   "id": "04cec496",
   "metadata": {},
   "source": [
    "- 데이터 분리"
   ]
  },
  {
   "cell_type": "code",
   "execution_count": 30,
   "id": "ff55ed78",
   "metadata": {},
   "outputs": [
    {
     "name": "stdout",
     "output_type": "stream",
     "text": [
      "(96, 4)\n",
      "(24, 4)\n",
      "(96,)\n",
      "(24,)\n"
     ]
    }
   ],
   "source": [
    "# 데이터를 훈련 세트와 검증용 세트로 분할 (80% 훈련, 20% 검증용)\n",
    "from sklearn.model_selection import train_test_split\n",
    "x_train, x_val, y_train, y_val = train_test_split(x_train,y_train['species'],\n",
    "                                                 test_size=0.2,\n",
    "                                                 stratify=y_train['species'],\n",
    "                                                 random_state=2023)\n",
    "\n",
    "print(x_train.shape)\n",
    "print(x_val.shape)\n",
    "print(y_train.shape)\n",
    "print(y_val.shape)"
   ]
  },
  {
   "cell_type": "markdown",
   "id": "16a285c9",
   "metadata": {},
   "source": [
    "- 4. 모델링 및 성능평가"
   ]
  },
  {
   "cell_type": "code",
   "execution_count": 32,
   "id": "e170db83",
   "metadata": {},
   "outputs": [
    {
     "data": {
      "text/plain": [
       "RandomForestClassifier()"
      ]
     },
     "execution_count": 32,
     "metadata": {},
     "output_type": "execute_result"
    }
   ],
   "source": [
    "# 랜덤포레스트 모델 사용 (참고:회귀모델은 RandomForestRegressor)\n",
    "from sklearn.ensemble import RandomForestClassifier\n",
    "model = RandomForestClassifier()\n",
    "model.fit(x_train, y_train)"
   ]
  },
  {
   "cell_type": "code",
   "execution_count": 33,
   "id": "821441ed",
   "metadata": {},
   "outputs": [],
   "source": [
    "# 모델을 사용하여 테스트 데이터 예측\n",
    "y_pred = model.predict(x_val)"
   ]
  },
  {
   "cell_type": "code",
   "execution_count": 34,
   "id": "83fd62a7",
   "metadata": {},
   "outputs": [],
   "source": [
    "# 모델 성능 평가 (accuracy, f1 score, AUC 등)\n",
    "from sklearn.metrics import accuracy_score, f1_score, roc_auc_score, recall_score\n",
    "acc = accuracy_score(y_val, y_pred) # 실제값, 예측값\n",
    "f1 = f1_score(y_val, y_pred)        # 실제값, 예측값\n",
    "# 다중분류일 경우 f1 = f1_score(y_val, y_pred, average='macro')\n",
    "auc = roc_auc_score(y_val, y_pred)  # 실제값, 예측값"
   ]
  },
  {
   "cell_type": "code",
   "execution_count": 35,
   "id": "163ce531",
   "metadata": {},
   "outputs": [
    {
     "name": "stdout",
     "output_type": "stream",
     "text": [
      "1.0\n"
     ]
    }
   ],
   "source": [
    "# 정확도(Accuracy)\n",
    "print(acc)"
   ]
  },
  {
   "cell_type": "code",
   "execution_count": 36,
   "id": "e9b71b14",
   "metadata": {},
   "outputs": [
    {
     "name": "stdout",
     "output_type": "stream",
     "text": [
      "1.0\n"
     ]
    }
   ],
   "source": [
    "# F1 Score\n",
    "print(f1)"
   ]
  },
  {
   "cell_type": "code",
   "execution_count": 37,
   "id": "a32ea0f2",
   "metadata": {},
   "outputs": [
    {
     "name": "stdout",
     "output_type": "stream",
     "text": [
      "1.0\n"
     ]
    }
   ],
   "source": [
    "# AUC\n",
    "print(auc)"
   ]
  },
  {
   "cell_type": "code",
   "execution_count": 38,
   "id": "882b1634",
   "metadata": {},
   "outputs": [
    {
     "name": "stdout",
     "output_type": "stream",
     "text": [
      "[[ 8  0]\n",
      " [ 0 16]]\n"
     ]
    }
   ],
   "source": [
    "# 참고사항\n",
    "from sklearn.metrics import confusion_matrix\n",
    "cm = confusion_matrix(y_val, y_pred)       # 실제값, 예측값\n",
    "print(cm)\n",
    "\n",
    "########## 얘측\n",
    "########## 0  1\n",
    "# 실제 0  TN  FP\n",
    "# 실제 1  FN  TP"
   ]
  },
  {
   "cell_type": "markdown",
   "id": "135243bb",
   "metadata": {},
   "source": [
    "- 5. 예측값 제출\n",
    "- (주의) x_test를 모델에 넣어 나온 예측값을 제출해야 함"
   ]
  },
  {
   "cell_type": "code",
   "execution_count": 39,
   "id": "05117ae3",
   "metadata": {},
   "outputs": [
    {
     "name": "stdout",
     "output_type": "stream",
     "text": [
      "[1 1 1 0 1]\n",
      "[[0.   1.  ]\n",
      " [0.   1.  ]\n",
      " [0.   1.  ]\n",
      " [1.   0.  ]\n",
      " [0.02 0.98]]\n",
      "   result  prob_0\n",
      "0       1    0.00\n",
      "1       1    0.00\n",
      "2       1    0.00\n",
      "3       0    1.00\n",
      "4       1    0.02\n"
     ]
    }
   ],
   "source": [
    "# 실기시험 안내사항\n",
    "# 아래 코드 예측변수와 수허번호를 개인별로 변경하여 활용\n",
    "# pd.DataFrame({'result':y_result}).to_csv('수험번호.csv', index=False)\n",
    "\n",
    "# 모델을 사용하여 테스트 데이터 예측\n",
    "\n",
    "# 1. 특정 클래스로 분류할 경우 (predict)\n",
    "y_result = model.predict(x_test)\n",
    "print(y_result[:5])\n",
    "\n",
    "# 2. 특정 클래스로 분류될 확률을 구할 경우 (predict_proba)\n",
    "y_result_prob = model.predict_proba(x_test)\n",
    "print(y_result_prob[:5])\n",
    "\n",
    "# 이해해보기\n",
    "result_prob = pd.DataFrame({\n",
    "    'result':y_result,\n",
    "    'prob_0':y_result_prob[:,0]\n",
    "})\n",
    "\n",
    "# setosa일 확률 : y_result_prob[:,0]\n",
    "# 그외 종일 확률 : y_result_prob[:,1]\n",
    "\n",
    "print(result_prob[:5])"
   ]
  },
  {
   "cell_type": "code",
   "execution_count": 40,
   "id": "c24db969",
   "metadata": {},
   "outputs": [],
   "source": [
    "# tip : 데이터를 저장한다음 불러와서 제대로 제출했는지 확인해보자\n",
    "# pd.DataFrame({'result':y_result}).to_csv('수험번호.csv', index=False)\n",
    "# df2 = pd.read_csv('수험번호.csv')\n",
    "# print(df2.head())"
   ]
  },
  {
   "cell_type": "code",
   "execution_count": null,
   "id": "78a5d3aa",
   "metadata": {},
   "outputs": [],
   "source": []
  }
 ],
 "metadata": {
  "kernelspec": {
   "display_name": "Python 3 (ipykernel)",
   "language": "python",
   "name": "python3"
  },
  "language_info": {
   "codemirror_mode": {
    "name": "ipython",
    "version": 3
   },
   "file_extension": ".py",
   "mimetype": "text/x-python",
   "name": "python",
   "nbconvert_exporter": "python",
   "pygments_lexer": "ipython3",
   "version": "3.9.13"
  }
 },
 "nbformat": 4,
 "nbformat_minor": 5
}
