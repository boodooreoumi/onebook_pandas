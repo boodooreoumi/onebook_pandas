{
 "cells": [
  {
   "cell_type": "markdown",
   "id": "35df9bed",
   "metadata": {},
   "source": [
    "- 학습내용\n",
    "- 외부데이터 가져오기\n",
    "- 외부파일로 저장하기"
   ]
  },
  {
   "cell_type": "markdown",
   "id": "a5e58cac",
   "metadata": {},
   "source": [
    "- json파일의 특징\n",
    "- 데이터 공유를 목적으로 개발된 특수한 파일형식\n",
    "- 파이썬의 딕셔너리와 비슷하게 키와 값의 구조로 이루어짐"
   ]
  },
  {
   "cell_type": "code",
   "execution_count": 8,
   "id": "89aced06",
   "metadata": {},
   "outputs": [
    {
     "name": "stdout",
     "output_type": "stream",
     "text": [
      "      species  length  width\n",
      "0      setosa     5.1    3.5\n",
      "1  versicolor     7.0    3.2\n",
      "2   virginica     6.3    3.3\n"
     ]
    }
   ],
   "source": [
    "# 데이터 분석 실습\n",
    "# 다양한 데이터 파일을 가져오기 & 저장하기\n",
    "\n",
    "# 1. 다음의 파일들을 각각 데이터프레임으로 가져오세요\n",
    "import pandas as pd\n",
    "df1 = pd.read_csv('df_test1.csv')\n",
    "print(df1)"
   ]
  },
  {
   "cell_type": "code",
   "execution_count": 9,
   "id": "9bd7abe5",
   "metadata": {},
   "outputs": [
    {
     "name": "stdout",
     "output_type": "stream",
     "text": [
      "Requirement already satisfied: openpyxl in c:\\users\\m\\.conda\\envs\\cospropython\\lib\\site-packages (3.1.3)\n",
      "Requirement already satisfied: et-xmlfile in c:\\users\\m\\.conda\\envs\\cospropython\\lib\\site-packages (from openpyxl) (1.1.0)\n",
      "      species  length  width\n",
      "0      setosa     5.1    3.5\n",
      "1  versicolor     7.0    3.2\n",
      "2   virginica     6.3    3.3\n"
     ]
    }
   ],
   "source": [
    "import pandas as pd\n",
    "!pip install openpyxl\n",
    "import openpyxl\n",
    "\n",
    "df2 = pd.read_excel('df_test1.xlsx')\n",
    "print(df2)"
   ]
  },
  {
   "cell_type": "code",
   "execution_count": 10,
   "id": "4a91bad5",
   "metadata": {},
   "outputs": [
    {
     "name": "stdout",
     "output_type": "stream",
     "text": [
      "            length  width\n",
      "setosa         5.1    3.5\n",
      "versicolor     7.0    3.2\n",
      "virginica      6.3    3.3\n"
     ]
    }
   ],
   "source": [
    "import pandas as pd\n",
    "\n",
    "df3 = pd.read_json('df_test1.json')\n",
    "print(df3)"
   ]
  },
  {
   "cell_type": "code",
   "execution_count": 12,
   "id": "588b58d0",
   "metadata": {},
   "outputs": [],
   "source": [
    "# 과제1에서 불러온 df3 데이터프레임을 csv파일로 저장하세요\n",
    "df3.to_csv('df3.csv')"
   ]
  },
  {
   "cell_type": "code",
   "execution_count": 16,
   "id": "7bedc323",
   "metadata": {},
   "outputs": [],
   "source": [
    "# 생성된 모든 데이터프레임을 하나의 excel파일에 각각 다른 시트에 저장되도록 지정하여 내보내기\n",
    "writer = pd.ExcelWriter('df_test.xlsx')\n",
    "df1.to_excel(writer, sheet_name=\"sh1\")\n",
    "df2.to_excel(writer, sheet_name=\"sh2\")\n",
    "df3.to_excel(writer, sheet_name=\"sh3\")\n",
    "writer.save()"
   ]
  },
  {
   "cell_type": "code",
   "execution_count": null,
   "id": "4084ed4a",
   "metadata": {},
   "outputs": [],
   "source": []
  }
 ],
 "metadata": {
  "kernelspec": {
   "display_name": "Python 3 (ipykernel)",
   "language": "python",
   "name": "python3"
  },
  "language_info": {
   "codemirror_mode": {
    "name": "ipython",
    "version": 3
   },
   "file_extension": ".py",
   "mimetype": "text/x-python",
   "name": "python",
   "nbconvert_exporter": "python",
   "pygments_lexer": "ipython3",
   "version": "3.7.16"
  }
 },
 "nbformat": 4,
 "nbformat_minor": 5
}
