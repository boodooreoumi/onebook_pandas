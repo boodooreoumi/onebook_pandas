{
 "cells": [
  {
   "cell_type": "code",
   "execution_count": 8,
   "id": "69f58f13",
   "metadata": {},
   "outputs": [
    {
     "data": {
      "text/html": [
       "<div>\n",
       "<style scoped>\n",
       "    .dataframe tbody tr th:only-of-type {\n",
       "        vertical-align: middle;\n",
       "    }\n",
       "\n",
       "    .dataframe tbody tr th {\n",
       "        vertical-align: top;\n",
       "    }\n",
       "\n",
       "    .dataframe thead th {\n",
       "        text-align: right;\n",
       "    }\n",
       "</style>\n",
       "<table border=\"1\" class=\"dataframe\">\n",
       "  <thead>\n",
       "    <tr style=\"text-align: right;\">\n",
       "      <th></th>\n",
       "      <th>날짜</th>\n",
       "      <th>제품</th>\n",
       "      <th>판매수</th>\n",
       "      <th>개당수익</th>\n",
       "    </tr>\n",
       "  </thead>\n",
       "  <tbody>\n",
       "    <tr>\n",
       "      <th>0</th>\n",
       "      <td>20220103</td>\n",
       "      <td>A</td>\n",
       "      <td>3</td>\n",
       "      <td>300</td>\n",
       "    </tr>\n",
       "    <tr>\n",
       "      <th>1</th>\n",
       "      <td>20220105</td>\n",
       "      <td>B</td>\n",
       "      <td>5</td>\n",
       "      <td>400</td>\n",
       "    </tr>\n",
       "    <tr>\n",
       "      <th>2</th>\n",
       "      <td>20230105</td>\n",
       "      <td>A</td>\n",
       "      <td>5</td>\n",
       "      <td>500</td>\n",
       "    </tr>\n",
       "    <tr>\n",
       "      <th>3</th>\n",
       "      <td>20230127</td>\n",
       "      <td>B</td>\n",
       "      <td>10</td>\n",
       "      <td>600</td>\n",
       "    </tr>\n",
       "    <tr>\n",
       "      <th>4</th>\n",
       "      <td>20220203</td>\n",
       "      <td>A</td>\n",
       "      <td>10</td>\n",
       "      <td>400</td>\n",
       "    </tr>\n",
       "    <tr>\n",
       "      <th>5</th>\n",
       "      <td>20220205</td>\n",
       "      <td>B</td>\n",
       "      <td>10</td>\n",
       "      <td>500</td>\n",
       "    </tr>\n",
       "    <tr>\n",
       "      <th>6</th>\n",
       "      <td>20230210</td>\n",
       "      <td>A</td>\n",
       "      <td>15</td>\n",
       "      <td>500</td>\n",
       "    </tr>\n",
       "    <tr>\n",
       "      <th>7</th>\n",
       "      <td>20230223</td>\n",
       "      <td>B</td>\n",
       "      <td>15</td>\n",
       "      <td>600</td>\n",
       "    </tr>\n",
       "    <tr>\n",
       "      <th>8</th>\n",
       "      <td>20230312</td>\n",
       "      <td>A</td>\n",
       "      <td>20</td>\n",
       "      <td>600</td>\n",
       "    </tr>\n",
       "    <tr>\n",
       "      <th>9</th>\n",
       "      <td>20230422</td>\n",
       "      <td>B</td>\n",
       "      <td>25</td>\n",
       "      <td>700</td>\n",
       "    </tr>\n",
       "    <tr>\n",
       "      <th>10</th>\n",
       "      <td>20220505</td>\n",
       "      <td>A</td>\n",
       "      <td>30</td>\n",
       "      <td>600</td>\n",
       "    </tr>\n",
       "    <tr>\n",
       "      <th>11</th>\n",
       "      <td>20230511</td>\n",
       "      <td>A</td>\n",
       "      <td>40</td>\n",
       "      <td>600</td>\n",
       "    </tr>\n",
       "  </tbody>\n",
       "</table>\n",
       "</div>"
      ],
      "text/plain": [
       "          날짜 제품  판매수  개당수익\n",
       "0   20220103  A    3   300\n",
       "1   20220105  B    5   400\n",
       "2   20230105  A    5   500\n",
       "3   20230127  B   10   600\n",
       "4   20220203  A   10   400\n",
       "5   20220205  B   10   500\n",
       "6   20230210  A   15   500\n",
       "7   20230223  B   15   600\n",
       "8   20230312  A   20   600\n",
       "9   20230422  B   25   700\n",
       "10  20220505  A   30   600\n",
       "11  20230511  A   40   600"
      ]
     },
     "execution_count": 8,
     "metadata": {},
     "output_type": "execute_result"
    }
   ],
   "source": [
    "import pandas as pd\n",
    "import numpy as np\n",
    "\n",
    "# 문제21\n",
    "# 22년 1분기 매출액을 구하시오.\n",
    "# 매출액 = 판매수*개당수익\n",
    "\n",
    "df = pd.DataFrame( {\n",
    "    '날짜': ['20220103','20220105', '20230105','20230127','20220203', '20220205','20230210','20230223','20230312','20230422','20220505','20230511'],\n",
    "    '제품' : ['A','B', 'A', 'B', 'A', 'B','A', 'B', 'A', 'B', 'A', 'A'],\n",
    "    '판매수': [3, 5, 5, 10, 10, 10, 15, 15, 20, 25, 30, 40], \n",
    "    '개당수익': [300, 400, 500, 600, 400, 500, 500, 600, 600, 700, 600, 600] })\n",
    "\n",
    "df"
   ]
  },
  {
   "cell_type": "code",
   "execution_count": 9,
   "id": "721b73a9",
   "metadata": {},
   "outputs": [
    {
     "name": "stdout",
     "output_type": "stream",
     "text": [
      "<class 'pandas.core.frame.DataFrame'>\n",
      "RangeIndex: 12 entries, 0 to 11\n",
      "Data columns (total 4 columns):\n",
      " #   Column  Non-Null Count  Dtype \n",
      "---  ------  --------------  ----- \n",
      " 0   날짜      12 non-null     object\n",
      " 1   제품      12 non-null     object\n",
      " 2   판매수     12 non-null     int64 \n",
      " 3   개당수익    12 non-null     int64 \n",
      "dtypes: int64(2), object(2)\n",
      "memory usage: 512.0+ bytes\n"
     ]
    }
   ],
   "source": [
    "df.info()"
   ]
  },
  {
   "cell_type": "code",
   "execution_count": 10,
   "id": "fb521e72",
   "metadata": {},
   "outputs": [
    {
     "name": "stdout",
     "output_type": "stream",
     "text": [
      "11900\n"
     ]
    }
   ],
   "source": [
    "df['날짜']=pd.to_datetime(df['날짜'])\n",
    "\n",
    "df['year']=df['날짜'].dt.year\n",
    "df['month']=df['날짜'].dt.month\n",
    "df['day']=df['날짜'].dt.day\n",
    "\n",
    "df['매출액']=df['판매수']*df['개당수익']\n",
    "\n",
    "df=df[df['year']==2022]\n",
    "df.head()\n",
    "\n",
    "m1=df[df['month']==1]['매출액'].sum()\n",
    "m2=df[df['month']==2]['매출액'].sum()\n",
    "m3=df[df['month']==3]['매출액'].sum()\n",
    "\n",
    "print(m1+m2+m3)"
   ]
  },
  {
   "cell_type": "code",
   "execution_count": 11,
   "id": "3c2288ce",
   "metadata": {},
   "outputs": [
    {
     "name": "stdout",
     "output_type": "stream",
     "text": [
      "11900\n"
     ]
    }
   ],
   "source": [
    "# (풀이2)\n",
    "\n",
    "# 22년 1분기 매출액을 구하시오.\n",
    "# 매출액 = 판매수*개당수익\n",
    "\n",
    "df = pd.DataFrame( {\n",
    "    '날짜': ['20220103','20220105', '20230105','20230127','20220203', '20220205','20230210','20230223','20230312','20230422','20220505','20230511'],\n",
    "    '제품' : ['A','B', 'A', 'B', 'A', 'B','A', 'B', 'A', 'B', 'A', 'A'],\n",
    "    '판매수': [3, 5, 5, 10, 10, 10, 15, 15, 20, 25, 30, 40], \n",
    "    '개당수익': [300, 400, 500, 600, 400, 500, 500, 600, 600, 700, 600, 600] })\n",
    "\n",
    "df['날짜']=pd.to_datetime(df['날짜'])\n",
    "\n",
    "df['매출액']=df['판매수']*df['개당수익']\n",
    "\n",
    "df_after=df[df['날짜'].between('2022-01-01','2022-03-31')]\n",
    "\n",
    "print(df_after['매출액'].sum())"
   ]
  },
  {
   "cell_type": "code",
   "execution_count": 12,
   "id": "0a338aec",
   "metadata": {},
   "outputs": [
    {
     "name": "stdout",
     "output_type": "stream",
     "text": [
      "11900\n"
     ]
    }
   ],
   "source": [
    "# (풀이3)\n",
    "\n",
    "# 22년 1분기 매출액을 구하시오.\n",
    "# 매출액 = 판매수*개당수익\n",
    "\n",
    "df = pd.DataFrame( {\n",
    "    '날짜': ['20220103','20220105', '20230105','20230127','20220203', '20220205','20230210','20230223','20230312','20230422','20220505','20230511'],\n",
    "    '제품' : ['A','B', 'A', 'B', 'A', 'B','A', 'B', 'A', 'B', 'A', 'A'],\n",
    "    '판매수': [3, 5, 5, 10, 10, 10, 15, 15, 20, 25, 30, 40], \n",
    "    '개당수익': [300, 400, 500, 600, 400, 500, 500, 600, 600, 700, 600, 600] })\n",
    "\n",
    "df['날짜']=pd.to_datetime(df['날짜'])\n",
    "\n",
    "df['매출액']=df['판매수']*df['개당수익']\n",
    "\n",
    "df = df.set_index('날짜')\n",
    "df_after = df.loc[(df.index<='2022-03-31')&(df.index>='2022-01-01')]\n",
    "print(df_after['매출액'].sum())"
   ]
  },
  {
   "cell_type": "code",
   "execution_count": 13,
   "id": "3eebd5fd",
   "metadata": {},
   "outputs": [
    {
     "name": "stdout",
     "output_type": "stream",
     "text": [
      "48600\n"
     ]
    }
   ],
   "source": [
    "# 문제22\n",
    "# 22년과 23년의 총 매출액 차이를 절대값으로 구하시오.\n",
    "# 매출액 = 판매수*개당수익\n",
    "\n",
    "df = pd.DataFrame( {\n",
    "    '날짜': ['20220103','20220105', '20230105','20230127','20220203', '20220205','20230210','20230223','20230312','20230422','20220505','20230511'],\n",
    "    '제품' : ['A','B', 'A', 'B', 'A', 'B','A', 'B', 'A', 'B', 'A', 'A'],\n",
    "    '판매수': [3, 5, 5, 10, 10, 10, 15, 15, 20, 25, 30, 40], \n",
    "    '개당수익': [300, 400, 500, 600, 400, 500, 500, 600, 600, 700, 600, 600] })\n",
    "\n",
    "df['날짜']=pd.to_datetime(df['날짜'])\n",
    "\n",
    "df['year']=df['날짜'].dt.year\n",
    "\n",
    "df['매출액']=df['판매수']*df['개당수익']\n",
    "\n",
    "df22=df[df['year']==2022]\n",
    "df23=df[df['year']==2023]\n",
    "\n",
    "df22_sum=df22['매출액'].sum()\n",
    "df23_sum=df23['매출액'].sum()\n",
    "\n",
    "print(abs(df22_sum-df23_sum))"
   ]
  },
  {
   "cell_type": "code",
   "execution_count": 32,
   "id": "02025fcd",
   "metadata": {},
   "outputs": [
    {
     "name": "stdout",
     "output_type": "stream",
     "text": [
      "46000\n",
      "32500\n",
      "80\n"
     ]
    }
   ],
   "source": [
    "# 문제23\n",
    "# 23년 총 매출액이 큰 제품의 23년 판매수를 구하시오.\n",
    "# 매출액=판매수*개당수익\n",
    "\n",
    "df = pd.DataFrame( {\n",
    "    '날짜': ['20220103','20220105', '20230105','20230127','20220203', '20220205','20230210','20230223','20230312','20230422','20220505','20230511'],\n",
    "    '제품' : ['A','B', 'A', 'B', 'A', 'B','A', 'B', 'A', 'B', 'A', 'A'],\n",
    "    '판매수': [3, 5, 5, 10, 10, 10, 15, 15, 20, 25, 30, 40], \n",
    "    '개당수익': [300, 400, 500, 600, 400, 500, 500, 600, 600, 700, 600, 600] })\n",
    "\n",
    "df['날짜']=pd.to_datetime(df['날짜'])\n",
    "\n",
    "df['year']=df['날짜'].dt.year\n",
    "\n",
    "df['매출액']=df['판매수']*df['개당수익']\n",
    "\n",
    "df = df[df['year']==2023]\n",
    "\n",
    "df_a = df[df['제품']=='A']\n",
    "A_sales=df_a['매출액'].sum()\n",
    "print(A_sales)\n",
    "\n",
    "df_b = df[df['제품']=='B']\n",
    "B_sales=df_b['매출액'].sum()\n",
    "print(B_sales)\n",
    "\n",
    "A_sum=df_a['판매수'].sum()\n",
    "print(A_sum)"
   ]
  },
  {
   "cell_type": "code",
   "execution_count": 33,
   "id": "cf1c3ec4",
   "metadata": {},
   "outputs": [
    {
     "name": "stdout",
     "output_type": "stream",
     "text": [
      "4\n"
     ]
    }
   ],
   "source": [
    "# 문제24\n",
    "# 매출액이 4천원 초과, 1만원 미만인 데이터 수를 출력하시오.\n",
    "# 매출액 = 판매수*개당수익\n",
    "\n",
    "df = pd.DataFrame( {\n",
    "    '날짜': ['20220103','20220105', '20230105','20230127','20220203', '20220205','20230210','20230223','20230312','20230422','20220505','20230511'],\n",
    "    '제품' : ['A','B', 'A', 'B', 'A', 'B','A', 'B', 'A', 'B', 'A', 'A'],\n",
    "    '판매수': [3, 5, 5, 10, 10, 10, 15, 15, 20, 25, 30, 40], \n",
    "    '개당수익': [300, 400, 500, 600, 400, 500, 500, 600, 600, 700, 600, 600] })\n",
    "\n",
    "df['매출액']=df['판매수']*df['개당수익']\n",
    "\n",
    "cond1 = (df['매출액']>4000)\n",
    "cond2 = (df['매출액']<10000)\n",
    "\n",
    "print(len(df[cond1&cond2]))"
   ]
  },
  {
   "cell_type": "code",
   "execution_count": 1,
   "id": "aeba954c",
   "metadata": {},
   "outputs": [
    {
     "name": "stdout",
     "output_type": "stream",
     "text": [
      "25\n"
     ]
    }
   ],
   "source": [
    "import pandas as pd\n",
    "import numpy as np\n",
    "\n",
    "# 문제25\n",
    "# 23년 9월 24일 16:00~22:00 사이에 전체 제품의 판매수를 구하시오.\n",
    "df = pd.DataFrame( {\n",
    "    '물품' : ['A', 'B', 'A', 'B', 'A', 'B', 'A'],\n",
    "    '판매수': [5, 10, 15, 15, 20, 25, 40], \n",
    "    '개당수익': [500, 600, 500, 600, 600, 700, 600] })\n",
    "time = pd.date_range('2023-09-24 12:25:00','2023-09-25 14:45:30', periods= 7)\n",
    "df['time']=time\n",
    "df = df[ ['time','물품','판매수','개당수익']]\n",
    "\n",
    "df['time'] = pd.to_datetime(df['time'])\n",
    "\n",
    "df=df.set_index('time', drop=False)\n",
    "\n",
    "df_after=df[df['time'].between('2023-09-24 00:00:00','2023-09-24 23:59:59')]\n",
    "\n",
    "# 시간필터링할 때 시간이 index에 있어야 함\n",
    "df = df_after.between_time(start_time='16:00',end_time='22:00')\n",
    "\n",
    "# df = df[df['time'].between('2023-09-24 16:00:00','2023-09-24 22:00:00')]\n",
    "\n",
    "print(df['판매수'].sum())"
   ]
  },
  {
   "cell_type": "code",
   "execution_count": 3,
   "id": "ef8196e2",
   "metadata": {},
   "outputs": [
    {
     "name": "stdout",
     "output_type": "stream",
     "text": [
      "25\n"
     ]
    }
   ],
   "source": [
    "# 문제 25 (풀이2)\n",
    "# 23년 9월 24일 16:00~22:00 사이에 전체 제품의 판매수를 구하시오.\n",
    "df = pd.DataFrame( {\n",
    "    '물품' : ['A', 'B', 'A', 'B', 'A', 'B', 'A'],\n",
    "    '판매수': [5, 10, 15, 15, 20, 25, 40], \n",
    "    '개당수익': [500, 600, 500, 600, 600, 700, 600] })\n",
    "time = pd.date_range('2023-09-24 12:25:00','2023-09-25 14:45:30', periods= 7)\n",
    "df['time']=time\n",
    "df = df[ ['time','물품','판매수','개당수익']]\n",
    "\n",
    "df['time'] = pd.to_datetime(df['time'])\n",
    "\n",
    "df=df.set_index('time')\n",
    "\n",
    "df=df.loc[(df.index >= '2023-09-24 16:00:00')&(df.index <= '2023-09-24 22:00:00')]\n",
    "\n",
    "print(df['판매수'].sum())"
   ]
  },
  {
   "cell_type": "code",
   "execution_count": 4,
   "id": "313a26b3",
   "metadata": {},
   "outputs": [
    {
     "name": "stdout",
     "output_type": "stream",
     "text": [
      "26500\n"
     ]
    }
   ],
   "source": [
    "# 문제26\n",
    "# 9월 25일 00:00~12:00 까지의 B물품의 매출액 총합을 구하시오.\n",
    "# 매출액 = 판매수 * 개당수익\n",
    "\n",
    "# 시간 데이터 만들기(수정금지)\n",
    "df = pd.DataFrame( {\n",
    "    '물품' : ['A', 'B', 'A', 'B', 'A', 'B', 'A'],\n",
    "    '판매수': [5, 10, 15, 15, 20, 25, 40], \n",
    "    '개당수익': [500, 600, 500, 600, 600, 700, 600] } )\n",
    "df['time'] = pd.date_range('2023-09-24 12:25:00','2023-09-25 14:45:30', periods= 7)\n",
    "df = df[ ['time','물품','판매수','개당수익'] ]\n",
    "df = df.set_index('time', drop=True)\n",
    "\n",
    "df['매출액'] = df['판매수'] * df['개당수익']\n",
    "\n",
    "df  = df.reset_index()\n",
    "\n",
    "df['time'] = pd.to_datetime(df['time'])\n",
    "\n",
    "# between함수 쓰려면 날짜와 시간데이터가 변수에 있어야함\n",
    "df = df[df['time'].between('2023-09-25 00:00:00','2023-09-25 12:00:00')]\n",
    "\n",
    "df = df[df['물품']=='B']\n",
    "\n",
    "print(df['매출액'].sum())"
   ]
  },
  {
   "cell_type": "code",
   "execution_count": 5,
   "id": "88f2a00e",
   "metadata": {},
   "outputs": [
    {
     "name": "stdout",
     "output_type": "stream",
     "text": [
      "26500\n"
     ]
    }
   ],
   "source": [
    "# 문제 26(풀이2)\n",
    "# 9월 25일 00:00~12:00 까지의 B물품의 매출액 총합을 구하시오.\n",
    "# 매출액 = 판매수 * 개당수익\n",
    "\n",
    "# 시간 데이터 만들기(수정금지)\n",
    "df = pd.DataFrame( {\n",
    "    '물품' : ['A', 'B', 'A', 'B', 'A', 'B', 'A'],\n",
    "    '판매수': [5, 10, 15, 15, 20, 25, 40], \n",
    "    '개당수익': [500, 600, 500, 600, 600, 700, 600] } )\n",
    "df['time'] = pd.date_range('2023-09-24 12:25:00','2023-09-25 14:45:30', periods= 7)\n",
    "df = df[ ['time','물품','판매수','개당수익'] ]\n",
    "df = df.set_index('time', drop=True)\n",
    "\n",
    "df['매출액']=df['판매수']*df['개당수익']\n",
    "\n",
    "df=df.loc[(df.index>='2023-09-25 00:00:00')&(df.index<='2023-09-25 14:45:30')]\n",
    "\n",
    "df=df[df['물품']=='B']\n",
    "\n",
    "print(df['매출액'].sum())"
   ]
  },
  {
   "cell_type": "code",
   "execution_count": 8,
   "id": "3a668855",
   "metadata": {},
   "outputs": [
    {
     "name": "stdout",
     "output_type": "stream",
     "text": [
      "10000\n"
     ]
    }
   ],
   "source": [
    "# 문제27\n",
    "# 9월 24일 12:00~24:00 까지의 A물품의 매출액 총합을 구하시오.\n",
    "# 매출액 = 판매수*개당수익\n",
    "\n",
    "# 시간 데이터 만들기(수정금지)\n",
    "df = pd.DataFrame( {\n",
    "    '물품' : ['A', 'B', 'A', 'B', 'A', 'B', 'A'],\n",
    "    '판매수': [5, 10, 15, 15, 20, 25, 40], \n",
    "    '개당수익': [500, 600, 500, 600, 600, 700, 600] } )\n",
    "df['time'] = pd.date_range('2023-09-24 12:25:00','2023-09-25 14:45:30', periods= 7)\n",
    "df = df[ ['time','물품','판매수','개당수익'] ]\n",
    "df = df.set_index('time', drop=True)\n",
    "\n",
    "df['매출액']=df['판매수']*df['개당수익']\n",
    "\n",
    "df=df.loc[(df.index>='2023-09-24 12:00:00')&(df.index<='2023-09-24 23:59:59')]\n",
    "# 24:00:00은 입력할 수 없음\n",
    "\n",
    "df=df[df['물품']=='A']\n",
    "\n",
    "print(df['매출액'].sum())"
   ]
  },
  {
   "cell_type": "code",
   "execution_count": null,
   "id": "2a9ae177",
   "metadata": {},
   "outputs": [],
   "source": []
  }
 ],
 "metadata": {
  "kernelspec": {
   "display_name": "Python 3 (ipykernel)",
   "language": "python",
   "name": "python3"
  },
  "language_info": {
   "codemirror_mode": {
    "name": "ipython",
    "version": 3
   },
   "file_extension": ".py",
   "mimetype": "text/x-python",
   "name": "python",
   "nbconvert_exporter": "python",
   "pygments_lexer": "ipython3",
   "version": "3.9.13"
  }
 },
 "nbformat": 4,
 "nbformat_minor": 5
}
