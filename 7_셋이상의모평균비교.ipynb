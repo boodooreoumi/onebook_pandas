{
 "cells": [
  {
   "cell_type": "code",
   "execution_count": 1,
   "id": "a3075fc4",
   "metadata": {},
   "outputs": [],
   "source": [
    "# 분산분석이란,\n",
    "# 관축값들이 달라지는 것을 여러 요인으로 나누어\n",
    "# 각 요인들이 얼마나 변화의 정도에 기여하였는가를 분석하는 방법"
   ]
  },
  {
   "cell_type": "code",
   "execution_count": 2,
   "id": "1eb38b16",
   "metadata": {},
   "outputs": [],
   "source": [
    "# 요인의 수가 하나라면, 일원배치분산분석으로, 셋 이상의 집단의 모평균이 동일한지 검정할 수 있는 방법\n",
    "# 요인의 수가 2개라면, 이원배치분산분석"
   ]
  },
  {
   "cell_type": "code",
   "execution_count": 4,
   "id": "251dd817",
   "metadata": {},
   "outputs": [
    {
     "name": "stdout",
     "output_type": "stream",
     "text": [
      "       x  group\n",
      "0   0.95      1\n",
      "1   0.86      1\n",
      "2   0.71      1\n",
      "3   0.72      1\n",
      "4   0.74      1\n",
      "5   0.71      2\n",
      "6   0.85      2\n",
      "7   0.62      2\n",
      "8   0.72      2\n",
      "9   0.64      2\n",
      "10  0.69      3\n",
      "11  0.68      3\n",
      "12  0.51      3\n",
      "13  0.63      3\n",
      "14  0.44      3\n"
     ]
    }
   ],
   "source": [
    "# 일원배치 분산분석\n",
    "data = {'x':[0.95,0.86,0.71,0.72,0.74,\n",
    "            0.71,0.85,0.62,0.72,0.64,\n",
    "            0.69,0.68,0.51,0.63,0.44],\n",
    "       'group':[1,1,1,1,1,2,2,2,2,2,3,3,3,3,3]}\n",
    "\n",
    "import pandas as pd\n",
    "Data = pd.DataFrame(data)\n",
    "print(Data)"
   ]
  },
  {
   "cell_type": "code",
   "execution_count": 5,
   "id": "632b5a2a",
   "metadata": {},
   "outputs": [],
   "source": [
    "X1 = Data.loc[Data.group==1,'x']\n",
    "X2 = Data.loc[Data.group==2,'x']\n",
    "X3 = Data.loc[Data.group==3,'x']"
   ]
  },
  {
   "cell_type": "code",
   "execution_count": 7,
   "id": "28409686",
   "metadata": {},
   "outputs": [
    {
     "data": {
      "text/plain": [
       "ShapiroResult(statistic=0.8469260334968567, pvalue=0.18499600887298584)"
      ]
     },
     "execution_count": 7,
     "metadata": {},
     "output_type": "execute_result"
    }
   ],
   "source": [
    "# 정규성확인\n",
    "# 각 데이터셋의 정규성 확인을 위해 shapiro()하수를 적용\n",
    "\n",
    "from scipy.stats import shapiro, levene, bartlett\n",
    "\n",
    "shapiro(X1)"
   ]
  },
  {
   "cell_type": "code",
   "execution_count": 8,
   "id": "0eddd7e0",
   "metadata": {},
   "outputs": [
    {
     "data": {
      "text/plain": [
       "ShapiroResult(statistic=0.9071149826049805, pvalue=0.4504486918449402)"
      ]
     },
     "execution_count": 8,
     "metadata": {},
     "output_type": "execute_result"
    }
   ],
   "source": [
    "shapiro(X2)"
   ]
  },
  {
   "cell_type": "code",
   "execution_count": 9,
   "id": "e436912b",
   "metadata": {},
   "outputs": [
    {
     "data": {
      "text/plain": [
       "ShapiroResult(statistic=0.8832945823669434, pvalue=0.32450810074806213)"
      ]
     },
     "execution_count": 9,
     "metadata": {},
     "output_type": "execute_result"
    }
   ],
   "source": [
    "shapiro(X3) # 유의확률이 0.05보다 크므로 귀무가설을 채택하므로 정규성을 만족한다"
   ]
  },
  {
   "cell_type": "code",
   "execution_count": 10,
   "id": "6ebc1c1b",
   "metadata": {},
   "outputs": [
    {
     "data": {
      "text/plain": [
       "LeveneResult(statistic=0.11320754716981142, pvalue=0.8939076596969161)"
      ]
     },
     "execution_count": 10,
     "metadata": {},
     "output_type": "execute_result"
    }
   ],
   "source": [
    "# 등분산 검정\n",
    "# levene(), bartlett() 함수 이용\n",
    "levene(X1,X2,X3) # 유의확률이 0.05보다 크므로 귀무가설을 채택하므로 등분산성을 만족한다"
   ]
  },
  {
   "cell_type": "code",
   "execution_count": 11,
   "id": "ef3d9534",
   "metadata": {},
   "outputs": [
    {
     "data": {
      "text/plain": [
       "BartlettResult(statistic=0.14900048391088347, pvalue=0.9282072494741611)"
      ]
     },
     "execution_count": 11,
     "metadata": {},
     "output_type": "execute_result"
    }
   ],
   "source": [
    "bartlett(X1,X2,X3) # 유의확률이 0.05보다 크므로 귀무가설을 채택하므로 등분산성을 만족한다"
   ]
  },
  {
   "cell_type": "code",
   "execution_count": 12,
   "id": "ae82dd77",
   "metadata": {},
   "outputs": [
    {
     "name": "stdout",
     "output_type": "stream",
     "text": [
      "one_sample 평균1)  0.796\n",
      "one_sample 평균2)  0.7080000000000001\n",
      "one_sample 평균3)  0.5900000000000001\n",
      "one_sample 표준편차1)  0.09393614852653902\n",
      "one_sample 표준편차2)  0.08084553172563094\n",
      "one_sample 표준편차3)  0.0985900603509299\n"
     ]
    }
   ],
   "source": [
    "import numpy as np\n",
    "print(\"one_sample 평균1) \", np.mean(X1))\n",
    "print(\"one_sample 평균2) \", np.mean(X2))\n",
    "print(\"one_sample 평균3) \", np.mean(X3))\n",
    "print(\"one_sample 표준편차1) \", np.std(X1))\n",
    "print(\"one_sample 표준편차2) \", np.std(X2))\n",
    "print(\"one_sample 표준편차3) \", np.std(X3))"
   ]
  },
  {
   "cell_type": "code",
   "execution_count": 13,
   "id": "f6cea10c",
   "metadata": {},
   "outputs": [
    {
     "name": "stdout",
     "output_type": "stream",
     "text": [
      "F 검정 통계량: 5.11196, p값: 0.02478\n"
     ]
    }
   ],
   "source": [
    "from scipy.stats import f_oneway\n",
    "result = f_oneway(X1,X2,X3)\n",
    "\n",
    "print(\"F 검정 통계량: %.5f, p값: %.5f\"%result) # 유의확률이 0.05보다 작으므로, 귀무가설을 기각하고, \n",
    "# 세 집단의 평균차이가 있음을 알 수 있다\n",
    "\n",
    "# 첨가물 A,B,C 각각을 넣어 만든 빵 중 적어도 1가지는 빵의 평균밀도에\n",
    "# 통계적으로 유의한 차이가 있다는 것을 의미"
   ]
  },
  {
   "cell_type": "code",
   "execution_count": 14,
   "id": "aefefad9",
   "metadata": {},
   "outputs": [],
   "source": [
    "# 사후분석\n",
    "# f_oneway()함수를 이용한 anova 분석은 각 집단별로 차이가 있는지 여부만 확인할 수 있을뿐\n",
    "# 어떤 집단과 어떤 집단에 차이가 있는지 확인이 불가\n",
    "\n",
    "# 그래서,\n",
    "\n",
    "# statsmodels.formula.api 모듈을 활용하면,\n",
    "# 연속형변수인 반응변수와 그룹변수인 요인을 확용한 회귀모형을 생성\n",
    "# -> 분산분석표 및 가설검정을 확인하기 위한 함수에 적용"
   ]
  },
  {
   "cell_type": "code",
   "execution_count": 16,
   "id": "18de75ac",
   "metadata": {},
   "outputs": [
    {
     "name": "stdout",
     "output_type": "stream",
     "text": [
      "Collecting statsmodels\n",
      "  Downloading statsmodels-0.13.5-cp37-cp37m-win_amd64.whl (9.1 MB)\n",
      "     ---------------------------------------- 9.1/9.1 MB 5.4 MB/s eta 0:00:00\n",
      "Requirement already satisfied: scipy>=1.3 in c:\\users\\m\\.conda\\envs\\cospropython\\lib\\site-packages (from statsmodels) (1.7.3)\n",
      "Requirement already satisfied: packaging>=21.3 in c:\\users\\m\\.conda\\envs\\cospropython\\lib\\site-packages (from statsmodels) (24.0)\n",
      "Requirement already satisfied: pandas>=0.25 in c:\\users\\m\\.conda\\envs\\cospropython\\lib\\site-packages (from statsmodels) (1.3.5)\n",
      "Collecting patsy>=0.5.2\n",
      "  Downloading patsy-0.5.6-py2.py3-none-any.whl (233 kB)\n",
      "     -------------------------------------- 233.9/233.9 kB 4.8 MB/s eta 0:00:00\n",
      "Requirement already satisfied: numpy>=1.17 in c:\\users\\m\\.conda\\envs\\cospropython\\lib\\site-packages (from statsmodels) (1.21.6)\n",
      "Requirement already satisfied: python-dateutil>=2.7.3 in c:\\users\\m\\.conda\\envs\\cospropython\\lib\\site-packages (from pandas>=0.25->statsmodels) (2.9.0.post0)\n",
      "Requirement already satisfied: pytz>=2017.3 in c:\\users\\m\\.conda\\envs\\cospropython\\lib\\site-packages (from pandas>=0.25->statsmodels) (2024.1)\n",
      "Requirement already satisfied: six in c:\\users\\m\\.conda\\envs\\cospropython\\lib\\site-packages (from patsy>=0.5.2->statsmodels) (1.16.0)\n",
      "Installing collected packages: patsy, statsmodels\n",
      "Successfully installed patsy-0.5.6 statsmodels-0.13.5\n"
     ]
    }
   ],
   "source": [
    "# 1. 회귀모형 생성\n",
    "# ols.fit() 함수를 이용해 회귀모형 생성\n",
    "# from statsmodels.formula.api import ols\n",
    "\n",
    "!pip install statsmodels\n",
    "from statsmodels.formula.api import ols\n",
    "lmFit = ols('x~C(group)', data=Data).fit()"
   ]
  },
  {
   "cell_type": "code",
   "execution_count": 17,
   "id": "736de303",
   "metadata": {},
   "outputs": [
    {
     "name": "stdout",
     "output_type": "stream",
     "text": [
      "                            OLS Regression Results                            \n",
      "==============================================================================\n",
      "Dep. Variable:                      x   R-squared:                       0.460\n",
      "Model:                            OLS   Adj. R-squared:                  0.370\n",
      "Method:                 Least Squares   F-statistic:                     5.112\n",
      "Date:                Tue, 22 Oct 2024   Prob (F-statistic):             0.0248\n",
      "Time:                        16:01:04   Log-Likelihood:                 14.598\n",
      "No. Observations:                  15   AIC:                            -23.20\n",
      "Df Residuals:                      12   BIC:                            -21.07\n",
      "Df Model:                           2                                         \n",
      "Covariance Type:            nonrobust                                         \n",
      "=================================================================================\n",
      "                    coef    std err          t      P>|t|      [0.025      0.975]\n",
      "---------------------------------------------------------------------------------\n",
      "Intercept         0.7960      0.046     17.412      0.000       0.696       0.896\n",
      "C(group)[T.2]    -0.0880      0.065     -1.361      0.198      -0.229       0.053\n",
      "C(group)[T.3]    -0.2060      0.065     -3.186      0.008      -0.347      -0.065\n",
      "==============================================================================\n",
      "Omnibus:                        2.016   Durbin-Watson:                   1.843\n",
      "Prob(Omnibus):                  0.365   Jarque-Bera (JB):                1.023\n",
      "Skew:                           0.213   Prob(JB):                        0.600\n",
      "Kurtosis:                       1.794   Cond. No.                         3.73\n",
      "==============================================================================\n",
      "\n",
      "Notes:\n",
      "[1] Standard Errors assume that the covariance matrix of the errors is correctly specified.\n"
     ]
    },
    {
     "name": "stderr",
     "output_type": "stream",
     "text": [
      "C:\\Users\\M\\.conda\\envs\\cospropython\\lib\\site-packages\\scipy\\stats\\stats.py:1542: UserWarning: kurtosistest only valid for n>=20 ... continuing anyway, n=15\n",
      "  \"anyway, n=%i\" % int(n))\n"
     ]
    }
   ],
   "source": [
    "print(lmFit.summary())"
   ]
  },
  {
   "cell_type": "code",
   "execution_count": 19,
   "id": "05ba592b",
   "metadata": {},
   "outputs": [
    {
     "name": "stdout",
     "output_type": "stream",
     "text": [
      "            df   sum_sq  mean_sq         F    PR(>F)\n",
      "C(group)   2.0  0.10684  0.05342  5.111962  0.024784\n",
      "Residual  12.0  0.12540  0.01045       NaN       NaN\n"
     ]
    }
   ],
   "source": [
    "# 분산분석표 생성\n",
    "# 생성된 ols 객체에 anova_lm() 함수를 적용\n",
    "# from statsmodels.stats.anova import anova_lm \n",
    "# anova_lm(ols객체)\n",
    "\n",
    "from statsmodels.stats.anova import anova_lm\n",
    "table = anova_lm(lmFit)\n",
    "\n",
    "print(table)"
   ]
  },
  {
   "cell_type": "code",
   "execution_count": 20,
   "id": "f898d3bf",
   "metadata": {},
   "outputs": [
    {
     "name": "stdout",
     "output_type": "stream",
     "text": [
      "Test Multiple Comparison ttest_ind \n",
      "FWER=0.05 method=bonf\n",
      "alphacSidak=0.02, alphacBonf=0.017\n",
      "============================================\n",
      "group1 group2  stat   pval  pval_corr reject\n",
      "--------------------------------------------\n",
      "     1      2 1.4201 0.1934    0.5801  False\n",
      "     1      3 3.0255 0.0164    0.0493   True\n",
      "     2      3  1.851 0.1013     0.304  False\n",
      "--------------------------------------------\n"
     ]
    }
   ],
   "source": [
    "# 사후분석:본페로니 방법\n",
    "# statsmodels.sandbox.stats.multicomp 모듈의\n",
    "# MultiComparison() 함수 및 allpairtest() 함수 이용\n",
    "\n",
    "from statsmodels.sandbox.stats.multicomp import MultiComparison\n",
    "comp = MultiComparison(Data.x, Data.group)\n",
    "\n",
    "from scipy.stats import ttest_ind\n",
    "result = comp.allpairtest(ttest_ind, method='bonf')\n",
    "\n",
    "print(result[0]) # 그룹1과 그룹3에 평균차이가 존재함을 알 수 있다"
   ]
  },
  {
   "cell_type": "code",
   "execution_count": 21,
   "id": "680211d9",
   "metadata": {},
   "outputs": [
    {
     "name": "stdout",
     "output_type": "stream",
     "text": [
      "Multiple Comparison of Means - Tukey HSD, FWER=0.05 \n",
      "====================================================\n",
      "group1 group2 meandiff p-adj   lower   upper  reject\n",
      "----------------------------------------------------\n",
      "     1      2   -0.088 0.3907 -0.2605  0.0845  False\n",
      "     1      3   -0.206 0.0199 -0.3785 -0.0335   True\n",
      "     2      3   -0.118 0.2032 -0.2905  0.0545  False\n",
      "----------------------------------------------------\n"
     ]
    }
   ],
   "source": [
    "# 사후분석 : Tukey HSD 방법\n",
    "# statsmodels.stats.multicomp 모듈의 pairwise_tukeyhsd() 함수 이용\n",
    "\n",
    "from statsmodels.stats.multicomp import pairwise_tukeyhsd\n",
    "posthoc1 = pairwise_tukeyhsd(Data.x, Data.group, alpha=0.05)\n",
    "\n",
    "print(posthoc1) # 그룹1과 그룹3에 평균차이가 존재함을 알 수 있다"
   ]
  },
  {
   "cell_type": "code",
   "execution_count": 22,
   "id": "0e94b261",
   "metadata": {},
   "outputs": [
    {
     "name": "stdout",
     "output_type": "stream",
     "text": [
      "Figure(1000x600)\n"
     ]
    },
    {
     "data": {
      "image/png": "[encoded data removed]",
      "text/plain": [
       "<Figure size 1000x600 with 1 Axes>"
      ]
     },
     "metadata": {},
     "output_type": "display_data"
    }
   ],
   "source": [
    "print(posthoc1.plot_simultaneous()) # 첫번째 그룹과 세번째 그룹의 그래프가 겹치지 않아 두 그룹 사이에 차이가 있음을 확인 가능"
   ]
  },
  {
   "cell_type": "code",
   "execution_count": 24,
   "id": "a92d9b0f",
   "metadata": {},
   "outputs": [
    {
     "name": "stdout",
     "output_type": "stream",
     "text": [
      "     sepal_length  sepal_width  petal_length  petal_width    species\n",
      "0             5.1          3.5           1.4          0.2     setosa\n",
      "1             4.9          3.0           1.4          0.2     setosa\n",
      "2             4.7          3.2           1.3          0.2     setosa\n",
      "3             4.6          3.1           1.5          0.2     setosa\n",
      "4             5.0          3.6           1.4          0.2     setosa\n",
      "..            ...          ...           ...          ...        ...\n",
      "145           6.7          3.0           5.2          2.3  virginica\n",
      "146           6.3          2.5           5.0          1.9  virginica\n",
      "147           6.5          3.0           5.2          2.0  virginica\n",
      "148           6.2          3.4           5.4          2.3  virginica\n",
      "149           5.9          3.0           5.1          1.8  virginica\n",
      "\n",
      "[150 rows x 5 columns]\n"
     ]
    }
   ],
   "source": [
    "# 데이터분석 실습\n",
    "# 1. f_oneway() 함수를 이용한 가설검정\n",
    "import seaborn as sns\n",
    "df = sns.load_dataset('iris')\n",
    "print(df)"
   ]
  },
  {
   "cell_type": "code",
   "execution_count": 25,
   "id": "c3b11da4",
   "metadata": {},
   "outputs": [
    {
     "name": "stdout",
     "output_type": "stream",
     "text": [
      "<class 'pandas.core.frame.DataFrame'>\n",
      "RangeIndex: 150 entries, 0 to 149\n",
      "Data columns (total 5 columns):\n",
      " #   Column        Non-Null Count  Dtype  \n",
      "---  ------        --------------  -----  \n",
      " 0   sepal_length  150 non-null    float64\n",
      " 1   sepal_width   150 non-null    float64\n",
      " 2   petal_length  150 non-null    float64\n",
      " 3   petal_width   150 non-null    float64\n",
      " 4   species       150 non-null    object \n",
      "dtypes: float64(4), object(1)\n",
      "memory usage: 6.0+ KB\n"
     ]
    }
   ],
   "source": [
    "# info()함수를 활용하여 결측자료 확인\n",
    "df.info()"
   ]
  },
  {
   "cell_type": "code",
   "execution_count": 26,
   "id": "47452e07",
   "metadata": {},
   "outputs": [
    {
     "name": "stdout",
     "output_type": "stream",
     "text": [
      "0    3.5\n",
      "1    3.0\n",
      "2    3.2\n",
      "3    3.1\n",
      "4    3.6\n",
      "Name: sepal_width, dtype: float64\n"
     ]
    }
   ],
   "source": [
    "Species_Set = df.loc[df.species==\"setosa\",'sepal_width']\n",
    "print(Species_Set.head())"
   ]
  },
  {
   "cell_type": "code",
   "execution_count": 27,
   "id": "714dd682",
   "metadata": {},
   "outputs": [
    {
     "name": "stdout",
     "output_type": "stream",
     "text": [
      "50    3.2\n",
      "51    3.2\n",
      "52    3.1\n",
      "53    2.3\n",
      "54    2.8\n",
      "Name: sepal_width, dtype: float64\n"
     ]
    }
   ],
   "source": [
    "Species_Ver = df.loc[df.species==\"versicolor\",'sepal_width']\n",
    "print(Species_Ver.head())"
   ]
  },
  {
   "cell_type": "code",
   "execution_count": 28,
   "id": "65d59ef6",
   "metadata": {},
   "outputs": [
    {
     "name": "stdout",
     "output_type": "stream",
     "text": [
      "100    3.3\n",
      "101    2.7\n",
      "102    3.0\n",
      "103    2.9\n",
      "104    3.0\n",
      "Name: sepal_width, dtype: float64\n"
     ]
    }
   ],
   "source": [
    "Species_Vir = df.loc[df.species==\"virginica\",'sepal_width']\n",
    "print(Species_Vir.head())"
   ]
  },
  {
   "cell_type": "code",
   "execution_count": 29,
   "id": "22f4877c",
   "metadata": {},
   "outputs": [
    {
     "data": {
      "text/plain": [
       "ShapiroResult(statistic=0.97171950340271, pvalue=0.2715264856815338)"
      ]
     },
     "execution_count": 29,
     "metadata": {},
     "output_type": "execute_result"
    }
   ],
   "source": [
    "# 각각의 자료에 대한 정규성 검증\n",
    "from scipy.stats import shapiro, levene, bartlett\n",
    "\n",
    "shapiro(Species_Set)"
   ]
  },
  {
   "cell_type": "code",
   "execution_count": 30,
   "id": "61c7f004",
   "metadata": {},
   "outputs": [
    {
     "data": {
      "text/plain": [
       "ShapiroResult(statistic=0.9741330742835999, pvalue=0.33798879384994507)"
      ]
     },
     "execution_count": 30,
     "metadata": {},
     "output_type": "execute_result"
    }
   ],
   "source": [
    "shapiro(Species_Ver)"
   ]
  },
  {
   "cell_type": "code",
   "execution_count": 31,
   "id": "d24c029d",
   "metadata": {},
   "outputs": [
    {
     "data": {
      "text/plain": [
       "ShapiroResult(statistic=0.9673910140991211, pvalue=0.1809043288230896)"
      ]
     },
     "execution_count": 31,
     "metadata": {},
     "output_type": "execute_result"
    }
   ],
   "source": [
    "shapiro(Species_Vir) # 모두 유의확률이 0.05보다 크므로 귀무가설을 채택하므로 정규성을 띄는 것을 알 수 있다"
   ]
  },
  {
   "cell_type": "code",
   "execution_count": 32,
   "id": "f65c5e34",
   "metadata": {},
   "outputs": [
    {
     "data": {
      "text/plain": [
       "LeveneResult(statistic=0.5902115655853319, pvalue=0.5555178984739075)"
      ]
     },
     "execution_count": 32,
     "metadata": {},
     "output_type": "execute_result"
    }
   ],
   "source": [
    "# 등분산성 검정\n",
    "levene(Species_Set, Species_Ver, Species_Vir)"
   ]
  },
  {
   "cell_type": "code",
   "execution_count": 33,
   "id": "508a19c8",
   "metadata": {},
   "outputs": [
    {
     "data": {
      "text/plain": [
       "BartlettResult(statistic=2.0910752014392338, pvalue=0.35150280041580323)"
      ]
     },
     "execution_count": 33,
     "metadata": {},
     "output_type": "execute_result"
    }
   ],
   "source": [
    "bartlett(Species_Set, Species_Ver, Species_Vir) # 유의확률이 0.05보다 크므로 귀무가설을 채택하므로 등분산임을 알 수 있다"
   ]
  },
  {
   "cell_type": "code",
   "execution_count": 34,
   "id": "71927d2c",
   "metadata": {},
   "outputs": [
    {
     "name": "stdout",
     "output_type": "stream",
     "text": [
      "one_sample 평균1)  3.428\n",
      "one_sample 평균2)  2.7700000000000005\n",
      "one_sample 평균3)  2.974\n",
      "one_sample 표준편차1)  0.37525458025186054\n",
      "one_sample 표준편차2)  0.31064449134018135\n",
      "one_sample 표준편차3)  0.3192553836664309\n"
     ]
    }
   ],
   "source": [
    "import numpy as np\n",
    "\n",
    "print(\"one_sample 평균1) \", np.mean(Species_Set))\n",
    "print(\"one_sample 평균2) \", np.mean(Species_Ver))\n",
    "print(\"one_sample 평균3) \", np.mean(Species_Vir))\n",
    "print(\"one_sample 표준편차1) \", np.std(Species_Set))\n",
    "print(\"one_sample 표준편차2) \", np.std(Species_Ver))\n",
    "print(\"one_sample 표준편차3) \", np.std(Species_Vir))"
   ]
  },
  {
   "cell_type": "code",
   "execution_count": 35,
   "id": "0d998e52",
   "metadata": {},
   "outputs": [
    {
     "name": "stdout",
     "output_type": "stream",
     "text": [
      "F 검정통계량 : 49.16004, p값: 0.00000\n"
     ]
    }
   ],
   "source": [
    "from scipy.stats import f_oneway\n",
    "result = f_oneway(Species_Set, Species_Ver, Species_Vir)\n",
    "\n",
    "print(\"F 검정통계량 : %.5f, p값: %.5f\"%result) \n",
    "# 유의확률이 0.0000이므로 귀무가설을 기각하므로 붓꽃종 사이에 적어도 하나는 꽃받침너비가 다르다라는 것을 알 수 있다"
   ]
  },
  {
   "cell_type": "code",
   "execution_count": 36,
   "id": "35d96022",
   "metadata": {},
   "outputs": [],
   "source": [
    "# statsmodel 모듈을 활용한 가설검정 및 사후분석\n",
    "from statsmodels.formula.api import ols\n",
    "lmFit = ols('sepal_width~C(species)', data=df).fit()"
   ]
  },
  {
   "cell_type": "code",
   "execution_count": 38,
   "id": "c80ada5b",
   "metadata": {},
   "outputs": [
    {
     "name": "stdout",
     "output_type": "stream",
     "text": [
      "                            OLS Regression Results                            \n",
      "==============================================================================\n",
      "Dep. Variable:            sepal_width   R-squared:                       0.401\n",
      "Model:                            OLS   Adj. R-squared:                  0.393\n",
      "Method:                 Least Squares   F-statistic:                     49.16\n",
      "Date:                Tue, 22 Oct 2024   Prob (F-statistic):           4.49e-17\n",
      "Time:                        17:27:36   Log-Likelihood:                -49.366\n",
      "No. Observations:                 150   AIC:                             104.7\n",
      "Df Residuals:                     147   BIC:                             113.8\n",
      "Df Model:                           2                                         \n",
      "Covariance Type:            nonrobust                                         \n",
      "============================================================================================\n",
      "                               coef    std err          t      P>|t|      [0.025      0.975]\n",
      "--------------------------------------------------------------------------------------------\n",
      "Intercept                    3.4280      0.048     71.359      0.000       3.333       3.523\n",
      "C(species)[T.versicolor]    -0.6580      0.068     -9.685      0.000      -0.792      -0.524\n",
      "C(species)[T.virginica]     -0.4540      0.068     -6.683      0.000      -0.588      -0.320\n",
      "==============================================================================\n",
      "Omnibus:                        1.920   Durbin-Watson:                   1.879\n",
      "Prob(Omnibus):                  0.383   Jarque-Bera (JB):                1.632\n",
      "Skew:                           0.027   Prob(JB):                        0.442\n",
      "Kurtosis:                       3.508   Cond. No.                         3.73\n",
      "==============================================================================\n",
      "\n",
      "Notes:\n",
      "[1] Standard Errors assume that the covariance matrix of the errors is correctly specified.\n"
     ]
    }
   ],
   "source": [
    "print(lmFit.summary())"
   ]
  },
  {
   "cell_type": "code",
   "execution_count": 39,
   "id": "80dbb19f",
   "metadata": {},
   "outputs": [
    {
     "name": "stdout",
     "output_type": "stream",
     "text": [
      "               df     sum_sq   mean_sq         F        PR(>F)\n",
      "C(species)    2.0  11.344933  5.672467  49.16004  4.492017e-17\n",
      "Residual    147.0  16.962000  0.115388       NaN           NaN\n"
     ]
    }
   ],
   "source": [
    "from statsmodels.stats.anova import anova_lm\n",
    "table = anova_lm(lmFit)\n",
    "\n",
    "print(table) # f_oneway의 결과와 유사함을 알 수 있다"
   ]
  },
  {
   "cell_type": "code",
   "execution_count": 40,
   "id": "3e8a85b2",
   "metadata": {},
   "outputs": [],
   "source": [
    "# 사후분석\n",
    "\n",
    "from statsmodels.sandbox.stats.multicomp import MultiComparison\n",
    "comp = MultiComparison(df.sepal_width, df.species)"
   ]
  },
  {
   "cell_type": "code",
   "execution_count": 41,
   "id": "0de43eae",
   "metadata": {},
   "outputs": [],
   "source": [
    "# Bonferni검정\n",
    "from scipy.stats import ttest_ind\n",
    "result = comp.allpairtest(ttest_ind, method='bonf')"
   ]
  },
  {
   "cell_type": "code",
   "execution_count": 42,
   "id": "f9a50f90",
   "metadata": {},
   "outputs": [
    {
     "name": "stdout",
     "output_type": "stream",
     "text": [
      "Test Multiple Comparison ttest_ind \n",
      "FWER=0.05 method=bonf\n",
      "alphacSidak=0.02, alphacBonf=0.017\n",
      "=====================================================\n",
      "  group1     group2     stat   pval  pval_corr reject\n",
      "-----------------------------------------------------\n",
      "    setosa versicolor   9.455    0.0       0.0   True\n",
      "    setosa  virginica  6.4503    0.0       0.0   True\n",
      "versicolor  virginica -3.2058 0.0018    0.0055   True\n",
      "-----------------------------------------------------\n"
     ]
    }
   ],
   "source": [
    "print(result[0])\n",
    "# setosa와 versicolor\n",
    "# setosa와 virginica\n",
    "# versicolor와 virginica 모두 차이가 있음을 알 수 있다"
   ]
  },
  {
   "cell_type": "code",
   "execution_count": 43,
   "id": "8d1d0448",
   "metadata": {},
   "outputs": [
    {
     "name": "stdout",
     "output_type": "stream",
     "text": [
      "    Multiple Comparison of Means - Tukey HSD, FWER=0.05     \n",
      "============================================================\n",
      "  group1     group2   meandiff p-adj   lower   upper  reject\n",
      "------------------------------------------------------------\n",
      "    setosa versicolor   -0.658    0.0 -0.8189 -0.4971   True\n",
      "    setosa  virginica   -0.454    0.0 -0.6149 -0.2931   True\n",
      "versicolor  virginica    0.204 0.0088  0.0431  0.3649   True\n",
      "------------------------------------------------------------\n"
     ]
    }
   ],
   "source": [
    "# TukeyHSD 방법 이용\n",
    "from statsmodels.stats.multicomp import pairwise_tukeyhsd\n",
    "posthoc1 = pairwise_tukeyhsd(df.sepal_width, df.species, alpha=0.05)\n",
    "\n",
    "print(posthoc1)\n",
    "# setosa와 versicolor\n",
    "# setosa와 virginica\n",
    "# versicolor와 virginica 모두 차이가 있음을 알 수 있다"
   ]
  },
  {
   "cell_type": "code",
   "execution_count": 44,
   "id": "405241d9",
   "metadata": {},
   "outputs": [
    {
     "name": "stdout",
     "output_type": "stream",
     "text": [
      "Figure(1000x600)\n"
     ]
    },
    {
     "data": {
      "image/png": "[encoded data removed]",
      "text/plain": [
       "<Figure size 1000x600 with 1 Axes>"
      ]
     },
     "metadata": {},
     "output_type": "display_data"
    }
   ],
   "source": [
    "print(posthoc1.plot_simultaneous())"
   ]
  },
  {
   "cell_type": "code",
   "execution_count": null,
   "id": "0327486f",
   "metadata": {},
   "outputs": [],
   "source": []
  }
 ],
 "metadata": {
  "kernelspec": {
   "display_name": "Python 3 (ipykernel)",
   "language": "python",
   "name": "python3"
  },
  "language_info": {
   "codemirror_mode": {
    "name": "ipython",
    "version": 3
   },
   "file_extension": ".py",
   "mimetype": "text/x-python",
   "name": "python",
   "nbconvert_exporter": "python",
   "pygments_lexer": "ipython3",
   "version": "3.7.16"
  }
 },
 "nbformat": 4,
 "nbformat_minor": 5
}
