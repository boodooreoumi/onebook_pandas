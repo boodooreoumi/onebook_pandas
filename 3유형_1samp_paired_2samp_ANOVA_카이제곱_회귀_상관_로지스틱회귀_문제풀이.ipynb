{
 "cells": [
  {
   "cell_type": "markdown",
   "id": "f3d02999",
   "metadata": {},
   "source": [
    "- 모집단 1개(집단의 평균 vs 특정값)\n",
    "- 검정방법\n",
    "- 1)정규성을 만족할 시 단일표본 t검정(1sample t-test)\n",
    "- 2)정규성을 만족하지 않을 시 윌콕슨 부호순위 검정"
   ]
  },
  {
   "cell_type": "markdown",
   "id": "6b6c295a",
   "metadata": {},
   "source": [
    "- 가설검정 순서\n",
    "- 1. 가설검정\n",
    "- 2. 유의수준 확인\n",
    "- 3. 정규성 검정\n",
    "- 4. 검정실시(통계량, p-value확인)\n",
    "- 5. 귀무가설 기각여부 결정(채택/기각)"
   ]
  },
  {
   "cell_type": "code",
   "execution_count": 1,
   "id": "e6b76666",
   "metadata": {},
   "outputs": [],
   "source": [
    "# 데이터 불러오기\n",
    "import pandas as pd\n",
    "import numpy as np"
   ]
  },
  {
   "cell_type": "code",
   "execution_count": 2,
   "id": "b5bf5337",
   "metadata": {},
   "outputs": [
    {
     "data": {
      "text/html": [
       "<div>\n",
       "<style scoped>\n",
       "    .dataframe tbody tr th:only-of-type {\n",
       "        vertical-align: middle;\n",
       "    }\n",
       "\n",
       "    .dataframe tbody tr th {\n",
       "        vertical-align: top;\n",
       "    }\n",
       "\n",
       "    .dataframe thead th {\n",
       "        text-align: right;\n",
       "    }\n",
       "</style>\n",
       "<table border=\"1\" class=\"dataframe\">\n",
       "  <thead>\n",
       "    <tr style=\"text-align: right;\">\n",
       "      <th></th>\n",
       "      <th>car</th>\n",
       "      <th>mpg</th>\n",
       "      <th>cyl</th>\n",
       "      <th>disp</th>\n",
       "      <th>hp</th>\n",
       "      <th>drat</th>\n",
       "      <th>wt</th>\n",
       "      <th>qsec</th>\n",
       "      <th>vs</th>\n",
       "      <th>am</th>\n",
       "      <th>gear</th>\n",
       "      <th>carb</th>\n",
       "    </tr>\n",
       "  </thead>\n",
       "  <tbody>\n",
       "    <tr>\n",
       "      <th>0</th>\n",
       "      <td>Mazda RX4</td>\n",
       "      <td>21.0</td>\n",
       "      <td>6</td>\n",
       "      <td>160.0</td>\n",
       "      <td>110</td>\n",
       "      <td>3.90</td>\n",
       "      <td>2.620</td>\n",
       "      <td>16.46</td>\n",
       "      <td>0</td>\n",
       "      <td>1</td>\n",
       "      <td>4</td>\n",
       "      <td>4</td>\n",
       "    </tr>\n",
       "    <tr>\n",
       "      <th>1</th>\n",
       "      <td>Mazda RX4 Wag</td>\n",
       "      <td>21.0</td>\n",
       "      <td>6</td>\n",
       "      <td>160.0</td>\n",
       "      <td>110</td>\n",
       "      <td>3.90</td>\n",
       "      <td>2.875</td>\n",
       "      <td>17.02</td>\n",
       "      <td>0</td>\n",
       "      <td>1</td>\n",
       "      <td>4</td>\n",
       "      <td>4</td>\n",
       "    </tr>\n",
       "    <tr>\n",
       "      <th>2</th>\n",
       "      <td>Datsun 710</td>\n",
       "      <td>22.8</td>\n",
       "      <td>4</td>\n",
       "      <td>108.0</td>\n",
       "      <td>93</td>\n",
       "      <td>3.85</td>\n",
       "      <td>2.320</td>\n",
       "      <td>18.61</td>\n",
       "      <td>1</td>\n",
       "      <td>1</td>\n",
       "      <td>4</td>\n",
       "      <td>1</td>\n",
       "    </tr>\n",
       "  </tbody>\n",
       "</table>\n",
       "</div>"
      ],
      "text/plain": [
       "             car   mpg  cyl   disp   hp  drat     wt   qsec  vs  am  gear  \\\n",
       "0      Mazda RX4  21.0    6  160.0  110  3.90  2.620  16.46   0   1     4   \n",
       "1  Mazda RX4 Wag  21.0    6  160.0  110  3.90  2.875  17.02   0   1     4   \n",
       "2     Datsun 710  22.8    4  108.0   93  3.85  2.320  18.61   1   1     4   \n",
       "\n",
       "   carb  \n",
       "0     4  \n",
       "1     4  \n",
       "2     1  "
      ]
     },
     "execution_count": 2,
     "metadata": {},
     "output_type": "execute_result"
    }
   ],
   "source": [
    "df=pd.read_csv('mtcars.csv')\n",
    "df.head(3)"
   ]
  },
  {
   "cell_type": "code",
   "execution_count": 3,
   "id": "1b323ac6",
   "metadata": {},
   "outputs": [],
   "source": [
    "# 예제문제\n",
    "# 1. mtcars 데이터셋의 mpg열 데이터의 평균이 20과 같다고 할 수 있는지 검정하시오.(유의수준 5%)"
   ]
  },
  {
   "cell_type": "code",
   "execution_count": 5,
   "id": "2714d4c1",
   "metadata": {},
   "outputs": [],
   "source": [
    "import scipy.stats as stats\n",
    "from scipy.stats import shapiro"
   ]
  },
  {
   "cell_type": "code",
   "execution_count": 6,
   "id": "227f94d0",
   "metadata": {},
   "outputs": [],
   "source": [
    "# 1. 가설검정\n",
    "# H0 : MPG 열의 평균이 20과 같다.\n",
    "# H1 : MPG 열의 평균이 20과 같지 않다."
   ]
  },
  {
   "cell_type": "code",
   "execution_count": 7,
   "id": "26411e47",
   "metadata": {},
   "outputs": [],
   "source": [
    "# 2. 유의수준 확인 : 유의수준 5%로 확인"
   ]
  },
  {
   "cell_type": "code",
   "execution_count": 8,
   "id": "99d47c7d",
   "metadata": {},
   "outputs": [],
   "source": [
    "# 3.정규성 검정\n",
    "# H0(귀무가설):정규분포를 따른다.\n",
    "# H1(대립가설):정규분포를 따르지 않는다"
   ]
  },
  {
   "cell_type": "code",
   "execution_count": 9,
   "id": "28e2d62c",
   "metadata": {},
   "outputs": [
    {
     "name": "stdout",
     "output_type": "stream",
     "text": [
      "0.9476 0.1229\n",
      "ShapiroResult(statistic=0.9475648403167725, pvalue=0.1228824257850647)\n"
     ]
    }
   ],
   "source": [
    "statistic, pvalue = stats.shapiro(df['mpg'])\n",
    "print(round(statistic,4), round(pvalue,4))\n",
    "\n",
    "result = stats.shapiro(df['mpg'])\n",
    "print(result)"
   ]
  },
  {
   "cell_type": "code",
   "execution_count": 10,
   "id": "f052637e",
   "metadata": {},
   "outputs": [],
   "source": [
    "# p_value값이 0.1229보다 크므로, 귀무가설을 채택, 정규분포를 따른다."
   ]
  },
  {
   "cell_type": "code",
   "execution_count": 11,
   "id": "53e176c3",
   "metadata": {},
   "outputs": [
    {
     "name": "stdout",
     "output_type": "stream",
     "text": [
      "0.0851 0.9328\n"
     ]
    }
   ],
   "source": [
    "# 4.1 (정규성만족 0) t_검정 실시\n",
    "statistic, pvalue = stats.ttest_1samp(df['mpg'], popmean=20, alternative='two-sided')\n",
    "print(round(statistic,4), round(pvalue,4))\n",
    "\n",
    "# alternative (대립가설 H1) 옵션 : 'two-sided', 'greater', 'less'"
   ]
  },
  {
   "cell_type": "code",
   "execution_count": 12,
   "id": "32820b32",
   "metadata": {},
   "outputs": [
    {
     "name": "stdout",
     "output_type": "stream",
     "text": [
      "249.0 0.7891\n"
     ]
    }
   ],
   "source": [
    "# 4.2 (정규성 만족 X) wilcoxon 부호순위 검정\n",
    "statistic, pvalue = stats.wilcoxon(df['mpg']-20, alternative='two-sided')\n",
    "print(round(statistic,4), round(pvalue,4))"
   ]
  },
  {
   "cell_type": "code",
   "execution_count": 13,
   "id": "45d741e0",
   "metadata": {},
   "outputs": [],
   "source": [
    "# 5. 귀무가섷 기각여부 결정(채택/기각)\n",
    "# p-value 값이 0.05봐 크기때문에 귀무가설을 채택 0.9328\n",
    "# 즉, mpg 열의 평균이 20과 같다고 할 수 있다.\n",
    "\n",
    "# 답 : 채택"
   ]
  },
  {
   "cell_type": "code",
   "execution_count": 14,
   "id": "6e636306",
   "metadata": {},
   "outputs": [
    {
     "data": {
      "text/plain": [
       "20.090624999999996"
      ]
     },
     "execution_count": 14,
     "metadata": {},
     "output_type": "execute_result"
    }
   ],
   "source": [
    "# 실제로 평균을 구해보면\n",
    "df['mpg'].mean()"
   ]
  },
  {
   "cell_type": "code",
   "execution_count": 15,
   "id": "efa3d572",
   "metadata": {},
   "outputs": [],
   "source": [
    "# 2. mtcars 데이터셋의 mpg열 데이터의 평균이 17보다 크다고 할 수 있는지 검정하시오.(유의수준 5%)"
   ]
  },
  {
   "cell_type": "code",
   "execution_count": 16,
   "id": "8db6ede7",
   "metadata": {},
   "outputs": [],
   "source": [
    "# 1. 가설검정\n",
    "# H0 : MPG 열의 평균이 17보다 작거나 같다.(mpg mean <= 17)\n",
    "# H1 : MPG 열의 평균이 17보다 크다.(mpg mean > 17)"
   ]
  },
  {
   "cell_type": "code",
   "execution_count": 17,
   "id": "8b506110",
   "metadata": {},
   "outputs": [],
   "source": [
    "# 2. 유의수준 확인 : 유의수준 5%로 확인"
   ]
  },
  {
   "cell_type": "code",
   "execution_count": 18,
   "id": "63d75f6e",
   "metadata": {},
   "outputs": [
    {
     "name": "stdout",
     "output_type": "stream",
     "text": [
      "0.9476 0.1229\n"
     ]
    }
   ],
   "source": [
    "# 3.정규성 검정\n",
    "# H0(귀무가설):정규분포를 따른다.\n",
    "# H1(대립가설):정규분포를 따르지 않는다\n",
    "\n",
    "statistic, pvalue = stats.shapiro(df['mpg'])\n",
    "print(round(statistic,4), round(pvalue,4))"
   ]
  },
  {
   "cell_type": "code",
   "execution_count": 20,
   "id": "4db28790",
   "metadata": {},
   "outputs": [
    {
     "name": "stdout",
     "output_type": "stream",
     "text": [
      "2.9008 0.0034\n"
     ]
    }
   ],
   "source": [
    "# 4.1 (정규성만족 0) t_검정 실시\n",
    "statistic, pvalue = stats.ttest_1samp(df['mpg'], popmean=17, alternative='greater')\n",
    "print(round(statistic,4), round(pvalue,4))\n",
    "\n",
    "# alternative (대립가설 H1) 옵션 : 'two-sided', 'greater', 'less'"
   ]
  },
  {
   "cell_type": "code",
   "execution_count": 21,
   "id": "abc7f2e3",
   "metadata": {},
   "outputs": [
    {
     "name": "stdout",
     "output_type": "stream",
     "text": [
      "395.5 0.0066\n"
     ]
    }
   ],
   "source": [
    "# 4.2 (정규성 만족 X) wilcoxon 부호순위 검정\n",
    "statistic, pvalue = stats.wilcoxon(df['mpg']-17, alternative='greater')\n",
    "print(round(statistic,4), round(pvalue,4))"
   ]
  },
  {
   "cell_type": "code",
   "execution_count": 22,
   "id": "5c0eefd6",
   "metadata": {},
   "outputs": [],
   "source": [
    "# 5. 귀무가섷 기각여부 결정(채택/기각)\n",
    "# p-value 값이 0.05보다 작기때문에 귀무가설을 기각 0.0034\n",
    "# 즉, mpg 열의 평균이 17보다 크다고 할 수 있다.\n",
    "\n",
    "# 답 : 기각"
   ]
  },
  {
   "cell_type": "code",
   "execution_count": 23,
   "id": "b721bb9d",
   "metadata": {},
   "outputs": [
    {
     "name": "stdout",
     "output_type": "stream",
     "text": [
      "0.9476 0.1229\n"
     ]
    }
   ],
   "source": [
    "# 3 mtcars 데이터셋의 mpg열 데이터의 평균이 17보다 작다고 할 수 있는지 검정하시오.(유의수준 5%)\n",
    "\n",
    "# 1. 가설검정\n",
    "# H0 : MPG 열의 평균이 17보다 크거나 같다.(mpg mean >= 17)\n",
    "# H1 : MPG 열의 평균이 17보다 작다.(mpg mean < 17)\n",
    "\n",
    "# 2. 유의수준 확인 : 유의수준 5%로 확인\n",
    "\n",
    "# 3.정규성 검정\n",
    "# H0(귀무가설):정규분포를 따른다.\n",
    "# H1(대립가설):정규분포를 따르지 않는다\n",
    "\n",
    "statistic, pvalue = stats.shapiro(df['mpg'])\n",
    "print(round(statistic,4), round(pvalue,4))"
   ]
  },
  {
   "cell_type": "code",
   "execution_count": 24,
   "id": "eed0365c",
   "metadata": {},
   "outputs": [
    {
     "name": "stdout",
     "output_type": "stream",
     "text": [
      "2.9008 0.9966\n"
     ]
    }
   ],
   "source": [
    "# 4.1 (정규성만족 0) t_검정 실시\n",
    "statistic, pvalue = stats.ttest_1samp(df['mpg'], popmean=17, alternative='less')\n",
    "print(round(statistic,4), round(pvalue,4))\n",
    "\n",
    "# alternative (대립가설 H1) 옵션 : 'two-sided', 'greater', 'less'"
   ]
  },
  {
   "cell_type": "code",
   "execution_count": 25,
   "id": "0f0cf9d7",
   "metadata": {},
   "outputs": [
    {
     "name": "stdout",
     "output_type": "stream",
     "text": [
      "395.5 0.9938\n"
     ]
    }
   ],
   "source": [
    "# 4.2 (정규성 만족 X) wilcoxon 부호순위 검정\n",
    "statistic, pvalue = stats.wilcoxon(df['mpg']-17, alternative='less')\n",
    "print(round(statistic,4), round(pvalue,4))"
   ]
  },
  {
   "cell_type": "code",
   "execution_count": 26,
   "id": "40fad641",
   "metadata": {},
   "outputs": [],
   "source": [
    "# 5. 귀무가섷 기각여부 결정(채택/기각)\n",
    "# p-value 값이 0.05보다 크기때문에 귀무가설을 채택 0.9936\n",
    "# 즉, mpg 열의 평균이 17보다 크거나 같다고 할 수 있다.\n",
    "\n",
    "# 답 : 채택"
   ]
  },
  {
   "cell_type": "markdown",
   "id": "d955f474",
   "metadata": {},
   "source": [
    "- 모집단 2개\n",
    "- 검정방법\n",
    "- 1.대응표본(쌍체):동일한 객체의 전 vs 후 평균비교\n",
    "- 정규성을 만족할 시 대응표본(쌍체)t검정(paired t-test) : 동일한 객체의 전 vs 후 평균비교\n",
    "- 정규성을 만족하지 않을 시 윌콕슨 부호순위 검정(wilcoxon)\n",
    "\n",
    "- 2.독립표본:A집단의평균 vs B집단의 평균\n",
    "- 정규성을 만족할 시 독립표본 t검정(2sample t_test)\n",
    "- 정규성을 만족하지 않을 시 윌콕슨 순위합 검정(ranksums)"
   ]
  },
  {
   "cell_type": "markdown",
   "id": "91597a18",
   "metadata": {},
   "source": [
    "- 가설검정 순서\n",
    "\n",
    "- 1) 대응표본(쌍체)t검정(paired t_test)\n",
    "- 1. 가설검정\n",
    "- 2. 유의수준 확인\n",
    "- 3. 정규성 검정 -> (주의) 차이값에 대한 정규성\n",
    "- 4. 검정실시(통계량, p-value확인)\n",
    "- 5. 귀무가설 기각여부 결정(채택/기각)\n",
    "\n",
    "- 2) 독립표본 t검정(2-sample t_test)\n",
    "- 1. 가설검정\n",
    "- 2. 유의수준 확인\n",
    "- 3. 정규성 검정 -> (주의) 두 집단 모두 정규성을 따를 경우\n",
    "- 4. 등분산검정 \n",
    "- 5. 검정실시(통계량, p-value확인) -> (주의) 등분산여부 확인\n",
    "- 6. 귀무가설 기각여부 결정(채택/기각)"
   ]
  },
  {
   "cell_type": "code",
   "execution_count": 27,
   "id": "7674080d",
   "metadata": {},
   "outputs": [],
   "source": [
    "# 예제문제\n",
    "# case1 대응표본(쌍체)t검정(paired t_test)\n",
    "# 문제1-1 다음은 혈압약을 먹은 전, 후의 혈압 데이터이다.\n",
    "# 혈압약을 먹기전, 후의 차이가 있는지 쌍체 t검정을 실시하시오.\n",
    "# (유의수준 5%)\n",
    "# before:혈압약을 먹기전 혈압,after:혈압약을 먹은 후의 혈압\n",
    "# H0(귀무가설):after-before=0\n",
    "# H0(대립가설):after-before는0이 아니다"
   ]
  },
  {
   "cell_type": "code",
   "execution_count": 28,
   "id": "27b3516a",
   "metadata": {},
   "outputs": [],
   "source": [
    "import pandas as pd\n",
    "import numpy as np\n",
    "import scipy.stats as stats\n",
    "from scipy.stats import shapiro"
   ]
  },
  {
   "cell_type": "code",
   "execution_count": 29,
   "id": "c1dc6f7b",
   "metadata": {},
   "outputs": [
    {
     "name": "stdout",
     "output_type": "stream",
     "text": [
      "   before  after\n",
      "0     120    110\n",
      "1     135    132\n",
      "2     122    123\n"
     ]
    }
   ],
   "source": [
    "# 데이터 만들기\n",
    "df = pd.DataFrame({\n",
    "    'before':[120,135,122,124,135,122,145,160,155,142,144,135,167],\n",
    "    'after':[110,132,123,119,123,115,140,162,142,138,135,142,160]\n",
    "})\n",
    "\n",
    "print(df.head(3))"
   ]
  },
  {
   "cell_type": "code",
   "execution_count": 30,
   "id": "9ce4014f",
   "metadata": {},
   "outputs": [],
   "source": [
    "# 1. 가설설정\n",
    "# H0 : 약을 먹기전과 먹은 후의 혈압평균은 같다(효과가 없다)\n",
    "# H1 : 약을 먹기전과 먹은 후의 혈압평균은 같지 않다(효과가 있다)"
   ]
  },
  {
   "cell_type": "code",
   "execution_count": 31,
   "id": "83d0f5c0",
   "metadata": {},
   "outputs": [],
   "source": [
    "# 2. 유의수준 확인 : 유의수준 5%로 확인"
   ]
  },
  {
   "cell_type": "code",
   "execution_count": 33,
   "id": "05a239f4",
   "metadata": {},
   "outputs": [
    {
     "name": "stdout",
     "output_type": "stream",
     "text": [
      "0.9589 0.7363\n"
     ]
    }
   ],
   "source": [
    "# 3. 정규성 검정 (차이값에 대한 정규성 검정)\n",
    "statistic, pvalue = stats.shapiro(df['after']-df['before'])\n",
    "print(round(statistic, 4), round(pvalue,4))"
   ]
  },
  {
   "cell_type": "code",
   "execution_count": 34,
   "id": "67e7a302",
   "metadata": {},
   "outputs": [],
   "source": [
    "# pvalue값이 0.05보다 크므로 정규분포를 따른다는 귀무가설을 채택"
   ]
  },
  {
   "cell_type": "code",
   "execution_count": 35,
   "id": "619f4ae2",
   "metadata": {},
   "outputs": [
    {
     "name": "stdout",
     "output_type": "stream",
     "text": [
      "-3.1382 0.0086\n"
     ]
    }
   ],
   "source": [
    "# 4.1 정규성이 있는 경우 대응표본 쌍체 t검정(paired t-test)\n",
    "statistic, pvalue = stats.ttest_rel(df['after'],df['before'],alternative='two-sided')\n",
    "print(round(statistic,4), round(pvalue,4))"
   ]
  },
  {
   "cell_type": "code",
   "execution_count": 36,
   "id": "49a424ad",
   "metadata": {},
   "outputs": [],
   "source": [
    "# pvalue값이 0.05보다 작으므로 귀무가설을 기각하므로, 효과가 있다"
   ]
  },
  {
   "cell_type": "code",
   "execution_count": 38,
   "id": "1eb8eb04",
   "metadata": {},
   "outputs": [
    {
     "name": "stdout",
     "output_type": "stream",
     "text": [
      "11.0 0.0134\n"
     ]
    }
   ],
   "source": [
    "# 4.1 정규성이 없는 경우 wilcoxon 부호순위 검정\n",
    "statistic, pvalue = stats.wilcoxon(df['after']-df['before'],alternative='two-sided')\n",
    "print(round(statistic,4), round(pvalue,4))"
   ]
  },
  {
   "cell_type": "code",
   "execution_count": 39,
   "id": "b9733e18",
   "metadata": {},
   "outputs": [],
   "source": [
    "# pvalue값이 0.05보다 작으므로 귀무가설을 기각하므로, 효과가 있다"
   ]
  },
  {
   "cell_type": "code",
   "execution_count": 40,
   "id": "57c6f931",
   "metadata": {},
   "outputs": [],
   "source": [
    "# 5. 귀무가섷 기각여부 결정(채택/기각)\n",
    "# p-value 값이 0.05보다 작기때문에 귀무가설을 기각 0.0086\n",
    "# 즉, 약을 먹기전과 먹은 후의 혈압 평균은 같지 않다(효과가 있다)\n",
    "\n",
    "# 답 : 기각"
   ]
  },
  {
   "cell_type": "code",
   "execution_count": 41,
   "id": "0f08e213",
   "metadata": {},
   "outputs": [],
   "source": [
    "# 문제1-2 다음은 혈압약을 먹은 전, 후의 혈압 데이터이다.\n",
    "# 혈압약을 먹은후 혈압이 감소했는지 확인하기 위해 쌍체 t검정을 실시하시오.\n",
    "# (유의수준 5%)\n",
    "# before:혈압약을 먹기전 혈압,after:혈압약을 먹은 후의 혈압\n",
    "# H0(귀무가설):after-before>=0\n",
    "# H0(대립가설):after-before<0"
   ]
  },
  {
   "cell_type": "code",
   "execution_count": 42,
   "id": "558156d7",
   "metadata": {},
   "outputs": [
    {
     "name": "stdout",
     "output_type": "stream",
     "text": [
      "   before  after\n",
      "0     120    110\n",
      "1     135    132\n",
      "2     122    123\n"
     ]
    }
   ],
   "source": [
    "# 데이터 만들기\n",
    "df = pd.DataFrame({\n",
    "    'before':[120,135,122,124,135,122,145,160,155,142,144,135,167],\n",
    "    'after':[110,132,123,119,123,115,140,162,142,138,135,142,160]\n",
    "})\n",
    "\n",
    "print(df.head(3))"
   ]
  },
  {
   "cell_type": "code",
   "execution_count": 43,
   "id": "82144580",
   "metadata": {},
   "outputs": [],
   "source": [
    "# 1. 가설설정\n",
    "# H0 : 약을 먹은 후 혈압이 같거나 증가했다 after - before >= 0\n",
    "# H1 : 약을 먹은 후 형압이 감소했다        after - before < 0"
   ]
  },
  {
   "cell_type": "code",
   "execution_count": 44,
   "id": "4ec1065a",
   "metadata": {},
   "outputs": [],
   "source": [
    "# 2. 유의수준 확인 : 유의수준 5%로 확인"
   ]
  },
  {
   "cell_type": "code",
   "execution_count": 45,
   "id": "46c7e5d8",
   "metadata": {},
   "outputs": [
    {
     "name": "stdout",
     "output_type": "stream",
     "text": [
      "0.9589 0.7363\n"
     ]
    }
   ],
   "source": [
    "# 3. 정규성 검정 (차이값에 대한 정규성 검정)\n",
    "statistic, pvalue = stats.shapiro(df['after']-df['before'])\n",
    "print(round(statistic, 4), round(pvalue,4))"
   ]
  },
  {
   "cell_type": "code",
   "execution_count": 46,
   "id": "34fe737c",
   "metadata": {},
   "outputs": [],
   "source": [
    "# pvalue값이 0.05보다 크므로 정규분포를 따른다는 귀무가설을 채택"
   ]
  },
  {
   "cell_type": "code",
   "execution_count": 47,
   "id": "e6e3ca6d",
   "metadata": {},
   "outputs": [
    {
     "name": "stdout",
     "output_type": "stream",
     "text": [
      "-3.1382 0.0043\n"
     ]
    }
   ],
   "source": [
    "# 4.1 정규성이 있는 경우 대응표본 쌍체 t검정(paired t-test)\n",
    "statistic, pvalue = stats.ttest_rel(df['after'],df['before'],alternative='less')\n",
    "print(round(statistic,4), round(pvalue,4))"
   ]
  },
  {
   "cell_type": "code",
   "execution_count": 48,
   "id": "2ae83bce",
   "metadata": {},
   "outputs": [],
   "source": [
    "# pvalue가 0.05보다 작으므로 귀무가설을 기각하므로, 약을 먹은 후 혈압이 감소했다"
   ]
  },
  {
   "cell_type": "code",
   "execution_count": 49,
   "id": "5cb1b779",
   "metadata": {},
   "outputs": [
    {
     "name": "stdout",
     "output_type": "stream",
     "text": [
      "11.0 0.0067\n"
     ]
    }
   ],
   "source": [
    "# 4.2 정규성이 없는 경우 wilcoxon 부호순위 검정\n",
    "statistic, pvalue = stats.wilcoxon(df['after']-df['before'],alternative='less')\n",
    "print(round(statistic,4), round(pvalue,4))"
   ]
  },
  {
   "cell_type": "code",
   "execution_count": 50,
   "id": "10bb07bc",
   "metadata": {},
   "outputs": [],
   "source": [
    "# pvalue가 0.05보다 작으므로 귀무가설을 기각하므로, 약을 먹은 후 혈압이 감소했다"
   ]
  },
  {
   "cell_type": "code",
   "execution_count": 51,
   "id": "dd75ddf6",
   "metadata": {},
   "outputs": [],
   "source": [
    "# 5. 귀무가섷 기각여부 결정(채택/기각)\n",
    "# p-value 값이 0.05보다 작기때문에 귀무가설을 기각 0.0043\n",
    "# 즉, 약을 먹은 후 혈압이 감소했다고 할 수 있다\n",
    "\n",
    "# 답 : 기각"
   ]
  },
  {
   "cell_type": "code",
   "execution_count": 52,
   "id": "fec59bb2",
   "metadata": {},
   "outputs": [],
   "source": [
    "# case2) 독립표본 t검정(2sample t-test)\n",
    "# 문제2-1\n",
    "# 다음은 A그룹과 B그룹의 인원의 혈압데이터이다.\n",
    "# 두 그룹의 혈압평균이 다르다고 할 수 있는지 독립표본 t검정을 실시하시오. (유의수준5%)\n",
    "# A:A그룹 인원의 혈압, B:B그룹의 인원의 혈압\n",
    "# H0(귀무가설):A=B\n",
    "# H1(대립가설):A와B가 같지 않다."
   ]
  },
  {
   "cell_type": "code",
   "execution_count": 53,
   "id": "d85160b4",
   "metadata": {},
   "outputs": [
    {
     "name": "stdout",
     "output_type": "stream",
     "text": [
      "     A    B\n",
      "0  120  110\n",
      "1  135  132\n",
      "2  122  123\n"
     ]
    }
   ],
   "source": [
    "# 데이터 만들기\n",
    "df = pd.DataFrame({\n",
    "    'A':[120,135,122,124,135,122,145,160,155,142,144,135,167],\n",
    "    'B':[110,132,123,119,123,115,140,162,142,138,135,142,160]\n",
    "})\n",
    "\n",
    "print(df.head(3))"
   ]
  },
  {
   "cell_type": "code",
   "execution_count": 54,
   "id": "9c4d86b5",
   "metadata": {},
   "outputs": [
    {
     "name": "stdout",
     "output_type": "stream",
     "text": [
      "0.9314 0.3559\n",
      "0.9498 0.5956\n"
     ]
    }
   ],
   "source": [
    "# 1. 가설설정\n",
    "# H0 : A그룹과 B그룹의 혈압 평균은 같다.\n",
    "# H1 : A그룹과 B그룹의 혈압 평균은 같지 않다.\n",
    "\n",
    "# 2. 유의수준 확인 : 유의수준 5%로 확인\n",
    "\n",
    "# 3. 정규성 검정\n",
    "# H0(귀무가설) : 정규분포를 따른다\n",
    "# H1(대립가설) : 정규분포를 따르지 않는다.\n",
    "\n",
    "statisticA, pvalueA = stats.shapiro(df['A'])\n",
    "statisticB, pvalueB = stats.shapiro(df['B'])\n",
    "print(round(statisticA,4), round(pvalueA,4))\n",
    "print(round(statisticB,4), round(pvalueB,4))"
   ]
  },
  {
   "cell_type": "code",
   "execution_count": 55,
   "id": "36235ae4",
   "metadata": {},
   "outputs": [],
   "source": [
    "# A그룹과 B그룹 모두 귀무가설을 채택하므로 정규분포를 따른다"
   ]
  },
  {
   "cell_type": "code",
   "execution_count": 57,
   "id": "fde4d96c",
   "metadata": {},
   "outputs": [
    {
     "name": "stdout",
     "output_type": "stream",
     "text": [
      "0.0279 0.8673\n"
     ]
    }
   ],
   "source": [
    "# 4. 등분산성 검정\n",
    "# H0(귀무가설) : 등분산 한다\n",
    "# H1(대립가설) : 등분산 하지 않는다\n",
    "\n",
    "statistic, pvalue = stats.bartlett(df['A'], df['B'])\n",
    "print(round(statistic,4), round(pvalue,4))"
   ]
  },
  {
   "cell_type": "code",
   "execution_count": 58,
   "id": "c11eda89",
   "metadata": {},
   "outputs": [],
   "source": [
    "# 귀무가설을 채택하므로 등분산을 따른다"
   ]
  },
  {
   "cell_type": "code",
   "execution_count": 60,
   "id": "cffa7209",
   "metadata": {},
   "outputs": [
    {
     "name": "stdout",
     "output_type": "stream",
     "text": [
      "0.8192 0.4207\n"
     ]
    }
   ],
   "source": [
    "# 5.1 (정규성만족, 등분산성 만족하거나 아니거나) t검정\n",
    "statistic, pvalue = stats.ttest_ind(df['A'], df['B'],\n",
    "                                   equal_var=True,\n",
    "                                   alternative='two-sided')\n",
    "# 만약 등분산 하지 않으면 False\n",
    "\n",
    "print(round(statistic, 4), round(pvalue, 4))"
   ]
  },
  {
   "cell_type": "code",
   "execution_count": 61,
   "id": "6f2c9844",
   "metadata": {},
   "outputs": [
    {
     "name": "stdout",
     "output_type": "stream",
     "text": [
      "0.8462 0.3975\n"
     ]
    }
   ],
   "source": [
    "# 5.2 (정규성만족 안하는 경우) 윌콕슨의 순위합 검정\n",
    "statistic, pvalue = stats.ranksums(df['A'], df['B'],\n",
    "                                   alternative='two-sided')\n",
    "print(round(statistic, 4), round(pvalue, 4))"
   ]
  },
  {
   "cell_type": "code",
   "execution_count": 62,
   "id": "28275c2a",
   "metadata": {},
   "outputs": [],
   "source": [
    "# 6. 귀무가설 기각여부 결정(채택/기각)\n",
    "# p-value가 0.05보다 크기 때문에 귀무가설을 채택\n",
    "# A그룹과 B그룹의 혈압 평균은 같다.\n",
    "\n",
    "# 채택"
   ]
  },
  {
   "cell_type": "code",
   "execution_count": 63,
   "id": "e162fb36",
   "metadata": {},
   "outputs": [
    {
     "name": "stdout",
     "output_type": "stream",
     "text": [
      "138.9231\n",
      "133.9231\n"
     ]
    }
   ],
   "source": [
    "# (참고) 평균데이터 확인\n",
    "print(round(df['A'].mean(),4))\n",
    "print(round(df['B'].mean(),4))"
   ]
  },
  {
   "cell_type": "code",
   "execution_count": 64,
   "id": "a8502eea",
   "metadata": {},
   "outputs": [],
   "source": [
    "# 문제2-2\n",
    "# 다음은 A그룹과 B그룹의 인원의 혈압데이터이다.\n",
    "# A그룹의 혈압평균이 B그룹보다 크다고 할 수 있는지 독립표본 t검정을 실시하시오. (유의수준5%)\n",
    "# A:A그룹 인원의 혈압, B:B그룹의 인원의 혈압\n",
    "# H0(귀무가설):A-B<=0\n",
    "# H1(대립가설):A-B>0"
   ]
  },
  {
   "cell_type": "code",
   "execution_count": 65,
   "id": "fff91448",
   "metadata": {},
   "outputs": [
    {
     "name": "stdout",
     "output_type": "stream",
     "text": [
      "     A    B\n",
      "0  120  110\n",
      "1  135  132\n",
      "2  122  123\n"
     ]
    }
   ],
   "source": [
    "# 데이터 만들기\n",
    "df = pd.DataFrame({\n",
    "    'A':[120,135,122,124,135,122,145,160,155,142,144,135,167],\n",
    "    'B':[110,132,123,119,123,115,140,162,142,138,135,142,160]\n",
    "})\n",
    "\n",
    "print(df.head(3))"
   ]
  },
  {
   "cell_type": "code",
   "execution_count": 66,
   "id": "a36737e7",
   "metadata": {},
   "outputs": [
    {
     "name": "stdout",
     "output_type": "stream",
     "text": [
      "0.9314 0.3559\n",
      "0.9498 0.5956\n"
     ]
    }
   ],
   "source": [
    "# 1. 가설설정\n",
    "# H0 : A그룹의 혈압평균이 B그룹보다 작거나 같다.\n",
    "# H1 : A그룹의 혈압평균이 B그룹보다 크다.\n",
    "\n",
    "# 2. 유의수준 확인 : 유의수준 5%로 확인\n",
    "\n",
    "# 3. 정규성 검정\n",
    "# H0(귀무가설) : 정규분포를 따른다\n",
    "# H1(대립가설) : 정규분포를 따르지 않는다.\n",
    "\n",
    "statisticA, pvalueA = stats.shapiro(df['A'])\n",
    "statisticB, pvalueB = stats.shapiro(df['B'])\n",
    "print(round(statisticA,4), round(pvalueA,4))\n",
    "print(round(statisticB,4), round(pvalueB,4))"
   ]
  },
  {
   "cell_type": "code",
   "execution_count": 67,
   "id": "fc5343b9",
   "metadata": {},
   "outputs": [],
   "source": [
    "# p-value가 0.05보다 크므로 귀무가설을 채택 정규분포를 따른다"
   ]
  },
  {
   "cell_type": "code",
   "execution_count": 68,
   "id": "8d7602db",
   "metadata": {},
   "outputs": [
    {
     "name": "stdout",
     "output_type": "stream",
     "text": [
      "0.0279 0.8673\n"
     ]
    }
   ],
   "source": [
    "# 4. 등분산성 검정\n",
    "# H0(귀무가설) : 등분산 한다\n",
    "# H1(대립가설) : 등분산 하지 않는다\n",
    "\n",
    "statistic, pvalue = stats.bartlett(df['A'], df['B'])\n",
    "print(round(statistic,4), round(pvalue,4))"
   ]
  },
  {
   "cell_type": "code",
   "execution_count": 69,
   "id": "c5617560",
   "metadata": {},
   "outputs": [],
   "source": [
    "# p-value가 0.05보다 크므로 귀무가설을 채택, 등분산한다"
   ]
  },
  {
   "cell_type": "code",
   "execution_count": 70,
   "id": "e426c5a0",
   "metadata": {},
   "outputs": [
    {
     "name": "stdout",
     "output_type": "stream",
     "text": [
      "0.8192 0.2104\n"
     ]
    }
   ],
   "source": [
    "# 5.1 (정규성만족, 등분산성 만족하거나 아니거나) t검정\n",
    "statistic, pvalue = stats.ttest_ind(df['A'], df['B'],\n",
    "                                   equal_var=True,\n",
    "                                   alternative='greater')\n",
    "# 만약 등분산 하지 않으면 False\n",
    "\n",
    "print(round(statistic, 4), round(pvalue, 4))"
   ]
  },
  {
   "cell_type": "code",
   "execution_count": 71,
   "id": "bd67e472",
   "metadata": {},
   "outputs": [
    {
     "name": "stdout",
     "output_type": "stream",
     "text": [
      "0.8462 0.1987\n"
     ]
    }
   ],
   "source": [
    "# 5.2 (정규성만족 안하는 경우) 윌콕슨의 순위합 검정\n",
    "statistic, pvalue = stats.ranksums(df['A'], df['B'],\n",
    "                                   alternative='greater')\n",
    "print(round(statistic, 4), round(pvalue, 4))"
   ]
  },
  {
   "cell_type": "code",
   "execution_count": 72,
   "id": "4de721b8",
   "metadata": {},
   "outputs": [],
   "source": [
    "# 6. 귀무가설 기각여부 결정(채택/기각)\n",
    "# p-value가 0.05보다 크기 때문에 귀무가설을 채택\n",
    "# A그룹의 혈압평균이 B그룹보다 작거나 같다.\n",
    "\n",
    "# 채택"
   ]
  },
  {
   "cell_type": "markdown",
   "id": "ffd0b54f",
   "metadata": {},
   "source": [
    "- 모집단 3개 이상\n",
    "- 검정방법\n",
    "- 1. 분산분석\n",
    "- 정규성을 만족하는 경우 ANOVA분석\n",
    "- 정규성을 만족하지 않는 경우 크루스칼 왈리스 검정"
   ]
  },
  {
   "cell_type": "markdown",
   "id": "190ff0fd",
   "metadata": {},
   "source": [
    "- 1. 가설검정\n",
    "- 2. 유의수준 확인\n",
    "- 3. 정규성 검정 -> (주의) 집단 모두 정규성을 따를경우\n",
    "- 4. 등분산검정 \n",
    "- 5. 검정실시(통계량, p-value확인) -> (주의) 등분산여부 확인\n",
    "- 6. 귀무가설 기각여부 결정(채택/기각)"
   ]
  },
  {
   "cell_type": "code",
   "execution_count": 73,
   "id": "f0874b14",
   "metadata": {},
   "outputs": [],
   "source": [
    "# 예제문제\n",
    "# 문제 1-1\n",
    "# 다음은 A,B,C 그룹 인원 성적 데이터이다.\n",
    "# 세 그룹의 성적 평균이 같다고 할 수 있는지  ANOVA 분석을 실시하시오. 유의수준5%\n",
    "# A,B,C : 각 그룹 인원의 성적\n",
    "# 귀무가설 : A=B=C(각 평균)\n",
    "# 대립가설 : NOT H0(적어도 하나는 같지 않다.)"
   ]
  },
  {
   "cell_type": "code",
   "execution_count": 74,
   "id": "dac0bbb8",
   "metadata": {},
   "outputs": [],
   "source": [
    "import pandas as pd\n",
    "import numpy as np\n",
    "import scipy.stats as stats\n",
    "from scipy.stats import shapiro"
   ]
  },
  {
   "cell_type": "code",
   "execution_count": 75,
   "id": "07bff098",
   "metadata": {},
   "outputs": [
    {
     "name": "stdout",
     "output_type": "stream",
     "text": [
      "     A    B    C\n",
      "0  120  110  130\n",
      "1  135  132  120\n",
      "2  122  123  115\n"
     ]
    }
   ],
   "source": [
    "# 데이터 만들기\n",
    "df = pd.DataFrame({\n",
    "    'A':[120,135,122,124,135,122,145,160,155,142,144,135,167],\n",
    "    'B':[110,132,123,119,123,115,140,162,142,138,135,142,160],\n",
    "    'C':[130,120,115,122,133,144,122,120,110,134,125,122,122]\n",
    "})\n",
    "\n",
    "print(df.head(3))"
   ]
  },
  {
   "cell_type": "code",
   "execution_count": 76,
   "id": "645c15eb",
   "metadata": {},
   "outputs": [],
   "source": [
    "# 1. 가설검정\n",
    "# 귀무가설 : 세 그룹 성적의 평균값이 같다.\n",
    "# 대립가설 : 세 그룹의 성적 평균값이 적어도 하나는 같지 않다."
   ]
  },
  {
   "cell_type": "code",
   "execution_count": 77,
   "id": "80c7d6d8",
   "metadata": {},
   "outputs": [],
   "source": [
    "# 2. 유의수준 확인 : 유의수준 5%로 확인"
   ]
  },
  {
   "cell_type": "code",
   "execution_count": 78,
   "id": "2b4a5217",
   "metadata": {},
   "outputs": [
    {
     "name": "stdout",
     "output_type": "stream",
     "text": [
      "ShapiroResult(statistic=0.9314376711845398, pvalue=0.35585272312164307)\n",
      "ShapiroResult(statistic=0.9498201012611389, pvalue=0.5955665707588196)\n",
      "ShapiroResult(statistic=0.9396706223487854, pvalue=0.45265132188796997)\n"
     ]
    }
   ],
   "source": [
    "# 3. 정규성 검정\n",
    "print(stats.shapiro(df['A']))\n",
    "print(stats.shapiro(df['B']))\n",
    "print(stats.shapiro(df['C']))\n",
    "\n",
    "# statistic, pvalue = stats.shapiro(df['A'])\n",
    "# print(round(statistic,4), round(pvalue, 4))"
   ]
  },
  {
   "cell_type": "code",
   "execution_count": 80,
   "id": "57ef0ee3",
   "metadata": {},
   "outputs": [],
   "source": [
    "# pvalue가 0.05보다 크므로 귀무가설 기각 정규분포를 따른다"
   ]
  },
  {
   "cell_type": "code",
   "execution_count": 81,
   "id": "f29272cd",
   "metadata": {},
   "outputs": [
    {
     "name": "stdout",
     "output_type": "stream",
     "text": [
      "BartlettResult(statistic=4.222248448848066, pvalue=0.12110174433684852)\n"
     ]
    }
   ],
   "source": [
    "# 4. 등분산성 검정\n",
    "# 귀무가설 : 등분산 한다\n",
    "# 대립가설 : 등분산 하지 않다\n",
    "print(stats.bartlett(df['A'],df['B'],df['C']))"
   ]
  },
  {
   "cell_type": "code",
   "execution_count": 82,
   "id": "f8d4f9c2",
   "metadata": {},
   "outputs": [],
   "source": [
    "# 귀무가설을 채택하므로 등분산한다"
   ]
  },
  {
   "cell_type": "code",
   "execution_count": 83,
   "id": "690359c0",
   "metadata": {},
   "outputs": [
    {
     "name": "stdout",
     "output_type": "stream",
     "text": [
      "3.6971 0.0346\n"
     ]
    }
   ],
   "source": [
    "# 5.1 정규성만족 등분산성만족 분산분석\n",
    "import scipy.stats as stats\n",
    "statistic, pvalue = stats.f_oneway(df['A'], df['B'], df['C'])\n",
    "\n",
    "print(round(statistic,4),  round(pvalue,4))"
   ]
  },
  {
   "cell_type": "code",
   "execution_count": 84,
   "id": "f4f59ee2",
   "metadata": {},
   "outputs": [
    {
     "name": "stdout",
     "output_type": "stream",
     "text": [
      "6.897 0.0318\n"
     ]
    }
   ],
   "source": [
    "# 5.3 정규성, 등분산성 모두 불만족 크루스칼 왈리스 검정\n",
    "import scipy.stats as stats\n",
    "statistic, pvalue = stats.kruskal(df['A'], df['B'], df['C'])\n",
    "\n",
    "print(round(statistic,4),  round(pvalue,4))"
   ]
  },
  {
   "cell_type": "code",
   "execution_count": 85,
   "id": "4d556eb6",
   "metadata": {},
   "outputs": [],
   "source": [
    "# 6. 귀무가설 기각여부 결정(채택/기각)\n",
    "# p-value값이 0.05보다 작기 때문에 귀무가설을 기각\n",
    "# 적어도 하나는 다르다\n",
    "\n",
    "# 기각"
   ]
  },
  {
   "cell_type": "code",
   "execution_count": 86,
   "id": "9b12c8c0",
   "metadata": {},
   "outputs": [
    {
     "name": "stdout",
     "output_type": "stream",
     "text": [
      "  항목  value\n",
      "0  A    120\n",
      "1  A    135\n",
      "2  A    122\n"
     ]
    }
   ],
   "source": [
    "# 문제1-2 데이터 형태가 다를 경우\n",
    "df2 = pd.DataFrame({\n",
    "    '항목':['A','A','A','A','A','A','A','A','A','A','A','A','A',\n",
    "         'B','B','B','B','B','B','B','B','B','B','B','B','B',\n",
    "         'C','C','C','C','C','C','C','C','C','C','C','C','C'],\n",
    "    'value':[120,135,122,124,135,122,145,160,155,142,144,135,167,\n",
    "            110,132,123,119,123,115,140,162,142,138,135,142,160,\n",
    "            130,120,115,122,133,144,122,120,110,134,125,122,122]\n",
    "})\n",
    "print(df2.head(3))"
   ]
  },
  {
   "cell_type": "code",
   "execution_count": 87,
   "id": "2a2af5d3",
   "metadata": {},
   "outputs": [],
   "source": [
    "# 각각 필터링해서 변수명에 저장하고 분석 진행\n",
    "a=df2[df2['항목']=='A']['value']\n",
    "b=df2[df2['항목']=='B']['value']\n",
    "c=df2[df2['항목']=='C']['value']"
   ]
  },
  {
   "cell_type": "code",
   "execution_count": 88,
   "id": "6ebf2a40",
   "metadata": {},
   "outputs": [
    {
     "name": "stdout",
     "output_type": "stream",
     "text": [
      "3.6971 0.0346\n"
     ]
    }
   ],
   "source": [
    "# 분산분석(F_oneway)\n",
    "import scipy.stats as stats\n",
    "statistic, pvalue = stats.f_oneway(a,b,c)\n",
    "print(round(statistic,4), round(pvalue,4))"
   ]
  },
  {
   "cell_type": "markdown",
   "id": "87c8d4aa",
   "metadata": {},
   "source": [
    "- 카이제곱검정\n",
    "- 분석 case\n",
    "- case1 적합도 검정 - 각 범주에 속하 확률이 같은지\n",
    "- case2 독립성 검정 - 두 개의 버주형 변수가 서로 독립인지?"
   ]
  },
  {
   "cell_type": "markdown",
   "id": "592ca3b0",
   "metadata": {},
   "source": [
    "- 1. 가설설정\n",
    "- 2. 유의수준 확인\n",
    "- 3. 검정실시(통계량, p-value, 기대값)\n",
    "- 4. 귀무가설 기각여부 결정(채택/기각)"
   ]
  },
  {
   "cell_type": "code",
   "execution_count": 1,
   "id": "3aeaa7bc",
   "metadata": {},
   "outputs": [],
   "source": [
    "# case1 적합도 검정 - 각 범주에 속할 확률이 같은지?\n",
    "# 문제 1-1\n",
    "# 랜덤박스에 상품 A,B,C,D가 들어 있다.\n",
    "# 다음은 랜덤박스에서 100번 상품을 꺼냈을때의 상품데이터라고 할 때\n",
    "# 상품이 동일한 비율로 들어있다고 할 수 있는지 검정해보시오."
   ]
  },
  {
   "cell_type": "code",
   "execution_count": 2,
   "id": "6ca86c98",
   "metadata": {},
   "outputs": [],
   "source": [
    "import pandas as pd\n",
    "import numpy as np"
   ]
  },
  {
   "cell_type": "code",
   "execution_count": 3,
   "id": "73c6304a",
   "metadata": {},
   "outputs": [
    {
     "data": {
      "text/html": [
       "<div>\n",
       "<style scoped>\n",
       "    .dataframe tbody tr th:only-of-type {\n",
       "        vertical-align: middle;\n",
       "    }\n",
       "\n",
       "    .dataframe tbody tr th {\n",
       "        vertical-align: top;\n",
       "    }\n",
       "\n",
       "    .dataframe thead th {\n",
       "        text-align: right;\n",
       "    }\n",
       "</style>\n",
       "<table border=\"1\" class=\"dataframe\">\n",
       "  <thead>\n",
       "    <tr style=\"text-align: right;\">\n",
       "      <th></th>\n",
       "      <th>A</th>\n",
       "      <th>B</th>\n",
       "      <th>C</th>\n",
       "      <th>D</th>\n",
       "    </tr>\n",
       "  </thead>\n",
       "  <tbody>\n",
       "    <tr>\n",
       "      <th>0</th>\n",
       "      <td>30</td>\n",
       "      <td>20</td>\n",
       "      <td>15</td>\n",
       "      <td>35</td>\n",
       "    </tr>\n",
       "  </tbody>\n",
       "</table>\n",
       "</div>"
      ],
      "text/plain": [
       "    A   B   C   D\n",
       "0  30  20  15  35"
      ]
     },
     "execution_count": 3,
     "metadata": {},
     "output_type": "execute_result"
    }
   ],
   "source": [
    "# 데이터 생성\n",
    "row1 = [30,20,15,35]\n",
    "df = pd.DataFrame([row1], columns=['A','B','C','D'])\n",
    "df"
   ]
  },
  {
   "cell_type": "code",
   "execution_count": 4,
   "id": "cead0f07",
   "metadata": {},
   "outputs": [],
   "source": [
    "# 1. 가설설정\n",
    "# 귀무가설 : 랜덤박스에 상품 A,B,C,D가 동일한 비율로 들어있다.\n",
    "# 대립가설 : 랜덤박스에 상품 A,B,C,D가 동일한 비율로 들어있지 않다\n",
    "\n",
    "# 2 .유의수준 확인 : 유의수준 5%"
   ]
  },
  {
   "cell_type": "code",
   "execution_count": 6,
   "id": "a0175b1f",
   "metadata": {},
   "outputs": [
    {
     "name": "stdout",
     "output_type": "stream",
     "text": [
      "10.0\n",
      "0.01856613546304325\n"
     ]
    }
   ],
   "source": [
    "# 3. 검정실시(통계량, p-value)\n",
    "from scipy.stats import chisquare\n",
    "# chisquare(f_obs=f_obs, f_exp=f_exp)  #관측값, 기대값\n",
    "\n",
    "# 관측값과 기대값 구하기\n",
    "f_obs = [30,20,15,35]\n",
    "# f_obs = df.iloc[0]\n",
    "f_exp = [25,25,25,25]\n",
    "\n",
    "statistic, pvalue = chisquare(f_obs=f_obs,f_exp=f_exp)\n",
    "print(statistic)\n",
    "print(pvalue)"
   ]
  },
  {
   "cell_type": "code",
   "execution_count": 7,
   "id": "6e807286",
   "metadata": {},
   "outputs": [],
   "source": [
    "# pvalue가 0.018으로 0.05보다 작으므로, 귀무가설을 기각하고, \n",
    "# 랜덤박스에 상품 A,B,C,D가 동일한 비율로 들어있지 않다.\n",
    "\n",
    "# 답 : 기각"
   ]
  },
  {
   "cell_type": "code",
   "execution_count": 8,
   "id": "3fa99eb8",
   "metadata": {},
   "outputs": [],
   "source": [
    "# 문제 1-2\n",
    "# 랜덤박스에 상품 A,B,C가 들어있다.\n",
    "# 다음은 랜덤박스에 150번 상품을 꺼냈을 때의 상품데이터라고 할 때\n",
    "# 상품별로 A 30%, B 15%, C 55% 비율로 들어있다고 할 수 있는지 검정해보시오."
   ]
  },
  {
   "cell_type": "code",
   "execution_count": 9,
   "id": "bb92fbb1",
   "metadata": {},
   "outputs": [],
   "source": [
    "import pandas as pd\n",
    "import numpy as np"
   ]
  },
  {
   "cell_type": "code",
   "execution_count": 10,
   "id": "14f0a967",
   "metadata": {},
   "outputs": [
    {
     "data": {
      "text/html": [
       "<div>\n",
       "<style scoped>\n",
       "    .dataframe tbody tr th:only-of-type {\n",
       "        vertical-align: middle;\n",
       "    }\n",
       "\n",
       "    .dataframe tbody tr th {\n",
       "        vertical-align: top;\n",
       "    }\n",
       "\n",
       "    .dataframe thead th {\n",
       "        text-align: right;\n",
       "    }\n",
       "</style>\n",
       "<table border=\"1\" class=\"dataframe\">\n",
       "  <thead>\n",
       "    <tr style=\"text-align: right;\">\n",
       "      <th></th>\n",
       "      <th>A</th>\n",
       "      <th>B</th>\n",
       "      <th>C</th>\n",
       "    </tr>\n",
       "  </thead>\n",
       "  <tbody>\n",
       "    <tr>\n",
       "      <th>0</th>\n",
       "      <td>50</td>\n",
       "      <td>25</td>\n",
       "      <td>75</td>\n",
       "    </tr>\n",
       "  </tbody>\n",
       "</table>\n",
       "</div>"
      ],
      "text/plain": [
       "    A   B   C\n",
       "0  50  25  75"
      ]
     },
     "execution_count": 10,
     "metadata": {},
     "output_type": "execute_result"
    }
   ],
   "source": [
    "# 데이터 생성\n",
    "row1 = [50,25,75]\n",
    "df = pd.DataFrame([row1], columns=['A','B','C'])\n",
    "df"
   ]
  },
  {
   "cell_type": "code",
   "execution_count": 11,
   "id": "b40377d5",
   "metadata": {},
   "outputs": [],
   "source": [
    "# 1. 가설설정\n",
    "# 귀무가설 : 랜덤박스에 상품 A,B,C가 30%, 15%, 55%의 비율로 들어있다.\n",
    "# 대립가설 : 랜덤박스에 상품 A,B,C가 30%, 15%, 55%ㅇ의 비율로 드러있지 않다."
   ]
  },
  {
   "cell_type": "code",
   "execution_count": 12,
   "id": "12ce36e5",
   "metadata": {},
   "outputs": [],
   "source": [
    "# 2. 유의수준 확인 : 유의수준 5%로 확인"
   ]
  },
  {
   "cell_type": "code",
   "execution_count": 13,
   "id": "c6c3f16b",
   "metadata": {},
   "outputs": [
    {
     "name": "stdout",
     "output_type": "stream",
     "text": [
      "1.5151515151515151\n",
      "0.46880153914023537\n"
     ]
    }
   ],
   "source": [
    "# 3. 검정실시(통계량, p-value)\n",
    "from scipy.stats import chisquare\n",
    "# chisquare(f_obs=f_obs, f_exp=f_exp) # 관측값, 기대값\n",
    "\n",
    "# 관측값과 기대값 구하기\n",
    "f_obs = [50, 25, 75]\n",
    "# f_obs = df.iloc[0]\n",
    "a = 150*0.3\n",
    "b = 150*0.15\n",
    "c = 150*0.55\n",
    "f_exp = [a,b,c]\n",
    "\n",
    "statistic, pvalue = chisquare(f_obs=f_obs, f_exp=f_exp)\n",
    "print(statistic)\n",
    "print(pvalue)"
   ]
  },
  {
   "cell_type": "code",
   "execution_count": 14,
   "id": "d1724354",
   "metadata": {},
   "outputs": [],
   "source": [
    "# p-vlaue가 0.4688으로 0.05보다 크므로 귀무가설을 채택하므로,\n",
    "# 랜덤박스에 상품 A,B,C가 30%, 15%, 55%의 비율로 들어 있다.\n",
    "\n",
    "# 답 : 채택"
   ]
  },
  {
   "cell_type": "code",
   "execution_count": 15,
   "id": "9d667956",
   "metadata": {},
   "outputs": [],
   "source": [
    "# case2. 독립성검정 - 두 개의 범주형 변수가 서로 독립인지?"
   ]
  },
  {
   "cell_type": "code",
   "execution_count": 16,
   "id": "9ec54a52",
   "metadata": {},
   "outputs": [],
   "source": [
    "import pandas as pd\n",
    "import numpy as np"
   ]
  },
  {
   "cell_type": "code",
   "execution_count": 17,
   "id": "08c119d9",
   "metadata": {},
   "outputs": [
    {
     "data": {
      "text/html": [
       "<div>\n",
       "<style scoped>\n",
       "    .dataframe tbody tr th:only-of-type {\n",
       "        vertical-align: middle;\n",
       "    }\n",
       "\n",
       "    .dataframe tbody tr th {\n",
       "        vertical-align: top;\n",
       "    }\n",
       "\n",
       "    .dataframe thead th {\n",
       "        text-align: right;\n",
       "    }\n",
       "</style>\n",
       "<table border=\"1\" class=\"dataframe\">\n",
       "  <thead>\n",
       "    <tr style=\"text-align: right;\">\n",
       "      <th></th>\n",
       "      <th>딸기</th>\n",
       "      <th>초코</th>\n",
       "      <th>바닐라</th>\n",
       "    </tr>\n",
       "  </thead>\n",
       "  <tbody>\n",
       "    <tr>\n",
       "      <th>10대</th>\n",
       "      <td>200</td>\n",
       "      <td>190</td>\n",
       "      <td>250</td>\n",
       "    </tr>\n",
       "    <tr>\n",
       "      <th>20대</th>\n",
       "      <td>220</td>\n",
       "      <td>250</td>\n",
       "      <td>300</td>\n",
       "    </tr>\n",
       "  </tbody>\n",
       "</table>\n",
       "</div>"
      ],
      "text/plain": [
       "      딸기   초코  바닐라\n",
       "10대  200  190  250\n",
       "20대  220  250  300"
      ]
     },
     "execution_count": 17,
     "metadata": {},
     "output_type": "execute_result"
    }
   ],
   "source": [
    "# 데이터 생성\n",
    "row1, row2 = [200,190,250], [220,250,300]\n",
    "df = pd.DataFrame([row1,row2], columns=['딸기','초코','바닐라'], index=['10대','20대'])\n",
    "df"
   ]
  },
  {
   "cell_type": "code",
   "execution_count": 18,
   "id": "36d24f29",
   "metadata": {},
   "outputs": [],
   "source": [
    "# 1. 가설설정\n",
    "# 귀무가설 : 연령대와 먹는 아이스크림의 종류는 서로 관련이 없다.(두 변수는 서로 독립이다.)\n",
    "# 대립가설 : 연령대와 먹는 아이스크리의 종류는 서로 관련이 있다.(두 변수는 서로 독립이 아니다.)"
   ]
  },
  {
   "cell_type": "code",
   "execution_count": 19,
   "id": "8cb173b7",
   "metadata": {},
   "outputs": [],
   "source": [
    "# 2. 유의수준 확인 : 유의수준 5%로 확인"
   ]
  },
  {
   "cell_type": "code",
   "execution_count": 20,
   "id": "e6627d2b",
   "metadata": {},
   "outputs": [
    {
     "name": "stdout",
     "output_type": "stream",
     "text": [
      "1.708360126075226\n",
      "0.4256320394874311\n",
      "2\n",
      "[[190.64 199.72 249.65]\n",
      " [229.36 240.28 300.35]]\n"
     ]
    }
   ],
   "source": [
    "# 3. 검정실시(통계량, p-value, 기대값 확인)\n",
    "from scipy.stats import chi2_contingency\n",
    "\n",
    "# 데이터 프레임 형태에서 인덱싱하여 풀이\n",
    "\n",
    "statistic, pvalue, dof, expected = chi2_contingency(df)\n",
    "# 공식문서상에\n",
    "# statistic(통계량), pvalue(유의확률), dof(자유도), expected_freq(기대값)\n",
    "\n",
    "# 아래와 같이 입력해도 동일한 결과값\n",
    "# statistic, pvlaue, dof, expected = chi2_contingency([row1, row2])\n",
    "# statistic, pvlaue, dof, expected = chi2_contingency([df.iloc[0],df.iloc[1]])\n",
    "\n",
    "print(statistic)\n",
    "print(pvalue)\n",
    "print(dof)   # 자유도 =(행-1)*(열-1)\n",
    "print(np.round(expected,2)) # 반올림하고 싶다면 np.round()\n",
    "\n",
    "# (참고) print(chi2_contingency([row1,row2]))"
   ]
  },
  {
   "cell_type": "code",
   "execution_count": 22,
   "id": "2f0589df",
   "metadata": {},
   "outputs": [],
   "source": [
    "# pvalue가 0.42로 귀무가설을 채택하므로,\n",
    "# 연령대와 먹는 아이스크림의 종류는 서로 관련이 없다.\n",
    "\n",
    "# 답 : 채택"
   ]
  },
  {
   "cell_type": "code",
   "execution_count": 23,
   "id": "08ce3349",
   "metadata": {},
   "outputs": [
    {
     "data": {
      "text/html": [
       "<div>\n",
       "<style scoped>\n",
       "    .dataframe tbody tr th:only-of-type {\n",
       "        vertical-align: middle;\n",
       "    }\n",
       "\n",
       "    .dataframe tbody tr th {\n",
       "        vertical-align: top;\n",
       "    }\n",
       "\n",
       "    .dataframe thead th {\n",
       "        text-align: right;\n",
       "    }\n",
       "</style>\n",
       "<table border=\"1\" class=\"dataframe\">\n",
       "  <thead>\n",
       "    <tr style=\"text-align: right;\">\n",
       "      <th></th>\n",
       "      <th>아이스크림</th>\n",
       "      <th>연령</th>\n",
       "      <th>인원</th>\n",
       "    </tr>\n",
       "  </thead>\n",
       "  <tbody>\n",
       "    <tr>\n",
       "      <th>0</th>\n",
       "      <td>딸기</td>\n",
       "      <td>10대</td>\n",
       "      <td>200</td>\n",
       "    </tr>\n",
       "    <tr>\n",
       "      <th>1</th>\n",
       "      <td>초코</td>\n",
       "      <td>10대</td>\n",
       "      <td>190</td>\n",
       "    </tr>\n",
       "    <tr>\n",
       "      <th>2</th>\n",
       "      <td>바닐라</td>\n",
       "      <td>10대</td>\n",
       "      <td>250</td>\n",
       "    </tr>\n",
       "    <tr>\n",
       "      <th>3</th>\n",
       "      <td>딸기</td>\n",
       "      <td>20대</td>\n",
       "      <td>220</td>\n",
       "    </tr>\n",
       "    <tr>\n",
       "      <th>4</th>\n",
       "      <td>초코</td>\n",
       "      <td>20대</td>\n",
       "      <td>250</td>\n",
       "    </tr>\n",
       "    <tr>\n",
       "      <th>5</th>\n",
       "      <td>바닐라</td>\n",
       "      <td>20대</td>\n",
       "      <td>300</td>\n",
       "    </tr>\n",
       "  </tbody>\n",
       "</table>\n",
       "</div>"
      ],
      "text/plain": [
       "  아이스크림   연령   인원\n",
       "0    딸기  10대  200\n",
       "1    초코  10대  190\n",
       "2   바닐라  10대  250\n",
       "3    딸기  20대  220\n",
       "4    초코  20대  250\n",
       "5   바닐라  20대  300"
      ]
     },
     "execution_count": 23,
     "metadata": {},
     "output_type": "execute_result"
    }
   ],
   "source": [
    "# (추가) 만약 데이터의 형태가 다를 경우?\n",
    "# tip : pd.crosstab() 사용방법\n",
    "# (case1) 만약 데이터가 아래와 같이 주어진다면?\n",
    "\n",
    "df = pd.DataFrame({\n",
    "    '아이스크림':['딸기','초코','바닐라','딸기','초코','바닐라'],\n",
    "    '연령':['10대','10대','10대','20대','20대','20대'],\n",
    "    '인원':[200,190,250,220,250,300]\n",
    "})\n",
    "\n",
    "df"
   ]
  },
  {
   "cell_type": "code",
   "execution_count": 24,
   "id": "1e7c245a",
   "metadata": {},
   "outputs": [
    {
     "name": "stdout",
     "output_type": "stream",
     "text": [
      "아이스크림   딸기  바닐라   초코\n",
      "연령                  \n",
      "10대    200  250  190\n",
      "20대    220  300  250\n"
     ]
    }
   ],
   "source": [
    "# pd.crosstab(index = , columns = , values = , aggfunc=sum)\n",
    "table = pd.crosstab(index=df['연령'], columns=df['아이스크림'], values=df['인원'], aggfunc=sum)\n",
    "table\n",
    "\n",
    "# 주의 : index, columns에 순서를 꼭 확인하기\n",
    "print(table)"
   ]
  },
  {
   "cell_type": "code",
   "execution_count": 25,
   "id": "36c227d9",
   "metadata": {},
   "outputs": [
    {
     "name": "stdout",
     "output_type": "stream",
     "text": [
      "1.708360126075226\n",
      "0.4256320394874311\n",
      "2\n",
      "[[190.64 249.65 199.72]\n",
      " [229.36 300.35 240.28]]\n"
     ]
    }
   ],
   "source": [
    "# 3. 검정실시(통계량,p-value,기대값 확인)\n",
    "from scipy.stats import chi2_contingency\n",
    "\n",
    "# 위와 같이 교차표 만들어서 입력\n",
    "statistic, pvalue, dof, expected = chi2_contingency(table)\n",
    "# 공식문서상에 : statistic(통계량), pvalue, dof(자유도), expected_freq(기대값)\n",
    "\n",
    "print(statistic)\n",
    "print(pvalue)\n",
    "print(dof)       # 자유도 = (행-1)*(열-1)\n",
    "print(np.round(expected,2)) # array 형태 : 반올림하고 싶다면 np.round()"
   ]
  },
  {
   "cell_type": "code",
   "execution_count": 26,
   "id": "a5e54e91",
   "metadata": {},
   "outputs": [],
   "source": [
    "# 유의확률이 0.4256이므로, 귀무가설을 채택하므로,\n",
    "# 연령대와 먹는 아이스크림의 종류는 서로 관련이 없다.\n",
    "\n",
    "# 답 : 채택"
   ]
  },
  {
   "cell_type": "code",
   "execution_count": 27,
   "id": "23e9378b",
   "metadata": {},
   "outputs": [
    {
     "data": {
      "text/html": [
       "<div>\n",
       "<style scoped>\n",
       "    .dataframe tbody tr th:only-of-type {\n",
       "        vertical-align: middle;\n",
       "    }\n",
       "\n",
       "    .dataframe tbody tr th {\n",
       "        vertical-align: top;\n",
       "    }\n",
       "\n",
       "    .dataframe thead th {\n",
       "        text-align: right;\n",
       "    }\n",
       "</style>\n",
       "<table border=\"1\" class=\"dataframe\">\n",
       "  <thead>\n",
       "    <tr style=\"text-align: right;\">\n",
       "      <th></th>\n",
       "      <th>아이스크림</th>\n",
       "      <th>연령</th>\n",
       "    </tr>\n",
       "  </thead>\n",
       "  <tbody>\n",
       "    <tr>\n",
       "      <th>0</th>\n",
       "      <td>딸기</td>\n",
       "      <td>10대</td>\n",
       "    </tr>\n",
       "    <tr>\n",
       "      <th>1</th>\n",
       "      <td>초코</td>\n",
       "      <td>10대</td>\n",
       "    </tr>\n",
       "    <tr>\n",
       "      <th>2</th>\n",
       "      <td>바닐라</td>\n",
       "      <td>10대</td>\n",
       "    </tr>\n",
       "    <tr>\n",
       "      <th>3</th>\n",
       "      <td>딸기</td>\n",
       "      <td>20대</td>\n",
       "    </tr>\n",
       "    <tr>\n",
       "      <th>4</th>\n",
       "      <td>초코</td>\n",
       "      <td>20대</td>\n",
       "    </tr>\n",
       "    <tr>\n",
       "      <th>5</th>\n",
       "      <td>바닐라</td>\n",
       "      <td>20대</td>\n",
       "    </tr>\n",
       "  </tbody>\n",
       "</table>\n",
       "</div>"
      ],
      "text/plain": [
       "  아이스크림   연령\n",
       "0    딸기  10대\n",
       "1    초코  10대\n",
       "2   바닐라  10대\n",
       "3    딸기  20대\n",
       "4    초코  20대\n",
       "5   바닐라  20대"
      ]
     },
     "execution_count": 27,
     "metadata": {},
     "output_type": "execute_result"
    }
   ],
   "source": [
    "# (Case2) 만약 데이터가 아래와 같이 주어진다면?\n",
    "# 이해를 위한 참고용입니다. 빈도수 카운팅\n",
    "\n",
    "df = pd.DataFrame({\n",
    "    '아이스크림':['딸기','초코','바닐라','딸기','초코','바닐라'],\n",
    "    '연령':['10대','10대','10대','20대','20대','20대']\n",
    "})\n",
    "\n",
    "df"
   ]
  },
  {
   "cell_type": "code",
   "execution_count": 28,
   "id": "36ab4b41",
   "metadata": {},
   "outputs": [
    {
     "data": {
      "text/html": [
       "<div>\n",
       "<style scoped>\n",
       "    .dataframe tbody tr th:only-of-type {\n",
       "        vertical-align: middle;\n",
       "    }\n",
       "\n",
       "    .dataframe tbody tr th {\n",
       "        vertical-align: top;\n",
       "    }\n",
       "\n",
       "    .dataframe thead th {\n",
       "        text-align: right;\n",
       "    }\n",
       "</style>\n",
       "<table border=\"1\" class=\"dataframe\">\n",
       "  <thead>\n",
       "    <tr style=\"text-align: right;\">\n",
       "      <th>아이스크림</th>\n",
       "      <th>딸기</th>\n",
       "      <th>바닐라</th>\n",
       "      <th>초코</th>\n",
       "    </tr>\n",
       "    <tr>\n",
       "      <th>연령</th>\n",
       "      <th></th>\n",
       "      <th></th>\n",
       "      <th></th>\n",
       "    </tr>\n",
       "  </thead>\n",
       "  <tbody>\n",
       "    <tr>\n",
       "      <th>10대</th>\n",
       "      <td>1</td>\n",
       "      <td>1</td>\n",
       "      <td>1</td>\n",
       "    </tr>\n",
       "    <tr>\n",
       "      <th>20대</th>\n",
       "      <td>1</td>\n",
       "      <td>1</td>\n",
       "      <td>1</td>\n",
       "    </tr>\n",
       "  </tbody>\n",
       "</table>\n",
       "</div>"
      ],
      "text/plain": [
       "아이스크림  딸기  바닐라  초코\n",
       "연령                \n",
       "10대     1    1   1\n",
       "20대     1    1   1"
      ]
     },
     "execution_count": 28,
     "metadata": {},
     "output_type": "execute_result"
    }
   ],
   "source": [
    "# pd.crosstab(index, columns)\n",
    "pd.crosstab(df['연령'],df['아이스크림'])"
   ]
  },
  {
   "cell_type": "code",
   "execution_count": 29,
   "id": "a11e1b5d",
   "metadata": {},
   "outputs": [
    {
     "name": "stdout",
     "output_type": "stream",
     "text": [
      "<class 'pandas.core.frame.DataFrame'>\n",
      "RangeIndex: 891 entries, 0 to 890\n",
      "Data columns (total 15 columns):\n",
      " #   Column       Non-Null Count  Dtype   \n",
      "---  ------       --------------  -----   \n",
      " 0   survived     891 non-null    int64   \n",
      " 1   pclass       891 non-null    int64   \n",
      " 2   sex          891 non-null    object  \n",
      " 3   age          714 non-null    float64 \n",
      " 4   sibsp        891 non-null    int64   \n",
      " 5   parch        891 non-null    int64   \n",
      " 6   fare         891 non-null    float64 \n",
      " 7   embarked     889 non-null    object  \n",
      " 8   class        891 non-null    category\n",
      " 9   who          891 non-null    object  \n",
      " 10  adult_male   891 non-null    bool    \n",
      " 11  deck         203 non-null    category\n",
      " 12  embark_town  889 non-null    object  \n",
      " 13  alive        891 non-null    object  \n",
      " 14  alone        891 non-null    bool    \n",
      "dtypes: bool(2), category(2), float64(2), int64(4), object(5)\n",
      "memory usage: 80.7+ KB\n"
     ]
    }
   ],
   "source": [
    "# 문제 2-2\n",
    "# 타이타닉 데이터에서 성별(sex)과 생존여부(survived) 변수간 독립성 검정을 실시하시오.\n",
    "\n",
    "import seaborn as sns\n",
    "df = sns.load_dataset('titanic')\n",
    "df.info()"
   ]
  },
  {
   "cell_type": "code",
   "execution_count": 30,
   "id": "9c783c8e",
   "metadata": {},
   "outputs": [
    {
     "name": "stdout",
     "output_type": "stream",
     "text": [
      "survived    0    1\n",
      "sex               \n",
      "female     81  233\n",
      "male      468  109\n"
     ]
    }
   ],
   "source": [
    "# pd.croesstab(index, columns)\n",
    "table = pd.crosstab(df['sex'], df['survived'])\n",
    "print(table)"
   ]
  },
  {
   "cell_type": "code",
   "execution_count": 31,
   "id": "33eac646",
   "metadata": {},
   "outputs": [],
   "source": [
    "# 1. 가설설정\n",
    "# 귀무가설 : 성별과 생존여부는 서로 관련이 없다(두변수는 서로 독립이다)\n",
    "# 대립가설 : 성별과 생존여부는 서로관련이 있다(두변수는 서로 독립이 아니다)"
   ]
  },
  {
   "cell_type": "code",
   "execution_count": 32,
   "id": "a41c566e",
   "metadata": {},
   "outputs": [],
   "source": [
    "# 2. 유의수준 확인 : 유의수준 5%로 확인"
   ]
  },
  {
   "cell_type": "code",
   "execution_count": 33,
   "id": "5bc5e297",
   "metadata": {},
   "outputs": [
    {
     "name": "stdout",
     "output_type": "stream",
     "text": [
      "260.71702016732104\n",
      "1.1973570627755645e-58\n",
      "1\n",
      "[[193.47 120.53]\n",
      " [355.53 221.47]]\n"
     ]
    }
   ],
   "source": [
    "# 3. 검정실시(통계량, p-value, 기대값 확인)\n",
    "from scipy.stats import chi2_contingency\n",
    "\n",
    "# 위와 같이 교차표 만들어서 입력\n",
    "statistic, pvalue, dof, expected = chi2_contingency(table)\n",
    "# 공식문서상에 statistic(통계량), pvalue, dof(자유도), expected_freq(기대값)\n",
    "\n",
    "print(statistic)\n",
    "print(pvalue)\n",
    "print(dof)     # 자유도 = (행-1)*(열-1)\n",
    "print(np.round(expected,2))"
   ]
  },
  {
   "cell_type": "code",
   "execution_count": 34,
   "id": "3c32baf5",
   "metadata": {},
   "outputs": [],
   "source": [
    "# 유의확률이 0.05보다 작으므로 귀무가설을 기각하고,\n",
    "# 성별과 생존여부는 서로 관련이 있다.\n",
    "\n",
    "# 답 : 기각"
   ]
  },
  {
   "cell_type": "code",
   "execution_count": 35,
   "id": "d16a2915",
   "metadata": {},
   "outputs": [
    {
     "name": "stdout",
     "output_type": "stream",
     "text": [
      "          0    1\n",
      "female  160  160\n",
      "male    250  220\n"
     ]
    }
   ],
   "source": [
    "# 데이터를 변경해보면서 이해해봅시다\n",
    "\n",
    "# 임의 데이터 생성\n",
    "sex, survived = [160, 160], [250, 220]\n",
    "table = pd.DataFrame([sex, survived], columns=['0','1'], index=['female','male'])\n",
    "print(table)"
   ]
  },
  {
   "cell_type": "code",
   "execution_count": 36,
   "id": "32f89d95",
   "metadata": {},
   "outputs": [
    {
     "name": "stdout",
     "output_type": "stream",
     "text": [
      "0.6541895872879862\n",
      "0.41861876333789727\n",
      "1\n",
      "[[166.08 153.92]\n",
      " [243.92 226.08]]\n"
     ]
    }
   ],
   "source": [
    "# 3. 검정실시(통계량, p-value, 기대값 확인)\n",
    "from scipy.stats import chi2_contingency\n",
    "\n",
    "# 위와 같이 교차표 만들어서 입력\n",
    "statistic, pvalue, dof, expected = chi2_contingency(table)\n",
    "# 공식문서상에 statistic(통계량), pvalue, dof(자유도), expected_freq(기대값)\n",
    "\n",
    "print(statistic)\n",
    "print(pvalue)\n",
    "print(dof)\n",
    "print(np.round(expected,2))"
   ]
  },
  {
   "cell_type": "code",
   "execution_count": 37,
   "id": "65790b57",
   "metadata": {},
   "outputs": [],
   "source": [
    "# 유의확률이 0.4186이므로, 귀무가설을 채택하므로,\n",
    "# 성별과 생존여부는 서로 관련이 없다.\n",
    "\n",
    "# 답 : 채택"
   ]
  },
  {
   "cell_type": "markdown",
   "id": "7f0f1ea3",
   "metadata": {},
   "source": [
    "- 다중회귀분석 및 상관분석\n",
    "- 다중회귀분석"
   ]
  },
  {
   "cell_type": "code",
   "execution_count": 1,
   "id": "60f12308",
   "metadata": {},
   "outputs": [],
   "source": [
    "import numpy as np\n",
    "import pandas as pd"
   ]
  },
  {
   "cell_type": "code",
   "execution_count": 4,
   "id": "bf6de9b0",
   "metadata": {},
   "outputs": [],
   "source": [
    "# 당뇨병 환자의 질병 진행정도 데이터셋\n",
    "\n",
    "# 데이터 불러오기\n",
    "from sklearn.datasets import load_diabetes\n",
    "\n",
    "# diabetes 데이터셋 로드\n",
    "diabetes = load_diabetes()\n",
    "x = pd.DataFrame(diabetes.data, columns=diabetes.feature_names)\n",
    "y = pd.DataFrame(diabetes.target)\n",
    "y.columns = ['target']"
   ]
  },
  {
   "cell_type": "markdown",
   "id": "1945079e",
   "metadata": {},
   "source": [
    "- 1.sklearn 라이브러리 활용"
   ]
  },
  {
   "cell_type": "code",
   "execution_count": 5,
   "id": "87dee763",
   "metadata": {},
   "outputs": [],
   "source": [
    "from sklearn.linear_model import LinearRegression"
   ]
  },
  {
   "cell_type": "code",
   "execution_count": 6,
   "id": "730f2090",
   "metadata": {},
   "outputs": [
    {
     "name": "stdout",
     "output_type": "stream",
     "text": [
      "        age       sex       bmi\n",
      "0  0.038076  0.050680  0.061696\n",
      "1 -0.001882 -0.044642 -0.051474\n",
      "2  0.085299  0.050680  0.044451\n",
      "3 -0.089063 -0.044642 -0.011595\n",
      "4  0.005383 -0.044642 -0.036385\n",
      "   target\n",
      "0   151.0\n",
      "1    75.0\n",
      "2   141.0\n",
      "3   206.0\n",
      "4   135.0\n"
     ]
    }
   ],
   "source": [
    "# 독립변수와 종속변수 설정\n",
    "x = x[['age','sex','bmi']]\n",
    "print(x.head())\n",
    "print(y.head())"
   ]
  },
  {
   "cell_type": "markdown",
   "id": "7f59b502",
   "metadata": {},
   "source": [
    "- 회귀식 : y=b0+b1x1+b2x2+b3x3 (x1=age,x2=sex,x3=bmi)"
   ]
  },
  {
   "cell_type": "code",
   "execution_count": 7,
   "id": "2543ac1a",
   "metadata": {},
   "outputs": [
    {
     "data": {
      "text/plain": [
       "LinearRegression()"
      ]
     },
     "execution_count": 7,
     "metadata": {},
     "output_type": "execute_result"
    }
   ],
   "source": [
    "# 모델링\n",
    "from sklearn.linear_model import LinearRegression\n",
    "model = LinearRegression()\n",
    "model.fit(x,y)"
   ]
  },
  {
   "cell_type": "code",
   "execution_count": 8,
   "id": "130a10db",
   "metadata": {},
   "outputs": [
    {
     "name": "stdout",
     "output_type": "stream",
     "text": [
      "0.35\n"
     ]
    }
   ],
   "source": [
    "# 회귀분석 관련 지표 출력\n",
    "\n",
    "# 1. Rsq(결정계수) : model.score(x,y)\n",
    "model.score(x,y)\n",
    "print(round(model.score(x,y), 2))"
   ]
  },
  {
   "cell_type": "code",
   "execution_count": 9,
   "id": "fc52b5af",
   "metadata": {},
   "outputs": [
    {
     "name": "stdout",
     "output_type": "stream",
     "text": [
      "[[138.9  -36.14 926.91]]\n",
      "138.9\n",
      "-36.14\n",
      "926.91\n"
     ]
    }
   ],
   "source": [
    "# 2. 회귀계수 출력 : model.coef_\n",
    "print(np.round(model.coef_,2))         # 전체 회귀계수\n",
    "print(np.round(model.coef_[0,0],2))    # x1의 회귀계수\n",
    "print(np.round(model.coef_[0,1],2))    # x2의 회귀계수\n",
    "print(np.round(model.coef_[0,2],2))    # x3의 회귀계수"
   ]
  },
  {
   "cell_type": "code",
   "execution_count": 10,
   "id": "d8c1f070",
   "metadata": {},
   "outputs": [
    {
     "name": "stdout",
     "output_type": "stream",
     "text": [
      "[152.13]\n"
     ]
    }
   ],
   "source": [
    "# 3. 회귀계수(절편) : model.intercept_\n",
    "print(np.round(model.intercept_,2))"
   ]
  },
  {
   "cell_type": "markdown",
   "id": "800d516b",
   "metadata": {},
   "source": [
    "- 회귀식 : y=b0+b1x1+b2x2+b3x3 (x1=age,x2=sex,x3=bmi)\n",
    "- y=152.13=138.9*age-36.14*sex+926.91*bmi"
   ]
  },
  {
   "cell_type": "markdown",
   "id": "31f9330d",
   "metadata": {},
   "source": [
    "2. statsmodels 라이브러리 사용"
   ]
  },
  {
   "cell_type": "code",
   "execution_count": 11,
   "id": "1b00e38d",
   "metadata": {},
   "outputs": [],
   "source": [
    "# 데이터 불러오기\n",
    "from sklearn.datasets import load_diabetes\n",
    "\n",
    "# diabetes 데이터셋 로드\n",
    "diabetes = load_diabetes()\n",
    "x = pd.DataFrame(diabetes.data, columns=diabetes.feature_names)\n",
    "y = pd.DataFrame(diabetes.target)\n",
    "y.columns = ['target']"
   ]
  },
  {
   "cell_type": "code",
   "execution_count": 12,
   "id": "ece6e719",
   "metadata": {},
   "outputs": [
    {
     "name": "stdout",
     "output_type": "stream",
     "text": [
      "        age       sex       bmi\n",
      "0  0.038076  0.050680  0.061696\n",
      "1 -0.001882 -0.044642 -0.051474\n",
      "2  0.085299  0.050680  0.044451\n",
      "3 -0.089063 -0.044642 -0.011595\n",
      "4  0.005383 -0.044642 -0.036385\n",
      "0    151.0\n",
      "1     75.0\n",
      "2    141.0\n",
      "3    206.0\n",
      "4    135.0\n",
      "Name: target, dtype: float64\n"
     ]
    }
   ],
   "source": [
    "# statsmodel.formula 활용\n",
    "import statsmodels.api as sm\n",
    "\n",
    "# 독립변수와 종속변수 설정\n",
    "x = x[['age','sex','bmi']]\n",
    "y = y['target']\n",
    "print(x.head())\n",
    "print(y.head())"
   ]
  },
  {
   "cell_type": "code",
   "execution_count": 15,
   "id": "55639e89",
   "metadata": {},
   "outputs": [
    {
     "name": "stdout",
     "output_type": "stream",
     "text": [
      "                            OLS Regression Results                            \n",
      "==============================================================================\n",
      "Dep. Variable:                 target   R-squared:                       0.351\n",
      "Model:                            OLS   Adj. R-squared:                  0.346\n",
      "Method:                 Least Squares   F-statistic:                     78.94\n",
      "Date:                Fri, 19 Jan 2024   Prob (F-statistic):           7.77e-41\n",
      "Time:                        16:30:43   Log-Likelihood:                -2451.6\n",
      "No. Observations:                 442   AIC:                             4911.\n",
      "Df Residuals:                     438   BIC:                             4928.\n",
      "Df Model:                           3                                         \n",
      "Covariance Type:            nonrobust                                         \n",
      "==============================================================================\n",
      "                 coef    std err          t      P>|t|      [0.025      0.975]\n",
      "------------------------------------------------------------------------------\n",
      "const        152.1335      2.964     51.321      0.000     146.307     157.960\n",
      "age          138.9039     64.254      2.162      0.031      12.618     265.189\n",
      "sex          -36.1353     63.391     -0.570      0.569    -160.724      88.453\n",
      "bmi          926.9120     63.525     14.591      0.000     802.061    1051.763\n",
      "==============================================================================\n",
      "Omnibus:                       14.687   Durbin-Watson:                   1.851\n",
      "Prob(Omnibus):                  0.001   Jarque-Bera (JB):                8.290\n",
      "Skew:                           0.150   Prob(JB):                       0.0158\n",
      "Kurtosis:                       2.400   Cond. No.                         23.7\n",
      "==============================================================================\n",
      "\n",
      "Notes:\n",
      "[1] Standard Errors assume that the covariance matrix of the errors is correctly specified.\n"
     ]
    }
   ],
   "source": [
    "# 모델링\n",
    "import statsmodels.api as sm\n",
    "\n",
    "x = sm.add_constant(x)              # 주의 : 상수항 추가해줘야 함\n",
    "model = sm.OLS(y,x).fit()\n",
    "\n",
    "# y_pred = model.predict(x)\n",
    "summary = model.summary()\n",
    "print(summary)"
   ]
  },
  {
   "cell_type": "code",
   "execution_count": 16,
   "id": "908698c3",
   "metadata": {},
   "outputs": [],
   "source": [
    "# 1. Rsq(결정계수)\n",
    "# r2 = 0.351\n",
    "\n",
    "# 2. 회귀계수\n",
    "# age = 138.9039\n",
    "# sex = -36.1353\n",
    "# bmi = 926.9120\n",
    "\n",
    "# 3. 회귀계수(절편)\n",
    "# const = 152.1335\n",
    "\n",
    "# 4. 회귀식 p-value\n",
    "# p-value = 7.77e-41"
   ]
  },
  {
   "cell_type": "markdown",
   "id": "060f9b6c",
   "metadata": {},
   "source": [
    "- (결과 비교해보기) 두 라이브러리 모두 같은 결과값을 출력\n",
    "- 회귀식 : y=b0+b1x1+b2x2+b3x3 (x1=age,x2=sex,x3=bmi)\n",
    "- sklearn : y=152.13=138.9*age-36.14*sex+926.91*bmi\n",
    "- statsmodel : y=152.13=138.9*age-36.14*sex+926.91*bmi"
   ]
  },
  {
   "cell_type": "markdown",
   "id": "9c1b6d67",
   "metadata": {},
   "source": [
    "- 상관분석"
   ]
  },
  {
   "cell_type": "code",
   "execution_count": 17,
   "id": "b1f16b99",
   "metadata": {},
   "outputs": [],
   "source": [
    "# 데이터 불러오기\n",
    "from sklearn.datasets import load_diabetes\n",
    "\n",
    "# diabetes 데이터셋 로드\n",
    "diabetes = load_diabetes()\n",
    "x = pd.DataFrame(diabetes.data, columns=diabetes.feature_names)\n",
    "y = pd.DataFrame(diabetes.target)\n",
    "y.columns = ['target']"
   ]
  },
  {
   "cell_type": "code",
   "execution_count": 18,
   "id": "0017af77",
   "metadata": {},
   "outputs": [
    {
     "name": "stdout",
     "output_type": "stream",
     "text": [
      "0    0.061696\n",
      "1   -0.051474\n",
      "2    0.044451\n",
      "3   -0.011595\n",
      "4   -0.036385\n",
      "Name: bmi, dtype: float64\n",
      "0    151.0\n",
      "1     75.0\n",
      "2    141.0\n",
      "3    206.0\n",
      "4    135.0\n",
      "Name: target, dtype: float64\n"
     ]
    }
   ],
   "source": [
    "# 상관분석을 할 2가지 변수 설정\n",
    "x = x['bmi']\n",
    "y = y['target']\n",
    "\n",
    "print(x.head())\n",
    "print(y.head())"
   ]
  },
  {
   "cell_type": "code",
   "execution_count": 20,
   "id": "ceb47be2",
   "metadata": {},
   "outputs": [
    {
     "name": "stdout",
     "output_type": "stream",
     "text": [
      "0.59\n",
      "0.0\n",
      "15.19\n"
     ]
    }
   ],
   "source": [
    "# 라이브러리 불러오기\n",
    "from scipy.stats import pearsonr\n",
    "\n",
    "# 상관계수에 대한 검정실시\n",
    "r, pvalue = pearsonr(x,y)\n",
    "\n",
    "# 가설검정\n",
    "# 귀무가설 : 두변수간 선형관계가 존재하지 않는다(로우가 0이다)\n",
    "# 대립가설 : 두변수간 선형관계가 존재한다(로우가 0이 아니다)\n",
    "\n",
    "# 1. 상관계수\n",
    "print(round(r,2))\n",
    "\n",
    "# 2. p-value\n",
    "print(round(pvalue,2))\n",
    "\n",
    "# 3. 검정통계량\n",
    "# 통계량은 별도로 구해야 함\n",
    "# (r * root(n-2) / root(1-r2))\n",
    "# r = 상관계수, n = 데이터의 개수\n",
    "\n",
    "n = len(x)    # 데이터수\n",
    "r2 = r**2    # 상관계수의 제곱\n",
    "statistic = r*((n-2)**0.5)/((1-r2)**0.5)\n",
    "print(round(statistic,2))\n",
    "\n",
    "# 4. 귀무가설 기각여부 결정(채택/기각)\n",
    "# p-value가 0.05보다 작으므로 귀무가설을 기각\n",
    "# 즉, 두 변수간 선형관계가 존재한다고 할 수 있다.\n",
    "# 상관계수가 0이 아니다\n",
    "\n",
    "# 답 : 기각"
   ]
  },
  {
   "cell_type": "markdown",
   "id": "b0ed2522",
   "metadata": {},
   "source": [
    "- 제3유형_로지스틱회귀분석\n",
    "- 타이타닉 데이터 불러오기(생존자 예측 데이터)"
   ]
  },
  {
   "cell_type": "code",
   "execution_count": 13,
   "id": "94380604",
   "metadata": {},
   "outputs": [],
   "source": [
    "# 데이터 불러오기\n",
    "import pandas as pd\n",
    "import numpy as np\n",
    "\n",
    "import seaborn as sns\n",
    "df = sns.load_dataset('titanic')"
   ]
  },
  {
   "cell_type": "code",
   "execution_count": 14,
   "id": "b3dadb0f",
   "metadata": {},
   "outputs": [
    {
     "name": "stdout",
     "output_type": "stream",
     "text": [
      "   survived  pclass     sex   age  sibsp  parch     fare embarked  class  \\\n",
      "0         0       3    male  22.0      1      0   7.2500        S  Third   \n",
      "1         1       1  female  38.0      1      0  71.2833        C  First   \n",
      "2         1       3  female  26.0      0      0   7.9250        S  Third   \n",
      "3         1       1  female  35.0      1      0  53.1000        S  First   \n",
      "4         0       3    male  35.0      0      0   8.0500        S  Third   \n",
      "\n",
      "     who  adult_male deck  embark_town alive  alone  \n",
      "0    man        True  NaN  Southampton    no  False  \n",
      "1  woman       False    C    Cherbourg   yes  False  \n",
      "2  woman       False  NaN  Southampton   yes   True  \n",
      "3  woman       False    C  Southampton   yes  False  \n",
      "4    man        True  NaN  Southampton    no   True  \n"
     ]
    }
   ],
   "source": [
    "print(df.head())"
   ]
  },
  {
   "cell_type": "code",
   "execution_count": 15,
   "id": "bed1aac7",
   "metadata": {},
   "outputs": [
    {
     "name": "stdout",
     "output_type": "stream",
     "text": [
      "   survived     sex  sibsp     fare\n",
      "0         0    male      1   7.2500\n",
      "1         1  female      1  71.2833\n",
      "2         1  female      0   7.9250\n",
      "3         1  female      1  53.1000\n",
      "4         0    male      0   8.0500\n"
     ]
    }
   ],
   "source": [
    "# 분석 데이터 설정\n",
    "df = df[['survived','sex','sibsp','fare']]\n",
    "\n",
    "print(df.head())"
   ]
  },
  {
   "cell_type": "markdown",
   "id": "2fdb353f",
   "metadata": {},
   "source": [
    "- 회귀식:p(1일 확률)=1/(1+exp(-f(x)))\n",
    "- f(x)=b0+b1x1+b2x2+b3x3\n",
    "- ln(p/1-p)=b0+b1x1+b2x2+b3x3\n",
    "- (p=생존할확률, x1=sex,x2=sibsp,x3=fare)"
   ]
  },
  {
   "cell_type": "code",
   "execution_count": 16,
   "id": "0ba7af54",
   "metadata": {},
   "outputs": [
    {
     "name": "stdout",
     "output_type": "stream",
     "text": [
      "   survived  sex  sibsp     fare\n",
      "0         0    0      1   7.2500\n",
      "1         1    1      1  71.2833\n",
      "2         1    1      0   7.9250\n",
      "3         1    1      1  53.1000\n",
      "4         0    0      0   8.0500\n"
     ]
    }
   ],
   "source": [
    "# 데이터 전처리\n",
    "# 변수처리\n",
    "# 문자형 타입의 데이터일 경우 숫자로 변경해준다\n",
    "\n",
    "# 성별을 map 함수를 활용해서 각각 1과 0에 할당한다(여성을 1, 남성을 0)\n",
    "# 실제 시허의 지시조건에 따를 것\n",
    "df['sex']=df['sex'].map({'female':1,'male':0})\n",
    "print(df.head())"
   ]
  },
  {
   "cell_type": "code",
   "execution_count": 17,
   "id": "22e13b3a",
   "metadata": {},
   "outputs": [
    {
     "name": "stdout",
     "output_type": "stream",
     "text": [
      "<class 'pandas.core.frame.DataFrame'>\n",
      "RangeIndex: 891 entries, 0 to 890\n",
      "Data columns (total 4 columns):\n",
      " #   Column    Non-Null Count  Dtype  \n",
      "---  ------    --------------  -----  \n",
      " 0   survived  891 non-null    int64  \n",
      " 1   sex       891 non-null    int64  \n",
      " 2   sibsp     891 non-null    int64  \n",
      " 3   fare      891 non-null    float64\n",
      "dtypes: float64(1), int64(3)\n",
      "memory usage: 28.0 KB\n",
      "None\n"
     ]
    }
   ],
   "source": [
    "print(df.info())"
   ]
  },
  {
   "cell_type": "markdown",
   "id": "182a54ca",
   "metadata": {},
   "source": [
    "- 1.sklearn 라이브러리 활용"
   ]
  },
  {
   "cell_type": "code",
   "execution_count": 18,
   "id": "6e8f9a48",
   "metadata": {},
   "outputs": [],
   "source": [
    "# 독립변수와 종속변수 설정\n",
    "x = df.drop(['survived'], axis=1)\n",
    "y = df['survived']"
   ]
  },
  {
   "cell_type": "markdown",
   "id": "cce5262a",
   "metadata": {},
   "source": [
    "- (주의) LogisticRegression() 객체안에 반드시 penalty=None으로 입력해야 함"
   ]
  },
  {
   "cell_type": "code",
   "execution_count": 21,
   "id": "65d9aed2",
   "metadata": {},
   "outputs": [
    {
     "data": {
      "text/plain": [
       "LogisticRegression(penalty='none')"
      ]
     },
     "execution_count": 21,
     "metadata": {},
     "output_type": "execute_result"
    }
   ],
   "source": [
    "# 모델링\n",
    "from sklearn.linear_model import LogisticRegression\n",
    "\n",
    "# 반드시 penalty=None으로 입력해야 할 것입 default='l2'\n",
    "model = LogisticRegression(penalty = 'none')\n",
    "model.fit(x,y)"
   ]
  },
  {
   "cell_type": "code",
   "execution_count": 22,
   "id": "82aa8d78",
   "metadata": {},
   "outputs": [
    {
     "name": "stdout",
     "output_type": "stream",
     "text": [
      "[[ 2.5668 -0.4017  0.0138]]\n",
      "2.5668\n",
      "-0.4017\n",
      "0.0138\n",
      "[-1.6964]\n"
     ]
    }
   ],
   "source": [
    "# 로지스틱회귀분석 관련지표출력\n",
    "\n",
    "# 1. 회귀계수 출력 : model.coef_\n",
    "print(np.round(model.coef_,4))\n",
    "print(np.round(model.coef_[0,0],4))\n",
    "print(np.round(model.coef_[0,1],4))\n",
    "print(np.round(model.coef_[0,2],4))\n",
    "\n",
    "# 2. 회귀계수(절편) : model.intercept_\n",
    "print(np.round(model.intercept_,4))"
   ]
  },
  {
   "cell_type": "markdown",
   "id": "b3333c63",
   "metadata": {},
   "source": [
    "- 회귀식:p(1일 확률)=1/(1+exp(-f(x)))\n",
    "- f(x)=b0+b1x1+b2x2+b3x3\n",
    "- ln(p/1-p)=b0+b1x1+b2x2+b3x3\n",
    "- (p=생존할확률, x1=sex,x2=sibsp,x3=fare)\n",
    "\n",
    "- 결과:ln(p/1-p)=-1.6964+2.5668sex-0.4017sibsp+0.0138fare"
   ]
  },
  {
   "cell_type": "code",
   "execution_count": 25,
   "id": "e802b8b7",
   "metadata": {},
   "outputs": [
    {
     "name": "stdout",
     "output_type": "stream",
     "text": [
      "0.669\n"
     ]
    }
   ],
   "source": [
    "# 3-1.로지스틱 회귀모형에서 sibsp변수가 한단위 증가할 때 생존할 오즈가 몇배 증가하는지\n",
    "# 반올림하여 소수점 첫째 자리까지 구하시오.\n",
    "\n",
    "# exp(b2)\n",
    "result = np.exp(model.coef_[0,1])\n",
    "print(round(result,3))\n",
    "\n",
    "# 해석 : sibsp변수가 한단위 증가할 때마다 생존할 오즈가 0.669배 증가한다.\n",
    "#        생존할 오즈가 33% 감소한다.(생존할 확률이 감소한다.)"
   ]
  },
  {
   "cell_type": "code",
   "execution_count": 26,
   "id": "c0d73906",
   "metadata": {},
   "outputs": [
    {
     "name": "stdout",
     "output_type": "stream",
     "text": [
      "13.024\n"
     ]
    }
   ],
   "source": [
    "# 3-2.로지스틱 회귀모형에서 여성일 경우, 남성에 비해 생존할 오즈가 몇배 증가하는지\n",
    "# 반올림하여 소수점 첫째 자리까지 구하시오.\n",
    "\n",
    "# exp(b2)\n",
    "result = np.exp(model.coef_[0,0])\n",
    "print(round(result,3))\n",
    "\n",
    "# 해석 : 여성일 경우 남성에 비해 생존할 오즈가 0.669배 증가한다.\n",
    "#        생존할 오즈가 13배 증가한다.(생존할 확률이 증가한다.)"
   ]
  },
  {
   "cell_type": "markdown",
   "id": "5a34e8eb",
   "metadata": {},
   "source": [
    "- 2. statsmodels 라이브러리 사용"
   ]
  },
  {
   "cell_type": "markdown",
   "id": "949f54d3",
   "metadata": {},
   "source": [
    "- (주의) 실제오즈가 몇배 증가했는지 계산하는 문제가 나온다면\n",
    "- sklearn 라이브러리를 사용하여 회귀계수를 직접구해서 계산할 것\n",
    "- (소수점이 결과에 영향을 줄 수 있음)"
   ]
  },
  {
   "cell_type": "code",
   "execution_count": 27,
   "id": "e927ec24",
   "metadata": {},
   "outputs": [
    {
     "name": "stdout",
     "output_type": "stream",
     "text": [
      "Optimization terminated successfully.\n",
      "         Current function value: 0.483846\n",
      "         Iterations 6\n",
      "                           Logit Regression Results                           \n",
      "==============================================================================\n",
      "Dep. Variable:               survived   No. Observations:                  891\n",
      "Model:                          Logit   Df Residuals:                      887\n",
      "Method:                           MLE   Df Model:                            3\n",
      "Date:                Sat, 20 Jan 2024   Pseudo R-squ.:                  0.2734\n",
      "Time:                        15:02:24   Log-Likelihood:                -431.11\n",
      "converged:                       True   LL-Null:                       -593.33\n",
      "Covariance Type:            nonrobust   LLR p-value:                 5.094e-70\n",
      "==============================================================================\n",
      "                 coef    std err          z      P>|z|      [0.025      0.975]\n",
      "------------------------------------------------------------------------------\n",
      "const         -1.6964      0.129    -13.134      0.000      -1.950      -1.443\n",
      "sex            2.5668      0.179     14.321      0.000       2.216       2.918\n",
      "sibsp         -0.4017      0.095     -4.222      0.000      -0.588      -0.215\n",
      "fare           0.0138      0.003      5.367      0.000       0.009       0.019\n",
      "==============================================================================\n"
     ]
    }
   ],
   "source": [
    "# 모델링\n",
    "import statsmodels.api as sm\n",
    "\n",
    "x = sm.add_constant(x)             # 주의 : 상수항 추가해줘야 함\n",
    "model2 = sm.Logit(y,x).fit()       # 주의할 것 : y,x 순으로 입력해야 함\n",
    "summary = model2.summary()\n",
    "print(summary)"
   ]
  },
  {
   "cell_type": "markdown",
   "id": "a86b87c8",
   "metadata": {},
   "source": [
    "- 회귀식:p(1일 확률)=1/(1+exp(-f(x)))\n",
    "- f(x)=b0+b1x1+b2x2+b3x3\n",
    "- ln(p/1-p)=b0+b1x1+b2x2+b3x3\n",
    "- (p=생존할확률, x1=sex,x2=sibsp,x3=fare)\n",
    "\n",
    "- 1.sklearn:ln(p/1-p)=-1.6964+2.5668sex-0.4017sibsp+0.0138fare\n",
    "- 2.statsmodel:ln(p/1-p)=-1.6964+2.5668sex-0.4017sibsp+0.0138fare"
   ]
  },
  {
   "cell_type": "code",
   "execution_count": null,
   "id": "6ee59620",
   "metadata": {},
   "outputs": [],
   "source": []
  }
 ],
 "metadata": {
  "kernelspec": {
   "display_name": "Python 3 (ipykernel)",
   "language": "python",
   "name": "python3"
  },
  "language_info": {
   "codemirror_mode": {
    "name": "ipython",
    "version": 3
   },
   "file_extension": ".py",
   "mimetype": "text/x-python",
   "name": "python",
   "nbconvert_exporter": "python",
   "pygments_lexer": "ipython3",
   "version": "3.9.13"
  }
 },
 "nbformat": 4,
 "nbformat_minor": 5
}
