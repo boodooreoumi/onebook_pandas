{
 "cells": [
  {
   "cell_type": "code",
   "execution_count": 1,
   "id": "00fff403",
   "metadata": {},
   "outputs": [
    {
     "data": {
      "text/html": [
       "<div>\n",
       "<style scoped>\n",
       "    .dataframe tbody tr th:only-of-type {\n",
       "        vertical-align: middle;\n",
       "    }\n",
       "\n",
       "    .dataframe tbody tr th {\n",
       "        vertical-align: top;\n",
       "    }\n",
       "\n",
       "    .dataframe thead th {\n",
       "        text-align: right;\n",
       "    }\n",
       "</style>\n",
       "<table border=\"1\" class=\"dataframe\">\n",
       "  <thead>\n",
       "    <tr style=\"text-align: right;\">\n",
       "      <th></th>\n",
       "      <th>car</th>\n",
       "      <th>mpg</th>\n",
       "      <th>cyl</th>\n",
       "      <th>disp</th>\n",
       "      <th>hp</th>\n",
       "      <th>drat</th>\n",
       "      <th>wt</th>\n",
       "      <th>qsec</th>\n",
       "      <th>vs</th>\n",
       "      <th>am</th>\n",
       "      <th>gear</th>\n",
       "      <th>carb</th>\n",
       "    </tr>\n",
       "  </thead>\n",
       "  <tbody>\n",
       "    <tr>\n",
       "      <th>0</th>\n",
       "      <td>Mazda RX4</td>\n",
       "      <td>21.0</td>\n",
       "      <td>6</td>\n",
       "      <td>160.0</td>\n",
       "      <td>110</td>\n",
       "      <td>3.90</td>\n",
       "      <td>2.620</td>\n",
       "      <td>16.46</td>\n",
       "      <td>0</td>\n",
       "      <td>1</td>\n",
       "      <td>4</td>\n",
       "      <td>4</td>\n",
       "    </tr>\n",
       "    <tr>\n",
       "      <th>1</th>\n",
       "      <td>Mazda RX4 Wag</td>\n",
       "      <td>21.0</td>\n",
       "      <td>6</td>\n",
       "      <td>160.0</td>\n",
       "      <td>110</td>\n",
       "      <td>3.90</td>\n",
       "      <td>2.875</td>\n",
       "      <td>17.02</td>\n",
       "      <td>0</td>\n",
       "      <td>1</td>\n",
       "      <td>4</td>\n",
       "      <td>4</td>\n",
       "    </tr>\n",
       "    <tr>\n",
       "      <th>2</th>\n",
       "      <td>Datsun 710</td>\n",
       "      <td>22.8</td>\n",
       "      <td>4</td>\n",
       "      <td>108.0</td>\n",
       "      <td>93</td>\n",
       "      <td>3.85</td>\n",
       "      <td>2.320</td>\n",
       "      <td>18.61</td>\n",
       "      <td>1</td>\n",
       "      <td>1</td>\n",
       "      <td>4</td>\n",
       "      <td>1</td>\n",
       "    </tr>\n",
       "    <tr>\n",
       "      <th>3</th>\n",
       "      <td>Hornet 4 Drive</td>\n",
       "      <td>21.4</td>\n",
       "      <td>6</td>\n",
       "      <td>258.0</td>\n",
       "      <td>110</td>\n",
       "      <td>3.08</td>\n",
       "      <td>3.215</td>\n",
       "      <td>19.44</td>\n",
       "      <td>1</td>\n",
       "      <td>0</td>\n",
       "      <td>3</td>\n",
       "      <td>1</td>\n",
       "    </tr>\n",
       "    <tr>\n",
       "      <th>4</th>\n",
       "      <td>Hornet Sportabout</td>\n",
       "      <td>18.7</td>\n",
       "      <td>8</td>\n",
       "      <td>360.0</td>\n",
       "      <td>175</td>\n",
       "      <td>3.15</td>\n",
       "      <td>3.440</td>\n",
       "      <td>17.02</td>\n",
       "      <td>0</td>\n",
       "      <td>0</td>\n",
       "      <td>3</td>\n",
       "      <td>2</td>\n",
       "    </tr>\n",
       "  </tbody>\n",
       "</table>\n",
       "</div>"
      ],
      "text/plain": [
       "                 car   mpg  cyl   disp   hp  drat     wt   qsec  vs  am  gear  \\\n",
       "0          Mazda RX4  21.0    6  160.0  110  3.90  2.620  16.46   0   1     4   \n",
       "1      Mazda RX4 Wag  21.0    6  160.0  110  3.90  2.875  17.02   0   1     4   \n",
       "2         Datsun 710  22.8    4  108.0   93  3.85  2.320  18.61   1   1     4   \n",
       "3     Hornet 4 Drive  21.4    6  258.0  110  3.08  3.215  19.44   1   0     3   \n",
       "4  Hornet Sportabout  18.7    8  360.0  175  3.15  3.440  17.02   0   0     3   \n",
       "\n",
       "   carb  \n",
       "0     4  \n",
       "1     4  \n",
       "2     1  \n",
       "3     1  \n",
       "4     2  "
      ]
     },
     "execution_count": 1,
     "metadata": {},
     "output_type": "execute_result"
    }
   ],
   "source": [
    "import pandas as pd\n",
    "import numpy as np\n",
    "\n",
    "df = pd.read_csv('mtcars.csv')\n",
    "df.head()"
   ]
  },
  {
   "cell_type": "code",
   "execution_count": 3,
   "id": "f5e03909",
   "metadata": {},
   "outputs": [
    {
     "name": "stdout",
     "output_type": "stream",
     "text": [
      "7\n"
     ]
    }
   ],
   "source": [
    "# 문제11\n",
    "# cyl가 4인 자동차와 6인 자동차 그룹의 mpg 평균값 차이를 절대값으로 정수로 출력하시오.\n",
    "\n",
    "df = pd.read_csv('mtcars.csv')\n",
    "cond1 = (df['cyl']==4)\n",
    "cond2 = (df['cyl']==6)\n",
    "\n",
    "cyl4 = df[cond1]['mpg'].mean()\n",
    "cyl6 = df[cond2]['mpg'].mean()\n",
    "\n",
    "print(round(abs(cyl4-cyl6)))"
   ]
  },
  {
   "cell_type": "code",
   "execution_count": 4,
   "id": "778889f1",
   "metadata": {},
   "outputs": [
    {
     "name": "stdout",
     "output_type": "stream",
     "text": [
      "2\n"
     ]
    }
   ],
   "source": [
    "# 문제12\n",
    "# hp 변수에 대해 데이터 표준화(z-score)를 진행하고 이상치의 수를 구하시오.\n",
    "# 단, 이상치는 z값이 1.5를 초과하거나 -1.5 미만인 값이다.\n",
    "\n",
    "df = pd.read_csv('mtcars.csv')\n",
    "mean_hp = df['hp'].mean()\n",
    "std_hp = df['hp'].std()\n",
    "df['zscore_hp'] = (df['hp']-df['hp'].mean())/df['hp'].std()\n",
    "\n",
    "cond1 = (df['zscore_hp'] > 1.5)\n",
    "cond2 = (df['zscore_hp'] < -1.5)\n",
    "\n",
    "print(len(df[cond1]) + len(df[cond2]))"
   ]
  },
  {
   "cell_type": "code",
   "execution_count": 6,
   "id": "2eb37b38",
   "metadata": {},
   "outputs": [
    {
     "name": "stdout",
     "output_type": "stream",
     "text": [
      "5\n"
     ]
    }
   ],
   "source": [
    "# 문제13\n",
    "# mpg 컬럼을 최소최대 scaling을 진행한 수 0.7보다 큰 값을 가지는 레코드 수를 구하여라.\n",
    "\n",
    "df = pd.read_csv('mtcars.csv')\n",
    "min_mpg = df['mpg'].min()\n",
    "max_mpg = df['mpg'].max()\n",
    "\n",
    "df['mpg_min_max'] = (df['mpg'] - min_mpg) / (max_mpg - min_mpg)\n",
    "cond = (df['mpg_min_max'] > 0.7)\n",
    "print(len(df[cond]))"
   ]
  },
  {
   "cell_type": "code",
   "execution_count": 12,
   "id": "0e8eaaef",
   "metadata": {},
   "outputs": [
    {
     "name": "stdout",
     "output_type": "stream",
     "text": [
      "3\n"
     ]
    }
   ],
   "source": [
    "# 문제14\n",
    "# wt컬럼에 대해 상자그림 기준으로 이사치의 개수를 구하시오.\n",
    "\n",
    "df = pd.read_csv('mtcars.csv')\n",
    "Q1 = df['wt'].quantile(0.25)\n",
    "Q3 = df['wt'].quantile(0.75)\n",
    "IQR = Q3-Q1\n",
    "\n",
    "lower = (Q1-1.5*IQR)\n",
    "upper = (Q3+1.5*IQR)\n",
    "\n",
    "cond1 = (df['wt']<lower)\n",
    "cond2 = (df['wt']>upper)\n",
    "\n",
    "# print(len(df[cond1|cond2]))\n",
    "print(len(df[cond1])+len(df[cond2]))"
   ]
  },
  {
   "cell_type": "code",
   "execution_count": 14,
   "id": "6f79dc42",
   "metadata": {},
   "outputs": [
    {
     "name": "stdout",
     "output_type": "stream",
     "text": [
      "2\n"
     ]
    }
   ],
   "source": [
    "# 문제15\n",
    "# 판매수 컬럼의 결측치를 최소값으로 대체하고\n",
    "# 결측치가 있을 때와 최소값으로 대체했을 때 평균값의 차이를 절대값으로 정수로 출력하시오.\n",
    "\n",
    "df = pd.DataFrame( {\n",
    "    '날짜': ['20220103','20220105', None,'20230127','20220203', '20220205','20230210','20230223','20230312','20230422','20220505','20230511'],\n",
    "    '제품' : ['A','B', None, 'B', 'A', None,'A', 'B', 'A', 'B', 'A', 'A'],\n",
    "    '판매수': [3, None, 5, 10, 10, 10, 15, 15, 20, None, 30, 40], \n",
    "    '개당수익': [300, 400, 500, 600, 400, 500, 500, 600, 600, 700, 600, 600] })\n",
    "\n",
    "df2 = df.copy()\n",
    "min_ea = df['판매수'].min()\n",
    "df2['판매수'] = df2['판매수'].fillna(min_ea)\n",
    "\n",
    "with_m = df['판매수'].mean()\n",
    "without_m = df2['판매수'].mean()\n",
    "\n",
    "print(round(abs(without_m-with_m)))"
   ]
  },
  {
   "cell_type": "code",
   "execution_count": 15,
   "id": "93237b0f",
   "metadata": {},
   "outputs": [
    {
     "name": "stdout",
     "output_type": "stream",
     "text": [
      "65\n"
     ]
    }
   ],
   "source": [
    "# 문제16\n",
    "# vs변수가 0이 아닌 차량 중에 mpg 값이 가장 큰 차량의 hp 값을 출력하시오.\n",
    "\n",
    "df = pd.read_csv('mtcars.csv')\n",
    "\n",
    "# vs변수가 0이 아닌 차량\n",
    "df = df[df['vs']!=0]\n",
    "\n",
    "# mpg변수를 내림차순\n",
    "df = df.sort_values('mpg', ascending=False)\n",
    "\n",
    "# 정렬후에 hp가 가장 높은 것\n",
    "print(df['hp'].iloc[0])"
   ]
  },
  {
   "cell_type": "code",
   "execution_count": 16,
   "id": "7e73b737",
   "metadata": {},
   "outputs": [
    {
     "name": "stdout",
     "output_type": "stream",
     "text": [
      "21.8\n"
     ]
    }
   ],
   "source": [
    "# 문제17\n",
    "# gear 변수값이 3, 4인 두 그룹의 hp 표준편차값의 차이를 절대값으로 소수점 첫째자리로 구하시오.\n",
    "\n",
    "df = pd.read_csv('mtcars.csv')\n",
    "\n",
    "gear3 = df[df['gear']==3]\n",
    "gear4 = df[df['gear']==4]\n",
    "\n",
    "std3 = gear3['hp'].std()\n",
    "std4 = gear4['hp'].std()\n",
    "\n",
    "print(round(abs(std3-std4),1))"
   ]
  },
  {
   "cell_type": "code",
   "execution_count": 30,
   "id": "16739252",
   "metadata": {},
   "outputs": [
    {
     "name": "stdout",
     "output_type": "stream",
     "text": [
      "            mpg       cyl        disp          hp      drat        wt    qsec  \\\n",
      "gear                                                                            \n",
      "3     16.106667  7.466667  326.300000  176.133333  3.132667  3.892600  17.692   \n",
      "4     24.533333  4.666667  123.016667   89.500000  4.043333  2.616667  18.965   \n",
      "5     21.380000  6.000000  202.480000  195.600000  3.916000  2.632600  15.640   \n",
      "\n",
      "            vs        am      carb  \n",
      "gear                                \n",
      "3     0.200000  0.000000  2.666667  \n",
      "4     0.833333  0.666667  2.333333  \n",
      "5     0.200000  1.000000  4.400000  \n",
      "28.075\n"
     ]
    }
   ],
   "source": [
    "# 문제18\n",
    "# gear 변수의 값별로 그룹화하여 mpg평균값을 산출하고,\n",
    "# 평균값이 높은 그룹의 mpg 제3사분위수 값을 구하시오.\n",
    "\n",
    "df = pd.read_csv('mtcars.csv')\n",
    "df\n",
    "\n",
    "print(df.groupby('gear').mean()) # gear가 4일때 mpg값이 높음\n",
    "\n",
    "gear4 = df[df['gear']==4]\n",
    "\n",
    "print(gear4['mpg'].quantile(0.75))"
   ]
  },
  {
   "cell_type": "code",
   "execution_count": 32,
   "id": "dd597dc8",
   "metadata": {},
   "outputs": [
    {
     "name": "stdout",
     "output_type": "stream",
     "text": [
      "248\n"
     ]
    }
   ],
   "source": [
    "# 문제19\n",
    "# hp 항목의 상위 7번째 값으로 상위 7개값을 변환한 후\n",
    "# hp가 150이상인 데이터를 추출하여 hp의 평균값을 반올림하여 정수로 출력하시오.\n",
    "\n",
    "df = pd.read_csv('mtcars.csv')\n",
    "\n",
    "top7 = df['hp'].sort_values(ascending=False).head(7)\n",
    "\n",
    "print(round(top7[top7>150].mean()))"
   ]
  },
  {
   "cell_type": "code",
   "execution_count": 4,
   "id": "60798eb0",
   "metadata": {},
   "outputs": [
    {
     "name": "stdout",
     "output_type": "stream",
     "text": [
      "187\n"
     ]
    }
   ],
   "source": [
    "# 문제19 다른풀이\n",
    "# hp 항목의 상위 7번째 값으로 상위 7개값을 변환한 후\n",
    "# hp가 150이상인 데이터를 추출하여 hp의 평균값을 반올림하여 정수로 출력하시오.\n",
    "\n",
    "import pandas as pd\n",
    "import numpy as np\n",
    "\n",
    "df = pd.read_csv('mtcars.csv')\n",
    "\n",
    "df = df.sort_values('hp', ascending=False)\n",
    "\n",
    "# 인덱스 초기화\n",
    "df = df.reset_index(drop=True) # drop=True는 기존index는 삭제한다는 의미\n",
    "#print(df)\n",
    "\n",
    "# hp 상위 7번째 값 확인\n",
    "top7 = df['hp'].loc[6]\n",
    "top7\n",
    "\n",
    "# np.where 활용\n",
    "df['hp'] = np.where(df['hp']>=205, top7, df['hp'])\n",
    "\n",
    "# hp 150이상인 데이터\n",
    "cond1 = (df['hp']>=150)\n",
    "df = df[cond1]\n",
    "print(round(df['hp'].mean()))"
   ]
  },
  {
   "cell_type": "code",
   "execution_count": 5,
   "id": "d61eaca7",
   "metadata": {},
   "outputs": [
    {
     "name": "stdout",
     "output_type": "stream",
     "text": [
      "19\n"
     ]
    }
   ],
   "source": [
    "# 문제20\n",
    "# car변수에 Merc 문구가 포함된 자동차의 mpg 평균값을 정수로 출력하시오.\n",
    "df = pd.read_csv('mtcars.csv')\n",
    "\n",
    "df2 = df[df['car'].str.contains('Merc')]\n",
    "print(round(df2['mpg'].mean()))"
   ]
  },
  {
   "cell_type": "code",
   "execution_count": null,
   "id": "b7befe47",
   "metadata": {},
   "outputs": [],
   "source": [
    "# 시험환경에서 답구하는 법\n",
    "df = df.reset_index()\n",
    "df2 = df[df['index'].str.contains(\"Merc\")]\n",
    "print(rounc(df2['mpg'].mean()))"
   ]
  }
 ],
 "metadata": {
  "kernelspec": {
   "display_name": "Python 3 (ipykernel)",
   "language": "python",
   "name": "python3"
  },
  "language_info": {
   "codemirror_mode": {
    "name": "ipython",
    "version": 3
   },
   "file_extension": ".py",
   "mimetype": "text/x-python",
   "name": "python",
   "nbconvert_exporter": "python",
   "pygments_lexer": "ipython3",
   "version": "3.9.13"
  }
 },
 "nbformat": 4,
 "nbformat_minor": 5
}
