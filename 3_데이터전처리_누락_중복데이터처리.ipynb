{
 "cells": [
  {
   "cell_type": "markdown",
   "id": "2649705d",
   "metadata": {},
   "source": [
    "- 누락 및 중복 데이터 정리하기 위해서,\n",
    "- 적절한 값으로 대체 및 제거"
   ]
  },
  {
   "cell_type": "code",
   "execution_count": 1,
   "id": "af19bc8e",
   "metadata": {},
   "outputs": [
    {
     "name": "stdout",
     "output_type": "stream",
     "text": [
      "     survived  pclass     sex   age  sibsp  parch     fare embarked   class  \\\n",
      "0           0       3    male  22.0      1      0   7.2500        S   Third   \n",
      "1           1       1  female  38.0      1      0  71.2833        C   First   \n",
      "2           1       3  female  26.0      0      0   7.9250        S   Third   \n",
      "3           1       1  female  35.0      1      0  53.1000        S   First   \n",
      "4           0       3    male  35.0      0      0   8.0500        S   Third   \n",
      "..        ...     ...     ...   ...    ...    ...      ...      ...     ...   \n",
      "886         0       2    male  27.0      0      0  13.0000        S  Second   \n",
      "887         1       1  female  19.0      0      0  30.0000        S   First   \n",
      "888         0       3  female   NaN      1      2  23.4500        S   Third   \n",
      "889         1       1    male  26.0      0      0  30.0000        C   First   \n",
      "890         0       3    male  32.0      0      0   7.7500        Q   Third   \n",
      "\n",
      "       who  adult_male deck  embark_town alive  alone  \n",
      "0      man        True  NaN  Southampton    no  False  \n",
      "1    woman       False    C    Cherbourg   yes  False  \n",
      "2    woman       False  NaN  Southampton   yes   True  \n",
      "3    woman       False    C  Southampton   yes  False  \n",
      "4      man        True  NaN  Southampton    no   True  \n",
      "..     ...         ...  ...          ...   ...    ...  \n",
      "886    man        True  NaN  Southampton    no   True  \n",
      "887  woman       False    B  Southampton   yes   True  \n",
      "888  woman       False  NaN  Southampton    no  False  \n",
      "889    man        True    C    Cherbourg   yes   True  \n",
      "890    man        True  NaN   Queenstown    no   True  \n",
      "\n",
      "[891 rows x 15 columns]\n"
     ]
    }
   ],
   "source": [
    "# 누락데이터 확인\n",
    "# 1. 데이터프레임의 요약정보를 출력 : info()\n",
    "import seaborn as sns\n",
    "df = sns.load_dataset('titanic')\n",
    "print(df)"
   ]
  },
  {
   "cell_type": "code",
   "execution_count": 2,
   "id": "8fbc7d76",
   "metadata": {},
   "outputs": [
    {
     "name": "stdout",
     "output_type": "stream",
     "text": [
      "<class 'pandas.core.frame.DataFrame'>\n",
      "RangeIndex: 891 entries, 0 to 890\n",
      "Data columns (total 15 columns):\n",
      " #   Column       Non-Null Count  Dtype   \n",
      "---  ------       --------------  -----   \n",
      " 0   survived     891 non-null    int64   \n",
      " 1   pclass       891 non-null    int64   \n",
      " 2   sex          891 non-null    object  \n",
      " 3   age          714 non-null    float64 \n",
      " 4   sibsp        891 non-null    int64   \n",
      " 5   parch        891 non-null    int64   \n",
      " 6   fare         891 non-null    float64 \n",
      " 7   embarked     889 non-null    object  \n",
      " 8   class        891 non-null    category\n",
      " 9   who          891 non-null    object  \n",
      " 10  adult_male   891 non-null    bool    \n",
      " 11  deck         203 non-null    category\n",
      " 12  embark_town  889 non-null    object  \n",
      " 13  alive        891 non-null    object  \n",
      " 14  alone        891 non-null    bool    \n",
      "dtypes: bool(2), category(2), float64(2), int64(4), object(5)\n",
      "memory usage: 80.7+ KB\n"
     ]
    }
   ],
   "source": [
    "df.info()\n",
    "# age변수의 누락데이터가 있음을 확인 가능"
   ]
  },
  {
   "cell_type": "code",
   "execution_count": 3,
   "id": "3b8533d3",
   "metadata": {},
   "outputs": [
    {
     "name": "stdout",
     "output_type": "stream",
     "text": [
      "Southampton    644\n",
      "Cherbourg      168\n",
      "Queenstown      77\n",
      "NaN              2\n",
      "Name: embark_town, dtype: int64\n"
     ]
    }
   ],
   "source": [
    "# 특정변수의 빈도분석 : value_count()\n",
    "nan_town = df['embark_town'].value_counts(dropna=False)\n",
    "print(nan_town)"
   ]
  },
  {
   "cell_type": "code",
   "execution_count": 4,
   "id": "c72f42ee",
   "metadata": {},
   "outputs": [
    {
     "name": "stdout",
     "output_type": "stream",
     "text": [
      "   survived  pclass     sex   age  sibsp  parch     fare embarked  class  \\\n",
      "0         0       3    male  22.0      1      0   7.2500        S  Third   \n",
      "1         1       1  female  38.0      1      0  71.2833        C  First   \n",
      "2         1       3  female  26.0      0      0   7.9250        S  Third   \n",
      "3         1       1  female  35.0      1      0  53.1000        S  First   \n",
      "4         0       3    male  35.0      0      0   8.0500        S  Third   \n",
      "\n",
      "     who  adult_male deck  embark_town alive  alone  \n",
      "0    man        True  NaN  Southampton    no  False  \n",
      "1  woman       False    C    Cherbourg   yes  False  \n",
      "2  woman       False  NaN  Southampton   yes   True  \n",
      "3  woman       False    C  Southampton   yes  False  \n",
      "4    man        True  NaN  Southampton    no   True  \n"
     ]
    }
   ],
   "source": [
    "# 결측치 여부를 직접 확인 : isnull()/notnull()\n",
    "# isnull()은 결측값존재시 True를 반환\n",
    "# notnull()은 결측값존재시 False를 반환\n",
    "\n",
    "print(df.head())"
   ]
  },
  {
   "cell_type": "code",
   "execution_count": 5,
   "id": "0cc47477",
   "metadata": {},
   "outputs": [
    {
     "name": "stdout",
     "output_type": "stream",
     "text": [
      "   survived  pclass    sex    age  sibsp  parch   fare  embarked  class  \\\n",
      "0     False   False  False  False  False  False  False     False  False   \n",
      "1     False   False  False  False  False  False  False     False  False   \n",
      "2     False   False  False  False  False  False  False     False  False   \n",
      "3     False   False  False  False  False  False  False     False  False   \n",
      "4     False   False  False  False  False  False  False     False  False   \n",
      "\n",
      "     who  adult_male   deck  embark_town  alive  alone  \n",
      "0  False       False   True        False  False  False  \n",
      "1  False       False  False        False  False  False  \n",
      "2  False       False   True        False  False  False  \n",
      "3  False       False  False        False  False  False  \n",
      "4  False       False   True        False  False  False  \n"
     ]
    }
   ],
   "source": [
    "print(df.head().isnull())"
   ]
  },
  {
   "cell_type": "code",
   "execution_count": 6,
   "id": "c31f5c13",
   "metadata": {},
   "outputs": [
    {
     "name": "stdout",
     "output_type": "stream",
     "text": [
      "   survived  pclass   sex   age  sibsp  parch  fare  embarked  class   who  \\\n",
      "0      True    True  True  True   True   True  True      True   True  True   \n",
      "1      True    True  True  True   True   True  True      True   True  True   \n",
      "2      True    True  True  True   True   True  True      True   True  True   \n",
      "3      True    True  True  True   True   True  True      True   True  True   \n",
      "4      True    True  True  True   True   True  True      True   True  True   \n",
      "\n",
      "   adult_male   deck  embark_town  alive  alone  \n",
      "0        True  False         True   True   True  \n",
      "1        True   True         True   True   True  \n",
      "2        True  False         True   True   True  \n",
      "3        True   True         True   True   True  \n",
      "4        True  False         True   True   True  \n"
     ]
    }
   ],
   "source": [
    "print(df.head().notnull())"
   ]
  },
  {
   "cell_type": "code",
   "execution_count": 7,
   "id": "7e3f144b",
   "metadata": {},
   "outputs": [
    {
     "name": "stdout",
     "output_type": "stream",
     "text": [
      "<class 'pandas.core.frame.DataFrame'>\n",
      "RangeIndex: 891 entries, 0 to 890\n",
      "Data columns (total 14 columns):\n",
      " #   Column       Non-Null Count  Dtype   \n",
      "---  ------       --------------  -----   \n",
      " 0   survived     891 non-null    int64   \n",
      " 1   pclass       891 non-null    int64   \n",
      " 2   sex          891 non-null    object  \n",
      " 3   age          714 non-null    float64 \n",
      " 4   sibsp        891 non-null    int64   \n",
      " 5   parch        891 non-null    int64   \n",
      " 6   fare         891 non-null    float64 \n",
      " 7   embarked     889 non-null    object  \n",
      " 8   class        891 non-null    category\n",
      " 9   who          891 non-null    object  \n",
      " 10  adult_male   891 non-null    bool    \n",
      " 11  embark_town  889 non-null    object  \n",
      " 12  alive        891 non-null    object  \n",
      " 13  alone        891 non-null    bool    \n",
      "dtypes: bool(2), category(1), float64(2), int64(4), object(5)\n",
      "memory usage: 79.4+ KB\n"
     ]
    }
   ],
   "source": [
    "# 누락 데이터제거\n",
    "# 누락데이터가 존재하는 열또는 행을 삭제 -> 유효데이터가 50%이하인 deck열이 제거됨\n",
    "df_thresh = df.dropna(axis=1, thresh=495)\n",
    "df_thresh.info()"
   ]
  },
  {
   "cell_type": "code",
   "execution_count": 8,
   "id": "9bf1e5d1",
   "metadata": {},
   "outputs": [
    {
     "name": "stdout",
     "output_type": "stream",
     "text": [
      "     survived  pclass     sex   age  sibsp  parch     fare embarked   class  \\\n",
      "0           0       3    male  22.0      1      0   7.2500        S   Third   \n",
      "1           1       1  female  38.0      1      0  71.2833        C   First   \n",
      "2           1       3  female  26.0      0      0   7.9250        S   Third   \n",
      "3           1       1  female  35.0      1      0  53.1000        S   First   \n",
      "4           0       3    male  35.0      0      0   8.0500        S   Third   \n",
      "..        ...     ...     ...   ...    ...    ...      ...      ...     ...   \n",
      "885         0       3  female  39.0      0      5  29.1250        Q   Third   \n",
      "886         0       2    male  27.0      0      0  13.0000        S  Second   \n",
      "887         1       1  female  19.0      0      0  30.0000        S   First   \n",
      "889         1       1    male  26.0      0      0  30.0000        C   First   \n",
      "890         0       3    male  32.0      0      0   7.7500        Q   Third   \n",
      "\n",
      "       who  adult_male deck  embark_town alive  alone  \n",
      "0      man        True  NaN  Southampton    no  False  \n",
      "1    woman       False    C    Cherbourg   yes  False  \n",
      "2    woman       False  NaN  Southampton   yes   True  \n",
      "3    woman       False    C  Southampton   yes  False  \n",
      "4      man        True  NaN  Southampton    no   True  \n",
      "..     ...         ...  ...          ...   ...    ...  \n",
      "885  woman       False  NaN   Queenstown    no  False  \n",
      "886    man        True  NaN  Southampton    no   True  \n",
      "887  woman       False    B  Southampton   yes   True  \n",
      "889    man        True    C    Cherbourg   yes   True  \n",
      "890    man        True  NaN   Queenstown    no   True  \n",
      "\n",
      "[714 rows x 15 columns]\n"
     ]
    }
   ],
   "source": [
    "# 데이터분석 시 포함되어야 하는 변수에 누락데이터가 존재할경우\n",
    "# 변수가 아닌 누락된 레코드를 삭제하는 방식으로 정리\n",
    "df_age = df.dropna(subset=['age'], how='any', axis=0)\n",
    "print(df_age)"
   ]
  },
  {
   "cell_type": "code",
   "execution_count": 9,
   "id": "1aea4459",
   "metadata": {},
   "outputs": [
    {
     "name": "stdout",
     "output_type": "stream",
     "text": [
      "     survived  pclass     sex   age  sibsp  parch     fare embarked  class  \\\n",
      "1           1       1  female  38.0      1      0  71.2833        C  First   \n",
      "3           1       1  female  35.0      1      0  53.1000        S  First   \n",
      "6           0       1    male  54.0      0      0  51.8625        S  First   \n",
      "10          1       3  female   4.0      1      1  16.7000        S  Third   \n",
      "11          1       1  female  58.0      0      0  26.5500        S  First   \n",
      "..        ...     ...     ...   ...    ...    ...      ...      ...    ...   \n",
      "871         1       1  female  47.0      1      1  52.5542        S  First   \n",
      "872         0       1    male  33.0      0      0   5.0000        S  First   \n",
      "879         1       1  female  56.0      0      1  83.1583        C  First   \n",
      "887         1       1  female  19.0      0      0  30.0000        S  First   \n",
      "889         1       1    male  26.0      0      0  30.0000        C  First   \n",
      "\n",
      "       who  adult_male deck  embark_town alive  alone  \n",
      "1    woman       False    C    Cherbourg   yes  False  \n",
      "3    woman       False    C  Southampton   yes  False  \n",
      "6      man        True    E  Southampton    no   True  \n",
      "10   child       False    G  Southampton   yes  False  \n",
      "11   woman       False    C  Southampton   yes   True  \n",
      "..     ...         ...  ...          ...   ...    ...  \n",
      "871  woman       False    D  Southampton   yes  False  \n",
      "872    man        True    B  Southampton    no   True  \n",
      "879  woman       False    C    Cherbourg   yes  False  \n",
      "887  woman       False    B  Southampton   yes   True  \n",
      "889    man        True    C    Cherbourg   yes   True  \n",
      "\n",
      "[184 rows x 15 columns]\n"
     ]
    }
   ],
   "source": [
    "# age와 deck 두 변수중 하나라도 누락된 레코드를 삭제\n",
    "df_1 = df.dropna(subset=['age','deck'], how='any', axis=0)\n",
    "print(df_1)"
   ]
  },
  {
   "cell_type": "code",
   "execution_count": 10,
   "id": "751a8820",
   "metadata": {},
   "outputs": [
    {
     "name": "stdout",
     "output_type": "stream",
     "text": [
      "     survived  pclass     sex   age  sibsp  parch     fare embarked   class  \\\n",
      "0           0       3    male  22.0      1      0   7.2500        S   Third   \n",
      "1           1       1  female  38.0      1      0  71.2833        C   First   \n",
      "2           1       3  female  26.0      0      0   7.9250        S   Third   \n",
      "3           1       1  female  35.0      1      0  53.1000        S   First   \n",
      "4           0       3    male  35.0      0      0   8.0500        S   Third   \n",
      "..        ...     ...     ...   ...    ...    ...      ...      ...     ...   \n",
      "885         0       3  female  39.0      0      5  29.1250        Q   Third   \n",
      "886         0       2    male  27.0      0      0  13.0000        S  Second   \n",
      "887         1       1  female  19.0      0      0  30.0000        S   First   \n",
      "889         1       1    male  26.0      0      0  30.0000        C   First   \n",
      "890         0       3    male  32.0      0      0   7.7500        Q   Third   \n",
      "\n",
      "       who  adult_male deck  embark_town alive  alone  \n",
      "0      man        True  NaN  Southampton    no  False  \n",
      "1    woman       False    C    Cherbourg   yes  False  \n",
      "2    woman       False  NaN  Southampton   yes   True  \n",
      "3    woman       False    C  Southampton   yes  False  \n",
      "4      man        True  NaN  Southampton    no   True  \n",
      "..     ...         ...  ...          ...   ...    ...  \n",
      "885  woman       False  NaN   Queenstown    no  False  \n",
      "886    man        True  NaN  Southampton    no   True  \n",
      "887  woman       False    B  Southampton   yes   True  \n",
      "889    man        True    C    Cherbourg   yes   True  \n",
      "890    man        True  NaN   Queenstown    no   True  \n",
      "\n",
      "[733 rows x 15 columns]\n"
     ]
    }
   ],
   "source": [
    "# age와 deck 변수 모두 누락된 레코드 삭제\n",
    "df_2 = df.dropna(subset=['age','deck'], how='all', axis=0)\n",
    "print(df_2)"
   ]
  },
  {
   "cell_type": "code",
   "execution_count": 11,
   "id": "9b22a8a4",
   "metadata": {},
   "outputs": [
    {
     "data": {
      "text/plain": [
       "29.69911764705882"
      ]
     },
     "execution_count": 11,
     "metadata": {},
     "output_type": "execute_result"
    }
   ],
   "source": [
    "# 누락데이터치환\n",
    "# 평균/중앙/최빈값을 데이터의 분포와 특성을 잘 보여줄 수 있도록 대체\n",
    "# 평균값 대체\n",
    "mean_age = df['age'].mean(axis=0)\n",
    "mean_age"
   ]
  },
  {
   "cell_type": "code",
   "execution_count": 12,
   "id": "05875ae6",
   "metadata": {},
   "outputs": [
    {
     "name": "stdout",
     "output_type": "stream",
     "text": [
      "   survived  pclass     sex        age  sibsp  parch     fare embarked  \\\n",
      "0         0       3    male  22.000000      1      0   7.2500        S   \n",
      "1         1       1  female  38.000000      1      0  71.2833        C   \n",
      "2         1       3  female  26.000000      0      0   7.9250        S   \n",
      "3         1       1  female  35.000000      1      0  53.1000        S   \n",
      "4         0       3    male  35.000000      0      0   8.0500        S   \n",
      "5         0       3    male  29.699118      0      0   8.4583        Q   \n",
      "6         0       1    male  54.000000      0      0  51.8625        S   \n",
      "7         0       3    male   2.000000      3      1  21.0750        S   \n",
      "8         1       3  female  27.000000      0      2  11.1333        S   \n",
      "9         1       2  female  14.000000      1      0  30.0708        C   \n",
      "\n",
      "    class    who  adult_male deck  embark_town alive  alone  \n",
      "0   Third    man        True  NaN  Southampton    no  False  \n",
      "1   First  woman       False    C    Cherbourg   yes  False  \n",
      "2   Third  woman       False  NaN  Southampton   yes   True  \n",
      "3   First  woman       False    C  Southampton   yes  False  \n",
      "4   Third    man        True  NaN  Southampton    no   True  \n",
      "5   Third    man        True  NaN   Queenstown    no   True  \n",
      "6   First    man        True    E  Southampton    no   True  \n",
      "7   Third  child       False  NaN  Southampton    no  False  \n",
      "8   Third  woman       False  NaN  Southampton   yes  False  \n",
      "9  Second  child       False  NaN    Cherbourg   yes  False  \n"
     ]
    }
   ],
   "source": [
    "df['age'].fillna(mean_age, inplace=True)\n",
    "print(df.head(10))"
   ]
  },
  {
   "cell_type": "code",
   "execution_count": 13,
   "id": "6011bd17",
   "metadata": {},
   "outputs": [
    {
     "name": "stdout",
     "output_type": "stream",
     "text": [
      "     survived  pclass     sex    age  sibsp  parch     fare embarked   class  \\\n",
      "825         0       3    male    NaN      0      0   6.9500        Q   Third   \n",
      "826         0       3    male    NaN      0      0  56.4958        S   Third   \n",
      "827         1       2    male   1.00      0      2  37.0042        C  Second   \n",
      "828         1       3    male    NaN      0      0   7.7500        Q   Third   \n",
      "829         1       1  female  62.00      0      0  80.0000      NaN   First   \n",
      "830         1       3  female  15.00      1      0  14.4542        C   Third   \n",
      "831         1       2    male   0.83      1      1  18.7500        S  Second   \n",
      "832         0       3    male    NaN      0      0   7.2292        C   Third   \n",
      "833         0       3    male  23.00      0      0   7.8542        S   Third   \n",
      "834         0       3    male  18.00      0      0   8.3000        S   Third   \n",
      "\n",
      "       who  adult_male deck  embark_town alive  alone  \n",
      "825    man        True  NaN   Queenstown    no   True  \n",
      "826    man        True  NaN  Southampton    no   True  \n",
      "827  child       False  NaN    Cherbourg   yes  False  \n",
      "828    man        True  NaN   Queenstown   yes   True  \n",
      "829  woman       False    B          NaN   yes   True  \n",
      "830  child       False  NaN    Cherbourg   yes  False  \n",
      "831  child       False  NaN  Southampton   yes  False  \n",
      "832    man        True  NaN    Cherbourg    no   True  \n",
      "833    man        True  NaN  Southampton    no   True  \n",
      "834    man        True  NaN  Southampton    no   True  \n"
     ]
    }
   ],
   "source": [
    "# 최빈값 대체\n",
    "df = sns.load_dataset('titanic')\n",
    "print(df[825:835])"
   ]
  },
  {
   "cell_type": "code",
   "execution_count": 15,
   "id": "3e3be06d",
   "metadata": {},
   "outputs": [
    {
     "name": "stdout",
     "output_type": "stream",
     "text": [
      "Southampton\n"
     ]
    }
   ],
   "source": [
    "# 1. 결측값 제외하고 embark_town의 빈도를 구하고,\n",
    "# 2. 데이터프레임의 최대값의 인덱스 반환\n",
    "most_freq = df['embark_town'].value_counts(dropna=True).idxmax()\n",
    "print(most_freq)"
   ]
  },
  {
   "cell_type": "code",
   "execution_count": 16,
   "id": "e2b87032",
   "metadata": {},
   "outputs": [
    {
     "name": "stdout",
     "output_type": "stream",
     "text": [
      "     survived  pclass     sex    age  sibsp  parch     fare embarked   class  \\\n",
      "825         0       3    male    NaN      0      0   6.9500        Q   Third   \n",
      "826         0       3    male    NaN      0      0  56.4958        S   Third   \n",
      "827         1       2    male   1.00      0      2  37.0042        C  Second   \n",
      "828         1       3    male    NaN      0      0   7.7500        Q   Third   \n",
      "829         1       1  female  62.00      0      0  80.0000      NaN   First   \n",
      "830         1       3  female  15.00      1      0  14.4542        C   Third   \n",
      "831         1       2    male   0.83      1      1  18.7500        S  Second   \n",
      "832         0       3    male    NaN      0      0   7.2292        C   Third   \n",
      "833         0       3    male  23.00      0      0   7.8542        S   Third   \n",
      "834         0       3    male  18.00      0      0   8.3000        S   Third   \n",
      "\n",
      "       who  adult_male deck  embark_town alive  alone  \n",
      "825    man        True  NaN   Queenstown    no   True  \n",
      "826    man        True  NaN  Southampton    no   True  \n",
      "827  child       False  NaN    Cherbourg   yes  False  \n",
      "828    man        True  NaN   Queenstown   yes   True  \n",
      "829  woman       False    B  Southampton   yes   True  \n",
      "830  child       False  NaN    Cherbourg   yes  False  \n",
      "831  child       False  NaN  Southampton   yes  False  \n",
      "832    man        True  NaN    Cherbourg    no   True  \n",
      "833    man        True  NaN  Southampton    no   True  \n",
      "834    man        True  NaN  Southampton    no   True  \n"
     ]
    }
   ],
   "source": [
    "df['embark_town'].fillna(most_freq, inplace=True)\n",
    "print(df[825:835])"
   ]
  },
  {
   "cell_type": "code",
   "execution_count": 18,
   "id": "04241403",
   "metadata": {},
   "outputs": [
    {
     "name": "stdout",
     "output_type": "stream",
     "text": [
      "     survived  pclass     sex    age  sibsp  parch     fare embarked   class  \\\n",
      "825         0       3    male    NaN      0      0   6.9500        Q   Third   \n",
      "826         0       3    male    NaN      0      0  56.4958        S   Third   \n",
      "827         1       2    male   1.00      0      2  37.0042        C  Second   \n",
      "828         1       3    male    NaN      0      0   7.7500        Q   Third   \n",
      "829         1       1  female  62.00      0      0  80.0000      NaN   First   \n",
      "830         1       3  female  15.00      1      0  14.4542        C   Third   \n",
      "831         1       2    male   0.83      1      1  18.7500        S  Second   \n",
      "832         0       3    male    NaN      0      0   7.2292        C   Third   \n",
      "833         0       3    male  23.00      0      0   7.8542        S   Third   \n",
      "834         0       3    male  18.00      0      0   8.3000        S   Third   \n",
      "\n",
      "       who  adult_male deck  embark_town alive  alone  \n",
      "825    man        True  NaN   Queenstown    no   True  \n",
      "826    man        True  NaN  Southampton    no   True  \n",
      "827  child       False  NaN    Cherbourg   yes  False  \n",
      "828    man        True  NaN   Queenstown   yes   True  \n",
      "829  woman       False    B          NaN   yes   True  \n",
      "830  child       False  NaN    Cherbourg   yes  False  \n",
      "831  child       False  NaN  Southampton   yes  False  \n",
      "832    man        True  NaN    Cherbourg    no   True  \n",
      "833    man        True  NaN  Southampton    no   True  \n",
      "834    man        True  NaN  Southampton    no   True  \n"
     ]
    }
   ],
   "source": [
    "# 결측값을 서로 이웃하고 있는 데이터로 대체하는 경우\n",
    "import seaborn as sns\n",
    "df=sns.load_dataset('titanic')\n",
    "print(df[825:835])"
   ]
  },
  {
   "cell_type": "code",
   "execution_count": 19,
   "id": "72e1e92f",
   "metadata": {},
   "outputs": [],
   "source": [
    "df['embark_town'].fillna(method='ffill', inplace=True)"
   ]
  },
  {
   "cell_type": "code",
   "execution_count": 20,
   "id": "0318d706",
   "metadata": {},
   "outputs": [
    {
     "name": "stdout",
     "output_type": "stream",
     "text": [
      "     survived  pclass     sex   age  sibsp  parch     fare embarked   class  \\\n",
      "825         0       3    male   NaN      0      0   6.9500        Q   Third   \n",
      "826         0       3    male   NaN      0      0  56.4958        S   Third   \n",
      "827         1       2    male   1.0      0      2  37.0042        C  Second   \n",
      "828         1       3    male   NaN      0      0   7.7500        Q   Third   \n",
      "829         1       1  female  62.0      0      0  80.0000      NaN   First   \n",
      "..        ...     ...     ...   ...    ...    ...      ...      ...     ...   \n",
      "886         0       2    male  27.0      0      0  13.0000        S  Second   \n",
      "887         1       1  female  19.0      0      0  30.0000        S   First   \n",
      "888         0       3  female   NaN      1      2  23.4500        S   Third   \n",
      "889         1       1    male  26.0      0      0  30.0000        C   First   \n",
      "890         0       3    male  32.0      0      0   7.7500        Q   Third   \n",
      "\n",
      "       who  adult_male deck  embark_town alive  alone  \n",
      "825    man        True  NaN   Queenstown    no   True  \n",
      "826    man        True  NaN  Southampton    no   True  \n",
      "827  child       False  NaN    Cherbourg   yes  False  \n",
      "828    man        True  NaN   Queenstown   yes   True  \n",
      "829  woman       False    B   Queenstown   yes   True  \n",
      "..     ...         ...  ...          ...   ...    ...  \n",
      "886    man        True  NaN  Southampton    no   True  \n",
      "887  woman       False    B  Southampton   yes   True  \n",
      "888  woman       False  NaN  Southampton    no  False  \n",
      "889    man        True    C    Cherbourg   yes   True  \n",
      "890    man        True  NaN   Queenstown    no   True  \n",
      "\n",
      "[66 rows x 15 columns]\n"
     ]
    }
   ],
   "source": [
    "print(df[825:935])"
   ]
  },
  {
   "cell_type": "code",
   "execution_count": 21,
   "id": "62a01238",
   "metadata": {},
   "outputs": [
    {
     "name": "stdout",
     "output_type": "stream",
     "text": [
      "     survived  pclass     sex   age  sibsp  parch     fare embarked   class  \\\n",
      "825         0       3    male   NaN      0      0   6.9500        Q   Third   \n",
      "826         0       3    male   NaN      0      0  56.4958        S   Third   \n",
      "827         1       2    male   1.0      0      2  37.0042        C  Second   \n",
      "828         1       3    male   NaN      0      0   7.7500        Q   Third   \n",
      "829         1       1  female  62.0      0      0  80.0000      NaN   First   \n",
      "830         1       3  female  15.0      1      0  14.4542        C   Third   \n",
      "\n",
      "       who  adult_male deck  embark_town alive  alone  \n",
      "825    man        True  NaN   Queenstown    no   True  \n",
      "826    man        True  NaN  Southampton    no   True  \n",
      "827  child       False  NaN    Cherbourg   yes  False  \n",
      "828    man        True  NaN   Queenstown   yes   True  \n",
      "829  woman       False    B          NaN   yes   True  \n",
      "830  child       False  NaN    Cherbourg   yes  False  \n"
     ]
    }
   ],
   "source": [
    "# 결측값을 특정 지정값으로 대체해야 하는 경우\n",
    "import seaborn as sns\n",
    "df = sns.load_dataset('titanic')\n",
    "print(df.iloc[825:831])"
   ]
  },
  {
   "cell_type": "code",
   "execution_count": 22,
   "id": "c4735649",
   "metadata": {},
   "outputs": [
    {
     "name": "stdout",
     "output_type": "stream",
     "text": [
      "     survived  pclass     sex   age  sibsp  parch     fare embarked   class  \\\n",
      "825         0       3    male   NaN      0      0   6.9500        Q   Third   \n",
      "826         0       3    male   NaN      0      0  56.4958        S   Third   \n",
      "827         1       2    male   1.0      0      2  37.0042        C  Second   \n",
      "828         1       3    male   NaN      0      0   7.7500        Q   Third   \n",
      "829         1       1  female  62.0      0      0  80.0000      NaN   First   \n",
      "830         1       3  female  15.0      1      0  14.4542        C   Third   \n",
      "\n",
      "       who  adult_male deck  embark_town alive  alone  \n",
      "825    man        True  NaN   Queenstown    no   True  \n",
      "826    man        True  NaN  Southampton    no   True  \n",
      "827  child       False  NaN    Cherbourg   yes  False  \n",
      "828    man        True  NaN   Queenstown   yes   True  \n",
      "829  woman       False    B   Queenstown   yes   True  \n",
      "830  child       False  NaN    Cherbourg   yes  False  \n"
     ]
    }
   ],
   "source": [
    "import numpy as np\n",
    "df['embark_town'].replace({np.nan:\"Queenstown\"}, inplace=True)\n",
    "print(df.iloc[825:831])"
   ]
  },
  {
   "cell_type": "code",
   "execution_count": 23,
   "id": "afb7e556",
   "metadata": {},
   "outputs": [
    {
     "name": "stdout",
     "output_type": "stream",
     "text": [
      "         Date    Code  Color\n",
      "0  2021-01-01  T10001  Black\n",
      "1  2021-01-01  T10001  Black\n",
      "2  2021-01-02  S10001  White\n",
      "3  2021-01-03  S10002  White\n"
     ]
    }
   ],
   "source": [
    "# 중복 데이터 확인\n",
    "import pandas as pd\n",
    "exam_data = {'Date':['2021-01-01','2021-01-01','2021-01-02','2021-01-03'],\n",
    "            'Code':['T10001','T10001','S10001','S10002'],\n",
    "            'Color':['Black','Black','White','White']}\n",
    "df = pd.DataFrame(exam_data)\n",
    "print(df)"
   ]
  },
  {
   "cell_type": "code",
   "execution_count": 24,
   "id": "e1018d09",
   "metadata": {},
   "outputs": [
    {
     "data": {
      "text/plain": [
       "0    False\n",
       "1     True\n",
       "2    False\n",
       "3    False\n",
       "dtype: bool"
      ]
     },
     "execution_count": 24,
     "metadata": {},
     "output_type": "execute_result"
    }
   ],
   "source": [
    "# 중복된 데이터이면 True를 반환, 중복되지 않으면 False를 반환\n",
    "df.duplicated(subset=['Date','Code'])"
   ]
  },
  {
   "cell_type": "code",
   "execution_count": 25,
   "id": "b86325e5",
   "metadata": {},
   "outputs": [
    {
     "name": "stdout",
     "output_type": "stream",
     "text": [
      "         Date    Code  Color\n",
      "0  2021-01-01  T10001  Black\n",
      "2  2021-01-02  S10001  White\n",
      "3  2021-01-03  S10002  White\n"
     ]
    }
   ],
   "source": [
    "# drop_duplictes() : 동일한 관측값이 중복되었을때 제거\n",
    "df_dup = df.drop_duplicates(subset=['Date','Code'])\n",
    "print(df_dup)"
   ]
  },
  {
   "cell_type": "code",
   "execution_count": 26,
   "id": "ed41b604",
   "metadata": {},
   "outputs": [
    {
     "name": "stdout",
     "output_type": "stream",
     "text": [
      "               method  number  orbital_period   mass  distance  year\n",
      "0     Radial Velocity       1      269.300000   7.10     77.40  2006\n",
      "1     Radial Velocity       1      874.774000   2.21     56.95  2008\n",
      "2     Radial Velocity       1      763.000000   2.60     19.84  2011\n",
      "3     Radial Velocity       1      326.030000  19.40    110.62  2007\n",
      "4     Radial Velocity       1      516.220000  10.50    119.47  2009\n",
      "...               ...     ...             ...    ...       ...   ...\n",
      "1030          Transit       1        3.941507    NaN    172.00  2006\n",
      "1031          Transit       1        2.615864    NaN    148.00  2007\n",
      "1032          Transit       1        3.191524    NaN    174.00  2007\n",
      "1033          Transit       1        4.125083    NaN    293.00  2008\n",
      "1034          Transit       1        4.187757    NaN    260.00  2008\n",
      "\n",
      "[1035 rows x 6 columns]\n"
     ]
    }
   ],
   "source": [
    "# 데이터분석 실습\n",
    "# 1. 데이터 불러오기\n",
    "import seaborn as sns\n",
    "df = sns.load_dataset('planets')\n",
    "print(df)"
   ]
  },
  {
   "cell_type": "code",
   "execution_count": 27,
   "id": "1e6f652c",
   "metadata": {},
   "outputs": [
    {
     "name": "stdout",
     "output_type": "stream",
     "text": [
      "<class 'pandas.core.frame.DataFrame'>\n",
      "RangeIndex: 1035 entries, 0 to 1034\n",
      "Data columns (total 6 columns):\n",
      " #   Column          Non-Null Count  Dtype  \n",
      "---  ------          --------------  -----  \n",
      " 0   method          1035 non-null   object \n",
      " 1   number          1035 non-null   int64  \n",
      " 2   orbital_period  992 non-null    float64\n",
      " 3   mass            513 non-null    float64\n",
      " 4   distance        808 non-null    float64\n",
      " 5   year            1035 non-null   int64  \n",
      "dtypes: float64(3), int64(2), object(1)\n",
      "memory usage: 48.6+ KB\n"
     ]
    }
   ],
   "source": [
    "# 2. info()함수를 사용해 자료를 살펴보기\n",
    "df.info()"
   ]
  },
  {
   "cell_type": "code",
   "execution_count": 28,
   "id": "78a02f85",
   "metadata": {},
   "outputs": [
    {
     "name": "stdout",
     "output_type": "stream",
     "text": [
      "           method  number  orbital_period  mass  distance  year\n",
      "900       Imaging       1     40000.00000   NaN       NaN  2011\n",
      "901       Transit       1         3.91405   NaN    2000.0  2007\n",
      "902  Microlensing       1             NaN   NaN       NaN  2008\n",
      "903  Microlensing       1             NaN   NaN       NaN  2008\n",
      "904  Microlensing       1             NaN   NaN       NaN  2009\n",
      "905  Microlensing       1             NaN   NaN    3600.0  2013\n"
     ]
    }
   ],
   "source": [
    "# 3. 중복 자료 존재여부 확인\n",
    "print(df.iloc[900:906])"
   ]
  },
  {
   "cell_type": "code",
   "execution_count": 29,
   "id": "ddb622b0",
   "metadata": {},
   "outputs": [
    {
     "name": "stdout",
     "output_type": "stream",
     "text": [
      "           method  number  orbital_period  mass  distance  year\n",
      "900       Imaging       1     40000.00000   NaN       NaN  2011\n",
      "901       Transit       1         3.91405   NaN    2000.0  2007\n",
      "902  Microlensing       1             NaN   NaN       NaN  2008\n",
      "904  Microlensing       1             NaN   NaN       NaN  2009\n",
      "905  Microlensing       1             NaN   NaN    3600.0  2013\n",
      "906  Microlensing       1      2780.00000   NaN       NaN  2011\n"
     ]
    }
   ],
   "source": [
    "df_dup = df.drop_duplicates()\n",
    "print(df_dup.iloc[900:906])"
   ]
  },
  {
   "cell_type": "code",
   "execution_count": 30,
   "id": "76408938",
   "metadata": {},
   "outputs": [
    {
     "name": "stdout",
     "output_type": "stream",
     "text": [
      "<class 'pandas.core.frame.DataFrame'>\n",
      "Int64Index: 1031 entries, 0 to 1034\n",
      "Data columns (total 6 columns):\n",
      " #   Column          Non-Null Count  Dtype  \n",
      "---  ------          --------------  -----  \n",
      " 0   method          1031 non-null   object \n",
      " 1   number          1031 non-null   int64  \n",
      " 2   orbital_period  992 non-null    float64\n",
      " 3   mass            513 non-null    float64\n",
      " 4   distance        807 non-null    float64\n",
      " 5   year            1031 non-null   int64  \n",
      "dtypes: float64(3), int64(2), object(1)\n",
      "memory usage: 56.4+ KB\n"
     ]
    }
   ],
   "source": [
    "# 4. info()를 실행하여 중복데이터 삭제여부 확인\n",
    "df_dup.info()"
   ]
  },
  {
   "cell_type": "code",
   "execution_count": 31,
   "id": "a914fd69",
   "metadata": {},
   "outputs": [
    {
     "name": "stdout",
     "output_type": "stream",
     "text": [
      "<class 'pandas.core.frame.DataFrame'>\n",
      "Int64Index: 1031 entries, 0 to 1034\n",
      "Data columns (total 5 columns):\n",
      " #   Column          Non-Null Count  Dtype  \n",
      "---  ------          --------------  -----  \n",
      " 0   method          1031 non-null   object \n",
      " 1   number          1031 non-null   int64  \n",
      " 2   orbital_period  992 non-null    float64\n",
      " 3   distance        807 non-null    float64\n",
      " 4   year            1031 non-null   int64  \n",
      "dtypes: float64(2), int64(2), object(1)\n",
      "memory usage: 48.3+ KB\n"
     ]
    }
   ],
   "source": [
    "# 5. 누락 데이터제거\n",
    "df_thresh = df_dup.dropna(axis=1,thresh=600)\n",
    "df_thresh.info()"
   ]
  },
  {
   "cell_type": "code",
   "execution_count": 32,
   "id": "3aecf8b4",
   "metadata": {},
   "outputs": [
    {
     "name": "stdout",
     "output_type": "stream",
     "text": [
      "             method  number  orbital_period  distance  year\n",
      "25  Radial Velocity       1      116.688400     18.11  1996\n",
      "26  Radial Velocity       1      691.900000     81.50  2012\n",
      "27  Radial Velocity       1      952.700000     97.18  2008\n",
      "28  Radial Velocity       1      181.400000     45.52  2013\n",
      "29          Imaging       1     2002.917596     45.52  2005\n",
      "30          Imaging       1     2002.917596    165.00  2007\n"
     ]
    },
    {
     "name": "stderr",
     "output_type": "stream",
     "text": [
      "C:\\Users\\M\\.conda\\envs\\cospropython\\lib\\site-packages\\pandas\\core\\generic.py:6392: SettingWithCopyWarning: \n",
      "A value is trying to be set on a copy of a slice from a DataFrame\n",
      "\n",
      "See the caveats in the documentation: https://pandas.pydata.org/pandas-docs/stable/user_guide/indexing.html#returning-a-view-versus-a-copy\n",
      "  return self._update_inplace(result)\n"
     ]
    }
   ],
   "source": [
    "# 누락데이터 대체\n",
    "mean_period = df_thresh['orbital_period'].mean(axis=0)\n",
    "df_thresh['orbital_period'].fillna(mean_period, inplace=True)\n",
    "print(df_thresh.iloc[25:31])"
   ]
  },
  {
   "cell_type": "code",
   "execution_count": null,
   "id": "a1e3fcff",
   "metadata": {},
   "outputs": [],
   "source": []
  }
 ],
 "metadata": {
  "kernelspec": {
   "display_name": "Python 3 (ipykernel)",
   "language": "python",
   "name": "python3"
  },
  "language_info": {
   "codemirror_mode": {
    "name": "ipython",
    "version": 3
   },
   "file_extension": ".py",
   "mimetype": "text/x-python",
   "name": "python",
   "nbconvert_exporter": "python",
   "pygments_lexer": "ipython3",
   "version": "3.7.16"
  }
 },
 "nbformat": 4,
 "nbformat_minor": 5
}
