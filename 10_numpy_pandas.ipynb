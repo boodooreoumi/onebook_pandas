{
 "cells": [
  {
   "cell_type": "code",
   "execution_count": 1,
   "id": "c4af1752",
   "metadata": {},
   "outputs": [
    {
     "name": "stdout",
     "output_type": "stream",
     "text": [
      "[1 2 3]\n",
      "<class 'numpy.ndarray'>\n"
     ]
    }
   ],
   "source": [
    "# numpy모듈\n",
    "# 1. array 자료형 사용\n",
    "import numpy as np\n",
    "arr = np.array([1,2,3])\n",
    "print(arr)\n",
    "print(type(arr))"
   ]
  },
  {
   "cell_type": "code",
   "execution_count": 2,
   "id": "14e656bc",
   "metadata": {},
   "outputs": [
    {
     "name": "stdout",
     "output_type": "stream",
     "text": [
      "1\n",
      "1\n"
     ]
    }
   ],
   "source": [
    "# 2. 리스트 자료형과 유사하게 비슷한 기능 사용 가능\n",
    "# 인덱싱\n",
    "data = [1,2,3]\n",
    "arr = np.array(data)\n",
    "\n",
    "print(data[0])\n",
    "print(arr[0])"
   ]
  },
  {
   "cell_type": "code",
   "execution_count": 3,
   "id": "a721c4c7",
   "metadata": {},
   "outputs": [
    {
     "name": "stdout",
     "output_type": "stream",
     "text": [
      "[1, 2]\n",
      "[1 2]\n"
     ]
    }
   ],
   "source": [
    "# 슬라이싱\n",
    "print(data[0:2])\n",
    "print(arr[0:2])"
   ]
  },
  {
   "cell_type": "code",
   "execution_count": 4,
   "id": "1a3c01f4",
   "metadata": {},
   "outputs": [
    {
     "name": "stdout",
     "output_type": "stream",
     "text": [
      "[1, 2, 3, 1, 2, 3]\n",
      "[2 4 6]\n"
     ]
    }
   ],
   "source": [
    "# 3. 리스트 자료형과 달리 행렬 연산지원으로 편리한 계산 가능\n",
    "data = [1,2,3]\n",
    "arr = np.array(data)\n",
    "\n",
    "print(data+data)\n",
    "print(arr+arr)"
   ]
  },
  {
   "cell_type": "code",
   "execution_count": 5,
   "id": "8a2c23ea",
   "metadata": {},
   "outputs": [
    {
     "name": "stdout",
     "output_type": "stream",
     "text": [
      "[1, 2, 3, 1, 2, 3, 1, 2, 3]\n",
      "[3 6 9]\n"
     ]
    }
   ],
   "source": [
    "print(data*3)\n",
    "print(arr*3)"
   ]
  },
  {
   "cell_type": "code",
   "execution_count": 7,
   "id": "aea251f6",
   "metadata": {},
   "outputs": [
    {
     "ename": "TypeError",
     "evalue": "can't multiply sequence by non-int of type 'list'",
     "output_type": "error",
     "traceback": [
      "\u001b[1;31m---------------------------------------------------------------------------\u001b[0m",
      "\u001b[1;31mTypeError\u001b[0m                                 Traceback (most recent call last)",
      "\u001b[1;32m~\\AppData\\Local\\Temp\\ipykernel_15436\\1833384505.py\u001b[0m in \u001b[0;36m<module>\u001b[1;34m\u001b[0m\n\u001b[1;32m----> 1\u001b[1;33m \u001b[0mprint\u001b[0m\u001b[1;33m(\u001b[0m\u001b[0mdata\u001b[0m\u001b[1;33m*\u001b[0m\u001b[0mdata\u001b[0m\u001b[1;33m)\u001b[0m\u001b[1;33m\u001b[0m\u001b[1;33m\u001b[0m\u001b[0m\n\u001b[0m",
      "\u001b[1;31mTypeError\u001b[0m: can't multiply sequence by non-int of type 'list'"
     ]
    }
   ],
   "source": [
    "print(data*data)"
   ]
  },
  {
   "cell_type": "code",
   "execution_count": 8,
   "id": "66518c31",
   "metadata": {},
   "outputs": [
    {
     "name": "stdout",
     "output_type": "stream",
     "text": [
      "[1 4 9]\n"
     ]
    }
   ],
   "source": [
    "print(arr*arr)"
   ]
  },
  {
   "cell_type": "code",
   "execution_count": 9,
   "id": "4ffa6985",
   "metadata": {},
   "outputs": [
    {
     "ename": "TypeError",
     "evalue": "unsupported operand type(s) for -: 'list' and 'list'",
     "output_type": "error",
     "traceback": [
      "\u001b[1;31m---------------------------------------------------------------------------\u001b[0m",
      "\u001b[1;31mTypeError\u001b[0m                                 Traceback (most recent call last)",
      "\u001b[1;32m~\\AppData\\Local\\Temp\\ipykernel_15436\\1420607675.py\u001b[0m in \u001b[0;36m<module>\u001b[1;34m\u001b[0m\n\u001b[1;32m----> 1\u001b[1;33m \u001b[0mprint\u001b[0m\u001b[1;33m(\u001b[0m\u001b[0mdata\u001b[0m\u001b[1;33m-\u001b[0m\u001b[0mdata\u001b[0m\u001b[1;33m)\u001b[0m\u001b[1;33m\u001b[0m\u001b[1;33m\u001b[0m\u001b[0m\n\u001b[0m",
      "\u001b[1;31mTypeError\u001b[0m: unsupported operand type(s) for -: 'list' and 'list'"
     ]
    }
   ],
   "source": [
    "print(data-data)"
   ]
  },
  {
   "cell_type": "code",
   "execution_count": 10,
   "id": "af6e0758",
   "metadata": {},
   "outputs": [
    {
     "name": "stdout",
     "output_type": "stream",
     "text": [
      "[0 0 0]\n"
     ]
    }
   ],
   "source": [
    "print(arr-arr)"
   ]
  },
  {
   "cell_type": "code",
   "execution_count": 11,
   "id": "a79e4f1c",
   "metadata": {},
   "outputs": [
    {
     "name": "stdout",
     "output_type": "stream",
     "text": [
      "[[1, 2, 3], [4, 5, 6], [7, 8, 9]]\n",
      "[[1 2 3]\n",
      " [4 5 6]\n",
      " [7 8 9]]\n"
     ]
    }
   ],
   "source": [
    "# 다차원 행렬 지원\n",
    "data = [[1,2,3],[4,5,6],[7,8,9]]\n",
    "arr = np.array(data)\n",
    "\n",
    "print(data)\n",
    "print(arr)"
   ]
  },
  {
   "cell_type": "code",
   "execution_count": 12,
   "id": "3376b5cd",
   "metadata": {},
   "outputs": [
    {
     "name": "stdout",
     "output_type": "stream",
     "text": [
      "[[1, 2, 3], [4, 5, 6], [7, 8, 9], [1, 2, 3], [4, 5, 6], [7, 8, 9]]\n",
      "[[ 2  4  6]\n",
      " [ 8 10 12]\n",
      " [14 16 18]]\n"
     ]
    }
   ],
   "source": [
    "# 다차원 행렬연산 지원\n",
    "print(data*2)\n",
    "print(arr*2)"
   ]
  },
  {
   "cell_type": "code",
   "execution_count": 13,
   "id": "d6bbc774",
   "metadata": {},
   "outputs": [
    {
     "name": "stdout",
     "output_type": "stream",
     "text": [
      "[[1 2 3]\n",
      " [4 5 6]\n",
      " [7 8 9]]\n",
      "(3, 3)\n"
     ]
    }
   ],
   "source": [
    "# shape명령어를 통해 행렬의 크기 확인 가능\n",
    "print(arr)\n",
    "print(arr.shape)"
   ]
  },
  {
   "cell_type": "code",
   "execution_count": 14,
   "id": "0aa29a0b",
   "metadata": {},
   "outputs": [
    {
     "name": "stdout",
     "output_type": "stream",
     "text": [
      "(3, 3)\n",
      "(3,)\n"
     ]
    }
   ],
   "source": [
    "# 크기가 다른 두 행렬 연산 가능(브로드 캐스트 기능)\n",
    "data1 = [[1,2,3],[4,5,6],[7,8,9]]\n",
    "arr1 = np.array(data1)\n",
    "\n",
    "data2 = [1,2,3]\n",
    "arr2 = np.array(data2)\n",
    "\n",
    "print(arr1.shape)\n",
    "print(arr2.shape)"
   ]
  },
  {
   "cell_type": "code",
   "execution_count": 15,
   "id": "9d7cecf7",
   "metadata": {},
   "outputs": [
    {
     "name": "stdout",
     "output_type": "stream",
     "text": [
      "[[ 2  4  6]\n",
      " [ 5  7  9]\n",
      " [ 8 10 12]]\n"
     ]
    }
   ],
   "source": [
    "print(arr1+arr2)"
   ]
  },
  {
   "cell_type": "code",
   "execution_count": 16,
   "id": "14ef46d5",
   "metadata": {},
   "outputs": [
    {
     "name": "stdout",
     "output_type": "stream",
     "text": [
      "[[1 2 3]\n",
      " [4 5 6]\n",
      " [7 8 9]]\n"
     ]
    }
   ],
   "source": [
    "# 스칼라 연산 가능\n",
    "print(arr1)"
   ]
  },
  {
   "cell_type": "code",
   "execution_count": 17,
   "id": "e904bcd3",
   "metadata": {},
   "outputs": [
    {
     "name": "stdout",
     "output_type": "stream",
     "text": [
      "[[ 2  3  4]\n",
      " [ 5  6  7]\n",
      " [ 8  9 10]]\n"
     ]
    }
   ],
   "source": [
    "print(arr1+1)"
   ]
  },
  {
   "cell_type": "code",
   "execution_count": 18,
   "id": "bb01852a",
   "metadata": {},
   "outputs": [
    {
     "name": "stdout",
     "output_type": "stream",
     "text": [
      "[[ 3  6  9]\n",
      " [12 15 18]\n",
      " [21 24 27]]\n"
     ]
    }
   ],
   "source": [
    "print(arr1*3)"
   ]
  },
  {
   "cell_type": "code",
   "execution_count": 20,
   "id": "1c1790d3",
   "metadata": {},
   "outputs": [
    {
     "name": "stdout",
     "output_type": "stream",
     "text": [
      "[5 6 7 8]\n",
      "6\n",
      "6\n",
      "[ 4  8 12]\n",
      "[5 6]\n"
     ]
    }
   ],
   "source": [
    "# list 자료형보다 다양한 방식으로 인덱싱 지원\n",
    "# 리스트 자료형은 요소를 기준으로 인덱싱하지만\n",
    "# array 자료형은 위치를 기준으로 인덱싱을 함\n",
    "\n",
    "data = [[1,2,3,4],[5,6,7,8],[9,10,11,12]]\n",
    "arr = np.array(data)\n",
    "\n",
    "print(arr[1])\n",
    "print(arr[1][1])\n",
    "print(arr[1,1])\n",
    "print(arr[:,3])\n",
    "print(arr[1,:2])"
   ]
  },
  {
   "cell_type": "code",
   "execution_count": 21,
   "id": "66e7c1d5",
   "metadata": {},
   "outputs": [
    {
     "name": "stdout",
     "output_type": "stream",
     "text": [
      "3\n"
     ]
    }
   ],
   "source": [
    "# numpy모듈함수는 행렬에 사용할 수 있는 다양한 함수를 제공하는데,\n",
    "# 1. random() = 파이썬random표준모듈과 유사한 기능이 있음\n",
    "data = np.random.randint(1,46)\n",
    "print(data)"
   ]
  },
  {
   "cell_type": "code",
   "execution_count": 22,
   "id": "b7ec13d9",
   "metadata": {},
   "outputs": [
    {
     "name": "stdout",
     "output_type": "stream",
     "text": [
      "-1.0806757966264986\n"
     ]
    }
   ],
   "source": [
    "data = np.random.normal()\n",
    "print(data)"
   ]
  },
  {
   "cell_type": "code",
   "execution_count": 23,
   "id": "3d08e3f5",
   "metadata": {},
   "outputs": [
    {
     "name": "stdout",
     "output_type": "stream",
     "text": [
      "[[1.         1.41421356 1.73205081 2.        ]\n",
      " [2.23606798 2.44948974 2.64575131 2.82842712]\n",
      " [3.         3.16227766 3.31662479 3.46410162]]\n"
     ]
    }
   ],
   "source": [
    "print(np.sqrt(arr))"
   ]
  },
  {
   "cell_type": "code",
   "execution_count": 24,
   "id": "3864fa2f",
   "metadata": {},
   "outputs": [
    {
     "name": "stdout",
     "output_type": "stream",
     "text": [
      "1.4142135623730951\n"
     ]
    }
   ],
   "source": [
    "data = np.sqrt(2)\n",
    "print(data)"
   ]
  },
  {
   "cell_type": "code",
   "execution_count": 25,
   "id": "0d7804ea",
   "metadata": {},
   "outputs": [
    {
     "name": "stdout",
     "output_type": "stream",
     "text": [
      "0.6931471805599453\n"
     ]
    }
   ],
   "source": [
    "data = np.log(2)\n",
    "print(data)"
   ]
  },
  {
   "cell_type": "code",
   "execution_count": 26,
   "id": "fd8bfc70",
   "metadata": {},
   "outputs": [
    {
     "name": "stdout",
     "output_type": "stream",
     "text": [
      "78\n",
      "6.5\n",
      "3.452052529534663\n"
     ]
    }
   ],
   "source": [
    "# 통계관련함수\n",
    "data = [[1,2,3,4],[5,6,7,8],[9,10,11,12]]\n",
    "arr = np.array(data)\n",
    "\n",
    "print(np.sum(arr))\n",
    "print(np.mean(arr))\n",
    "print(np.std(arr))"
   ]
  },
  {
   "cell_type": "code",
   "execution_count": 27,
   "id": "699916de",
   "metadata": {},
   "outputs": [
    {
     "name": "stdout",
     "output_type": "stream",
     "text": [
      "[[0. 0. 0. 0. 0.]\n",
      " [0. 0. 0. 0. 0.]\n",
      " [0. 0. 0. 0. 0.]\n",
      " [0. 0. 0. 0. 0.]\n",
      " [0. 0. 0. 0. 0.]]\n"
     ]
    }
   ],
   "source": [
    "# 행렬 정의를 위한 함수 제공\n",
    "# 1. zeros() : 입력받은 크기만큼의 값이 0인 행렬 생성\n",
    "data = np.zeros((5,5))\n",
    "print(data)"
   ]
  },
  {
   "cell_type": "code",
   "execution_count": 28,
   "id": "1fdf1d17",
   "metadata": {},
   "outputs": [
    {
     "name": "stdout",
     "output_type": "stream",
     "text": [
      "[[1. 1. 1. 1. 1.]\n",
      " [1. 1. 1. 1. 1.]\n",
      " [1. 1. 1. 1. 1.]\n",
      " [1. 1. 1. 1. 1.]\n",
      " [1. 1. 1. 1. 1.]]\n"
     ]
    }
   ],
   "source": [
    "# 2. ones() : 입력받은 크기만큼의 값이 1인 행렬 생성\n",
    "data = np.ones((5,5))\n",
    "print(data)"
   ]
  },
  {
   "cell_type": "code",
   "execution_count": 29,
   "id": "ea56d0ef",
   "metadata": {},
   "outputs": [
    {
     "name": "stdout",
     "output_type": "stream",
     "text": [
      "[0 1 2 3 4]\n"
     ]
    }
   ],
   "source": [
    "# 3. arange() : 입력받은 크기만큼의 값이 1씩 증가하는 1차원 행렬 생성\n",
    "data = np.arange(5)\n",
    "print(data)"
   ]
  },
  {
   "cell_type": "code",
   "execution_count": 30,
   "id": "65973126",
   "metadata": {},
   "outputs": [],
   "source": [
    "# pandas 모듈 : 행과 열로 구성된 데이터 처리를 도와주는 파이썬 전용 외부모듈\n",
    "# : 대용량 데이터처리 용이\n",
    "# : Series 자료형과 DataFrame 자료형이 있음"
   ]
  },
  {
   "cell_type": "code",
   "execution_count": 31,
   "id": "8b514bec",
   "metadata": {},
   "outputs": [
    {
     "name": "stdout",
     "output_type": "stream",
     "text": [
      "0    4\n",
      "1    7\n",
      "2   -5\n",
      "3    3\n",
      "dtype: int64\n",
      "<class 'pandas.core.series.Series'>\n"
     ]
    }
   ],
   "source": [
    "# 1. Series 자료형 : 인덱스와 값으로 구성\n",
    "import pandas as pd\n",
    "data = pd.Series([4,7,-5,3])\n",
    "print(data)\n",
    "print(type(data))"
   ]
  },
  {
   "cell_type": "code",
   "execution_count": 32,
   "id": "a91e9dc1",
   "metadata": {},
   "outputs": [
    {
     "name": "stdout",
     "output_type": "stream",
     "text": [
      "[ 4  7 -5  3]\n",
      "RangeIndex(start=0, stop=4, step=1)\n"
     ]
    }
   ],
   "source": [
    "# 인덱스와 값을 별도로 출력 가능\n",
    "print(data.values)\n",
    "print(data.index)"
   ]
  },
  {
   "cell_type": "code",
   "execution_count": 33,
   "id": "f8f0b0cf",
   "metadata": {},
   "outputs": [
    {
     "name": "stdout",
     "output_type": "stream",
     "text": [
      "d    4\n",
      "b    7\n",
      "a   -5\n",
      "c    3\n",
      "dtype: int64\n",
      "<class 'pandas.core.series.Series'>\n"
     ]
    }
   ],
   "source": [
    "# 인덱스 지정가능\n",
    "data = pd.Series([4,7,-5,3], index=['d','b','a','c'])\n",
    "print(data)\n",
    "print(type(data))"
   ]
  },
  {
   "cell_type": "code",
   "execution_count": 34,
   "id": "246cf6b2",
   "metadata": {},
   "outputs": [
    {
     "name": "stdout",
     "output_type": "stream",
     "text": [
      "a    1\n",
      "b    2\n",
      "c    3\n",
      "dtype: int64\n",
      "<class 'pandas.core.series.Series'>\n"
     ]
    }
   ],
   "source": [
    "# 딕셔너리 자료형을 Series 자료형으로 변경 가능하며,\n",
    "# 딕셔너리의 키가 Series의 인덱스가 됨\n",
    "data = pd.Series({'a':1,'b':2,'c':3})\n",
    "print(data)\n",
    "print(type(data))"
   ]
  },
  {
   "cell_type": "code",
   "execution_count": 35,
   "id": "1cb75e7b",
   "metadata": {},
   "outputs": [],
   "source": [
    "# DataFrame 자료형\n",
    "# 행과 열로 구성된 데이터셋으로,\n",
    "# 딕셔너리 자료형이나, Numpy의 array 자료형으로 정의"
   ]
  },
  {
   "cell_type": "code",
   "execution_count": 36,
   "id": "41162c31",
   "metadata": {},
   "outputs": [
    {
     "name": "stdout",
     "output_type": "stream",
     "text": [
      "a    [1, 2, 3]\n",
      "b    [4, 5, 6]\n",
      "c    [7, 8, 9]\n",
      "dtype: object\n",
      "<class 'pandas.core.series.Series'>\n",
      "\n",
      "   a  b  c\n",
      "0  1  4  7\n",
      "1  2  5  8\n",
      "2  3  6  9\n",
      "<class 'pandas.core.frame.DataFrame'>\n"
     ]
    }
   ],
   "source": [
    "data1 = pd.Series({'a':[1,2,3],'b':[4,5,6],'c':[7,8,9]})\n",
    "data2 = pd.DataFrame({'a':[1,2,3],'b':[4,5,6],'c':[7,8,9]})\n",
    "print(data1)\n",
    "print(type(data1))\n",
    "print()\n",
    "print(data2)\n",
    "print(type(data2))"
   ]
  },
  {
   "cell_type": "code",
   "execution_count": 37,
   "id": "db0c5b03",
   "metadata": {},
   "outputs": [
    {
     "name": "stdout",
     "output_type": "stream",
     "text": [
      "   a  b  c\n",
      "0  1  4  7\n",
      "1  2  5  8\n",
      "2  3  6  9\n",
      "RangeIndex(start=0, stop=3, step=1)\n",
      "Index(['a', 'b', 'c'], dtype='object')\n"
     ]
    }
   ],
   "source": [
    "data = pd.DataFrame({'a':[1,2,3],'b':[4,5,6],'c':[7,8,9]})\n",
    "print(data)\n",
    "\n",
    "print(data.index)    # 행순서 파악\n",
    "print(data.columns)  # 열순서 파악"
   ]
  },
  {
   "cell_type": "code",
   "execution_count": 38,
   "id": "4cfa4878",
   "metadata": {},
   "outputs": [
    {
     "name": "stdout",
     "output_type": "stream",
     "text": [
      "bbb  a  b  c\n",
      "aaa         \n",
      "0    1  4  7\n",
      "1    2  5  8\n",
      "2    3  6  9\n"
     ]
    }
   ],
   "source": [
    "# 행, 열 인덱스에 이름 설정 가능\n",
    "data = pd.DataFrame({'a':[1,2,3],'b':[4,5,6],'c':[7,8,9]})\n",
    "data.index.name = 'aaa'\n",
    "data.columns.name = 'bbb'\n",
    "\n",
    "print(data)"
   ]
  },
  {
   "cell_type": "code",
   "execution_count": 39,
   "id": "b503ebce",
   "metadata": {},
   "outputs": [
    {
     "name": "stdout",
     "output_type": "stream",
     "text": [
      "0    1\n",
      "1    2\n",
      "2    3\n",
      "Name: a, dtype: int64\n",
      "0    1\n",
      "1    2\n",
      "2    3\n",
      "Name: a, dtype: int64\n"
     ]
    }
   ],
   "source": [
    "# 데이터 선택, 수정, 삽입 용이\n",
    "data = pd.DataFrame({'a':[1,2,3],'b':[4,5,6],'c':[7,8,9]})\n",
    "print(data['a'])\n",
    "print(data.a)"
   ]
  },
  {
   "cell_type": "code",
   "execution_count": 40,
   "id": "56dad31e",
   "metadata": {},
   "outputs": [
    {
     "name": "stdout",
     "output_type": "stream",
     "text": [
      "   a  b  c\n",
      "0  0  4  7\n",
      "1  0  5  8\n",
      "2  0  6  9\n"
     ]
    }
   ],
   "source": [
    "data['a'] = [0,0,0]\n",
    "print(data)"
   ]
  },
  {
   "cell_type": "code",
   "execution_count": 41,
   "id": "0ae45603",
   "metadata": {},
   "outputs": [
    {
     "name": "stdout",
     "output_type": "stream",
     "text": [
      "   a   b  c\n",
      "0  0  99  7\n",
      "1  0  99  8\n",
      "2  0  99  9\n"
     ]
    }
   ],
   "source": [
    "data['b'] = 99\n",
    "print(data)"
   ]
  },
  {
   "cell_type": "code",
   "execution_count": 42,
   "id": "b4cc0adf",
   "metadata": {},
   "outputs": [
    {
     "name": "stdout",
     "output_type": "stream",
     "text": [
      "   a  b  c\n",
      "0  1  4  7\n",
      "1  2  5  8\n",
      "2  3  6  9\n",
      "         a    b    c\n",
      "count  3.0  3.0  3.0\n",
      "mean   2.0  5.0  8.0\n",
      "std    1.0  1.0  1.0\n",
      "min    1.0  4.0  7.0\n",
      "25%    1.5  4.5  7.5\n",
      "50%    2.0  5.0  8.0\n",
      "75%    2.5  5.5  8.5\n",
      "max    3.0  6.0  9.0\n"
     ]
    }
   ],
   "source": [
    "# 다양한 함수 제공\n",
    "# describe() : 다양한 계산의 결과 간략하게 제공\n",
    "data = pd.DataFrame({'a':[1,2,3],'b':[4,5,6],'c':[7,8,9]})\n",
    "print(data)\n",
    "print(data.describe())"
   ]
  },
  {
   "cell_type": "code",
   "execution_count": 43,
   "id": "9e620ca9",
   "metadata": {},
   "outputs": [
    {
     "name": "stdout",
     "output_type": "stream",
     "text": [
      "a     6\n",
      "b    15\n",
      "c    24\n",
      "dtype: int64\n"
     ]
    }
   ],
   "source": [
    "# sum() : 값의 합계\n",
    "print(data.sum())"
   ]
  },
  {
   "cell_type": "code",
   "execution_count": 44,
   "id": "b280bfee",
   "metadata": {},
   "outputs": [
    {
     "name": "stdout",
     "output_type": "stream",
     "text": [
      "0    12\n",
      "1    15\n",
      "2    18\n",
      "dtype: int64\n"
     ]
    }
   ],
   "source": [
    "# axis옵션으로 행과 열의 기준을 변경 가능\n",
    "# axis=0은 각 열의 합을, axis=1은 각 행의 합을 계산\n",
    "print(data.sum(axis=1))"
   ]
  },
  {
   "cell_type": "code",
   "execution_count": 45,
   "id": "74c4beb0",
   "metadata": {},
   "outputs": [
    {
     "name": "stdout",
     "output_type": "stream",
     "text": [
      "6\n"
     ]
    }
   ],
   "source": [
    "print(data['a'].sum())"
   ]
  },
  {
   "cell_type": "code",
   "execution_count": 46,
   "id": "df405971",
   "metadata": {},
   "outputs": [],
   "source": [
    "# argmin(), argmax() : 최소값,최대값의 인덱스를 반환"
   ]
  },
  {
   "cell_type": "code",
   "execution_count": 61,
   "id": "1c51b0ac",
   "metadata": {},
   "outputs": [
    {
     "name": "stdout",
     "output_type": "stream",
     "text": [
      "전체 영화의 갯수 :  10681\n",
      "       movie_id                               title  \\\n",
      "0             1                    Toy Story (1995)   \n",
      "1             2                      Jumanji (1995)   \n",
      "2             3             Grumpier Old Men (1995)   \n",
      "3             4            Waiting to Exhale (1995)   \n",
      "4             5  Father of the Bride Part II (1995)   \n",
      "...         ...                                 ...   \n",
      "10676     65088              Bedtime Stories (2008)   \n",
      "10677     65091          Manhattan Melodrama (1934)   \n",
      "10678     65126                        Choke (2008)   \n",
      "10679     65130           Revolutionary Road (2008)   \n",
      "10680     65133      Blackadder Back & Forth (1999)   \n",
      "\n",
      "                                            genres  \n",
      "0      Adventure|Animation|Children|Comedy|Fantasy  \n",
      "1                       Adventure|Children|Fantasy  \n",
      "2                                   Comedy|Romance  \n",
      "3                             Comedy|Drama|Romance  \n",
      "4                                           Comedy  \n",
      "...                                            ...  \n",
      "10676                    Adventure|Children|Comedy  \n",
      "10677                          Crime|Drama|Romance  \n",
      "10678                                 Comedy|Drama  \n",
      "10679                                Drama|Romance  \n",
      "10680                                       Comedy  \n",
      "\n",
      "[10681 rows x 3 columns]\n"
     ]
    },
    {
     "name": "stderr",
     "output_type": "stream",
     "text": [
      "C:\\Users\\M\\.conda\\envs\\cospropython\\lib\\site-packages\\pandas\\util\\_decorators.py:311: ParserWarning: Falling back to the 'python' engine because the 'c' engine does not support regex separators (separators > 1 char and different from '\\s+' are interpreted as regex); you can avoid this warning by specifying engine='python'.\n",
      "  return func(*args, **kwargs)\n"
     ]
    }
   ],
   "source": [
    "# 데이터 빈도분석 실습\n",
    "# 실습1\n",
    "# wordcount예제 실습 : 장르별 영화 빈도 분석하기\n",
    "\n",
    "# 1, 데이터불러오기\n",
    "import numpy as np\n",
    "import pandas as pd\n",
    "import matplotlib.pyplot as plt\n",
    "\n",
    "name = ['movie_id', 'title', 'genres']\n",
    "movies = pd.read_csv('movies.txt', sep='::', header=None, names=name)\n",
    "\n",
    "print(\"전체 영화의 갯수 : \", len(movies))\n",
    "print(movies)"
   ]
  },
  {
   "cell_type": "code",
   "execution_count": 62,
   "id": "7eed6b22",
   "metadata": {},
   "outputs": [
    {
     "data": {
      "text/html": [
       "<div>\n",
       "<style scoped>\n",
       "    .dataframe tbody tr th:only-of-type {\n",
       "        vertical-align: middle;\n",
       "    }\n",
       "\n",
       "    .dataframe tbody tr th {\n",
       "        vertical-align: top;\n",
       "    }\n",
       "\n",
       "    .dataframe thead th {\n",
       "        text-align: right;\n",
       "    }\n",
       "</style>\n",
       "<table border=\"1\" class=\"dataframe\">\n",
       "  <thead>\n",
       "    <tr style=\"text-align: right;\">\n",
       "      <th></th>\n",
       "      <th>movie_id</th>\n",
       "      <th>title</th>\n",
       "      <th>genres</th>\n",
       "    </tr>\n",
       "  </thead>\n",
       "  <tbody>\n",
       "    <tr>\n",
       "      <th>0</th>\n",
       "      <td>1</td>\n",
       "      <td>Toy Story (1995)</td>\n",
       "      <td>Adventure|Animation|Children|Comedy|Fantasy</td>\n",
       "    </tr>\n",
       "    <tr>\n",
       "      <th>1</th>\n",
       "      <td>2</td>\n",
       "      <td>Jumanji (1995)</td>\n",
       "      <td>Adventure|Children|Fantasy</td>\n",
       "    </tr>\n",
       "    <tr>\n",
       "      <th>2</th>\n",
       "      <td>3</td>\n",
       "      <td>Grumpier Old Men (1995)</td>\n",
       "      <td>Comedy|Romance</td>\n",
       "    </tr>\n",
       "    <tr>\n",
       "      <th>3</th>\n",
       "      <td>4</td>\n",
       "      <td>Waiting to Exhale (1995)</td>\n",
       "      <td>Comedy|Drama|Romance</td>\n",
       "    </tr>\n",
       "    <tr>\n",
       "      <th>4</th>\n",
       "      <td>5</td>\n",
       "      <td>Father of the Bride Part II (1995)</td>\n",
       "      <td>Comedy</td>\n",
       "    </tr>\n",
       "  </tbody>\n",
       "</table>\n",
       "</div>"
      ],
      "text/plain": [
       "   movie_id                               title  \\\n",
       "0         1                    Toy Story (1995)   \n",
       "1         2                      Jumanji (1995)   \n",
       "2         3             Grumpier Old Men (1995)   \n",
       "3         4            Waiting to Exhale (1995)   \n",
       "4         5  Father of the Bride Part II (1995)   \n",
       "\n",
       "                                        genres  \n",
       "0  Adventure|Animation|Children|Comedy|Fantasy  \n",
       "1                   Adventure|Children|Fantasy  \n",
       "2                               Comedy|Romance  \n",
       "3                         Comedy|Drama|Romance  \n",
       "4                                       Comedy  "
      ]
     },
     "execution_count": 62,
     "metadata": {},
     "output_type": "execute_result"
    }
   ],
   "source": [
    "movies.head()"
   ]
  },
  {
   "cell_type": "code",
   "execution_count": 63,
   "id": "9f45e378",
   "metadata": {},
   "outputs": [
    {
     "name": "stdout",
     "output_type": "stream",
     "text": [
      "전체장르수 : 21564\n"
     ]
    }
   ],
   "source": [
    "# 2.구분자'|''를 split로 분리하여 반복문으로 리스트에 추가\n",
    "genres = []\n",
    "for genre in movies['genres'] :\n",
    "    for i in genre.split('|') :\n",
    "        genres.append(i)\n",
    "        \n",
    "print('전체장르수 :', len(genres))"
   ]
  },
  {
   "cell_type": "code",
   "execution_count": 64,
   "id": "c0ce18bf",
   "metadata": {},
   "outputs": [
    {
     "name": "stdout",
     "output_type": "stream",
     "text": [
      "유일한 장르 수 : 20\n",
      "['(no genres listed)', 'Animation', 'Drama', 'Comedy', 'War', 'Action', 'Horror', 'Children', 'Documentary', 'Adventure', 'Sci-Fi', 'Fantasy', 'IMAX', 'Musical', 'Thriller', 'Western', 'Mystery', 'Film-Noir', 'Romance', 'Crime']\n"
     ]
    }
   ],
   "source": [
    "# 3. 중복 장르 제거\n",
    "# 집합 자료형으로 변경\n",
    "# 리스트 자료형으로 출력\n",
    "\n",
    "genres = set(genres)\n",
    "genres = list(genres)\n",
    "print('유일한 장르 수 :', len(genres))\n",
    "print(genres)"
   ]
  },
  {
   "cell_type": "code",
   "execution_count": 65,
   "id": "74b66b63",
   "metadata": {},
   "outputs": [
    {
     "name": "stdout",
     "output_type": "stream",
     "text": [
      "유일한 장르 수 : 20\n",
      "['(no genres listed)' 'Animation' 'Drama' 'Comedy' 'War' 'Action' 'Horror'\n",
      " 'Children' 'Documentary' 'Adventure' 'Sci-Fi' 'Fantasy' 'IMAX' 'Musical'\n",
      " 'Thriller' 'Western' 'Mystery' 'Film-Noir' 'Romance' 'Crime']\n"
     ]
    }
   ],
   "source": [
    "# unique를 활용하여 중복장르를 제거 가능\n",
    "genres_unique = pd.unique(genres)\n",
    "print('유일한 장르 수 :', len(genres_unique))\n",
    "print(genres_unique)"
   ]
  },
  {
   "cell_type": "code",
   "execution_count": 66,
   "id": "5438b8a3",
   "metadata": {},
   "outputs": [
    {
     "name": "stdout",
     "output_type": "stream",
     "text": [
      "[[0. 0. 0. ... 0. 0. 0.]\n",
      " [0. 0. 0. ... 0. 0. 0.]\n",
      " [0. 0. 0. ... 0. 0. 0.]\n",
      " ...\n",
      " [0. 0. 0. ... 0. 0. 0.]\n",
      " [0. 0. 0. ... 0. 0. 0.]\n",
      " [0. 0. 0. ... 0. 0. 0.]]\n"
     ]
    }
   ],
   "source": [
    "# 4. 장르별 영화빈도수 분석\n",
    "zero_data = np.zeros(((len(movies),len(genres))))\n",
    "print(zero_data)"
   ]
  },
  {
   "cell_type": "code",
   "execution_count": 75,
   "id": "d333d00c",
   "metadata": {},
   "outputs": [
    {
     "data": {
      "text/html": [
       "<div>\n",
       "<style scoped>\n",
       "    .dataframe tbody tr th:only-of-type {\n",
       "        vertical-align: middle;\n",
       "    }\n",
       "\n",
       "    .dataframe tbody tr th {\n",
       "        vertical-align: top;\n",
       "    }\n",
       "\n",
       "    .dataframe thead th {\n",
       "        text-align: right;\n",
       "    }\n",
       "</style>\n",
       "<table border=\"1\" class=\"dataframe\">\n",
       "  <thead>\n",
       "    <tr style=\"text-align: right;\">\n",
       "      <th></th>\n",
       "      <th>(no genres listed)</th>\n",
       "      <th>Animation</th>\n",
       "      <th>Drama</th>\n",
       "      <th>Comedy</th>\n",
       "      <th>War</th>\n",
       "      <th>Action</th>\n",
       "      <th>Horror</th>\n",
       "      <th>Children</th>\n",
       "      <th>Documentary</th>\n",
       "      <th>Adventure</th>\n",
       "      <th>Sci-Fi</th>\n",
       "      <th>Fantasy</th>\n",
       "      <th>IMAX</th>\n",
       "      <th>Musical</th>\n",
       "      <th>Thriller</th>\n",
       "      <th>Western</th>\n",
       "      <th>Mystery</th>\n",
       "      <th>Film-Noir</th>\n",
       "      <th>Romance</th>\n",
       "      <th>Crime</th>\n",
       "    </tr>\n",
       "  </thead>\n",
       "  <tbody>\n",
       "    <tr>\n",
       "      <th>0</th>\n",
       "      <td>0.0</td>\n",
       "      <td>0.0</td>\n",
       "      <td>0.0</td>\n",
       "      <td>0.0</td>\n",
       "      <td>0.0</td>\n",
       "      <td>0.0</td>\n",
       "      <td>0.0</td>\n",
       "      <td>0.0</td>\n",
       "      <td>0.0</td>\n",
       "      <td>0.0</td>\n",
       "      <td>0.0</td>\n",
       "      <td>0.0</td>\n",
       "      <td>0.0</td>\n",
       "      <td>0.0</td>\n",
       "      <td>0.0</td>\n",
       "      <td>0.0</td>\n",
       "      <td>0.0</td>\n",
       "      <td>0.0</td>\n",
       "      <td>0.0</td>\n",
       "      <td>0.0</td>\n",
       "    </tr>\n",
       "    <tr>\n",
       "      <th>1</th>\n",
       "      <td>0.0</td>\n",
       "      <td>0.0</td>\n",
       "      <td>0.0</td>\n",
       "      <td>0.0</td>\n",
       "      <td>0.0</td>\n",
       "      <td>0.0</td>\n",
       "      <td>0.0</td>\n",
       "      <td>0.0</td>\n",
       "      <td>0.0</td>\n",
       "      <td>0.0</td>\n",
       "      <td>0.0</td>\n",
       "      <td>0.0</td>\n",
       "      <td>0.0</td>\n",
       "      <td>0.0</td>\n",
       "      <td>0.0</td>\n",
       "      <td>0.0</td>\n",
       "      <td>0.0</td>\n",
       "      <td>0.0</td>\n",
       "      <td>0.0</td>\n",
       "      <td>0.0</td>\n",
       "    </tr>\n",
       "    <tr>\n",
       "      <th>2</th>\n",
       "      <td>0.0</td>\n",
       "      <td>0.0</td>\n",
       "      <td>0.0</td>\n",
       "      <td>0.0</td>\n",
       "      <td>0.0</td>\n",
       "      <td>0.0</td>\n",
       "      <td>0.0</td>\n",
       "      <td>0.0</td>\n",
       "      <td>0.0</td>\n",
       "      <td>0.0</td>\n",
       "      <td>0.0</td>\n",
       "      <td>0.0</td>\n",
       "      <td>0.0</td>\n",
       "      <td>0.0</td>\n",
       "      <td>0.0</td>\n",
       "      <td>0.0</td>\n",
       "      <td>0.0</td>\n",
       "      <td>0.0</td>\n",
       "      <td>0.0</td>\n",
       "      <td>0.0</td>\n",
       "    </tr>\n",
       "    <tr>\n",
       "      <th>3</th>\n",
       "      <td>0.0</td>\n",
       "      <td>0.0</td>\n",
       "      <td>0.0</td>\n",
       "      <td>0.0</td>\n",
       "      <td>0.0</td>\n",
       "      <td>0.0</td>\n",
       "      <td>0.0</td>\n",
       "      <td>0.0</td>\n",
       "      <td>0.0</td>\n",
       "      <td>0.0</td>\n",
       "      <td>0.0</td>\n",
       "      <td>0.0</td>\n",
       "      <td>0.0</td>\n",
       "      <td>0.0</td>\n",
       "      <td>0.0</td>\n",
       "      <td>0.0</td>\n",
       "      <td>0.0</td>\n",
       "      <td>0.0</td>\n",
       "      <td>0.0</td>\n",
       "      <td>0.0</td>\n",
       "    </tr>\n",
       "    <tr>\n",
       "      <th>4</th>\n",
       "      <td>0.0</td>\n",
       "      <td>0.0</td>\n",
       "      <td>0.0</td>\n",
       "      <td>0.0</td>\n",
       "      <td>0.0</td>\n",
       "      <td>0.0</td>\n",
       "      <td>0.0</td>\n",
       "      <td>0.0</td>\n",
       "      <td>0.0</td>\n",
       "      <td>0.0</td>\n",
       "      <td>0.0</td>\n",
       "      <td>0.0</td>\n",
       "      <td>0.0</td>\n",
       "      <td>0.0</td>\n",
       "      <td>0.0</td>\n",
       "      <td>0.0</td>\n",
       "      <td>0.0</td>\n",
       "      <td>0.0</td>\n",
       "      <td>0.0</td>\n",
       "      <td>0.0</td>\n",
       "    </tr>\n",
       "    <tr>\n",
       "      <th>...</th>\n",
       "      <td>...</td>\n",
       "      <td>...</td>\n",
       "      <td>...</td>\n",
       "      <td>...</td>\n",
       "      <td>...</td>\n",
       "      <td>...</td>\n",
       "      <td>...</td>\n",
       "      <td>...</td>\n",
       "      <td>...</td>\n",
       "      <td>...</td>\n",
       "      <td>...</td>\n",
       "      <td>...</td>\n",
       "      <td>...</td>\n",
       "      <td>...</td>\n",
       "      <td>...</td>\n",
       "      <td>...</td>\n",
       "      <td>...</td>\n",
       "      <td>...</td>\n",
       "      <td>...</td>\n",
       "      <td>...</td>\n",
       "    </tr>\n",
       "    <tr>\n",
       "      <th>10676</th>\n",
       "      <td>0.0</td>\n",
       "      <td>0.0</td>\n",
       "      <td>0.0</td>\n",
       "      <td>0.0</td>\n",
       "      <td>0.0</td>\n",
       "      <td>0.0</td>\n",
       "      <td>0.0</td>\n",
       "      <td>0.0</td>\n",
       "      <td>0.0</td>\n",
       "      <td>0.0</td>\n",
       "      <td>0.0</td>\n",
       "      <td>0.0</td>\n",
       "      <td>0.0</td>\n",
       "      <td>0.0</td>\n",
       "      <td>0.0</td>\n",
       "      <td>0.0</td>\n",
       "      <td>0.0</td>\n",
       "      <td>0.0</td>\n",
       "      <td>0.0</td>\n",
       "      <td>0.0</td>\n",
       "    </tr>\n",
       "    <tr>\n",
       "      <th>10677</th>\n",
       "      <td>0.0</td>\n",
       "      <td>0.0</td>\n",
       "      <td>0.0</td>\n",
       "      <td>0.0</td>\n",
       "      <td>0.0</td>\n",
       "      <td>0.0</td>\n",
       "      <td>0.0</td>\n",
       "      <td>0.0</td>\n",
       "      <td>0.0</td>\n",
       "      <td>0.0</td>\n",
       "      <td>0.0</td>\n",
       "      <td>0.0</td>\n",
       "      <td>0.0</td>\n",
       "      <td>0.0</td>\n",
       "      <td>0.0</td>\n",
       "      <td>0.0</td>\n",
       "      <td>0.0</td>\n",
       "      <td>0.0</td>\n",
       "      <td>0.0</td>\n",
       "      <td>0.0</td>\n",
       "    </tr>\n",
       "    <tr>\n",
       "      <th>10678</th>\n",
       "      <td>0.0</td>\n",
       "      <td>0.0</td>\n",
       "      <td>0.0</td>\n",
       "      <td>0.0</td>\n",
       "      <td>0.0</td>\n",
       "      <td>0.0</td>\n",
       "      <td>0.0</td>\n",
       "      <td>0.0</td>\n",
       "      <td>0.0</td>\n",
       "      <td>0.0</td>\n",
       "      <td>0.0</td>\n",
       "      <td>0.0</td>\n",
       "      <td>0.0</td>\n",
       "      <td>0.0</td>\n",
       "      <td>0.0</td>\n",
       "      <td>0.0</td>\n",
       "      <td>0.0</td>\n",
       "      <td>0.0</td>\n",
       "      <td>0.0</td>\n",
       "      <td>0.0</td>\n",
       "    </tr>\n",
       "    <tr>\n",
       "      <th>10679</th>\n",
       "      <td>0.0</td>\n",
       "      <td>0.0</td>\n",
       "      <td>0.0</td>\n",
       "      <td>0.0</td>\n",
       "      <td>0.0</td>\n",
       "      <td>0.0</td>\n",
       "      <td>0.0</td>\n",
       "      <td>0.0</td>\n",
       "      <td>0.0</td>\n",
       "      <td>0.0</td>\n",
       "      <td>0.0</td>\n",
       "      <td>0.0</td>\n",
       "      <td>0.0</td>\n",
       "      <td>0.0</td>\n",
       "      <td>0.0</td>\n",
       "      <td>0.0</td>\n",
       "      <td>0.0</td>\n",
       "      <td>0.0</td>\n",
       "      <td>0.0</td>\n",
       "      <td>0.0</td>\n",
       "    </tr>\n",
       "    <tr>\n",
       "      <th>10680</th>\n",
       "      <td>0.0</td>\n",
       "      <td>0.0</td>\n",
       "      <td>0.0</td>\n",
       "      <td>0.0</td>\n",
       "      <td>0.0</td>\n",
       "      <td>0.0</td>\n",
       "      <td>0.0</td>\n",
       "      <td>0.0</td>\n",
       "      <td>0.0</td>\n",
       "      <td>0.0</td>\n",
       "      <td>0.0</td>\n",
       "      <td>0.0</td>\n",
       "      <td>0.0</td>\n",
       "      <td>0.0</td>\n",
       "      <td>0.0</td>\n",
       "      <td>0.0</td>\n",
       "      <td>0.0</td>\n",
       "      <td>0.0</td>\n",
       "      <td>0.0</td>\n",
       "      <td>0.0</td>\n",
       "    </tr>\n",
       "  </tbody>\n",
       "</table>\n",
       "<p>10681 rows × 20 columns</p>\n",
       "</div>"
      ],
      "text/plain": [
       "       (no genres listed)  Animation  Drama  Comedy  War  Action  Horror  \\\n",
       "0                     0.0        0.0    0.0     0.0  0.0     0.0     0.0   \n",
       "1                     0.0        0.0    0.0     0.0  0.0     0.0     0.0   \n",
       "2                     0.0        0.0    0.0     0.0  0.0     0.0     0.0   \n",
       "3                     0.0        0.0    0.0     0.0  0.0     0.0     0.0   \n",
       "4                     0.0        0.0    0.0     0.0  0.0     0.0     0.0   \n",
       "...                   ...        ...    ...     ...  ...     ...     ...   \n",
       "10676                 0.0        0.0    0.0     0.0  0.0     0.0     0.0   \n",
       "10677                 0.0        0.0    0.0     0.0  0.0     0.0     0.0   \n",
       "10678                 0.0        0.0    0.0     0.0  0.0     0.0     0.0   \n",
       "10679                 0.0        0.0    0.0     0.0  0.0     0.0     0.0   \n",
       "10680                 0.0        0.0    0.0     0.0  0.0     0.0     0.0   \n",
       "\n",
       "       Children  Documentary  Adventure  Sci-Fi  Fantasy  IMAX  Musical  \\\n",
       "0           0.0          0.0        0.0     0.0      0.0   0.0      0.0   \n",
       "1           0.0          0.0        0.0     0.0      0.0   0.0      0.0   \n",
       "2           0.0          0.0        0.0     0.0      0.0   0.0      0.0   \n",
       "3           0.0          0.0        0.0     0.0      0.0   0.0      0.0   \n",
       "4           0.0          0.0        0.0     0.0      0.0   0.0      0.0   \n",
       "...         ...          ...        ...     ...      ...   ...      ...   \n",
       "10676       0.0          0.0        0.0     0.0      0.0   0.0      0.0   \n",
       "10677       0.0          0.0        0.0     0.0      0.0   0.0      0.0   \n",
       "10678       0.0          0.0        0.0     0.0      0.0   0.0      0.0   \n",
       "10679       0.0          0.0        0.0     0.0      0.0   0.0      0.0   \n",
       "10680       0.0          0.0        0.0     0.0      0.0   0.0      0.0   \n",
       "\n",
       "       Thriller  Western  Mystery  Film-Noir  Romance  Crime  \n",
       "0           0.0      0.0      0.0        0.0      0.0    0.0  \n",
       "1           0.0      0.0      0.0        0.0      0.0    0.0  \n",
       "2           0.0      0.0      0.0        0.0      0.0    0.0  \n",
       "3           0.0      0.0      0.0        0.0      0.0    0.0  \n",
       "4           0.0      0.0      0.0        0.0      0.0    0.0  \n",
       "...         ...      ...      ...        ...      ...    ...  \n",
       "10676       0.0      0.0      0.0        0.0      0.0    0.0  \n",
       "10677       0.0      0.0      0.0        0.0      0.0    0.0  \n",
       "10678       0.0      0.0      0.0        0.0      0.0    0.0  \n",
       "10679       0.0      0.0      0.0        0.0      0.0    0.0  \n",
       "10680       0.0      0.0      0.0        0.0      0.0    0.0  \n",
       "\n",
       "[10681 rows x 20 columns]"
      ]
     },
     "execution_count": 75,
     "metadata": {},
     "output_type": "execute_result"
    }
   ],
   "source": [
    "movie_genres = pd.DataFrame(zero_data, columns=genres)\n",
    "movie_genres"
   ]
  },
  {
   "cell_type": "code",
   "execution_count": 68,
   "id": "2fe426ee",
   "metadata": {},
   "outputs": [
    {
     "name": "stdout",
     "output_type": "stream",
     "text": [
      "(no genres listed)    0.0\n",
      "Animation             0.0\n",
      "Drama                 0.0\n",
      "Comedy                0.0\n",
      "War                   0.0\n",
      "Action                0.0\n",
      "Horror                0.0\n",
      "Children              0.0\n",
      "Documentary           0.0\n",
      "Adventure             0.0\n",
      "Sci-Fi                0.0\n",
      "Fantasy               0.0\n",
      "IMAX                  0.0\n",
      "Musical               0.0\n",
      "Thriller              0.0\n",
      "Western               0.0\n",
      "Mystery               0.0\n",
      "Film-Noir             0.0\n",
      "Romance               0.0\n",
      "Crime                 0.0\n",
      "Name: 0, dtype: float64\n"
     ]
    }
   ],
   "source": [
    "# 참고\n",
    "print(movie_genres.loc[0])"
   ]
  },
  {
   "cell_type": "code",
   "execution_count": 69,
   "id": "fd12b17d",
   "metadata": {},
   "outputs": [
    {
     "name": "stdout",
     "output_type": "stream",
     "text": [
      "0        0.0\n",
      "1        0.0\n",
      "2        0.0\n",
      "3        0.0\n",
      "4        0.0\n",
      "        ... \n",
      "10676    0.0\n",
      "10677    0.0\n",
      "10678    0.0\n",
      "10679    0.0\n",
      "10680    0.0\n",
      "Name: Action, Length: 10681, dtype: float64\n"
     ]
    }
   ],
   "source": [
    "print(movie_genres['Action'])"
   ]
  },
  {
   "cell_type": "code",
   "execution_count": 76,
   "id": "d42f29aa",
   "metadata": {},
   "outputs": [
    {
     "data": {
      "text/html": [
       "<div>\n",
       "<style scoped>\n",
       "    .dataframe tbody tr th:only-of-type {\n",
       "        vertical-align: middle;\n",
       "    }\n",
       "\n",
       "    .dataframe tbody tr th {\n",
       "        vertical-align: top;\n",
       "    }\n",
       "\n",
       "    .dataframe thead th {\n",
       "        text-align: right;\n",
       "    }\n",
       "</style>\n",
       "<table border=\"1\" class=\"dataframe\">\n",
       "  <thead>\n",
       "    <tr style=\"text-align: right;\">\n",
       "      <th></th>\n",
       "      <th>(no genres listed)</th>\n",
       "      <th>Animation</th>\n",
       "      <th>Drama</th>\n",
       "      <th>Comedy</th>\n",
       "      <th>War</th>\n",
       "      <th>Action</th>\n",
       "      <th>Horror</th>\n",
       "      <th>Children</th>\n",
       "      <th>Documentary</th>\n",
       "      <th>Adventure</th>\n",
       "      <th>Sci-Fi</th>\n",
       "      <th>Fantasy</th>\n",
       "      <th>IMAX</th>\n",
       "      <th>Musical</th>\n",
       "      <th>Thriller</th>\n",
       "      <th>Western</th>\n",
       "      <th>Mystery</th>\n",
       "      <th>Film-Noir</th>\n",
       "      <th>Romance</th>\n",
       "      <th>Crime</th>\n",
       "    </tr>\n",
       "  </thead>\n",
       "  <tbody>\n",
       "    <tr>\n",
       "      <th>0</th>\n",
       "      <td>0.0</td>\n",
       "      <td>1.0</td>\n",
       "      <td>0.0</td>\n",
       "      <td>1.0</td>\n",
       "      <td>0.0</td>\n",
       "      <td>0.0</td>\n",
       "      <td>0.0</td>\n",
       "      <td>1.0</td>\n",
       "      <td>0.0</td>\n",
       "      <td>1.0</td>\n",
       "      <td>0.0</td>\n",
       "      <td>1.0</td>\n",
       "      <td>0.0</td>\n",
       "      <td>0.0</td>\n",
       "      <td>0.0</td>\n",
       "      <td>0.0</td>\n",
       "      <td>0.0</td>\n",
       "      <td>0.0</td>\n",
       "      <td>0.0</td>\n",
       "      <td>0.0</td>\n",
       "    </tr>\n",
       "    <tr>\n",
       "      <th>1</th>\n",
       "      <td>0.0</td>\n",
       "      <td>0.0</td>\n",
       "      <td>0.0</td>\n",
       "      <td>0.0</td>\n",
       "      <td>0.0</td>\n",
       "      <td>0.0</td>\n",
       "      <td>0.0</td>\n",
       "      <td>1.0</td>\n",
       "      <td>0.0</td>\n",
       "      <td>1.0</td>\n",
       "      <td>0.0</td>\n",
       "      <td>1.0</td>\n",
       "      <td>0.0</td>\n",
       "      <td>0.0</td>\n",
       "      <td>0.0</td>\n",
       "      <td>0.0</td>\n",
       "      <td>0.0</td>\n",
       "      <td>0.0</td>\n",
       "      <td>0.0</td>\n",
       "      <td>0.0</td>\n",
       "    </tr>\n",
       "    <tr>\n",
       "      <th>2</th>\n",
       "      <td>0.0</td>\n",
       "      <td>0.0</td>\n",
       "      <td>0.0</td>\n",
       "      <td>1.0</td>\n",
       "      <td>0.0</td>\n",
       "      <td>0.0</td>\n",
       "      <td>0.0</td>\n",
       "      <td>0.0</td>\n",
       "      <td>0.0</td>\n",
       "      <td>0.0</td>\n",
       "      <td>0.0</td>\n",
       "      <td>0.0</td>\n",
       "      <td>0.0</td>\n",
       "      <td>0.0</td>\n",
       "      <td>0.0</td>\n",
       "      <td>0.0</td>\n",
       "      <td>0.0</td>\n",
       "      <td>0.0</td>\n",
       "      <td>1.0</td>\n",
       "      <td>0.0</td>\n",
       "    </tr>\n",
       "    <tr>\n",
       "      <th>3</th>\n",
       "      <td>0.0</td>\n",
       "      <td>0.0</td>\n",
       "      <td>1.0</td>\n",
       "      <td>1.0</td>\n",
       "      <td>0.0</td>\n",
       "      <td>0.0</td>\n",
       "      <td>0.0</td>\n",
       "      <td>0.0</td>\n",
       "      <td>0.0</td>\n",
       "      <td>0.0</td>\n",
       "      <td>0.0</td>\n",
       "      <td>0.0</td>\n",
       "      <td>0.0</td>\n",
       "      <td>0.0</td>\n",
       "      <td>0.0</td>\n",
       "      <td>0.0</td>\n",
       "      <td>0.0</td>\n",
       "      <td>0.0</td>\n",
       "      <td>1.0</td>\n",
       "      <td>0.0</td>\n",
       "    </tr>\n",
       "    <tr>\n",
       "      <th>4</th>\n",
       "      <td>0.0</td>\n",
       "      <td>0.0</td>\n",
       "      <td>0.0</td>\n",
       "      <td>1.0</td>\n",
       "      <td>0.0</td>\n",
       "      <td>0.0</td>\n",
       "      <td>0.0</td>\n",
       "      <td>0.0</td>\n",
       "      <td>0.0</td>\n",
       "      <td>0.0</td>\n",
       "      <td>0.0</td>\n",
       "      <td>0.0</td>\n",
       "      <td>0.0</td>\n",
       "      <td>0.0</td>\n",
       "      <td>0.0</td>\n",
       "      <td>0.0</td>\n",
       "      <td>0.0</td>\n",
       "      <td>0.0</td>\n",
       "      <td>0.0</td>\n",
       "      <td>0.0</td>\n",
       "    </tr>\n",
       "    <tr>\n",
       "      <th>...</th>\n",
       "      <td>...</td>\n",
       "      <td>...</td>\n",
       "      <td>...</td>\n",
       "      <td>...</td>\n",
       "      <td>...</td>\n",
       "      <td>...</td>\n",
       "      <td>...</td>\n",
       "      <td>...</td>\n",
       "      <td>...</td>\n",
       "      <td>...</td>\n",
       "      <td>...</td>\n",
       "      <td>...</td>\n",
       "      <td>...</td>\n",
       "      <td>...</td>\n",
       "      <td>...</td>\n",
       "      <td>...</td>\n",
       "      <td>...</td>\n",
       "      <td>...</td>\n",
       "      <td>...</td>\n",
       "      <td>...</td>\n",
       "    </tr>\n",
       "    <tr>\n",
       "      <th>10676</th>\n",
       "      <td>0.0</td>\n",
       "      <td>0.0</td>\n",
       "      <td>0.0</td>\n",
       "      <td>1.0</td>\n",
       "      <td>0.0</td>\n",
       "      <td>0.0</td>\n",
       "      <td>0.0</td>\n",
       "      <td>1.0</td>\n",
       "      <td>0.0</td>\n",
       "      <td>1.0</td>\n",
       "      <td>0.0</td>\n",
       "      <td>0.0</td>\n",
       "      <td>0.0</td>\n",
       "      <td>0.0</td>\n",
       "      <td>0.0</td>\n",
       "      <td>0.0</td>\n",
       "      <td>0.0</td>\n",
       "      <td>0.0</td>\n",
       "      <td>0.0</td>\n",
       "      <td>0.0</td>\n",
       "    </tr>\n",
       "    <tr>\n",
       "      <th>10677</th>\n",
       "      <td>0.0</td>\n",
       "      <td>0.0</td>\n",
       "      <td>1.0</td>\n",
       "      <td>0.0</td>\n",
       "      <td>0.0</td>\n",
       "      <td>0.0</td>\n",
       "      <td>0.0</td>\n",
       "      <td>0.0</td>\n",
       "      <td>0.0</td>\n",
       "      <td>0.0</td>\n",
       "      <td>0.0</td>\n",
       "      <td>0.0</td>\n",
       "      <td>0.0</td>\n",
       "      <td>0.0</td>\n",
       "      <td>0.0</td>\n",
       "      <td>0.0</td>\n",
       "      <td>0.0</td>\n",
       "      <td>0.0</td>\n",
       "      <td>1.0</td>\n",
       "      <td>1.0</td>\n",
       "    </tr>\n",
       "    <tr>\n",
       "      <th>10678</th>\n",
       "      <td>0.0</td>\n",
       "      <td>0.0</td>\n",
       "      <td>1.0</td>\n",
       "      <td>1.0</td>\n",
       "      <td>0.0</td>\n",
       "      <td>0.0</td>\n",
       "      <td>0.0</td>\n",
       "      <td>0.0</td>\n",
       "      <td>0.0</td>\n",
       "      <td>0.0</td>\n",
       "      <td>0.0</td>\n",
       "      <td>0.0</td>\n",
       "      <td>0.0</td>\n",
       "      <td>0.0</td>\n",
       "      <td>0.0</td>\n",
       "      <td>0.0</td>\n",
       "      <td>0.0</td>\n",
       "      <td>0.0</td>\n",
       "      <td>0.0</td>\n",
       "      <td>0.0</td>\n",
       "    </tr>\n",
       "    <tr>\n",
       "      <th>10679</th>\n",
       "      <td>0.0</td>\n",
       "      <td>0.0</td>\n",
       "      <td>1.0</td>\n",
       "      <td>0.0</td>\n",
       "      <td>0.0</td>\n",
       "      <td>0.0</td>\n",
       "      <td>0.0</td>\n",
       "      <td>0.0</td>\n",
       "      <td>0.0</td>\n",
       "      <td>0.0</td>\n",
       "      <td>0.0</td>\n",
       "      <td>0.0</td>\n",
       "      <td>0.0</td>\n",
       "      <td>0.0</td>\n",
       "      <td>0.0</td>\n",
       "      <td>0.0</td>\n",
       "      <td>0.0</td>\n",
       "      <td>0.0</td>\n",
       "      <td>1.0</td>\n",
       "      <td>0.0</td>\n",
       "    </tr>\n",
       "    <tr>\n",
       "      <th>10680</th>\n",
       "      <td>0.0</td>\n",
       "      <td>0.0</td>\n",
       "      <td>0.0</td>\n",
       "      <td>1.0</td>\n",
       "      <td>0.0</td>\n",
       "      <td>0.0</td>\n",
       "      <td>0.0</td>\n",
       "      <td>0.0</td>\n",
       "      <td>0.0</td>\n",
       "      <td>0.0</td>\n",
       "      <td>0.0</td>\n",
       "      <td>0.0</td>\n",
       "      <td>0.0</td>\n",
       "      <td>0.0</td>\n",
       "      <td>0.0</td>\n",
       "      <td>0.0</td>\n",
       "      <td>0.0</td>\n",
       "      <td>0.0</td>\n",
       "      <td>0.0</td>\n",
       "      <td>0.0</td>\n",
       "    </tr>\n",
       "  </tbody>\n",
       "</table>\n",
       "<p>10681 rows × 20 columns</p>\n",
       "</div>"
      ],
      "text/plain": [
       "       (no genres listed)  Animation  Drama  Comedy  War  Action  Horror  \\\n",
       "0                     0.0        1.0    0.0     1.0  0.0     0.0     0.0   \n",
       "1                     0.0        0.0    0.0     0.0  0.0     0.0     0.0   \n",
       "2                     0.0        0.0    0.0     1.0  0.0     0.0     0.0   \n",
       "3                     0.0        0.0    1.0     1.0  0.0     0.0     0.0   \n",
       "4                     0.0        0.0    0.0     1.0  0.0     0.0     0.0   \n",
       "...                   ...        ...    ...     ...  ...     ...     ...   \n",
       "10676                 0.0        0.0    0.0     1.0  0.0     0.0     0.0   \n",
       "10677                 0.0        0.0    1.0     0.0  0.0     0.0     0.0   \n",
       "10678                 0.0        0.0    1.0     1.0  0.0     0.0     0.0   \n",
       "10679                 0.0        0.0    1.0     0.0  0.0     0.0     0.0   \n",
       "10680                 0.0        0.0    0.0     1.0  0.0     0.0     0.0   \n",
       "\n",
       "       Children  Documentary  Adventure  Sci-Fi  Fantasy  IMAX  Musical  \\\n",
       "0           1.0          0.0        1.0     0.0      1.0   0.0      0.0   \n",
       "1           1.0          0.0        1.0     0.0      1.0   0.0      0.0   \n",
       "2           0.0          0.0        0.0     0.0      0.0   0.0      0.0   \n",
       "3           0.0          0.0        0.0     0.0      0.0   0.0      0.0   \n",
       "4           0.0          0.0        0.0     0.0      0.0   0.0      0.0   \n",
       "...         ...          ...        ...     ...      ...   ...      ...   \n",
       "10676       1.0          0.0        1.0     0.0      0.0   0.0      0.0   \n",
       "10677       0.0          0.0        0.0     0.0      0.0   0.0      0.0   \n",
       "10678       0.0          0.0        0.0     0.0      0.0   0.0      0.0   \n",
       "10679       0.0          0.0        0.0     0.0      0.0   0.0      0.0   \n",
       "10680       0.0          0.0        0.0     0.0      0.0   0.0      0.0   \n",
       "\n",
       "       Thriller  Western  Mystery  Film-Noir  Romance  Crime  \n",
       "0           0.0      0.0      0.0        0.0      0.0    0.0  \n",
       "1           0.0      0.0      0.0        0.0      0.0    0.0  \n",
       "2           0.0      0.0      0.0        0.0      1.0    0.0  \n",
       "3           0.0      0.0      0.0        0.0      1.0    0.0  \n",
       "4           0.0      0.0      0.0        0.0      0.0    0.0  \n",
       "...         ...      ...      ...        ...      ...    ...  \n",
       "10676       0.0      0.0      0.0        0.0      0.0    0.0  \n",
       "10677       0.0      0.0      0.0        0.0      1.0    1.0  \n",
       "10678       0.0      0.0      0.0        0.0      0.0    0.0  \n",
       "10679       0.0      0.0      0.0        0.0      1.0    0.0  \n",
       "10680       0.0      0.0      0.0        0.0      0.0    0.0  \n",
       "\n",
       "[10681 rows x 20 columns]"
      ]
     },
     "execution_count": 76,
     "metadata": {},
     "output_type": "execute_result"
    }
   ],
   "source": [
    "for i,j in enumerate(movies.genres):\n",
    "    movie_genres.loc[i,j.split(\"|\")]=1\n",
    "movie_genres"
   ]
  },
  {
   "cell_type": "code",
   "execution_count": 77,
   "id": "36891426",
   "metadata": {},
   "outputs": [
    {
     "name": "stdout",
     "output_type": "stream",
     "text": [
      "word_counter\n",
      "(no genres listed)       1.0\n",
      "Animation              286.0\n",
      "Drama                 5339.0\n",
      "Comedy                3703.0\n",
      "War                    511.0\n",
      "Action                1473.0\n",
      "Horror                1013.0\n",
      "Children               528.0\n",
      "Documentary            482.0\n",
      "Adventure             1025.0\n",
      "Sci-Fi                 754.0\n",
      "Fantasy                543.0\n",
      "IMAX                    29.0\n",
      "Musical                436.0\n",
      "Thriller              1706.0\n",
      "Western                275.0\n",
      "Mystery                509.0\n",
      "Film-Noir              148.0\n",
      "Romance               1685.0\n",
      "Crime                 1118.0\n",
      "dtype: float64\n"
     ]
    }
   ],
   "source": [
    "word_counter = movie_genres.sum()\n",
    "print(\"word_counter\")\n",
    "print(word_counter)"
   ]
  },
  {
   "cell_type": "code",
   "execution_count": 78,
   "id": "77d95ea2",
   "metadata": {},
   "outputs": [
    {
     "data": {
      "image/png": "[encoded data removed]",
      "text/plain": [
       "<Figure size 640x480 with 1 Axes>"
      ]
     },
     "metadata": {},
     "output_type": "display_data"
    }
   ],
   "source": [
    "# 통계내용 시각화\n",
    "word_counter.plot(kind='barh', title='movie word counter')\n",
    "plt.show()"
   ]
  },
  {
   "cell_type": "code",
   "execution_count": 80,
   "id": "b7ac929f",
   "metadata": {},
   "outputs": [
    {
     "data": {
      "image/png": "[encoded data removed]",
      "text/plain": [
       "<Figure size 640x480 with 1 Axes>"
      ]
     },
     "metadata": {},
     "output_type": "display_data"
    }
   ],
   "source": [
    "word_counter.sort_values().plot(kind='barh', title='movie word counter')\n",
    "plt.show()"
   ]
  },
  {
   "cell_type": "code",
   "execution_count": 82,
   "id": "818206d0",
   "metadata": {},
   "outputs": [
    {
     "data": {
      "text/html": [
       "<div>\n",
       "<style scoped>\n",
       "    .dataframe tbody tr th:only-of-type {\n",
       "        vertical-align: middle;\n",
       "    }\n",
       "\n",
       "    .dataframe tbody tr th {\n",
       "        vertical-align: top;\n",
       "    }\n",
       "\n",
       "    .dataframe thead th {\n",
       "        text-align: right;\n",
       "    }\n",
       "</style>\n",
       "<table border=\"1\" class=\"dataframe\">\n",
       "  <thead>\n",
       "    <tr style=\"text-align: right;\">\n",
       "      <th></th>\n",
       "      <th>01/01</th>\n",
       "      <th>01/02</th>\n",
       "      <th>01/03</th>\n",
       "      <th>01/04</th>\n",
       "    </tr>\n",
       "  </thead>\n",
       "  <tbody>\n",
       "    <tr>\n",
       "      <th>서울</th>\n",
       "      <td>2</td>\n",
       "      <td>-5</td>\n",
       "      <td>1</td>\n",
       "      <td>-3</td>\n",
       "    </tr>\n",
       "    <tr>\n",
       "      <th>대전</th>\n",
       "      <td>2</td>\n",
       "      <td>0</td>\n",
       "      <td>4</td>\n",
       "      <td>1</td>\n",
       "    </tr>\n",
       "    <tr>\n",
       "      <th>대구</th>\n",
       "      <td>1</td>\n",
       "      <td>-1</td>\n",
       "      <td>0</td>\n",
       "      <td>2</td>\n",
       "    </tr>\n",
       "    <tr>\n",
       "      <th>부산</th>\n",
       "      <td>4</td>\n",
       "      <td>-3</td>\n",
       "      <td>-2</td>\n",
       "      <td>3</td>\n",
       "    </tr>\n",
       "  </tbody>\n",
       "</table>\n",
       "</div>"
      ],
      "text/plain": [
       "    01/01  01/02  01/03  01/04\n",
       "서울      2     -5      1     -3\n",
       "대전      2      0      4      1\n",
       "대구      1     -1      0      2\n",
       "부산      4     -3     -2      3"
      ]
     },
     "execution_count": 82,
     "metadata": {},
     "output_type": "execute_result"
    }
   ],
   "source": [
    "# 실습2 \n",
    "# 날씨 데이터 구하기\n",
    "# 1월 1일부터 1월 4일까지 서울,대전,대구,부산의 날씨 데이터\n",
    "import pandas as pd\n",
    "data = pd.DataFrame({'01/01':[2,2,1,4],'01/02':[-5,0,-1,-3],'01/03':[1,4,0,-2],'01/04':[-3,1,2,3]}, index=['서울','대전','대구','부산'])\n",
    "data"
   ]
  },
  {
   "cell_type": "code",
   "execution_count": 83,
   "id": "06c1bef4",
   "metadata": {},
   "outputs": [
    {
     "name": "stdout",
     "output_type": "stream",
     "text": [
      "01/01    4\n",
      "01/02    4\n",
      "01/03    4\n",
      "01/04    4\n",
      "dtype: int64\n"
     ]
    }
   ],
   "source": [
    "# 데이터의 숫자\n",
    "print(data.count())"
   ]
  },
  {
   "cell_type": "code",
   "execution_count": 84,
   "id": "8f7d8b72",
   "metadata": {},
   "outputs": [
    {
     "name": "stdout",
     "output_type": "stream",
     "text": [
      "서울    4\n",
      "대전    4\n",
      "대구    4\n",
      "부산    4\n",
      "dtype: int64\n"
     ]
    }
   ],
   "source": [
    "print(data.count(axis=1))"
   ]
  },
  {
   "cell_type": "code",
   "execution_count": 85,
   "id": "bc2910c7",
   "metadata": {},
   "outputs": [
    {
     "name": "stdout",
     "output_type": "stream",
     "text": [
      "01/01    2.25\n",
      "01/02   -2.25\n",
      "01/03    0.75\n",
      "01/04    0.75\n",
      "dtype: float64\n"
     ]
    }
   ],
   "source": [
    "print(data.mean())"
   ]
  },
  {
   "cell_type": "code",
   "execution_count": 86,
   "id": "aa6da40a",
   "metadata": {},
   "outputs": [
    {
     "name": "stdout",
     "output_type": "stream",
     "text": [
      "서울   -1.25\n",
      "대전    1.75\n",
      "대구    0.50\n",
      "부산    0.50\n",
      "dtype: float64\n"
     ]
    }
   ],
   "source": [
    "print(data.mean(axis=1))"
   ]
  },
  {
   "cell_type": "code",
   "execution_count": 87,
   "id": "a24760e0",
   "metadata": {},
   "outputs": [
    {
     "name": "stdout",
     "output_type": "stream",
     "text": [
      "01/01    4\n",
      "01/02    0\n",
      "01/03    4\n",
      "01/04    3\n",
      "dtype: int64\n",
      "\n",
      "서울    2\n",
      "대전    4\n",
      "대구    2\n",
      "부산    4\n",
      "dtype: int64\n"
     ]
    }
   ],
   "source": [
    "print(data.max())\n",
    "print()\n",
    "print(data.max(axis=1))"
   ]
  },
  {
   "cell_type": "code",
   "execution_count": 88,
   "id": "62fa4514",
   "metadata": {},
   "outputs": [
    {
     "name": "stdout",
     "output_type": "stream",
     "text": [
      "01/01    1\n",
      "01/02   -5\n",
      "01/03   -2\n",
      "01/04   -3\n",
      "dtype: int64\n",
      "\n",
      "서울   -5\n",
      "대전    0\n",
      "대구   -1\n",
      "부산   -3\n",
      "dtype: int64\n"
     ]
    }
   ],
   "source": [
    "print(data.min())\n",
    "print()\n",
    "print(data.min(axis=1))"
   ]
  },
  {
   "cell_type": "code",
   "execution_count": 89,
   "id": "01f8953e",
   "metadata": {},
   "outputs": [
    {
     "name": "stdout",
     "output_type": "stream",
     "text": [
      "01/01    2.0\n",
      "01/02   -2.0\n",
      "01/03    0.5\n",
      "01/04    1.5\n",
      "dtype: float64\n",
      "\n",
      "서울   -1.0\n",
      "대전    1.5\n",
      "대구    0.5\n",
      "부산    0.5\n",
      "dtype: float64\n"
     ]
    }
   ],
   "source": [
    "print(data.median())\n",
    "print()\n",
    "print(data.median(axis=1))"
   ]
  },
  {
   "cell_type": "code",
   "execution_count": 90,
   "id": "6b855b4d",
   "metadata": {},
   "outputs": [
    {
     "name": "stdout",
     "output_type": "stream",
     "text": [
      "01/01    1.583333\n",
      "01/02    4.916667\n",
      "01/03    6.250000\n",
      "01/04    6.916667\n",
      "dtype: float64\n",
      "서울    10.916667\n",
      "대전     2.916667\n",
      "대구     1.666667\n",
      "부산    12.333333\n",
      "dtype: float64\n"
     ]
    }
   ],
   "source": [
    "print(data.var())\n",
    "print(data.var(axis=1))"
   ]
  },
  {
   "cell_type": "code",
   "execution_count": 91,
   "id": "e9bc84b2",
   "metadata": {},
   "outputs": [
    {
     "name": "stdout",
     "output_type": "stream",
     "text": [
      "01/01    1.258306\n",
      "01/02    2.217356\n",
      "01/03    2.500000\n",
      "01/04    2.629956\n",
      "dtype: float64\n",
      "서울    3.304038\n",
      "대전    1.707825\n",
      "대구    1.290994\n",
      "부산    3.511885\n",
      "dtype: float64\n"
     ]
    }
   ],
   "source": [
    "print(data.std())\n",
    "print(data.std(axis=1))"
   ]
  },
  {
   "cell_type": "code",
   "execution_count": 93,
   "id": "8900fd57",
   "metadata": {},
   "outputs": [
    {
     "name": "stdout",
     "output_type": "stream",
     "text": [
      "01/01    2.0\n",
      "01/02   -2.0\n",
      "01/03    0.5\n",
      "01/04    1.5\n",
      "Name: 0.5, dtype: float64\n",
      "\n",
      "01/01    1.6\n",
      "01/02   -3.8\n",
      "01/03   -0.8\n",
      "01/04   -0.6\n",
      "Name: 0.2, dtype: float64\n",
      "\n",
      "서울   -1.0\n",
      "대전    1.5\n",
      "대구    0.5\n",
      "부산    0.5\n",
      "Name: 0.5, dtype: float64\n"
     ]
    }
   ],
   "source": [
    "print(data.quantile()) # 기본값이 0.5로 백분위 50퍼의 값을 구해준다\n",
    "print()\n",
    "print(data.quantile(q=0.2))\n",
    "print()\n",
    "print(data.quantile(axis=1)) # 행마다 백분위를 구해준다"
   ]
  },
  {
   "cell_type": "code",
   "execution_count": 94,
   "id": "b765e18e",
   "metadata": {},
   "outputs": [
    {
     "name": "stdout",
     "output_type": "stream",
     "text": [
      "1.2583057392117916\n",
      "-1.25\n"
     ]
    }
   ],
   "source": [
    "print(data['01/01'].std()) # 1월1일열의 표준편차\n",
    "print(data.iloc()[0].mean()) # 0번째 행의 평균"
   ]
  },
  {
   "cell_type": "code",
   "execution_count": null,
   "id": "1bd10ef9",
   "metadata": {},
   "outputs": [],
   "source": []
  }
 ],
 "metadata": {
  "kernelspec": {
   "display_name": "Python 3 (ipykernel)",
   "language": "python",
   "name": "python3"
  },
  "language_info": {
   "codemirror_mode": {
    "name": "ipython",
    "version": 3
   },
   "file_extension": ".py",
   "mimetype": "text/x-python",
   "name": "python",
   "nbconvert_exporter": "python",
   "pygments_lexer": "ipython3",
   "version": "3.7.16"
  }
 },
 "nbformat": 4,
 "nbformat_minor": 5
}
