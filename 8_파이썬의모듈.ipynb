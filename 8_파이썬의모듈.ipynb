{
 "cells": [
  {
   "cell_type": "markdown",
   "id": "e75851fb",
   "metadata": {},
   "source": [
    "- 모듈 : 파이썬코드를 논리적으로 묶어서 관리하고 사용할 수 있도록 하는 것"
   ]
  },
  {
   "cell_type": "markdown",
   "id": "cf48cf21",
   "metadata": {},
   "source": [
    "- 모듈의 종류 : 파이썬 자체가 지원하거나, 다른 사람이 공유한 코드를 불러와 사용\n",
    "- ex) 표준모듈, 사용자정의모듈, 외부모듈\n",
    "- import 모듈명 : 모듈호출코드, as(alias) : 긴 모듈명 축약\n",
    "- from 모듈명 import 식별자 : 모듈 내 특정코드를 호출"
   ]
  },
  {
   "cell_type": "code",
   "execution_count": 1,
   "id": "c9615206",
   "metadata": {},
   "outputs": [
    {
     "name": "stdout",
     "output_type": "stream",
     "text": [
      "C:\\Users\\M\\Desktop\\JHSTUDY\\PYTHON\\초급\n"
     ]
    }
   ],
   "source": [
    "# 표준모듈\n",
    "# os모듈 : 운영체제와의 상호작용 관련함수\n",
    "import os\n",
    "print(os.getcwd())"
   ]
  },
  {
   "cell_type": "code",
   "execution_count": 2,
   "id": "634879b6",
   "metadata": {},
   "outputs": [
    {
     "name": "stdout",
     "output_type": "stream",
     "text": [
      "time.struct_time(tm_year=2024, tm_mon=9, tm_mday=20, tm_hour=16, tm_min=26, tm_sec=13, tm_wday=4, tm_yday=264, tm_isdst=0)\n"
     ]
    }
   ],
   "source": [
    "# time모듈 : 시간관련함수\n",
    "import time\n",
    "print(time.localtime())"
   ]
  },
  {
   "cell_type": "code",
   "execution_count": 3,
   "id": "f98197b7",
   "metadata": {},
   "outputs": [
    {
     "name": "stdout",
     "output_type": "stream",
     "text": [
      "0.3970613924089811\n",
      "1\n"
     ]
    }
   ],
   "source": [
    "# random모듈 : 랜덤관련함수\n",
    "import random\n",
    "print(random.random())\n",
    "print(random.randint(1,5))"
   ]
  },
  {
   "cell_type": "code",
   "execution_count": 4,
   "id": "a64a6471",
   "metadata": {},
   "outputs": [
    {
     "name": "stdout",
     "output_type": "stream",
     "text": [
      "3.141592653589793\n",
      "120\n"
     ]
    }
   ],
   "source": [
    "# math모듈 : 수학관련함수\n",
    "import math\n",
    "print(math.pi)\n",
    "print(math.factorial(5))"
   ]
  },
  {
   "cell_type": "code",
   "execution_count": 5,
   "id": "374f061d",
   "metadata": {},
   "outputs": [],
   "source": [
    "# 파이썬 모듈확인방법\n",
    "# 1. 모듈인터넷 검색\n",
    "# 2. 모듈호출 : 모듈명.tab\n",
    "# 3. help('모듈명')\n",
    "# 4. 모듈위커서 + shift + tab"
   ]
  },
  {
   "cell_type": "code",
   "execution_count": 6,
   "id": "bb626176",
   "metadata": {},
   "outputs": [],
   "source": [
    "# 사용자 정의모듈\n",
    "\n",
    "# 외부모듈 : 패키지관리자 pip를 이용하여 외부모듈 설치\n",
    "# 콘솔창에 pip install 패키지명 입력\n",
    "# 주피터노트북에서 외부모듈을 설치할 경우 : !(느낌표) + 명령어\n",
    "# 주피터노트북에서 모듈을 삭제하는 경우 : pip uninstall + 모듈명"
   ]
  },
  {
   "cell_type": "code",
   "execution_count": 7,
   "id": "38dd70d4",
   "metadata": {},
   "outputs": [],
   "source": [
    "# 통계를 위한 모듈\n",
    "# 1. 데이터분석,통계 : numpy, pandas, matplotlib, scipy, scikit\n",
    "# 2. 인공지능 : tensorflow, pytorch, keras\n",
    "# 3. 데이터분석 : beautifulsoup, selenium"
   ]
  },
  {
   "cell_type": "code",
   "execution_count": 8,
   "id": "30951363",
   "metadata": {},
   "outputs": [],
   "source": [
    "# numpy(numerical python) : 수학및과학연산모듈, n차원배열(행렬연산), 기본선형대수함수, 고급난수\n",
    "# scipy(scientific python) : numpy 기반으로 동작\n",
    "# matplotlib : 대표적인 시각화모듈, 다양한 형태의 그래프 제공\n",
    "# pandas : 데이터분석모듈, 파이썬 데이터 정제 및 분석\n",
    "# scikit : numpy, scipy, matplotlib기반 분류,회귀,클러스터링,차원감소,기계학습,통계모델링"
   ]
  },
  {
   "cell_type": "code",
   "execution_count": 10,
   "id": "24e1f14a",
   "metadata": {},
   "outputs": [
    {
     "name": "stdout",
     "output_type": "stream",
     "text": [
      "6.068878698030822\n",
      "6\n"
     ]
    }
   ],
   "source": [
    "# 실습1\n",
    "# 로또 번호 생성기 만들기\n",
    "# 1. random 모듈 활용\n",
    "# 2. 중복없는 1부터 45 사이의 랜덤번호 6개 출력\n",
    "# 3. 리스트 자료형 결과 출력\n",
    "\n",
    "import random\n",
    "temp = random.random()\n",
    "temp = temp * 100\n",
    "if temp >=1 and temp < 46:\n",
    "    print(temp)\n",
    "    \n",
    "temp = int(temp)\n",
    "print(temp)"
   ]
  },
  {
   "cell_type": "code",
   "execution_count": 11,
   "id": "aad47775",
   "metadata": {},
   "outputs": [
    {
     "name": "stdout",
     "output_type": "stream",
     "text": [
      "[12, 12, 23, 33, 11, 36]\n"
     ]
    }
   ],
   "source": [
    "lotto = []\n",
    "\n",
    "while True:\n",
    "    temp = random.random()\n",
    "    temp = temp * 100\n",
    "    if temp >= 1 and temp < 46:\n",
    "        lotto.append(int(temp))\n",
    "        \n",
    "    if len(lotto) == 6:\n",
    "        break\n",
    "print(lotto)"
   ]
  },
  {
   "cell_type": "code",
   "execution_count": 12,
   "id": "10d476d2",
   "metadata": {},
   "outputs": [
    {
     "name": "stdout",
     "output_type": "stream",
     "text": [
      "[6, 44, 12, 16, 20, 31]\n"
     ]
    }
   ],
   "source": [
    "lotto = []\n",
    "\n",
    "while True:\n",
    "    temp = random.random()\n",
    "    temp = temp * 100\n",
    "    if temp >= 1 and temp < 46:\n",
    "        lotto.append(int(temp))\n",
    "        lotto = set(lotto)\n",
    "        lotto = list(lotto)\n",
    "        \n",
    "    if len(lotto) == 6:\n",
    "        break\n",
    "print(lotto)"
   ]
  },
  {
   "cell_type": "code",
   "execution_count": 13,
   "id": "bf3f0a9e",
   "metadata": {},
   "outputs": [
    {
     "name": "stdout",
     "output_type": "stream",
     "text": [
      "34\n"
     ]
    }
   ],
   "source": [
    "# 다른 방법\n",
    "print(random.randint(1,45))"
   ]
  },
  {
   "cell_type": "code",
   "execution_count": 14,
   "id": "09417663",
   "metadata": {},
   "outputs": [
    {
     "name": "stdout",
     "output_type": "stream",
     "text": [
      "[5, 3, 30, 25, 18, 16]\n"
     ]
    }
   ],
   "source": [
    "print(random.sample(range(1,46),6))"
   ]
  },
  {
   "cell_type": "code",
   "execution_count": null,
   "id": "9a219ae7",
   "metadata": {},
   "outputs": [],
   "source": []
  }
 ],
 "metadata": {
  "kernelspec": {
   "display_name": "Python 3 (ipykernel)",
   "language": "python",
   "name": "python3"
  },
  "language_info": {
   "codemirror_mode": {
    "name": "ipython",
    "version": 3
   },
   "file_extension": ".py",
   "mimetype": "text/x-python",
   "name": "python",
   "nbconvert_exporter": "python",
   "pygments_lexer": "ipython3",
   "version": "3.7.16"
  }
 },
 "nbformat": 4,
 "nbformat_minor": 5
}
