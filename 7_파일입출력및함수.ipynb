{
 "cells": [
  {
   "cell_type": "markdown",
   "id": "57e20e84",
   "metadata": {},
   "source": [
    "- 학습목표\n",
    "- 1. 파일입출력에 대해 알아보고, 파일을 저장 및 불러오기를 할 수 있다\n",
    "- 2. 함수에 대해 알아보고, 중복된 코드를 함수로 정의할 수 있다"
   ]
  },
  {
   "cell_type": "code",
   "execution_count": 1,
   "id": "c8e606a8",
   "metadata": {},
   "outputs": [],
   "source": [
    "# 파일입출력\n",
    "# open() - 파일열기, close() - 파일닫기\n",
    "# open : 디렉토리 경로 및 파일이름, 모드 -> 읽기,쓰기,수정 -> close\n",
    "# r 읽기모드 w 쓰기모드 x 쓰기전용 a 추가모드 + 갱신모드"
   ]
  },
  {
   "cell_type": "code",
   "execution_count": 2,
   "id": "abcc16ad",
   "metadata": {},
   "outputs": [],
   "source": [
    "# 파일쓰기\n",
    "f = open(\"a.txt\", \"w\")\n",
    "f.write(\"1234\")\n",
    "f.close()"
   ]
  },
  {
   "cell_type": "code",
   "execution_count": 3,
   "id": "bc2db2b2",
   "metadata": {},
   "outputs": [],
   "source": [
    "# a모드:기존파일에 새로운 내용 추가\n",
    "f = open(\"a.txt\", \"w\")\n",
    "f.write(\"1234\")\n",
    "f.close()\n",
    "f = open(\"a.txt\", \"w\")\n",
    "f.write(\"5678\")\n",
    "f.close()"
   ]
  },
  {
   "cell_type": "code",
   "execution_count": 4,
   "id": "cbf0f5dd",
   "metadata": {},
   "outputs": [],
   "source": [
    "# x모드 : 새로운 파일에 쓰기/ 기존파일에 덮어쓰기하는 경우에는 에러가 발생\n",
    "f = open(\"b.txt\", 'x')\n",
    "f.write(\"1234\")\n",
    "f.close()"
   ]
  },
  {
   "cell_type": "code",
   "execution_count": 5,
   "id": "38255cdd",
   "metadata": {},
   "outputs": [],
   "source": [
    "# 여러 줄의 내용을 입력하는 경우\n",
    "# 여러줄 문자열사용하기 위해 따옴표 세개를 사용\n",
    "f=open(\"a.txt\", 'w')\n",
    "f.write(\"\"\"1234\n",
    "1234\"\"\")\n",
    "f.close()"
   ]
  },
  {
   "cell_type": "code",
   "execution_count": 9,
   "id": "3f5b2516",
   "metadata": {},
   "outputs": [],
   "source": [
    "# 개행문자열사용\n",
    "f=open(\"a.txt\", 'w')\n",
    "f.write(\"1234\\n1234\")\n",
    "f.close()"
   ]
  },
  {
   "cell_type": "code",
   "execution_count": 7,
   "id": "12c13cbb",
   "metadata": {},
   "outputs": [
    {
     "name": "stdout",
     "output_type": "stream",
     "text": [
      "1234\n"
     ]
    }
   ],
   "source": [
    "# 파일읽기 / 읽으려는 파일이 없으면 에러가 생김\n",
    "f=open(\"a.txt\",'w')\n",
    "f.write(\"1234\")\n",
    "f.close()\n",
    "f=open(\"a.txt\",\"r\")\n",
    "print(f.read())\n",
    "f.close()"
   ]
  },
  {
   "cell_type": "code",
   "execution_count": 10,
   "id": "d0461e56",
   "metadata": {},
   "outputs": [
    {
     "name": "stdout",
     "output_type": "stream",
     "text": [
      "1234\n",
      "\n",
      "1234\n"
     ]
    }
   ],
   "source": [
    "# 여러줄의 내용읽기 - readline()\n",
    "f=open(\"a.txt\",\"r\")\n",
    "print(f.readline())\n",
    "print(f.readline())\n",
    "f.close()"
   ]
  },
  {
   "cell_type": "code",
   "execution_count": 12,
   "id": "25317324",
   "metadata": {},
   "outputs": [
    {
     "name": "stdout",
     "output_type": "stream",
     "text": [
      "1234\n",
      "\n",
      "1234\n"
     ]
    }
   ],
   "source": [
    "f=open(\"a.txt\",\"r\")\n",
    "while True:\n",
    "    line=f.readline()\n",
    "    if not line: break\n",
    "    print(line)\n",
    "f.close()"
   ]
  },
  {
   "cell_type": "code",
   "execution_count": 13,
   "id": "d64a79c7",
   "metadata": {},
   "outputs": [
    {
     "name": "stdout",
     "output_type": "stream",
     "text": [
      "['1234\\n', '1234']\n"
     ]
    }
   ],
   "source": [
    "# readlines()\n",
    "f=open(\"a.txt\",'r')\n",
    "print(f.readlines())\n",
    "f.close()"
   ]
  },
  {
   "cell_type": "code",
   "execution_count": 14,
   "id": "e9d1ed11",
   "metadata": {},
   "outputs": [],
   "source": [
    "# 파이썬 함수의 정의와 활용"
   ]
  },
  {
   "cell_type": "code",
   "execution_count": 15,
   "id": "9ec2a7b3",
   "metadata": {},
   "outputs": [],
   "source": [
    "# 콜론과 들여쓰기 필수\n",
    "def sayhello():\n",
    "    print(\"안녕하세요\")\n",
    "    print(\"파이썬의 함수입니다.\")"
   ]
  },
  {
   "cell_type": "code",
   "execution_count": 16,
   "id": "05d5d5fa",
   "metadata": {},
   "outputs": [],
   "source": [
    "# 아무 행동도 하지 않는 함수는 pass키워드 입력\n",
    "def func():\n",
    "    pass"
   ]
  },
  {
   "cell_type": "code",
   "execution_count": 17,
   "id": "4401cd88",
   "metadata": {},
   "outputs": [],
   "source": [
    "# 함수 설명 기재가능\n",
    "def hello():\n",
    "    \"이것은 함수 예제입니다.\"\n",
    "    print(\"안녕하세요\")\n",
    "    print(\"파이썬의 함수입니다.\")"
   ]
  },
  {
   "cell_type": "code",
   "execution_count": 18,
   "id": "e002e9dd",
   "metadata": {},
   "outputs": [
    {
     "name": "stdout",
     "output_type": "stream",
     "text": [
      "Help on function hello in module __main__:\n",
      "\n",
      "hello()\n",
      "    이것은 함수 예제입니다.\n",
      "\n"
     ]
    }
   ],
   "source": [
    "# 내장함수 help() - 해당함수 설명 확인\n",
    "help(hello)"
   ]
  },
  {
   "cell_type": "code",
   "execution_count": 19,
   "id": "c5ae9042",
   "metadata": {},
   "outputs": [
    {
     "name": "stdout",
     "output_type": "stream",
     "text": [
      "안녕하세요\n",
      "파이썬의 함수입니다.\n"
     ]
    }
   ],
   "source": [
    "# 정의한 함수 호출\n",
    "hello()"
   ]
  },
  {
   "cell_type": "code",
   "execution_count": 20,
   "id": "0311a23c",
   "metadata": {},
   "outputs": [
    {
     "name": "stdout",
     "output_type": "stream",
     "text": [
      "3\n"
     ]
    }
   ],
   "source": [
    "# 매개변수의 활용\n",
    "def add(a,b):\n",
    "    print(a+b)\n",
    "    \n",
    "add(1,2)"
   ]
  },
  {
   "cell_type": "code",
   "execution_count": 25,
   "id": "ef213bc1",
   "metadata": {},
   "outputs": [
    {
     "name": "stdout",
     "output_type": "stream",
     "text": [
      "2\n",
      "4\n",
      "6\n",
      "8\n",
      "10\n",
      "12\n",
      "14\n",
      "16\n",
      "18\n"
     ]
    }
   ],
   "source": [
    "# 구구단을 출력하시오\n",
    "def gugu(x):\n",
    "    for i in range(1,10):\n",
    "        print(x*i)\n",
    "gugu(2)"
   ]
  },
  {
   "cell_type": "code",
   "execution_count": 26,
   "id": "8957628d",
   "metadata": {},
   "outputs": [
    {
     "name": "stdout",
     "output_type": "stream",
     "text": [
      "3\n",
      "6\n",
      "9\n",
      "12\n",
      "15\n",
      "18\n",
      "21\n",
      "24\n",
      "27\n"
     ]
    }
   ],
   "source": [
    "gugu(3)"
   ]
  },
  {
   "cell_type": "code",
   "execution_count": 27,
   "id": "d78890c6",
   "metadata": {},
   "outputs": [],
   "source": [
    "# 함수는 실행종료후 끝나는데, return키워드 활용하면 살행종료후 반환값을 지정\n",
    "# add함수는 함수의 결과를 직접 반환하지 않기 때문에 결과를 코드에서 사용하거나 저장할 수 없고\n",
    "# add2함수는 결과를 반환하므로 변수에 저장하거나 다름 연산에 사용할 수 있다\n",
    "def add(a,b):\n",
    "    print(a+b)\n",
    "\n",
    "def add2(a,b):\n",
    "    return(a+b)"
   ]
  },
  {
   "cell_type": "code",
   "execution_count": 28,
   "id": "7ef69fa9",
   "metadata": {},
   "outputs": [
    {
     "name": "stdout",
     "output_type": "stream",
     "text": [
      "3\n",
      "None\n"
     ]
    }
   ],
   "source": [
    "x=add(1,2)\n",
    "print(x)"
   ]
  },
  {
   "cell_type": "code",
   "execution_count": 29,
   "id": "f1d09552",
   "metadata": {},
   "outputs": [
    {
     "name": "stdout",
     "output_type": "stream",
     "text": [
      "3\n"
     ]
    }
   ],
   "source": [
    "y=add2(1,2)\n",
    "print(y)"
   ]
  },
  {
   "cell_type": "code",
   "execution_count": 30,
   "id": "1f808da6",
   "metadata": {},
   "outputs": [
    {
     "name": "stdout",
     "output_type": "stream",
     "text": [
      "30\n"
     ]
    }
   ],
   "source": [
    "# 매개변수에 기본값 설정\n",
    "def func(a,b):\n",
    "    print(a+b)\n",
    "func(10,20)"
   ]
  },
  {
   "cell_type": "code",
   "execution_count": 31,
   "id": "10bdabd3",
   "metadata": {},
   "outputs": [
    {
     "name": "stdout",
     "output_type": "stream",
     "text": [
      "20\n"
     ]
    }
   ],
   "source": [
    "def func(a,b=10):\n",
    "    print(a+b)\n",
    "func(10)"
   ]
  },
  {
   "cell_type": "code",
   "execution_count": 32,
   "id": "0380a0fc",
   "metadata": {},
   "outputs": [],
   "source": [
    "# 파일 입출력 실습"
   ]
  },
  {
   "cell_type": "code",
   "execution_count": 34,
   "id": "9631491b",
   "metadata": {},
   "outputs": [],
   "source": [
    "# 새로운 파일 생성하기\n",
    "f = open(\"name.txt\",\"w\")\n",
    "f.write(\"조정호\")\n",
    "f.close()"
   ]
  },
  {
   "cell_type": "code",
   "execution_count": 35,
   "id": "0944613f",
   "metadata": {},
   "outputs": [],
   "source": [
    "# 기존파일에 새로운내용 추가하기\n",
    "# name 파일에 다른 이름 추가하기/다음줄에 입력\n",
    "f = open(\"name.txt\",'a')\n",
    "f.write(\"조정혜\")\n",
    "f.close()"
   ]
  },
  {
   "cell_type": "code",
   "execution_count": 36,
   "id": "889babd9",
   "metadata": {},
   "outputs": [],
   "source": [
    "f = open(\"name.txt\",'w')\n",
    "f.write(\"조정호\")\n",
    "f.close()\n",
    "\n",
    "f = open(\"name.txt\",'a')\n",
    "f.write(\"\\n\")\n",
    "f.write(\"조정혜\")\n",
    "f.close()"
   ]
  },
  {
   "cell_type": "code",
   "execution_count": 38,
   "id": "6928be2b",
   "metadata": {},
   "outputs": [
    {
     "name": "stdout",
     "output_type": "stream",
     "text": [
      "조정호\n",
      "조정혜\n"
     ]
    }
   ],
   "source": [
    "# 파일내용 읽어오기\n",
    "# name.txt 파일 읽어온후 이름들을 리스트에 차례로 입력\n",
    "f = open('name.txt','r')\n",
    "data = f.read()\n",
    "print(data)"
   ]
  },
  {
   "cell_type": "code",
   "execution_count": 39,
   "id": "17b2a1aa",
   "metadata": {},
   "outputs": [
    {
     "name": "stdout",
     "output_type": "stream",
     "text": [
      "<class 'str'>\n"
     ]
    }
   ],
   "source": [
    "print(type(data))"
   ]
  },
  {
   "cell_type": "code",
   "execution_count": 40,
   "id": "dfec3f88",
   "metadata": {},
   "outputs": [
    {
     "name": "stdout",
     "output_type": "stream",
     "text": [
      "['조정호', '조정혜']\n"
     ]
    }
   ],
   "source": [
    "data=data.split('\\n')\n",
    "print(data)"
   ]
  },
  {
   "cell_type": "code",
   "execution_count": 42,
   "id": "029675a4",
   "metadata": {},
   "outputs": [
    {
     "name": "stdout",
     "output_type": "stream",
     "text": [
      "조정호\n",
      "\n",
      "조정혜\n"
     ]
    }
   ],
   "source": [
    "f = open('name.txt','r')\n",
    "data=f.readline()\n",
    "data2=f.readline()\n",
    "print(data)\n",
    "print(data2)"
   ]
  },
  {
   "cell_type": "code",
   "execution_count": 44,
   "id": "bcf2bb0e",
   "metadata": {},
   "outputs": [
    {
     "name": "stdout",
     "output_type": "stream",
     "text": [
      "['조정호\\n', '조정혜']\n"
     ]
    }
   ],
   "source": [
    "f=open('name.txt','r')\n",
    "data=f.readlines()\n",
    "print(data)"
   ]
  },
  {
   "cell_type": "code",
   "execution_count": null,
   "id": "1219a00f",
   "metadata": {},
   "outputs": [],
   "source": []
  }
 ],
 "metadata": {
  "kernelspec": {
   "display_name": "Python 3 (ipykernel)",
   "language": "python",
   "name": "python3"
  },
  "language_info": {
   "codemirror_mode": {
    "name": "ipython",
    "version": 3
   },
   "file_extension": ".py",
   "mimetype": "text/x-python",
   "name": "python",
   "nbconvert_exporter": "python",
   "pygments_lexer": "ipython3",
   "version": "3.7.16"
  }
 },
 "nbformat": 4,
 "nbformat_minor": 5
}
