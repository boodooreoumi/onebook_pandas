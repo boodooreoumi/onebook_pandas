{
 "cells": [
  {
   "cell_type": "code",
   "execution_count": 2,
   "id": "ce66a37c",
   "metadata": {},
   "outputs": [],
   "source": [
    "import numpy as np\n",
    "import pandas as pd\n",
    "\n",
    "import seaborn as sns\n",
    "df = sns.load_dataset('titanic')\n",
    "\n",
    "x = df.drop('survived', axis=1)\n",
    "y = df['survived']\n",
    "\n",
    "# 실기 시험 데이터셋으로 셋팅하기 (수정금지)\n",
    "from sklearn.model_selection import train_test_split\n",
    "x_train, x_test, y_train, y_test = train_test_split(x, y, test_size=0.2, \n",
    "                                                    stratify=y,\n",
    "                                                    random_state=2023)\n",
    "\n",
    "x_test = pd.DataFrame(x_test)\n",
    "x_train = pd.DataFrame(x_train)\n",
    "y_train = pd.DataFrame(y_train)\n",
    "y_test = pd.DataFrame(y_test) # 평가용\n",
    "\n",
    "x_test.reset_index()\n",
    "y_train.columns = ['target'] \n",
    "y_test.columns = ['target'] "
   ]
  },
  {
   "cell_type": "markdown",
   "id": "f14da24a",
   "metadata": {},
   "source": [
    "- 데이터분석 순서\n",
    "- 1. 라이브러리 및 데이터 확인\n",
    "- 2. 데이터 탐색(EDA)\n",
    "- 3. 데이터 전처리 및 분리\n",
    "- 4. 모델링 및 성능평가\n",
    "- 5. 예측값 제출"
   ]
  },
  {
   "cell_type": "markdown",
   "id": "a4a4e40c",
   "metadata": {},
   "source": [
    "- 타이타닉 생존자 예측 문제\n",
    "- 데이터의 결측치, 중복 변수값에 대해 처리하고\n",
    "- 분류모델을 사용하여 accuracy,f1-score,auc값을 산출하시오."
   ]
  },
  {
   "cell_type": "markdown",
   "id": "2af0e55c",
   "metadata": {},
   "source": [
    "- 데이터 설명\n",
    "- survival:0->no,1->yes\n",
    "- pclass:객실등급(1,2,3)\n",
    "- sex:성별\n",
    "- age:나이\n",
    "- sibsp:타이타닉호에 탑승한 형제/배우자의 수\n",
    "- parch:타이타닉호에 탑승한 부모/자녀의 수\n",
    "- fare:요금\n",
    "- embarked:탑승지이름(C,Q,S)\n",
    "- (중복)class:객실등급(first,second,third)\n",
    "- who:man,women,child\n",
    "- adult_male:성인남자인지여부(true=성인남자,false=그외)\n",
    "- deck:선실번호첫알파벳(A,B,C,D,E,F,G)\n",
    "- (중복)embark_town:탑승지이름(C,Q,S)\n",
    "- (중복)alive:생존여부(no:사망,yes:생존)\n",
    "- alone:혼자탑승했는지여부(true=혼자,false=가족과함께)"
   ]
  },
  {
   "cell_type": "markdown",
   "id": "eb93b0bf",
   "metadata": {},
   "source": [
    "- 2. 데이터 탐색(EDA)"
   ]
  },
  {
   "cell_type": "code",
   "execution_count": 3,
   "id": "e90f18ba",
   "metadata": {},
   "outputs": [
    {
     "name": "stdout",
     "output_type": "stream",
     "text": [
      "(712, 14)\n",
      "(179, 14)\n",
      "(712, 1)\n"
     ]
    }
   ],
   "source": [
    "# 데이터의 행/열 확인\n",
    "\n",
    "print(x_train.shape)\n",
    "print(x_test.shape)\n",
    "print(y_train.shape)"
   ]
  },
  {
   "cell_type": "code",
   "execution_count": 4,
   "id": "65285547",
   "metadata": {},
   "outputs": [
    {
     "name": "stdout",
     "output_type": "stream",
     "text": [
      "     pclass     sex   age  sibsp  parch   fare embarked   class    who  \\\n",
      "3         1  female  35.0      1      0  53.10        S   First  woman   \n",
      "517       3    male   NaN      0      0  24.15        Q   Third    man   \n",
      "861       2    male  21.0      1      0  11.50        S  Second    man   \n",
      "\n",
      "     adult_male deck  embark_town alive  alone  \n",
      "3         False    C  Southampton   yes  False  \n",
      "517        True  NaN   Queenstown    no   True  \n",
      "861        True  NaN  Southampton    no  False  \n",
      "     pclass     sex   age  sibsp  parch   fare embarked   class    who  \\\n",
      "800       2    male  34.0      0      0   13.0        S  Second    man   \n",
      "341       1  female  24.0      3      2  263.0        S   First  woman   \n",
      "413       2    male   NaN      0      0    0.0        S  Second    man   \n",
      "\n",
      "     adult_male deck  embark_town alive  alone  \n",
      "800        True  NaN  Southampton    no   True  \n",
      "341       False    C  Southampton   yes  False  \n",
      "413        True  NaN  Southampton    no   True  \n",
      "     target\n",
      "3         1\n",
      "517       0\n",
      "861       0\n"
     ]
    }
   ],
   "source": [
    "# 초기 데이터 확인\n",
    "\n",
    "print(x_train.head(3))\n",
    "print(x_test.head(3))\n",
    "print(y_train.head(3))"
   ]
  },
  {
   "cell_type": "code",
   "execution_count": 5,
   "id": "cb040a7f",
   "metadata": {},
   "outputs": [
    {
     "name": "stdout",
     "output_type": "stream",
     "text": [
      "<class 'pandas.core.frame.DataFrame'>\n",
      "Int64Index: 712 entries, 3 to 608\n",
      "Data columns (total 14 columns):\n",
      " #   Column       Non-Null Count  Dtype   \n",
      "---  ------       --------------  -----   \n",
      " 0   pclass       712 non-null    int64   \n",
      " 1   sex          712 non-null    object  \n",
      " 2   age          579 non-null    float64 \n",
      " 3   sibsp        712 non-null    int64   \n",
      " 4   parch        712 non-null    int64   \n",
      " 5   fare         712 non-null    float64 \n",
      " 6   embarked     710 non-null    object  \n",
      " 7   class        712 non-null    category\n",
      " 8   who          712 non-null    object  \n",
      " 9   adult_male   712 non-null    bool    \n",
      " 10  deck         164 non-null    category\n",
      " 11  embark_town  710 non-null    object  \n",
      " 12  alive        712 non-null    object  \n",
      " 13  alone        712 non-null    bool    \n",
      "dtypes: bool(2), category(2), float64(2), int64(3), object(5)\n",
      "memory usage: 64.4+ KB\n",
      "None\n",
      "<class 'pandas.core.frame.DataFrame'>\n",
      "Int64Index: 179 entries, 800 to 410\n",
      "Data columns (total 14 columns):\n",
      " #   Column       Non-Null Count  Dtype   \n",
      "---  ------       --------------  -----   \n",
      " 0   pclass       179 non-null    int64   \n",
      " 1   sex          179 non-null    object  \n",
      " 2   age          135 non-null    float64 \n",
      " 3   sibsp        179 non-null    int64   \n",
      " 4   parch        179 non-null    int64   \n",
      " 5   fare         179 non-null    float64 \n",
      " 6   embarked     179 non-null    object  \n",
      " 7   class        179 non-null    category\n",
      " 8   who          179 non-null    object  \n",
      " 9   adult_male   179 non-null    bool    \n",
      " 10  deck         39 non-null     category\n",
      " 11  embark_town  179 non-null    object  \n",
      " 12  alive        179 non-null    object  \n",
      " 13  alone        179 non-null    bool    \n",
      "dtypes: bool(2), category(2), float64(2), int64(3), object(5)\n",
      "memory usage: 16.6+ KB\n",
      "None\n",
      "<class 'pandas.core.frame.DataFrame'>\n",
      "Int64Index: 712 entries, 3 to 608\n",
      "Data columns (total 1 columns):\n",
      " #   Column  Non-Null Count  Dtype\n",
      "---  ------  --------------  -----\n",
      " 0   target  712 non-null    int64\n",
      "dtypes: int64(1)\n",
      "memory usage: 11.1 KB\n",
      "None\n"
     ]
    }
   ],
   "source": [
    "# 변수명과 데이터타입이 매칭이 되는지, 결측치가 있는지 확인해보세요\n",
    "\n",
    "print(x_train.info())\n",
    "print(x_test.info())\n",
    "print(y_train.info())"
   ]
  },
  {
   "cell_type": "code",
   "execution_count": 6,
   "id": "3899efb5",
   "metadata": {},
   "outputs": [
    {
     "name": "stdout",
     "output_type": "stream",
     "text": [
      "           pclass         age       sibsp       parch        fare\n",
      "count  712.000000  579.000000  712.000000  712.000000  712.000000\n",
      "mean     2.307584   29.479568    0.518258    0.372191   31.741836\n",
      "std      0.834926   14.355304    1.094522    0.792341   45.403910\n",
      "min      1.000000    0.420000    0.000000    0.000000    0.000000\n",
      "25%      2.000000   20.000000    0.000000    0.000000    7.895800\n",
      "50%      3.000000   28.000000    0.000000    0.000000   14.454200\n",
      "75%      3.000000   38.000000    1.000000    0.000000   31.275000\n",
      "max      3.000000   74.000000    8.000000    6.000000  512.329200\n",
      "           pclass         age       sibsp       parch        fare\n",
      "count  179.000000  135.000000  179.000000  179.000000  179.000000\n",
      "mean     2.312849   30.640741    0.541899    0.418994   34.043364\n",
      "std      0.842950   15.258427    1.137797    0.859760   64.097184\n",
      "min      1.000000    1.000000    0.000000    0.000000    0.000000\n",
      "25%      2.000000   22.000000    0.000000    0.000000    7.925000\n",
      "50%      3.000000   29.000000    0.000000    0.000000   14.500000\n",
      "75%      3.000000   39.000000    1.000000    0.000000   30.285400\n",
      "max      3.000000   80.000000    8.000000    5.000000  512.329200\n",
      "           target\n",
      "count  712.000000\n",
      "mean     0.383427\n",
      "std      0.486563\n",
      "min      0.000000\n",
      "25%      0.000000\n",
      "50%      0.000000\n",
      "75%      1.000000\n",
      "max      1.000000\n"
     ]
    }
   ],
   "source": [
    "# x_train과 x_test 데이터의 기초통계량을 잘 비교해보세요.\n",
    "\n",
    "print(x_train.describe())\n",
    "print(x_test.describe())\n",
    "print(y_train.describe())"
   ]
  },
  {
   "cell_type": "code",
   "execution_count": 7,
   "id": "a63e32ba",
   "metadata": {},
   "outputs": [
    {
     "name": "stdout",
     "output_type": "stream",
     "text": [
      "         sex embarked  who  embark_town alive\n",
      "count    712      710  712          710   712\n",
      "unique     2        3    3            3     2\n",
      "top     male        S  man  Southampton    no\n",
      "freq     469      518  432          518   439\n",
      "         sex embarked  who  embark_town alive\n",
      "count    179      179  179          179   179\n",
      "unique     2        3    3            3     2\n",
      "top     male        S  man  Southampton    no\n",
      "freq     108      126  105          126   110\n",
      "        class deck\n",
      "count     712  164\n",
      "unique      3    7\n",
      "top     Third    C\n",
      "freq      391   47\n",
      "        class deck\n",
      "count     179   39\n",
      "unique      3    7\n",
      "top     Third    C\n",
      "freq      100   12\n"
     ]
    }
   ],
   "source": [
    "# object, category 데이터도 추가 확인\n",
    "print(x_train.describe(include='object'))\n",
    "print(x_test.describe(include='object'))\n",
    "\n",
    "print(x_train.describe(include='category'))\n",
    "print(x_test.describe(include='category'))"
   ]
  },
  {
   "cell_type": "code",
   "execution_count": 8,
   "id": "f4a162ec",
   "metadata": {},
   "outputs": [
    {
     "name": "stdout",
     "output_type": "stream",
     "text": [
      "     target\n",
      "3         1\n",
      "517       0\n",
      "861       0\n",
      "487       0\n",
      "58        1\n"
     ]
    }
   ],
   "source": [
    "# y데이터도 구체적으로 살펴보세요.\n",
    "print(y_train.head())"
   ]
  },
  {
   "cell_type": "code",
   "execution_count": 9,
   "id": "d98f306a",
   "metadata": {},
   "outputs": [
    {
     "name": "stdout",
     "output_type": "stream",
     "text": [
      "target\n",
      "0         439\n",
      "1         273\n",
      "dtype: int64\n"
     ]
    }
   ],
   "source": [
    "# y데이터도 구체적으로 살펴보세요.\n",
    "print(y_train.value_counts())"
   ]
  },
  {
   "cell_type": "markdown",
   "id": "97d8e137",
   "metadata": {},
   "source": [
    "- 3. 데이터 전처리 및 분리\n",
    "- 1) 결측치 2) 이상치 3) 변수 처리하기"
   ]
  },
  {
   "cell_type": "code",
   "execution_count": 10,
   "id": "be93e51a",
   "metadata": {},
   "outputs": [
    {
     "name": "stdout",
     "output_type": "stream",
     "text": [
      "pclass           0\n",
      "sex              0\n",
      "age            133\n",
      "sibsp            0\n",
      "parch            0\n",
      "fare             0\n",
      "embarked         2\n",
      "class            0\n",
      "who              0\n",
      "adult_male       0\n",
      "deck           548\n",
      "embark_town      2\n",
      "alive            0\n",
      "alone            0\n",
      "dtype: int64\n",
      "pclass           0\n",
      "sex              0\n",
      "age             44\n",
      "sibsp            0\n",
      "parch            0\n",
      "fare             0\n",
      "embarked         0\n",
      "class            0\n",
      "who              0\n",
      "adult_male       0\n",
      "deck           140\n",
      "embark_town      0\n",
      "alive            0\n",
      "alone            0\n",
      "dtype: int64\n",
      "target    0\n",
      "dtype: int64\n"
     ]
    }
   ],
   "source": [
    "# 결측치 확인\n",
    "print(x_train.isnull().sum())\n",
    "print(x_test.isnull().sum())\n",
    "print(y_train.isnull().sum())"
   ]
  },
  {
   "cell_type": "code",
   "execution_count": 11,
   "id": "e4ebfd67",
   "metadata": {},
   "outputs": [],
   "source": [
    "# 결측치 대체\n",
    "# x_train(712,14) : age(133), embarked(2), deck(548), embark_town(2)\n",
    "# x_test(179,14) : age(44), deck(140)\n",
    "\n",
    "# 변수 제거\n",
    "# (중복) class\n",
    "# (중복) embark_town\n",
    "# (중복) alive\n",
    "# (결측치 다수) deck"
   ]
  },
  {
   "cell_type": "code",
   "execution_count": 12,
   "id": "3b4e6aa6",
   "metadata": {},
   "outputs": [],
   "source": [
    "# 중복변수 제거\n",
    "x_train = x_train.drop(['class','embark_town','alive','deck'], axis=1)\n",
    "x_test = x_test.drop(['class','embark_town','alive','deck'], axis=1)"
   ]
  },
  {
   "cell_type": "code",
   "execution_count": 13,
   "id": "cb0f978d",
   "metadata": {},
   "outputs": [
    {
     "name": "stdout",
     "output_type": "stream",
     "text": [
      "<class 'pandas.core.frame.DataFrame'>\n",
      "Int64Index: 712 entries, 3 to 608\n",
      "Data columns (total 10 columns):\n",
      " #   Column      Non-Null Count  Dtype  \n",
      "---  ------      --------------  -----  \n",
      " 0   pclass      712 non-null    int64  \n",
      " 1   sex         712 non-null    object \n",
      " 2   age         579 non-null    float64\n",
      " 3   sibsp       712 non-null    int64  \n",
      " 4   parch       712 non-null    int64  \n",
      " 5   fare        712 non-null    float64\n",
      " 6   embarked    710 non-null    object \n",
      " 7   who         712 non-null    object \n",
      " 8   adult_male  712 non-null    bool   \n",
      " 9   alone       712 non-null    bool   \n",
      "dtypes: bool(2), float64(2), int64(3), object(3)\n",
      "memory usage: 51.5+ KB\n",
      "None\n",
      "<class 'pandas.core.frame.DataFrame'>\n",
      "Int64Index: 179 entries, 800 to 410\n",
      "Data columns (total 10 columns):\n",
      " #   Column      Non-Null Count  Dtype  \n",
      "---  ------      --------------  -----  \n",
      " 0   pclass      179 non-null    int64  \n",
      " 1   sex         179 non-null    object \n",
      " 2   age         135 non-null    float64\n",
      " 3   sibsp       179 non-null    int64  \n",
      " 4   parch       179 non-null    int64  \n",
      " 5   fare        179 non-null    float64\n",
      " 6   embarked    179 non-null    object \n",
      " 7   who         179 non-null    object \n",
      " 8   adult_male  179 non-null    bool   \n",
      " 9   alone       179 non-null    bool   \n",
      "dtypes: bool(2), float64(2), int64(3), object(3)\n",
      "memory usage: 12.9+ KB\n",
      "None\n"
     ]
    }
   ],
   "source": [
    "# 변수제거 확인\n",
    "print(x_train.info())\n",
    "print(x_test.info())"
   ]
  },
  {
   "cell_type": "code",
   "execution_count": 14,
   "id": "a3320e62",
   "metadata": {},
   "outputs": [],
   "source": [
    "# 결측치 대체\n",
    "# x_train(712, 14) : age(133), embarked(2)\n",
    "# x_test(179,14) : age(44)\n",
    "\n",
    "# age 변수\n",
    "med_age = x_train['age'].median()\n",
    "x_train['age'] = x_train['age'].fillna(med_age)\n",
    "x_test['age'] = x_test['age'].fillna(med_age)\n",
    "\n",
    "# embarked\n",
    "mode_et = x_train['embarked'].mode()\n",
    "x_train['embarked'] = x_train['embarked'].fillna(mode_et[0]) "
   ]
  },
  {
   "cell_type": "code",
   "execution_count": 15,
   "id": "187a4014",
   "metadata": {},
   "outputs": [
    {
     "name": "stdout",
     "output_type": "stream",
     "text": [
      "pclass        0\n",
      "sex           0\n",
      "age           0\n",
      "sibsp         0\n",
      "parch         0\n",
      "fare          0\n",
      "embarked      0\n",
      "who           0\n",
      "adult_male    0\n",
      "alone         0\n",
      "dtype: int64\n",
      "pclass        0\n",
      "sex           0\n",
      "age           0\n",
      "sibsp         0\n",
      "parch         0\n",
      "fare          0\n",
      "embarked      0\n",
      "who           0\n",
      "adult_male    0\n",
      "alone         0\n",
      "dtype: int64\n"
     ]
    }
   ],
   "source": [
    "# 결측치 대체 여부 확인\n",
    "print(x_train.isnull().sum())\n",
    "print(x_test.isnull().sum())"
   ]
  },
  {
   "cell_type": "code",
   "execution_count": 16,
   "id": "cd12416b",
   "metadata": {},
   "outputs": [
    {
     "name": "stdout",
     "output_type": "stream",
     "text": [
      "<class 'pandas.core.frame.DataFrame'>\n",
      "Int64Index: 712 entries, 3 to 608\n",
      "Data columns (total 15 columns):\n",
      " #   Column      Non-Null Count  Dtype  \n",
      "---  ------      --------------  -----  \n",
      " 0   pclass      712 non-null    int64  \n",
      " 1   age         712 non-null    float64\n",
      " 2   sibsp       712 non-null    int64  \n",
      " 3   parch       712 non-null    int64  \n",
      " 4   fare        712 non-null    float64\n",
      " 5   adult_male  712 non-null    bool   \n",
      " 6   alone       712 non-null    bool   \n",
      " 7   sex_female  712 non-null    uint8  \n",
      " 8   sex_male    712 non-null    uint8  \n",
      " 9   embarked_C  712 non-null    uint8  \n",
      " 10  embarked_Q  712 non-null    uint8  \n",
      " 11  embarked_S  712 non-null    uint8  \n",
      " 12  who_child   712 non-null    uint8  \n",
      " 13  who_man     712 non-null    uint8  \n",
      " 14  who_woman   712 non-null    uint8  \n",
      "dtypes: bool(2), float64(2), int64(3), uint8(8)\n",
      "memory usage: 40.3 KB\n",
      "None\n",
      "<class 'pandas.core.frame.DataFrame'>\n",
      "Int64Index: 179 entries, 800 to 410\n",
      "Data columns (total 15 columns):\n",
      " #   Column      Non-Null Count  Dtype  \n",
      "---  ------      --------------  -----  \n",
      " 0   pclass      179 non-null    int64  \n",
      " 1   age         179 non-null    float64\n",
      " 2   sibsp       179 non-null    int64  \n",
      " 3   parch       179 non-null    int64  \n",
      " 4   fare        179 non-null    float64\n",
      " 5   adult_male  179 non-null    bool   \n",
      " 6   alone       179 non-null    bool   \n",
      " 7   sex_female  179 non-null    uint8  \n",
      " 8   sex_male    179 non-null    uint8  \n",
      " 9   embarked_C  179 non-null    uint8  \n",
      " 10  embarked_Q  179 non-null    uint8  \n",
      " 11  embarked_S  179 non-null    uint8  \n",
      " 12  who_child   179 non-null    uint8  \n",
      " 13  who_man     179 non-null    uint8  \n",
      " 14  who_woman   179 non-null    uint8  \n",
      "dtypes: bool(2), float64(2), int64(3), uint8(8)\n",
      "memory usage: 10.1 KB\n",
      "None\n"
     ]
    }
   ],
   "source": [
    "# 변수처리 (원핫인코딩)\n",
    "x_train = pd.get_dummies(x_train)\n",
    "x_test = pd.get_dummies(x_test)\n",
    "\n",
    "print(x_train.info())\n",
    "print(x_test.info())\n",
    "\n",
    "# advanced 버전 사용\n",
    "x_train_ad = x_train.copy()\n",
    "x_test_ad = x_test.copy()\n",
    "y_train_ad = y_train.copy()"
   ]
  },
  {
   "cell_type": "code",
   "execution_count": 17,
   "id": "cbee6506",
   "metadata": {},
   "outputs": [],
   "source": [
    "# (참고사항) 원핫인코딩 후 변수의 수가 다른 경우\n",
    "# x_test의 변수의 수가 x_train 보다 많은 경우 (혹은 반대인 경우)\n",
    "\n",
    "# 원핫인코딩 후 Feature수가 다를 경우\n",
    "# x_train = pd.get_dummies(x_train)\n",
    "# x_test = pd.get_dummies(x_test)\n",
    "# x_train.info()\n",
    "# x_test.info()\n",
    "\n",
    "# 해결방법(x_test의 변수의 수가 더많은 경우의 코드)\n",
    "# x_train = x_train.reindex(columns = x.test.columns, fill_value=0)\n",
    "# x_train.info()"
   ]
  },
  {
   "cell_type": "markdown",
   "id": "8eb89ce1",
   "metadata": {},
   "source": [
    "- 데이터 분리"
   ]
  },
  {
   "cell_type": "code",
   "execution_count": 18,
   "id": "8d82face",
   "metadata": {},
   "outputs": [
    {
     "name": "stdout",
     "output_type": "stream",
     "text": [
      "(569, 15)\n",
      "(143, 15)\n",
      "(569,)\n",
      "(143,)\n"
     ]
    }
   ],
   "source": [
    "# 데이터를 훈련 세트와 검증용 세트로 분할(80% 훈련, 20% 검증용)\n",
    "from sklearn.model_selection import train_test_split\n",
    "x_train,x_val,y_train,y_val = train_test_split(x_train,\n",
    "                                              y_train['target'],\n",
    "                                              test_size=0.2,\n",
    "                                              stratify=y_train['target'],\n",
    "                                              random_state=2023)\n",
    "print(x_train.shape)\n",
    "print(x_val.shape)\n",
    "print(y_train.shape)\n",
    "print(y_val.shape)"
   ]
  },
  {
   "cell_type": "markdown",
   "id": "5ca5b983",
   "metadata": {},
   "source": [
    "- 4. 모델링 및 성능평가"
   ]
  },
  {
   "cell_type": "code",
   "execution_count": 19,
   "id": "e9f5fc7f",
   "metadata": {},
   "outputs": [
    {
     "data": {
      "text/plain": [
       "RandomForestClassifier(random_state=2023)"
      ]
     },
     "execution_count": 19,
     "metadata": {},
     "output_type": "execute_result"
    }
   ],
   "source": [
    "# 랜덤포레스트 모델 사용 (참고 : 회귀모델은 RandomForestRegressor)\n",
    "from sklearn.ensemble import RandomForestClassifier\n",
    "model = RandomForestClassifier(random_state=2023)\n",
    "model.fit(x_train, y_train)"
   ]
  },
  {
   "cell_type": "code",
   "execution_count": 20,
   "id": "855051b7",
   "metadata": {},
   "outputs": [],
   "source": [
    "# 모델을 사용하여 테스트 데이터 예측\n",
    "y_pred = model.predict(x_val)"
   ]
  },
  {
   "cell_type": "code",
   "execution_count": 22,
   "id": "87c2d98e",
   "metadata": {},
   "outputs": [],
   "source": [
    "# 모델 성능 평가 (정확도, F1 score, 민감도, 특이도 등)\n",
    "from sklearn.metrics import accuracy_score, f1_score, roc_auc_score, recall_score\n",
    "acc = accuracy_score(y_val, y_pred)  # 실제값, 예측값\n",
    "f1 = f1_score(y_val, y_pred)         # 실제값, 예측값\n",
    "auc = roc_auc_score(y_val, y_pred)   # 실제값, 예측값"
   ]
  },
  {
   "cell_type": "code",
   "execution_count": 23,
   "id": "26d1ac16",
   "metadata": {},
   "outputs": [
    {
     "name": "stdout",
     "output_type": "stream",
     "text": [
      "0.8531468531468531\n",
      "0.8108108108108109\n",
      "0.8465909090909092\n"
     ]
    }
   ],
   "source": [
    "print(acc)\n",
    "print(f1)\n",
    "print(auc)"
   ]
  },
  {
   "cell_type": "code",
   "execution_count": 24,
   "id": "d830eb9f",
   "metadata": {},
   "outputs": [
    {
     "name": "stdout",
     "output_type": "stream",
     "text": [
      "[[77 11]\n",
      " [10 45]]\n"
     ]
    }
   ],
   "source": [
    "# 참고사항\n",
    "from sklearn.metrics import confusion_matrix\n",
    "cm = confusion_matrix(y_val, y_pred)\n",
    "print(cm)\n",
    "\n",
    "############ 예측\n",
    "############ 0 1\n",
    "### 실제 0  TN FP\n",
    "### 실제 1  FN TP"
   ]
  },
  {
   "cell_type": "markdown",
   "id": "adfd9b9d",
   "metadata": {},
   "source": [
    "- 실제 test셋으로 성능평가를 한다면?"
   ]
  },
  {
   "cell_type": "code",
   "execution_count": 25,
   "id": "3b99fbef",
   "metadata": {},
   "outputs": [],
   "source": [
    "# 모델을 사용하여 테스트 데이터 예측\n",
    "y_pred_f = model.predict(x_test)\n",
    "\n",
    "# 모델 성능 평가 (정확도, F1 score, AUC)\n",
    "from sklearn.metrics import accuracy_score, f1_score, roc_auc_score\n",
    "acc_f = accuracy_score(y_test, y_pred_f)  # 실제값, 예측값\n",
    "f1_f = f1_score(y_test, y_pred_f)         # 실제값, 예측값\n",
    "auc_f = roc_auc_score(y_test, y_pred_f)   # 실제값, 예측값"
   ]
  },
  {
   "cell_type": "code",
   "execution_count": 26,
   "id": "b55ce979",
   "metadata": {},
   "outputs": [
    {
     "name": "stdout",
     "output_type": "stream",
     "text": [
      "0.7821229050279329\n",
      "0.7153284671532847\n",
      "0.7687088274044797\n"
     ]
    }
   ],
   "source": [
    "print(acc_f)\n",
    "print(f1_f)\n",
    "print(auc_f)"
   ]
  },
  {
   "cell_type": "markdown",
   "id": "15be3e9b",
   "metadata": {},
   "source": [
    "- 5.예측값 제출\n",
    "- (주의) x_test셋을 모델에 넣어 나온 예측값을 제출해야 함"
   ]
  },
  {
   "cell_type": "code",
   "execution_count": 28,
   "id": "f861a03d",
   "metadata": {},
   "outputs": [
    {
     "name": "stdout",
     "output_type": "stream",
     "text": [
      "[1 1 0 0 0]\n",
      "[[0.32 0.68]\n",
      " [0.24 0.76]\n",
      " [1.   0.  ]\n",
      " [0.93 0.07]\n",
      " [0.93 0.07]]\n",
      "   result  prob_0\n",
      "0       1    0.32\n",
      "1       1    0.24\n",
      "2       0    1.00\n",
      "3       0    0.93\n",
      "4       0    0.93\n"
     ]
    }
   ],
   "source": [
    "# (실기시험 안내사항)\n",
    "# 아래 코드 예측변수와 수험번호를 개인별로 변경하여 활용\n",
    "# pd.DataFrame({'result':y_result}).to.csv('수험번호.csv', index=False)\n",
    "\n",
    "# 모델을 사용하여 테스트 데이터 예측\n",
    "y_result = model.predict(x_test)\n",
    "\n",
    "# 1. 특정 클래스로 분류할 경우 (predict)\n",
    "y_result = model.predict(x_test)\n",
    "print(y_result[:5])\n",
    "\n",
    "# 2. 특정 클래스로 분류될 확률을 구할 경우 (predict_proba)\n",
    "y_result_prob = model.predict_proba(x_test)\n",
    "print(y_result_prob[:5])\n",
    "\n",
    "# 이해해보기\n",
    "result_prob = pd.DataFrame({\n",
    "    'result':y_result,\n",
    "    'prob_0':y_result_prob[:,0]\n",
    "})\n",
    "\n",
    "# class가 0일 확률 : y_result_prob[:,0]\n",
    "# class가 1일 확률 : y_result_prob[:,1]\n",
    "\n",
    "print(result_prob[:5])"
   ]
  },
  {
   "cell_type": "code",
   "execution_count": null,
   "id": "5cfd1ecb",
   "metadata": {},
   "outputs": [],
   "source": []
  }
 ],
 "metadata": {
  "kernelspec": {
   "display_name": "Python 3 (ipykernel)",
   "language": "python",
   "name": "python3"
  },
  "language_info": {
   "codemirror_mode": {
    "name": "ipython",
    "version": 3
   },
   "file_extension": ".py",
   "mimetype": "text/x-python",
   "name": "python",
   "nbconvert_exporter": "python",
   "pygments_lexer": "ipython3",
   "version": "3.9.13"
  }
 },
 "nbformat": 4,
 "nbformat_minor": 5
}
