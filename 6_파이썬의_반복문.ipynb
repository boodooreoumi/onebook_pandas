{
 "cells": [
  {
   "cell_type": "markdown",
   "id": "3df2fc5a",
   "metadata": {},
   "source": [
    "- 학습목표\n",
    "- 1. for 반복문의 특징\n",
    "- 2. while 반복문의 특징\n",
    "- 3. 제어문을 활용하여 데이터를 분석 및 정제하고 자료형에 저장할 수 있다"
   ]
  },
  {
   "cell_type": "code",
   "execution_count": 3,
   "id": "649812a3",
   "metadata": {},
   "outputs": [],
   "source": [
    "# for 반복문\n",
    "# 1. 반복가능객체판별\n",
    "from collections.abc import Iterable"
   ]
  },
  {
   "cell_type": "code",
   "execution_count": 4,
   "id": "f68b050a",
   "metadata": {},
   "outputs": [
    {
     "data": {
      "text/plain": [
       "True"
      ]
     },
     "execution_count": 4,
     "metadata": {},
     "output_type": "execute_result"
    }
   ],
   "source": [
    "obj = [1,2,3,4]\n",
    "isinstance(obj, collections.Iterable)"
   ]
  },
  {
   "cell_type": "code",
   "execution_count": 5,
   "id": "35df19a4",
   "metadata": {},
   "outputs": [
    {
     "data": {
      "text/plain": [
       "True"
      ]
     },
     "execution_count": 5,
     "metadata": {},
     "output_type": "execute_result"
    }
   ],
   "source": [
    "obj = \"Hello, World\"\n",
    "isinstance(obj, collections.Iterable)"
   ]
  },
  {
   "cell_type": "code",
   "execution_count": 6,
   "id": "25181b4e",
   "metadata": {},
   "outputs": [
    {
     "name": "stdout",
     "output_type": "stream",
     "text": [
      "range(0, 10)\n"
     ]
    }
   ],
   "source": [
    "# 2. 반복가능개체 - range()\n",
    "print(range(10))"
   ]
  },
  {
   "cell_type": "code",
   "execution_count": 7,
   "id": "eb3aa8d1",
   "metadata": {},
   "outputs": [
    {
     "name": "stdout",
     "output_type": "stream",
     "text": [
      "[0, 1, 2, 3, 4, 5, 6, 7, 8, 9]\n"
     ]
    }
   ],
   "source": [
    "l = list(range(10))\n",
    "print(l)"
   ]
  },
  {
   "cell_type": "code",
   "execution_count": 8,
   "id": "6e01850c",
   "metadata": {},
   "outputs": [
    {
     "data": {
      "text/plain": [
       "True"
      ]
     },
     "execution_count": 8,
     "metadata": {},
     "output_type": "execute_result"
    }
   ],
   "source": [
    "obj = range(10)\n",
    "isinstance(obj, collections.Iterable)"
   ]
  },
  {
   "cell_type": "code",
   "execution_count": 9,
   "id": "59947896",
   "metadata": {},
   "outputs": [
    {
     "name": "stdout",
     "output_type": "stream",
     "text": [
      "H\n",
      "e\n",
      "l\n",
      "l\n",
      "o\n"
     ]
    }
   ],
   "source": [
    "# 3. for 반복문\n",
    "# for 아이템 in 반복가능한 객체:\n",
    "# 실행코드\n",
    "\n",
    "# 1) 리스트, 튜플 자료형\n",
    "for i in \"Hello\":\n",
    "    print(i)"
   ]
  },
  {
   "cell_type": "code",
   "execution_count": 10,
   "id": "51cc5b28",
   "metadata": {},
   "outputs": [
    {
     "name": "stdout",
     "output_type": "stream",
     "text": [
      "1\n",
      "2\n",
      "3\n"
     ]
    }
   ],
   "source": [
    "for i in [1,2,3]:\n",
    "    print(i)"
   ]
  },
  {
   "cell_type": "code",
   "execution_count": 11,
   "id": "e0d0edca",
   "metadata": {},
   "outputs": [
    {
     "name": "stdout",
     "output_type": "stream",
     "text": [
      "1\n",
      "2\n",
      "3\n"
     ]
    }
   ],
   "source": [
    "# 2) 문자열,딕셔너리\n",
    "for i in {1,2,3}:\n",
    "    print(i)"
   ]
  },
  {
   "cell_type": "code",
   "execution_count": 12,
   "id": "bef083bf",
   "metadata": {},
   "outputs": [
    {
     "ename": "TypeError",
     "evalue": "'int' object is not iterable",
     "output_type": "error",
     "traceback": [
      "\u001b[1;31m---------------------------------------------------------------------------\u001b[0m",
      "\u001b[1;31mTypeError\u001b[0m                                 Traceback (most recent call last)",
      "\u001b[1;32m~\\AppData\\Local\\Temp\\ipykernel_4668\\655822447.py\u001b[0m in \u001b[0;36m<module>\u001b[1;34m\u001b[0m\n\u001b[0;32m      1\u001b[0m \u001b[1;31m# 3) 수치형 자료형 사용불가능\u001b[0m\u001b[1;33m\u001b[0m\u001b[1;33m\u001b[0m\u001b[1;33m\u001b[0m\u001b[0m\n\u001b[1;32m----> 2\u001b[1;33m \u001b[1;32mfor\u001b[0m \u001b[0mi\u001b[0m \u001b[1;32min\u001b[0m \u001b[1;36m10\u001b[0m\u001b[1;33m:\u001b[0m\u001b[1;33m\u001b[0m\u001b[1;33m\u001b[0m\u001b[0m\n\u001b[0m\u001b[0;32m      3\u001b[0m     \u001b[0mprint\u001b[0m\u001b[1;33m(\u001b[0m\u001b[0mi\u001b[0m\u001b[1;33m)\u001b[0m\u001b[1;33m\u001b[0m\u001b[1;33m\u001b[0m\u001b[0m\n",
      "\u001b[1;31mTypeError\u001b[0m: 'int' object is not iterable"
     ]
    }
   ],
   "source": [
    "# 3) 수치형 자료형 사용불가능\n",
    "for i in 10:\n",
    "    print(i)"
   ]
  },
  {
   "cell_type": "code",
   "execution_count": 13,
   "id": "d3ef79e2",
   "metadata": {},
   "outputs": [
    {
     "name": "stdout",
     "output_type": "stream",
     "text": [
      "a\n",
      "9\n",
      "[1, 2, 3]\n",
      "('a', 'b')\n"
     ]
    }
   ],
   "source": [
    "# 4) 반복객체값 바로 가져와 사용이 가능하고, range(), len()을 활용하여 인덱스로 접근도 가능하다\n",
    "l = ['a',9,[1,2,3],('a','b')]\n",
    "for i in l:\n",
    "    print(i)"
   ]
  },
  {
   "cell_type": "code",
   "execution_count": 14,
   "id": "ca8301c5",
   "metadata": {},
   "outputs": [
    {
     "name": "stdout",
     "output_type": "stream",
     "text": [
      "a\n",
      "9\n",
      "[1, 2, 3]\n",
      "('a', 'b')\n"
     ]
    }
   ],
   "source": [
    "l = ['a',9,[1,2,3],('a','b')]\n",
    "for i in range(len(l)):\n",
    "    print(l[i])"
   ]
  },
  {
   "cell_type": "code",
   "execution_count": 15,
   "id": "d62ea500",
   "metadata": {},
   "outputs": [
    {
     "name": "stdout",
     "output_type": "stream",
     "text": [
      "[1, 2]\n",
      "[3, 4]\n",
      "[5, 6]\n"
     ]
    }
   ],
   "source": [
    "# 5) 요소값을 아이템 변수로 할당 및 응용\n",
    "l = [[1,2],[3,4],[5,6]]\n",
    "for i in l:\n",
    "    print(i)"
   ]
  },
  {
   "cell_type": "code",
   "execution_count": 16,
   "id": "25369029",
   "metadata": {},
   "outputs": [
    {
     "name": "stdout",
     "output_type": "stream",
     "text": [
      "3\n",
      "7\n",
      "11\n"
     ]
    }
   ],
   "source": [
    "l = [[1,2],[3,4],[5,6]]\n",
    "for i,j in l:\n",
    "    print(i+j)"
   ]
  },
  {
   "cell_type": "code",
   "execution_count": 17,
   "id": "7a43ea3a",
   "metadata": {},
   "outputs": [
    {
     "name": "stdout",
     "output_type": "stream",
     "text": [
      "i is e\n",
      "4\n"
     ]
    }
   ],
   "source": [
    "s = \"Hello\"\n",
    "cnt=0\n",
    "for i in s:\n",
    "    if(i=='e'):\n",
    "        print(\"i is e\")\n",
    "        continue\n",
    "    cnt +=1\n",
    "print(cnt)"
   ]
  },
  {
   "cell_type": "code",
   "execution_count": 18,
   "id": "a79cdd8d",
   "metadata": {},
   "outputs": [
    {
     "name": "stdout",
     "output_type": "stream",
     "text": [
      "10\n",
      "9\n",
      "8\n",
      "7\n",
      "--end--\n"
     ]
    }
   ],
   "source": [
    "# while 반복문, break보조 제어문\n",
    "num=10\n",
    "while (num>0):\n",
    "    if(num==6):\n",
    "        print(\"--end--\")\n",
    "        break\n",
    "    print(num)\n",
    "    num -= 1"
   ]
  },
  {
   "cell_type": "code",
   "execution_count": 19,
   "id": "590eb60d",
   "metadata": {},
   "outputs": [
    {
     "name": "stdout",
     "output_type": "stream",
     "text": [
      "1 3 5 7 9 11 13 15 17 19 21 23 25 27 29 31 33 35 37 39 41 43 45 47 49 51 53 55 57 59 61 63 65 67 69 71 73 75 77 79 81 83 85 87 89 91 93 95 97 99 "
     ]
    }
   ],
   "source": [
    "# 데이터분석 및 저장실습\n",
    "# 실습1 - 반복문활용하여 1부터 100까지 중 홀수만 출력\n",
    "for i in range(1,101):\n",
    "    if i%2==1:\n",
    "        print(i,end=' ')"
   ]
  },
  {
   "cell_type": "code",
   "execution_count": 21,
   "id": "69f3a1d9",
   "metadata": {
    "scrolled": true
   },
   "outputs": [
    {
     "name": "stdout",
     "output_type": "stream",
     "text": [
      "[1, 3, 5, 7, 9, 11, 13, 15, 17, 19, 21, 23, 25, 27, 29, 31, 33, 35, 37, 39, 41, 43, 45, 47, 49, 51, 53, 55, 57, 59, 61, 63, 65, 67, 69, 71, 73, 75, 77, 79, 81, 83, 85, 87, 89, 91, 93, 95, 97, 99]\n"
     ]
    }
   ],
   "source": [
    "data = []\n",
    "for i in range(1,101,2):\n",
    "    data.append(i)\n",
    "print(data)"
   ]
  },
  {
   "cell_type": "code",
   "execution_count": 22,
   "id": "eeb1e37b",
   "metadata": {},
   "outputs": [
    {
     "name": "stdout",
     "output_type": "stream",
     "text": [
      "\"아름다운 게 추한 것보다 났다.\" (Beautiful is better than ugly)\n",
      "\"명시적인 것이 암시적인 것 보다 났다.\" (Explicit is better than implicit)\n",
      "\"단순함이 복잡함보다 났다.\" (Simple is better than complex)\n",
      "\"복잡함이 난해한 것보다 났다.\" (Complex is better than complicated)\n",
      "\"가독성은 중요하다.\" (Readability counts) \n"
     ]
    }
   ],
   "source": [
    "# 실습2 - 제어문 활용하기\n",
    "data = '''\"아름다운 게 추한 것보다 났다.\" (Beautiful is better than ugly)\n",
    "\"명시적인 것이 암시적인 것 보다 났다.\" (Explicit is better than implicit)\n",
    "\"단순함이 복잡함보다 났다.\" (Simple is better than complex)\n",
    "\"복잡함이 난해한 것보다 났다.\" (Complex is better than complicated)\n",
    "\"가독성은 중요하다.\" (Readability counts) ''' \n",
    "print(data)"
   ]
  },
  {
   "cell_type": "code",
   "execution_count": 23,
   "id": "7e9001ed",
   "metadata": {},
   "outputs": [
    {
     "name": "stdout",
     "output_type": "stream",
     "text": [
      "아름다운 게 추한 것보다 났다. Beautiful is better than ugly\n",
      "명시적인 것이 암시적인 것 보다 났다. Explicit is better than implicit\n",
      "단순함이 복잡함보다 났다. Simple is better than complex\n",
      "복잡함이 난해한 것보다 났다. Complex is better than complicated\n",
      "가독성은 중요하다. Readability counts \n"
     ]
    }
   ],
   "source": [
    "data=data.replace('\"','').replace('(','').replace(')','')\n",
    "print(data)"
   ]
  },
  {
   "cell_type": "code",
   "execution_count": 24,
   "id": "c32637eb",
   "metadata": {},
   "outputs": [
    {
     "name": "stdout",
     "output_type": "stream",
     "text": [
      "['아름다운 게 추한 것보다 났다. Beautiful is better than ugly', '명시적인 것이 암시적인 것 보다 났다. Explicit is better than implicit', '단순함이 복잡함보다 났다. Simple is better than complex', '복잡함이 난해한 것보다 났다. Complex is better than complicated', '가독성은 중요하다. Readability counts ']\n"
     ]
    }
   ],
   "source": [
    "data=data.split('\\n')\n",
    "print(data)"
   ]
  },
  {
   "cell_type": "code",
   "execution_count": 25,
   "id": "2d597b71",
   "metadata": {},
   "outputs": [],
   "source": [
    "ko = []\n",
    "en = []\n",
    "for i in data:\n",
    "    temp = i.split('.')\n",
    "    ko.append(temp[0])\n",
    "    en.append(temp[1])"
   ]
  },
  {
   "cell_type": "code",
   "execution_count": 26,
   "id": "df1d5124",
   "metadata": {},
   "outputs": [
    {
     "name": "stdout",
     "output_type": "stream",
     "text": [
      "['아름다운 게 추한 것보다 났다', '명시적인 것이 암시적인 것 보다 났다', '단순함이 복잡함보다 났다', '복잡함이 난해한 것보다 났다', '가독성은 중요하다']\n"
     ]
    }
   ],
   "source": [
    "print(ko)"
   ]
  },
  {
   "cell_type": "code",
   "execution_count": 27,
   "id": "90b7576e",
   "metadata": {},
   "outputs": [
    {
     "name": "stdout",
     "output_type": "stream",
     "text": [
      "[' Beautiful is better than ugly', ' Explicit is better than implicit', ' Simple is better than complex', ' Complex is better than complicated', ' Readability counts ']\n"
     ]
    }
   ],
   "source": [
    "print(en)"
   ]
  },
  {
   "cell_type": "code",
   "execution_count": 29,
   "id": "bd37111d",
   "metadata": {},
   "outputs": [
    {
     "name": "stdout",
     "output_type": "stream",
     "text": [
      "숫자1을 입력하세요: 10\n",
      "숫자2를 입력하세요: 8\n",
      "두 수의 합은  18 입니다.\n"
     ]
    }
   ],
   "source": [
    "# 실습3 - 반복문 활용하기\n",
    "# 종료전까지 두 숫자 입력 받아 더하기\n",
    "num1 = int(input('숫자1을 입력하세요: '))\n",
    "num2 = int(input('숫자2를 입력하세요: '))\n",
    "print('두 수의 합은 ',num1+num2,\"입니다.\")"
   ]
  },
  {
   "cell_type": "code",
   "execution_count": 31,
   "id": "ab19a4ec",
   "metadata": {},
   "outputs": [
    {
     "name": "stdout",
     "output_type": "stream",
     "text": [
      "\n",
      "종료를 하려면 숫자1, 숫자2  모두 0을 입력해주세요. \n",
      "숫자1을 입력하세요: 4\n",
      "숫자2를 입력하세요: 3\n",
      "두 수의 합은  7 입니다.\n",
      "\n",
      "종료를 하려면 숫자1, 숫자2  모두 0을 입력해주세요. \n",
      "숫자1을 입력하세요: 0\n",
      "숫자2를 입력하세요: 0\n",
      "종료되었습니다.\n"
     ]
    }
   ],
   "source": [
    "while True:\n",
    "    print()\n",
    "    print('종료를 하려면 숫자1, 숫자2  모두 0을 입력해주세요. ')\n",
    "    num1 = int(input('숫자1을 입력하세요: '))\n",
    "    num2 = int(input('숫자2를 입력하세요: '))\n",
    "    \n",
    "    if num1 == 0 and num2 == 0:\n",
    "        print('종료되었습니다.')\n",
    "        break\n",
    "        \n",
    "    print('두 수의 합은 ', num1+num2, '입니다.')"
   ]
  },
  {
   "cell_type": "code",
   "execution_count": null,
   "id": "04767ffb",
   "metadata": {},
   "outputs": [],
   "source": []
  }
 ],
 "metadata": {
  "kernelspec": {
   "display_name": "Python 3 (ipykernel)",
   "language": "python",
   "name": "python3"
  },
  "language_info": {
   "codemirror_mode": {
    "name": "ipython",
    "version": 3
   },
   "file_extension": ".py",
   "mimetype": "text/x-python",
   "name": "python",
   "nbconvert_exporter": "python",
   "pygments_lexer": "ipython3",
   "version": "3.7.16"
  }
 },
 "nbformat": 4,
 "nbformat_minor": 5
}
