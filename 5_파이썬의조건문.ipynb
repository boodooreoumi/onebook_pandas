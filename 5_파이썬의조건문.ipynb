{
 "cells": [
  {
   "cell_type": "markdown",
   "id": "b0862a2c",
   "metadata": {},
   "source": [
    "- 학습목표:제어문의종류에 대해 알아보고 파이썬에서 조건문을 활용할 수 있다"
   ]
  },
  {
   "cell_type": "code",
   "execution_count": 1,
   "id": "46ce9995",
   "metadata": {},
   "outputs": [
    {
     "name": "stdout",
     "output_type": "stream",
     "text": [
      "<class 'bool'>\n",
      "<class 'bool'>\n"
     ]
    }
   ],
   "source": [
    "#  불자료형\n",
    "a=True\n",
    "print(type(a))\n",
    "\n",
    "b=False\n",
    "print(type(b))"
   ]
  },
  {
   "cell_type": "code",
   "execution_count": 2,
   "id": "005aac22",
   "metadata": {},
   "outputs": [
    {
     "name": "stdout",
     "output_type": "stream",
     "text": [
      "True\n",
      "False\n"
     ]
    }
   ],
   "source": [
    "print(bool(1))\n",
    "print(bool(0))"
   ]
  },
  {
   "cell_type": "code",
   "execution_count": 3,
   "id": "6510be70",
   "metadata": {},
   "outputs": [
    {
     "name": "stdout",
     "output_type": "stream",
     "text": [
      "True\n",
      "False\n"
     ]
    }
   ],
   "source": [
    "print(bool(\"abcd\"))\n",
    "print(bool(\"\"))"
   ]
  },
  {
   "cell_type": "code",
   "execution_count": 4,
   "id": "edfada70",
   "metadata": {},
   "outputs": [
    {
     "name": "stdout",
     "output_type": "stream",
     "text": [
      "True\n",
      "False\n"
     ]
    }
   ],
   "source": [
    "print(bool([1,2,3]))\n",
    "print(bool([]))"
   ]
  },
  {
   "cell_type": "code",
   "execution_count": 5,
   "id": "a252880c",
   "metadata": {},
   "outputs": [
    {
     "name": "stdout",
     "output_type": "stream",
     "text": [
      "True\n",
      "False\n"
     ]
    }
   ],
   "source": [
    "print(bool((1,2,3)))\n",
    "print(bool(()))"
   ]
  },
  {
   "cell_type": "code",
   "execution_count": 6,
   "id": "2095cef9",
   "metadata": {},
   "outputs": [
    {
     "name": "stdout",
     "output_type": "stream",
     "text": [
      "True\n",
      "False\n"
     ]
    }
   ],
   "source": [
    "print(bool({'a':1,'b':2}))\n",
    "print(bool({}))"
   ]
  },
  {
   "cell_type": "code",
   "execution_count": 7,
   "id": "03061a70",
   "metadata": {},
   "outputs": [
    {
     "name": "stdout",
     "output_type": "stream",
     "text": [
      "True\n",
      "True\n",
      "True\n",
      "True\n",
      "True\n",
      "False\n"
     ]
    }
   ],
   "source": [
    "# 관계연산자\n",
    "# 크다/작다, 같다/다르다, 크거나같다/작거나같다\n",
    "print(1>0)\n",
    "print(1<2)\n",
    "print(1==1)\n",
    "print(1!=0)\n",
    "print(1>=0)\n",
    "print(1<=0)"
   ]
  },
  {
   "cell_type": "code",
   "execution_count": 8,
   "id": "99b4a3a0",
   "metadata": {},
   "outputs": [
    {
     "name": "stdout",
     "output_type": "stream",
     "text": [
      "True\n"
     ]
    }
   ],
   "source": [
    "# 논리연산자\n",
    "# and, or, not\n",
    "a=1\n",
    "b=2\n",
    "print(a>0 and b>1)"
   ]
  },
  {
   "cell_type": "code",
   "execution_count": 9,
   "id": "7512dbd2",
   "metadata": {},
   "outputs": [
    {
     "name": "stdout",
     "output_type": "stream",
     "text": [
      "True\n"
     ]
    }
   ],
   "source": [
    "a=1\n",
    "b=2\n",
    "print(a==0 or b!=1)"
   ]
  },
  {
   "cell_type": "code",
   "execution_count": 10,
   "id": "8d954484",
   "metadata": {},
   "outputs": [
    {
     "name": "stdout",
     "output_type": "stream",
     "text": [
      "1\n",
      "2\n"
     ]
    }
   ],
   "source": [
    "# 조건문\n",
    "# if + 조건식\n",
    "\n",
    "if (True):\n",
    "    print(1)\n",
    "print(2)"
   ]
  },
  {
   "cell_type": "code",
   "execution_count": 11,
   "id": "12befdd7",
   "metadata": {},
   "outputs": [
    {
     "name": "stdout",
     "output_type": "stream",
     "text": [
      "2\n"
     ]
    }
   ],
   "source": [
    "if (False):\n",
    "    print(1)\n",
    "print(2)"
   ]
  },
  {
   "cell_type": "code",
   "execution_count": 12,
   "id": "ef110b4c",
   "metadata": {},
   "outputs": [
    {
     "name": "stdout",
     "output_type": "stream",
     "text": [
      "1\n",
      "2\n"
     ]
    }
   ],
   "source": [
    "if (True):\n",
    "    print(1)\n",
    "    print(2)"
   ]
  },
  {
   "cell_type": "code",
   "execution_count": 13,
   "id": "90d6bcf7",
   "metadata": {},
   "outputs": [
    {
     "name": "stdout",
     "output_type": "stream",
     "text": [
      "보통이예요!\n"
     ]
    }
   ],
   "source": [
    "# if와 else를 사용가능\n",
    "# if만 사용사는 경우\n",
    "# 90점 입력시 두 조건을 만족하므로 실행결과가 나오지 않음\n",
    "\n",
    "score=89\n",
    "if score > 90:\n",
    "    print(\"참 잘했어요!\")\n",
    "\n",
    "if score < 90:\n",
    "    print(\"보통이예요!\")"
   ]
  },
  {
   "cell_type": "code",
   "execution_count": 14,
   "id": "2aefbae4",
   "metadata": {},
   "outputs": [
    {
     "name": "stdout",
     "output_type": "stream",
     "text": [
      "참 잘했어요!\n"
     ]
    }
   ],
   "source": [
    "score=91\n",
    "if score > 90:\n",
    "    print(\"참 잘했어요!\")\n",
    "\n",
    "if score < 90:\n",
    "    print(\"보통이예요!\")"
   ]
  },
  {
   "cell_type": "code",
   "execution_count": 15,
   "id": "6d726c04",
   "metadata": {},
   "outputs": [
    {
     "name": "stdout",
     "output_type": "stream",
     "text": [
      "보통이예요!\n"
     ]
    }
   ],
   "source": [
    "# if, else 활용\n",
    "# if에 만족하지 않는 경우에 else를 출력\n",
    "\n",
    "score=89\n",
    "if score > 90:\n",
    "    print(\"참 잘했어요!\")\n",
    "else:\n",
    "    print(\"보통이예요!\")"
   ]
  },
  {
   "cell_type": "code",
   "execution_count": 16,
   "id": "174a6080",
   "metadata": {},
   "outputs": [
    {
     "name": "stdout",
     "output_type": "stream",
     "text": [
      "참 잘했어요!\n"
     ]
    }
   ],
   "source": [
    "score=91\n",
    "if score > 90:\n",
    "    print(\"참 잘했어요!\")\n",
    "else:\n",
    "    print(\"보통이예요!\")"
   ]
  },
  {
   "cell_type": "code",
   "execution_count": 17,
   "id": "6b0abb86",
   "metadata": {},
   "outputs": [
    {
     "name": "stdout",
     "output_type": "stream",
     "text": [
      "1\n"
     ]
    }
   ],
   "source": [
    "# 복잡합 조건문 해결방법 - if,elif,else\n",
    "a=2\n",
    "if (a==2):\n",
    "    print(1)\n",
    "elif(a==2):\n",
    "    print(2)\n",
    "else:\n",
    "    print(4)"
   ]
  },
  {
   "cell_type": "code",
   "execution_count": 18,
   "id": "bd27b3a1",
   "metadata": {},
   "outputs": [
    {
     "name": "stdout",
     "output_type": "stream",
     "text": [
      "2\n"
     ]
    }
   ],
   "source": [
    "a=2\n",
    "if (a==1):\n",
    "    print(1)\n",
    "elif(a==2):\n",
    "    print(2)\n",
    "elif(a==3):\n",
    "    print(3)\n",
    "else:\n",
    "    print(4)"
   ]
  },
  {
   "cell_type": "code",
   "execution_count": 19,
   "id": "378413eb",
   "metadata": {},
   "outputs": [
    {
     "name": "stdout",
     "output_type": "stream",
     "text": [
      "2\n"
     ]
    }
   ],
   "source": [
    "# 중첩조건문 - 조건문내조건문을 추가하여 조건만족시 또다른조건 적용\n",
    "a=1\n",
    "b=2\n",
    "if (a==1):\n",
    "    if(b==3):\n",
    "        print(1)\n",
    "    else:\n",
    "        print(2)\n",
    "else:\n",
    "    print(3)"
   ]
  },
  {
   "cell_type": "code",
   "execution_count": 20,
   "id": "cce14974",
   "metadata": {},
   "outputs": [
    {
     "name": "stdout",
     "output_type": "stream",
     "text": [
      "0\n",
      "1\n"
     ]
    }
   ],
   "source": [
    "a=1\n",
    "b=3\n",
    "if (a==1):\n",
    "    if(b==3):\n",
    "        if(a<b):\n",
    "            print(0)\n",
    "        print(1)\n",
    "    else:\n",
    "        print(2)\n",
    "else:\n",
    "    print(3)"
   ]
  },
  {
   "cell_type": "code",
   "execution_count": 21,
   "id": "303a08eb",
   "metadata": {},
   "outputs": [
    {
     "name": "stdout",
     "output_type": "stream",
     "text": [
      "a is 1\n"
     ]
    }
   ],
   "source": [
    "# 일반적인 조건식 -> 조건부표현식\n",
    "a=1\n",
    "if (a==1):\n",
    "    msg='a is 1'\n",
    "else:\n",
    "    msg='a is not 1'\n",
    "print(msg)"
   ]
  },
  {
   "cell_type": "code",
   "execution_count": 23,
   "id": "573cd6f6",
   "metadata": {},
   "outputs": [
    {
     "name": "stdout",
     "output_type": "stream",
     "text": [
      "a is 1\n"
     ]
    }
   ],
   "source": [
    "msg2 = \"a is 1\" if (a==1) else \"a is not 1\"\n",
    "print(msg2)"
   ]
  },
  {
   "cell_type": "markdown",
   "id": "aa840c92",
   "metadata": {},
   "source": [
    "- 조건문 활용 실습"
   ]
  },
  {
   "cell_type": "code",
   "execution_count": 24,
   "id": "3db4138e",
   "metadata": {},
   "outputs": [
    {
     "name": "stdout",
     "output_type": "stream",
     "text": [
      "나이를 입력해주세요: 36\n",
      "부모님 동행여부를 입력해주세요. 1:동행, 0:미동행 0\n"
     ]
    }
   ],
   "source": [
    "# 실습1\n",
    "# 나이,부모님 동행여부 입력하여 청소년 관람부가 영화관라며부 출력\n",
    "# 1. 19세 이상 관람가능\n",
    "# 2. 19세 미만, 부모님동행여부1 관람가능\n",
    "# 3. 19세 미만, 부모님동행여부0 관람불가\n",
    "\n",
    "age = int(input('나이를 입력해주세요: '))\n",
    "together = int(input('부모님 동행여부를 입력해주세요. 1:동행, 0:미동행 '))"
   ]
  },
  {
   "cell_type": "code",
   "execution_count": 25,
   "id": "fc884359",
   "metadata": {},
   "outputs": [
    {
     "name": "stdout",
     "output_type": "stream",
     "text": [
      "관람가능합니다.\n"
     ]
    }
   ],
   "source": [
    "if age >=19:\n",
    "    print('관람가능합니다.')\n",
    "elif age<19 and together == 1:\n",
    "    print('관람가능합니다.')\n",
    "else:\n",
    "    print('관람불가능합니다.')"
   ]
  },
  {
   "cell_type": "code",
   "execution_count": 26,
   "id": "7a386811",
   "metadata": {},
   "outputs": [
    {
     "name": "stdout",
     "output_type": "stream",
     "text": [
      "a는 양수입니다.\n"
     ]
    }
   ],
   "source": [
    "# 실습2\n",
    "# 조건부 표현식 만들기\n",
    "a =1\n",
    "if a>0:\n",
    "    msg='a는 양수입니다.'\n",
    "else:\n",
    "    msg='a는 0또는 음수입니다'\n",
    "print(msg)"
   ]
  },
  {
   "cell_type": "code",
   "execution_count": 28,
   "id": "3441be52",
   "metadata": {},
   "outputs": [
    {
     "name": "stdout",
     "output_type": "stream",
     "text": [
      "a는 양수입니다.\n"
     ]
    }
   ],
   "source": [
    "a=1\n",
    "msg2 = \"a는 양수입니다.\" if (a>0) else \"a는 0 또는 음수입니다.\"\n",
    "print(msg2)"
   ]
  },
  {
   "cell_type": "code",
   "execution_count": null,
   "id": "d8e03294",
   "metadata": {},
   "outputs": [],
   "source": []
  }
 ],
 "metadata": {
  "kernelspec": {
   "display_name": "Python 3 (ipykernel)",
   "language": "python",
   "name": "python3"
  },
  "language_info": {
   "codemirror_mode": {
    "name": "ipython",
    "version": 3
   },
   "file_extension": ".py",
   "mimetype": "text/x-python",
   "name": "python",
   "nbconvert_exporter": "python",
   "pygments_lexer": "ipython3",
   "version": "3.7.16"
  }
 },
 "nbformat": 4,
 "nbformat_minor": 5
}
