{
 "cells": [
  {
   "cell_type": "markdown",
   "id": "1cce5faa",
   "metadata": {},
   "source": [
    "- 데이터다루기유형\n",
    "- 1.데이터타입\n",
    "- 2.기초통계량\n",
    "- 3.데이터인덱싱필터링정렬변경\n",
    "- 4.결측치이상치중복값\n",
    "- 5.데이터scaling\n",
    "- 6.데이터합치기\n",
    "- 7.날짜시간데이터,index다루기"
   ]
  },
  {
   "cell_type": "code",
   "execution_count": 1,
   "id": "5bd629a6",
   "metadata": {},
   "outputs": [
    {
     "data": {
      "text/html": [
       "<div>\n",
       "<style scoped>\n",
       "    .dataframe tbody tr th:only-of-type {\n",
       "        vertical-align: middle;\n",
       "    }\n",
       "\n",
       "    .dataframe tbody tr th {\n",
       "        vertical-align: top;\n",
       "    }\n",
       "\n",
       "    .dataframe thead th {\n",
       "        text-align: right;\n",
       "    }\n",
       "</style>\n",
       "<table border=\"1\" class=\"dataframe\">\n",
       "  <thead>\n",
       "    <tr style=\"text-align: right;\">\n",
       "      <th></th>\n",
       "      <th>car</th>\n",
       "      <th>mpg</th>\n",
       "      <th>cyl</th>\n",
       "      <th>disp</th>\n",
       "      <th>hp</th>\n",
       "      <th>drat</th>\n",
       "      <th>wt</th>\n",
       "      <th>qsec</th>\n",
       "      <th>vs</th>\n",
       "      <th>am</th>\n",
       "      <th>gear</th>\n",
       "      <th>carb</th>\n",
       "    </tr>\n",
       "  </thead>\n",
       "  <tbody>\n",
       "    <tr>\n",
       "      <th>0</th>\n",
       "      <td>Mazda RX4</td>\n",
       "      <td>21.0</td>\n",
       "      <td>6</td>\n",
       "      <td>160.0</td>\n",
       "      <td>110</td>\n",
       "      <td>3.90</td>\n",
       "      <td>2.620</td>\n",
       "      <td>16.46</td>\n",
       "      <td>0</td>\n",
       "      <td>1</td>\n",
       "      <td>4</td>\n",
       "      <td>4</td>\n",
       "    </tr>\n",
       "    <tr>\n",
       "      <th>1</th>\n",
       "      <td>Mazda RX4 Wag</td>\n",
       "      <td>21.0</td>\n",
       "      <td>6</td>\n",
       "      <td>160.0</td>\n",
       "      <td>110</td>\n",
       "      <td>3.90</td>\n",
       "      <td>2.875</td>\n",
       "      <td>17.02</td>\n",
       "      <td>0</td>\n",
       "      <td>1</td>\n",
       "      <td>4</td>\n",
       "      <td>4</td>\n",
       "    </tr>\n",
       "    <tr>\n",
       "      <th>2</th>\n",
       "      <td>Datsun 710</td>\n",
       "      <td>22.8</td>\n",
       "      <td>4</td>\n",
       "      <td>108.0</td>\n",
       "      <td>93</td>\n",
       "      <td>3.85</td>\n",
       "      <td>2.320</td>\n",
       "      <td>18.61</td>\n",
       "      <td>1</td>\n",
       "      <td>1</td>\n",
       "      <td>4</td>\n",
       "      <td>1</td>\n",
       "    </tr>\n",
       "    <tr>\n",
       "      <th>3</th>\n",
       "      <td>Hornet 4 Drive</td>\n",
       "      <td>21.4</td>\n",
       "      <td>6</td>\n",
       "      <td>258.0</td>\n",
       "      <td>110</td>\n",
       "      <td>3.08</td>\n",
       "      <td>3.215</td>\n",
       "      <td>19.44</td>\n",
       "      <td>1</td>\n",
       "      <td>0</td>\n",
       "      <td>3</td>\n",
       "      <td>1</td>\n",
       "    </tr>\n",
       "    <tr>\n",
       "      <th>4</th>\n",
       "      <td>Hornet Sportabout</td>\n",
       "      <td>18.7</td>\n",
       "      <td>8</td>\n",
       "      <td>360.0</td>\n",
       "      <td>175</td>\n",
       "      <td>3.15</td>\n",
       "      <td>3.440</td>\n",
       "      <td>17.02</td>\n",
       "      <td>0</td>\n",
       "      <td>0</td>\n",
       "      <td>3</td>\n",
       "      <td>2</td>\n",
       "    </tr>\n",
       "  </tbody>\n",
       "</table>\n",
       "</div>"
      ],
      "text/plain": [
       "                 car   mpg  cyl   disp   hp  drat     wt   qsec  vs  am  gear  \\\n",
       "0          Mazda RX4  21.0    6  160.0  110  3.90  2.620  16.46   0   1     4   \n",
       "1      Mazda RX4 Wag  21.0    6  160.0  110  3.90  2.875  17.02   0   1     4   \n",
       "2         Datsun 710  22.8    4  108.0   93  3.85  2.320  18.61   1   1     4   \n",
       "3     Hornet 4 Drive  21.4    6  258.0  110  3.08  3.215  19.44   1   0     3   \n",
       "4  Hornet Sportabout  18.7    8  360.0  175  3.15  3.440  17.02   0   0     3   \n",
       "\n",
       "   carb  \n",
       "0     4  \n",
       "1     4  \n",
       "2     1  \n",
       "3     1  \n",
       "4     2  "
      ]
     },
     "execution_count": 1,
     "metadata": {},
     "output_type": "execute_result"
    }
   ],
   "source": [
    "import pandas as pd\n",
    "import numpy as np\n",
    "df = pd.read_csv('mtcars.csv')\n",
    "df.head()"
   ]
  },
  {
   "cell_type": "code",
   "execution_count": 2,
   "id": "725e346a",
   "metadata": {},
   "outputs": [
    {
     "name": "stdout",
     "output_type": "stream",
     "text": [
      "15\n"
     ]
    }
   ],
   "source": [
    "# 문제1\n",
    "# mpg변수의 제1사분위수를 구하고 정수값으로 출력하시오.\n",
    "df = pd.read_csv('mtcars.csv')\n",
    "Q1=df['mpg'].quantile(0.25)\n",
    "print(round(Q1))"
   ]
  },
  {
   "cell_type": "code",
   "execution_count": 3,
   "id": "0d7c8280",
   "metadata": {},
   "outputs": [
    {
     "name": "stdout",
     "output_type": "stream",
     "text": [
      "5\n"
     ]
    }
   ],
   "source": [
    "# 문제2\n",
    "# mpg값이 19이상 21이하인 데이터의 수를 구하시오.\n",
    "df = pd.read_csv('mtcars.csv')\n",
    "cond1 = df['mpg']>=19\n",
    "cond2 = df['mpg']<=21\n",
    "print(len(df[cond1&cond2]))"
   ]
  },
  {
   "cell_type": "code",
   "execution_count": 5,
   "id": "aa8f4561",
   "metadata": {},
   "outputs": [
    {
     "name": "stdout",
     "output_type": "stream",
     "text": [
      "83.5\n"
     ]
    }
   ],
   "source": [
    "# 문제3\n",
    "# hp변수의 IQR 값을 구하시오.\n",
    "df = pd.read_csv('mtcars.csv')\n",
    "Q1 = df['hp'].quantile(0.25)\n",
    "Q3 = df['hp'].quantile(0.75)\n",
    "IQR = Q3-Q1\n",
    "print(IQR)"
   ]
  },
  {
   "cell_type": "code",
   "execution_count": 7,
   "id": "32db851d",
   "metadata": {},
   "outputs": [
    {
     "name": "stdout",
     "output_type": "stream",
     "text": [
      "42\n"
     ]
    }
   ],
   "source": [
    "# 문제4\n",
    "# wt변수의 상위 10개값의 총합을 구하여 소수점을 버리고 정수로 출력하시오.\n",
    "df = pd.read_csv('mtcars.csv')\n",
    "top10 = df.sort_values('wt', ascending=False)\n",
    "sum_top10 = sum(top10['wt'].head(10))\n",
    "print(int(sum_top10))"
   ]
  },
  {
   "cell_type": "code",
   "execution_count": 9,
   "id": "d0974309",
   "metadata": {},
   "outputs": [
    {
     "name": "stdout",
     "output_type": "stream",
     "text": [
      "0.2\n"
     ]
    }
   ],
   "source": [
    "# 문제5\n",
    "# 전체 자동차에서 cyl가 6인 비율이 얼마인지 소수점 첫째짜리까지 출력하시오.\n",
    "df = pd.read_csv('mtcars.csv')\n",
    "len_6 = len(df[df['cyl']==6])\n",
    "len_total = len(df)\n",
    "print(round(len_6/len_total,1))"
   ]
  },
  {
   "cell_type": "code",
   "execution_count": 10,
   "id": "6c771498",
   "metadata": {},
   "outputs": [
    {
     "name": "stdout",
     "output_type": "stream",
     "text": [
      "20\n"
     ]
    }
   ],
   "source": [
    "# 문제6\n",
    "# 첫번째 행부터 순서대로 10개 뽐은 후 mpg 열의 평균값을 반몽림하여 점수로 출력하시오.\n",
    "df = pd.read_csv('mtcars.csv')\n",
    "df10 = df.loc[0:9] # df.head(10), df[:10]\n",
    "mean10 = df10['mpg'].mean()\n",
    "print(round(mean10))"
   ]
  },
  {
   "cell_type": "code",
   "execution_count": 12,
   "id": "c92bfc12",
   "metadata": {},
   "outputs": [
    {
     "name": "stdout",
     "output_type": "stream",
     "text": [
      "3.44\n"
     ]
    }
   ],
   "source": [
    "# 문제7\n",
    "# 첫번째 행부터 순서대로 50%까지 데이터를 뽑아 wt 변수의 중앙값을 구하시오.\n",
    "df = pd.read_csv('mtcars.csv')\n",
    "df50 = df[:int(len(df)/2)]\n",
    "print(df50['wt'].median())"
   ]
  },
  {
   "cell_type": "code",
   "execution_count": 13,
   "id": "0c4bf95f",
   "metadata": {},
   "outputs": [
    {
     "name": "stdout",
     "output_type": "stream",
     "text": [
      "5\n"
     ]
    }
   ],
   "source": [
    "# 문제8\n",
    "# 결측값이 있는 데이터의 수를 출력하시오.\n",
    "\n",
    "df = pd.DataFrame( {\n",
    "    '날짜': ['20220103','20220105', None,'20230127','20220203', '20220205','20230210','20230223','20230312','20230422','20220505','20230511'],\n",
    "    '제품' : ['A','B', None, 'B', 'A', None,'A', 'B', 'A', 'B', 'A', 'A'],\n",
    "    '판매수': [3, None, 5, 10, 10, 10, 15, 15, 20, None, 30, 40], \n",
    "    '개당수익': [300, 400, 500, 600, 400, 500, 500, 600, 600, 700, 600, 600] })\n",
    "\n",
    "missing = df.isnull().sum()\n",
    "print(missing.sum())"
   ]
  },
  {
   "cell_type": "code",
   "execution_count": 15,
   "id": "99acf9cc",
   "metadata": {},
   "outputs": [
    {
     "name": "stdout",
     "output_type": "stream",
     "text": [
      "15\n"
     ]
    }
   ],
   "source": [
    "# 문제9\n",
    "# 판매수 컬럼의 결측값을 판매수의 중앙값으로 대체하고, 판매수의 편균값을 정수로 출력하시오.\n",
    "\n",
    "df = pd.DataFrame( {\n",
    "    '날짜': ['20220103','20220105', None,'20230127','20220203', '20220205','20230210','20230223','20230312','20230422','20220505','20230511'],\n",
    "    '제품' : ['A','B', None, 'B', 'A', None,'A', 'B', 'A', 'B', 'A', 'A'],\n",
    "    '판매수': [3, None, 5, 10, 10, 10, 15, 15, 20, None, 30, 40], \n",
    "    '개당수익': [300, 400, 500, 600, 400, 500, 500, 600, 600, 700, 600, 600] })\n",
    "\n",
    "Q2 = df['판매수'].median()\n",
    "df['판매수'] = df['판매수'].fillna(Q2)\n",
    "print(int(df['판매수'].mean()))"
   ]
  },
  {
   "cell_type": "code",
   "execution_count": 24,
   "id": "8687f80c",
   "metadata": {},
   "outputs": [
    {
     "name": "stdout",
     "output_type": "stream",
     "text": [
      "5\n"
     ]
    }
   ],
   "source": [
    "# 문제 10 어려워~~\n",
    "# 판매수 컬럼에 결측치가 있는 행을 제거하고,\n",
    "# 첫번째 행부터 순서대로 50%까지의 데이터를 추출하여,\n",
    "# 판매수 변수의 Q1(제1사분위수) 값을 정수로 출력하시오.\n",
    "\n",
    "df = pd.DataFrame( {\n",
    "    '날짜': ['20220103','20220105', None,'20230127','20220203', '20220205','20230210','20230223','20230312','20230422','20220505','20230511'],\n",
    "    '제품' : ['A','B', None, 'B', 'A', None,'A', 'B', 'A', 'B', 'A', 'A'],\n",
    "    '판매수': [3, None, 5, 10, 10, 10, 15, 15, 20, None, 30, 40], \n",
    "    '개당수익': [300, 400, 500, 600, 400, 500, 500, 600, 600, 700, 600, 600] })\n",
    "\n",
    "df = df['판매수'].dropna()\n",
    "df = df[:int(len(df)/2)]\n",
    "print(int(df.quantile(0.25)))"
   ]
  },
  {
   "cell_type": "code",
   "execution_count": null,
   "id": "66915bb8",
   "metadata": {},
   "outputs": [],
   "source": []
  }
 ],
 "metadata": {
  "kernelspec": {
   "display_name": "Python 3 (ipykernel)",
   "language": "python",
   "name": "python3"
  },
  "language_info": {
   "codemirror_mode": {
    "name": "ipython",
    "version": 3
   },
   "file_extension": ".py",
   "mimetype": "text/x-python",
   "name": "python",
   "nbconvert_exporter": "python",
   "pygments_lexer": "ipython3",
   "version": "3.9.13"
  }
 },
 "nbformat": 4,
 "nbformat_minor": 5
}
