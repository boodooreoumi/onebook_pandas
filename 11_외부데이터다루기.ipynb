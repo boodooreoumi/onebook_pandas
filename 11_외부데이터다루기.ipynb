{
 "cells": [
  {
   "cell_type": "code",
   "execution_count": 1,
   "id": "81ece355",
   "metadata": {},
   "outputs": [],
   "source": [
    "# 데이터를 가져오는 방법\n",
    "# 1.외부파일을 파이썬으로 불러오기\n",
    "# 2.api활용\n",
    "# 3.홈페이지 정보 가져오기"
   ]
  },
  {
   "cell_type": "code",
   "execution_count": 2,
   "id": "4a265d90",
   "metadata": {},
   "outputs": [
    {
     "ename": "FileNotFoundError",
     "evalue": "[Errno 2] No such file or directory: 'abc.csv'",
     "output_type": "error",
     "traceback": [
      "\u001b[1;31m---------------------------------------------------------------------------\u001b[0m",
      "\u001b[1;31mFileNotFoundError\u001b[0m                         Traceback (most recent call last)",
      "\u001b[1;32m~\\AppData\\Local\\Temp\\ipykernel_10132\\1492146040.py\u001b[0m in \u001b[0;36m<module>\u001b[1;34m\u001b[0m\n\u001b[0;32m      1\u001b[0m \u001b[1;31m# 예시\u001b[0m\u001b[1;33m\u001b[0m\u001b[1;33m\u001b[0m\u001b[1;33m\u001b[0m\u001b[0m\n\u001b[1;32m----> 2\u001b[1;33m \u001b[0mf\u001b[0m \u001b[1;33m=\u001b[0m \u001b[0mopen\u001b[0m\u001b[1;33m(\u001b[0m\u001b[1;34m'abc.csv'\u001b[0m\u001b[1;33m,\u001b[0m\u001b[1;34m'r'\u001b[0m\u001b[1;33m)\u001b[0m\u001b[1;33m\u001b[0m\u001b[1;33m\u001b[0m\u001b[0m\n\u001b[0m\u001b[0;32m      3\u001b[0m \u001b[0mprint\u001b[0m\u001b[1;33m(\u001b[0m\u001b[0mf\u001b[0m\u001b[1;33m.\u001b[0m\u001b[0mread\u001b[0m\u001b[1;33m(\u001b[0m\u001b[1;33m)\u001b[0m\u001b[1;33m)\u001b[0m\u001b[1;33m\u001b[0m\u001b[1;33m\u001b[0m\u001b[0m\n\u001b[0;32m      4\u001b[0m \u001b[0mf\u001b[0m\u001b[1;33m.\u001b[0m\u001b[0mclose\u001b[0m\u001b[1;33m(\u001b[0m\u001b[1;33m)\u001b[0m\u001b[1;33m\u001b[0m\u001b[1;33m\u001b[0m\u001b[0m\n",
      "\u001b[1;31mFileNotFoundError\u001b[0m: [Errno 2] No such file or directory: 'abc.csv'"
     ]
    }
   ],
   "source": [
    "# 예시\n",
    "f = open('abc.csv','r')\n",
    "print(f.read())\n",
    "f.close()"
   ]
  },
  {
   "cell_type": "code",
   "execution_count": 3,
   "id": "2fef4423",
   "metadata": {},
   "outputs": [],
   "source": [
    "import csv"
   ]
  },
  {
   "cell_type": "code",
   "execution_count": 4,
   "id": "52d205ae",
   "metadata": {},
   "outputs": [
    {
     "ename": "FileNotFoundError",
     "evalue": "[Errno 2] No such file or directory: 'abc.csv'",
     "output_type": "error",
     "traceback": [
      "\u001b[1;31m---------------------------------------------------------------------------\u001b[0m",
      "\u001b[1;31mFileNotFoundError\u001b[0m                         Traceback (most recent call last)",
      "\u001b[1;32m~\\AppData\\Local\\Temp\\ipykernel_10132\\1632397196.py\u001b[0m in \u001b[0;36m<module>\u001b[1;34m\u001b[0m\n\u001b[1;32m----> 1\u001b[1;33m \u001b[0mf\u001b[0m\u001b[1;33m=\u001b[0m\u001b[0mopen\u001b[0m\u001b[1;33m(\u001b[0m\u001b[1;34m'abc.csv'\u001b[0m\u001b[1;33m,\u001b[0m\u001b[1;34m'r'\u001b[0m\u001b[1;33m)\u001b[0m\u001b[1;33m\u001b[0m\u001b[1;33m\u001b[0m\u001b[0m\n\u001b[0m\u001b[0;32m      2\u001b[0m \u001b[0mfile_read\u001b[0m \u001b[1;33m=\u001b[0m \u001b[0mcsv\u001b[0m\u001b[1;33m.\u001b[0m\u001b[0mreader\u001b[0m\u001b[1;33m(\u001b[0m\u001b[0mf\u001b[0m\u001b[1;33m)\u001b[0m\u001b[1;33m\u001b[0m\u001b[1;33m\u001b[0m\u001b[0m\n\u001b[0;32m      3\u001b[0m \u001b[1;32mfor\u001b[0m \u001b[0mi\u001b[0m \u001b[1;32min\u001b[0m \u001b[0mfile_read\u001b[0m\u001b[1;33m:\u001b[0m\u001b[1;33m\u001b[0m\u001b[1;33m\u001b[0m\u001b[0m\n\u001b[0;32m      4\u001b[0m     \u001b[0mprint\u001b[0m\u001b[1;33m(\u001b[0m\u001b[0mi\u001b[0m\u001b[1;33m)\u001b[0m\u001b[1;33m\u001b[0m\u001b[1;33m\u001b[0m\u001b[0m\n",
      "\u001b[1;31mFileNotFoundError\u001b[0m: [Errno 2] No such file or directory: 'abc.csv'"
     ]
    }
   ],
   "source": [
    "f=open('abc.csv','r')\n",
    "file_read = csv.reader(f)\n",
    "for i in file_read:\n",
    "    print(i)"
   ]
  },
  {
   "cell_type": "code",
   "execution_count": 5,
   "id": "db758144",
   "metadata": {},
   "outputs": [],
   "source": [
    "f = open('write.csv','w',newline='')\n",
    "wr = csv.writer(f)\n",
    "wr.writerow([1,2,3])\n",
    "wr.writerow([4,5,6])\n",
    "\n",
    "f.close()"
   ]
  },
  {
   "cell_type": "code",
   "execution_count": 7,
   "id": "9d51806b",
   "metadata": {},
   "outputs": [
    {
     "name": "stdout",
     "output_type": "stream",
     "text": [
      "<class 'pandas.core.frame.DataFrame'>\n",
      "     N  year   A     B  start_page  end_page\n",
      "0    1  2019  10   1.4         717       723\n",
      "1    2  2020  11   2.5         724       736\n",
      "2    3  2021  12   3.6         737       747\n",
      "3    4  2022  13   4.7         748       764\n",
      "4    5  2023  14   5.8         765       784\n",
      "5    6  2024  15   6.9         785       796\n",
      "6    7  2025  16   8.0         797       819\n",
      "7    8  2026  17   9.1         820       832\n",
      "8    9  2027  18  10.2         833       852\n",
      "9   10  2028  19  11.3         853       864\n",
      "10  11  2029  20  12.4         865       889\n",
      "11  12  2030  21  13.5         890       903\n",
      "12  13  2031  22  14.6         904       919\n",
      "13  14  2032  23  15.7         920       930\n",
      "14  15  2033  24  16.8         931       956\n",
      "15  16  2034  25  17.9         957       966\n",
      "16  17  2035  26  19.0         967       985\n",
      "17  18  2036  27  20.1         986      1016\n",
      "18  19  2037  28  21.2        1017      1028\n"
     ]
    }
   ],
   "source": [
    "# 판다스 모듈 사용\n",
    "import pandas as pd\n",
    "excel = pd.read_excel('11차시_pandas모듈예시.xls','Sheet1')\n",
    "print(type(excel))\n",
    "print(excel)"
   ]
  },
  {
   "cell_type": "code",
   "execution_count": 6,
   "id": "2676d0f1",
   "metadata": {},
   "outputs": [
    {
     "name": "stdout",
     "output_type": "stream",
     "text": [
      "Collecting xlrd\n",
      "  Downloading xlrd-2.0.1-py2.py3-none-any.whl (96 kB)\n",
      "     ---------------------------------------- 96.5/96.5 kB 5.4 MB/s eta 0:00:00\n",
      "Installing collected packages: xlrd\n",
      "Successfully installed xlrd-2.0.1\n"
     ]
    }
   ],
   "source": [
    "!pip install xlrd # 위의 코드실행하려면 먼저 실해해주여야 하는 사항"
   ]
  },
  {
   "cell_type": "code",
   "execution_count": 8,
   "id": "132bba23",
   "metadata": {},
   "outputs": [
    {
     "name": "stdout",
     "output_type": "stream",
     "text": [
      "N               10.000000\n",
      "year          2028.000000\n",
      "A               19.000000\n",
      "B               11.300000\n",
      "start_page     853.473684\n",
      "end_page       868.894737\n",
      "dtype: float64\n"
     ]
    }
   ],
   "source": [
    "# pandas 모듈 활용\n",
    "print(excel.mean())"
   ]
  },
  {
   "cell_type": "code",
   "execution_count": 9,
   "id": "65a76a45",
   "metadata": {},
   "outputs": [
    {
     "name": "stdout",
     "output_type": "stream",
     "text": [
      "   N  year   A    B  start_page  end_page\n",
      "0  1  2019  10  1.4         717       723\n",
      "1  2  2020  11  2.5         724       736\n",
      "2  3  2021  12  3.6         737       747\n",
      "3  4  2022  13  4.7         748       764\n",
      "4  5  2023  14  5.8         765       784\n"
     ]
    }
   ],
   "source": [
    "print(excel.head(5))"
   ]
  },
  {
   "cell_type": "code",
   "execution_count": 10,
   "id": "0c791df7",
   "metadata": {},
   "outputs": [
    {
     "name": "stdout",
     "output_type": "stream",
     "text": [
      "               N         year          A          B   start_page     end_page\n",
      "count  19.000000    19.000000  19.000000  19.000000    19.000000    19.000000\n",
      "mean   10.000000  2028.000000  19.000000  11.300000   853.473684   868.894737\n",
      "std     5.627314     5.627314   5.627314   6.190046    94.189743    96.249615\n",
      "min     1.000000  2019.000000  10.000000   1.400000   717.000000   723.000000\n",
      "25%     5.500000  2023.500000  14.500000   6.350000   775.000000   790.000000\n",
      "50%    10.000000  2028.000000  19.000000  11.300000   853.000000   864.000000\n",
      "75%    14.500000  2032.500000  23.500000  16.250000   925.500000   943.000000\n",
      "max    19.000000  2037.000000  28.000000  21.200000  1017.000000  1028.000000\n"
     ]
    }
   ],
   "source": [
    "print(excel.describe())"
   ]
  },
  {
   "cell_type": "code",
   "execution_count": 12,
   "id": "607c6bc5",
   "metadata": {},
   "outputs": [
    {
     "name": "stdout",
     "output_type": "stream",
     "text": [
      "     N  year   A     B  start_page  end_page\n",
      "18  19  2037  28  21.2        1017      1028\n",
      "17  18  2036  27  20.1         986      1016\n",
      "16  17  2035  26  19.0         967       985\n",
      "15  16  2034  25  17.9         957       966\n",
      "14  15  2033  24  16.8         931       956\n",
      "13  14  2032  23  15.7         920       930\n",
      "12  13  2031  22  14.6         904       919\n",
      "11  12  2030  21  13.5         890       903\n",
      "10  11  2029  20  12.4         865       889\n",
      "9   10  2028  19  11.3         853       864\n",
      "8    9  2027  18  10.2         833       852\n",
      "7    8  2026  17   9.1         820       832\n",
      "6    7  2025  16   8.0         797       819\n",
      "5    6  2024  15   6.9         785       796\n",
      "4    5  2023  14   5.8         765       784\n",
      "3    4  2022  13   4.7         748       764\n",
      "2    3  2021  12   3.6         737       747\n",
      "1    2  2020  11   2.5         724       736\n",
      "0    1  2019  10   1.4         717       723\n"
     ]
    }
   ],
   "source": [
    "# 열기준정렬\n",
    "print(excel.sort_values(by='year',ascending=False))"
   ]
  },
  {
   "cell_type": "code",
   "execution_count": 13,
   "id": "793a66b7",
   "metadata": {},
   "outputs": [
    {
     "data": {
      "text/html": [
       "<div>\n",
       "<style scoped>\n",
       "    .dataframe tbody tr th:only-of-type {\n",
       "        vertical-align: middle;\n",
       "    }\n",
       "\n",
       "    .dataframe tbody tr th {\n",
       "        vertical-align: top;\n",
       "    }\n",
       "\n",
       "    .dataframe thead th {\n",
       "        text-align: right;\n",
       "    }\n",
       "</style>\n",
       "<table border=\"1\" class=\"dataframe\">\n",
       "  <thead>\n",
       "    <tr style=\"text-align: right;\">\n",
       "      <th></th>\n",
       "      <th>N</th>\n",
       "      <th>year</th>\n",
       "      <th>A</th>\n",
       "      <th>B</th>\n",
       "      <th>start_page</th>\n",
       "      <th>end_page</th>\n",
       "    </tr>\n",
       "  </thead>\n",
       "  <tbody>\n",
       "    <tr>\n",
       "      <th>0</th>\n",
       "      <td>1</td>\n",
       "      <td>2019</td>\n",
       "      <td>10</td>\n",
       "      <td>1.4</td>\n",
       "      <td>717</td>\n",
       "      <td>723</td>\n",
       "    </tr>\n",
       "    <tr>\n",
       "      <th>1</th>\n",
       "      <td>2</td>\n",
       "      <td>2020</td>\n",
       "      <td>11</td>\n",
       "      <td>2.5</td>\n",
       "      <td>724</td>\n",
       "      <td>736</td>\n",
       "    </tr>\n",
       "    <tr>\n",
       "      <th>2</th>\n",
       "      <td>3</td>\n",
       "      <td>2021</td>\n",
       "      <td>12</td>\n",
       "      <td>3.6</td>\n",
       "      <td>737</td>\n",
       "      <td>747</td>\n",
       "    </tr>\n",
       "    <tr>\n",
       "      <th>3</th>\n",
       "      <td>4</td>\n",
       "      <td>2022</td>\n",
       "      <td>13</td>\n",
       "      <td>4.7</td>\n",
       "      <td>748</td>\n",
       "      <td>764</td>\n",
       "    </tr>\n",
       "    <tr>\n",
       "      <th>4</th>\n",
       "      <td>5</td>\n",
       "      <td>2023</td>\n",
       "      <td>14</td>\n",
       "      <td>5.8</td>\n",
       "      <td>765</td>\n",
       "      <td>784</td>\n",
       "    </tr>\n",
       "    <tr>\n",
       "      <th>5</th>\n",
       "      <td>6</td>\n",
       "      <td>2024</td>\n",
       "      <td>15</td>\n",
       "      <td>6.9</td>\n",
       "      <td>785</td>\n",
       "      <td>796</td>\n",
       "    </tr>\n",
       "    <tr>\n",
       "      <th>6</th>\n",
       "      <td>7</td>\n",
       "      <td>2025</td>\n",
       "      <td>16</td>\n",
       "      <td>8.0</td>\n",
       "      <td>797</td>\n",
       "      <td>819</td>\n",
       "    </tr>\n",
       "    <tr>\n",
       "      <th>7</th>\n",
       "      <td>8</td>\n",
       "      <td>2026</td>\n",
       "      <td>17</td>\n",
       "      <td>9.1</td>\n",
       "      <td>820</td>\n",
       "      <td>832</td>\n",
       "    </tr>\n",
       "    <tr>\n",
       "      <th>8</th>\n",
       "      <td>9</td>\n",
       "      <td>2027</td>\n",
       "      <td>18</td>\n",
       "      <td>10.2</td>\n",
       "      <td>833</td>\n",
       "      <td>852</td>\n",
       "    </tr>\n",
       "    <tr>\n",
       "      <th>9</th>\n",
       "      <td>10</td>\n",
       "      <td>2028</td>\n",
       "      <td>19</td>\n",
       "      <td>11.3</td>\n",
       "      <td>853</td>\n",
       "      <td>864</td>\n",
       "    </tr>\n",
       "  </tbody>\n",
       "</table>\n",
       "</div>"
      ],
      "text/plain": [
       "    N  year   A     B  start_page  end_page\n",
       "0   1  2019  10   1.4         717       723\n",
       "1   2  2020  11   2.5         724       736\n",
       "2   3  2021  12   3.6         737       747\n",
       "3   4  2022  13   4.7         748       764\n",
       "4   5  2023  14   5.8         765       784\n",
       "5   6  2024  15   6.9         785       796\n",
       "6   7  2025  16   8.0         797       819\n",
       "7   8  2026  17   9.1         820       832\n",
       "8   9  2027  18  10.2         833       852\n",
       "9  10  2028  19  11.3         853       864"
      ]
     },
     "execution_count": 13,
     "metadata": {},
     "output_type": "execute_result"
    }
   ],
   "source": [
    "# 옵션을 활용하면 원하는 특정데이터만 불러오기가 가능\n",
    "import pandas as pd\n",
    "excel = pd.read_excel('11차시_pandas모듈예시.xls','Sheet1')\n",
    "excel.head(10)"
   ]
  },
  {
   "cell_type": "code",
   "execution_count": 14,
   "id": "8fd8998a",
   "metadata": {},
   "outputs": [
    {
     "data": {
      "text/html": [
       "<div>\n",
       "<style scoped>\n",
       "    .dataframe tbody tr th:only-of-type {\n",
       "        vertical-align: middle;\n",
       "    }\n",
       "\n",
       "    .dataframe tbody tr th {\n",
       "        vertical-align: top;\n",
       "    }\n",
       "\n",
       "    .dataframe thead th {\n",
       "        text-align: right;\n",
       "    }\n",
       "</style>\n",
       "<table border=\"1\" class=\"dataframe\">\n",
       "  <thead>\n",
       "    <tr style=\"text-align: right;\">\n",
       "      <th></th>\n",
       "      <th>year</th>\n",
       "      <th>start_page</th>\n",
       "      <th>end_page</th>\n",
       "    </tr>\n",
       "  </thead>\n",
       "  <tbody>\n",
       "    <tr>\n",
       "      <th>0</th>\n",
       "      <td>2019</td>\n",
       "      <td>717</td>\n",
       "      <td>723</td>\n",
       "    </tr>\n",
       "    <tr>\n",
       "      <th>1</th>\n",
       "      <td>2020</td>\n",
       "      <td>724</td>\n",
       "      <td>736</td>\n",
       "    </tr>\n",
       "    <tr>\n",
       "      <th>2</th>\n",
       "      <td>2021</td>\n",
       "      <td>737</td>\n",
       "      <td>747</td>\n",
       "    </tr>\n",
       "    <tr>\n",
       "      <th>3</th>\n",
       "      <td>2022</td>\n",
       "      <td>748</td>\n",
       "      <td>764</td>\n",
       "    </tr>\n",
       "    <tr>\n",
       "      <th>4</th>\n",
       "      <td>2023</td>\n",
       "      <td>765</td>\n",
       "      <td>784</td>\n",
       "    </tr>\n",
       "    <tr>\n",
       "      <th>5</th>\n",
       "      <td>2024</td>\n",
       "      <td>785</td>\n",
       "      <td>796</td>\n",
       "    </tr>\n",
       "    <tr>\n",
       "      <th>6</th>\n",
       "      <td>2025</td>\n",
       "      <td>797</td>\n",
       "      <td>819</td>\n",
       "    </tr>\n",
       "    <tr>\n",
       "      <th>7</th>\n",
       "      <td>2026</td>\n",
       "      <td>820</td>\n",
       "      <td>832</td>\n",
       "    </tr>\n",
       "    <tr>\n",
       "      <th>8</th>\n",
       "      <td>2027</td>\n",
       "      <td>833</td>\n",
       "      <td>852</td>\n",
       "    </tr>\n",
       "    <tr>\n",
       "      <th>9</th>\n",
       "      <td>2028</td>\n",
       "      <td>853</td>\n",
       "      <td>864</td>\n",
       "    </tr>\n",
       "  </tbody>\n",
       "</table>\n",
       "</div>"
      ],
      "text/plain": [
       "   year  start_page  end_page\n",
       "0  2019         717       723\n",
       "1  2020         724       736\n",
       "2  2021         737       747\n",
       "3  2022         748       764\n",
       "4  2023         765       784\n",
       "5  2024         785       796\n",
       "6  2025         797       819\n",
       "7  2026         820       832\n",
       "8  2027         833       852\n",
       "9  2028         853       864"
      ]
     },
     "execution_count": 14,
     "metadata": {},
     "output_type": "execute_result"
    }
   ],
   "source": [
    "import pandas as pd\n",
    "excel = pd.read_excel('11차시_pandas모듈예시.xls','Sheet1',usecols='B,E,F')\n",
    "excel.head(10)"
   ]
  },
  {
   "cell_type": "code",
   "execution_count": 15,
   "id": "abb44e7b",
   "metadata": {},
   "outputs": [
    {
     "name": "stdout",
     "output_type": "stream",
     "text": [
      "year\n",
      "start_page\n",
      "end_page\n"
     ]
    }
   ],
   "source": [
    "# 반복문을 활용하면 excel내 데이터 다루기가 용이 -> 단순히 열이름이 출력\n",
    "for i in excel:\n",
    "    print(i)"
   ]
  },
  {
   "cell_type": "code",
   "execution_count": 16,
   "id": "ed6772c5",
   "metadata": {},
   "outputs": [
    {
     "name": "stdout",
     "output_type": "stream",
     "text": [
      "2019\n",
      "717\n",
      "723\n"
     ]
    }
   ],
   "source": [
    "# items()를 활용하면 특정행데이터 불러오기가 가능\n",
    "for i,j in excel.items():\n",
    "    print(j[0])"
   ]
  },
  {
   "cell_type": "code",
   "execution_count": 18,
   "id": "875d6a40",
   "metadata": {},
   "outputs": [
    {
     "name": "stdout",
     "output_type": "stream",
     "text": [
      "723\n",
      "736\n",
      "747\n",
      "764\n",
      "784\n",
      "796\n",
      "819\n",
      "832\n",
      "852\n",
      "864\n",
      "889\n",
      "903\n",
      "919\n",
      "930\n",
      "956\n",
      "966\n",
      "985\n",
      "1016\n",
      "1028\n"
     ]
    }
   ],
   "source": [
    "# iterrows()를 활용하면 특정 열 데이터를 불러오기가 가능\n",
    "for i,j in excel.iterrows():\n",
    "    print(j[2])"
   ]
  },
  {
   "cell_type": "code",
   "execution_count": 19,
   "id": "df7f7556",
   "metadata": {},
   "outputs": [
    {
     "name": "stdout",
     "output_type": "stream",
     "text": [
      "<class 'pandas.core.frame.DataFrame'>\n"
     ]
    },
    {
     "data": {
      "text/html": [
       "<div>\n",
       "<style scoped>\n",
       "    .dataframe tbody tr th:only-of-type {\n",
       "        vertical-align: middle;\n",
       "    }\n",
       "\n",
       "    .dataframe tbody tr th {\n",
       "        vertical-align: top;\n",
       "    }\n",
       "\n",
       "    .dataframe thead th {\n",
       "        text-align: right;\n",
       "    }\n",
       "</style>\n",
       "<table border=\"1\" class=\"dataframe\">\n",
       "  <thead>\n",
       "    <tr style=\"text-align: right;\">\n",
       "      <th></th>\n",
       "      <th>1</th>\n",
       "      <th>2</th>\n",
       "      <th>3</th>\n",
       "    </tr>\n",
       "  </thead>\n",
       "  <tbody>\n",
       "    <tr>\n",
       "      <th>0</th>\n",
       "      <td>4</td>\n",
       "      <td>5</td>\n",
       "      <td>6</td>\n",
       "    </tr>\n",
       "  </tbody>\n",
       "</table>\n",
       "</div>"
      ],
      "text/plain": [
       "   1  2  3\n",
       "0  4  5  6"
      ]
     },
     "execution_count": 19,
     "metadata": {},
     "output_type": "execute_result"
    }
   ],
   "source": [
    "# read_csv() 활용 : csv파일 불러오기\n",
    "import pandas as pd\n",
    "csv = pd.read_csv('write.csv')\n",
    "print(type(csv))\n",
    "csv.head(1)"
   ]
  },
  {
   "cell_type": "code",
   "execution_count": 20,
   "id": "27be3be9",
   "metadata": {},
   "outputs": [],
   "source": [
    "# json모듈 활용\n",
    "# 1. 인코딩 : 파이썬 데이터 -> json 데이터\n",
    "# 2. 디코딩 : json 데이터 -> 파이썬 데이터\n",
    "\n",
    "# 인코딩 : dumps()활용하여 파이썬 객체를 json 문자열로 변환\n",
    "import json"
   ]
  },
  {
   "cell_type": "code",
   "execution_count": 21,
   "id": "744d9ea5",
   "metadata": {},
   "outputs": [],
   "source": [
    "student = {\n",
    "    'id' : 20200101,\n",
    "    'name' : 'Hong',\n",
    "    'history' : [\n",
    "        {'subject':'math','grade':3.0},\n",
    "        {'subject':'english','grade':4.5},\n",
    "    ]\n",
    "}"
   ]
  },
  {
   "cell_type": "code",
   "execution_count": 22,
   "id": "592c4ab1",
   "metadata": {},
   "outputs": [],
   "source": [
    "Encoding_json = json.dumps(student)"
   ]
  },
  {
   "cell_type": "code",
   "execution_count": 23,
   "id": "a3b239cd",
   "metadata": {},
   "outputs": [
    {
     "name": "stdout",
     "output_type": "stream",
     "text": [
      "{\"id\": 20200101, \"name\": \"Hong\", \"history\": [{\"subject\": \"math\", \"grade\": 3.0}, {\"subject\": \"english\", \"grade\": 4.5}]}\n"
     ]
    }
   ],
   "source": [
    "print(Encoding_json)"
   ]
  },
  {
   "cell_type": "code",
   "execution_count": 24,
   "id": "dc37d69e",
   "metadata": {},
   "outputs": [
    {
     "name": "stdout",
     "output_type": "stream",
     "text": [
      "<class 'str'>\n"
     ]
    }
   ],
   "source": [
    "print(type(Encoding_json))"
   ]
  },
  {
   "cell_type": "code",
   "execution_count": 25,
   "id": "8c5fcf65",
   "metadata": {},
   "outputs": [
    {
     "name": "stdout",
     "output_type": "stream",
     "text": [
      "{'id': 20200101, 'name': 'Hong', 'history': [{'subject': 'math', 'grade': 3.0}, {'subject': 'english', 'grade': 4.5}]}\n",
      "<class 'dict'>\n"
     ]
    }
   ],
   "source": [
    "# 디코드:loads()활용->json객체를 파이선 객체로 변환\n",
    "import json\n",
    "json_data=\"\"\"{\"id\": 20200101, \"name\": \"Hong\", \"history\": [{\"subject\": \"math\", \"grade\": 3.0}, {\"subject\": \"english\", \"grade\": 4.5}]}\"\"\"\n",
    "\n",
    "Decoding_data = json.loads(json_data)\n",
    "print(Decoding_data)\n",
    "print(type(Decoding_data))"
   ]
  },
  {
   "cell_type": "code",
   "execution_count": 27,
   "id": "a8037134",
   "metadata": {},
   "outputs": [
    {
     "name": "stdout",
     "output_type": "stream",
     "text": [
      "<class 'int'>\n",
      "<class 'str'>\n",
      "<class 'list'>\n",
      "<class 'dict'>\n"
     ]
    }
   ],
   "source": [
    "# 각각 파이선 자료형으로 변환되어 저장\n",
    "print(type(Decoding_data['id']))\n",
    "print(type(Decoding_data['name']))\n",
    "print(type(Decoding_data['history']))\n",
    "print(type(Decoding_data['history'][0]))"
   ]
  },
  {
   "cell_type": "code",
   "execution_count": 28,
   "id": "255fd93c",
   "metadata": {},
   "outputs": [],
   "source": [
    "# 외부데이터 다루기(api(aplication programming interface),rss)\n",
    "# api는 운영체제,프로그래밍언어를 이용하여 응용 프로그램을 제어하는 것\n",
    "# 전국여행지도를 보여주는 애플리케이션을 개발해야 한다면,\n",
    "# 여행을 위한 데이터를 수집하여,여행지별 날씨와 위치를 파악\n",
    "\n",
    "# api는 json형식으로 되어 있으며, 인증단계를 거친 사용자만 api활용이 가능"
   ]
  },
  {
   "cell_type": "code",
   "execution_count": 29,
   "id": "a616de80",
   "metadata": {},
   "outputs": [],
   "source": [
    "# rss(rich site summary, really simple syndication)\n",
    "# 웹사이트 콘텐츠 표현 방식이나, 원하는 데이터를 가져올 때 활용"
   ]
  },
  {
   "cell_type": "code",
   "execution_count": null,
   "id": "336a30e4",
   "metadata": {},
   "outputs": [],
   "source": []
  }
 ],
 "metadata": {
  "kernelspec": {
   "display_name": "Python 3 (ipykernel)",
   "language": "python",
   "name": "python3"
  },
  "language_info": {
   "codemirror_mode": {
    "name": "ipython",
    "version": 3
   },
   "file_extension": ".py",
   "mimetype": "text/x-python",
   "name": "python",
   "nbconvert_exporter": "python",
   "pygments_lexer": "ipython3",
   "version": "3.7.16"
  }
 },
 "nbformat": 4,
 "nbformat_minor": 5
}
