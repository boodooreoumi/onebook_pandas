{
 "cells": [
  {
   "cell_type": "markdown",
   "id": "fea0d210",
   "metadata": {},
   "source": [
    "- 데이터변환 및 재구성방법\n",
    "- penguins 데이터를 활용해 데이터변환 및 재구성"
   ]
  },
  {
   "cell_type": "markdown",
   "id": "f7f2e30d",
   "metadata": {},
   "source": [
    "- 학습내용\n",
    "- 1. 범주형 데이터처리\n",
    "- 2. 열재구성\n",
    "- 3. 필터링"
   ]
  },
  {
   "cell_type": "code",
   "execution_count": 1,
   "id": "50cbc72e",
   "metadata": {},
   "outputs": [
    {
     "name": "stdout",
     "output_type": "stream",
     "text": [
      "<class 'pandas.core.frame.DataFrame'>\n",
      "RangeIndex: 398 entries, 0 to 397\n",
      "Data columns (total 9 columns):\n",
      " #   Column        Non-Null Count  Dtype  \n",
      "---  ------        --------------  -----  \n",
      " 0   mpg           398 non-null    float64\n",
      " 1   cylinders     398 non-null    int64  \n",
      " 2   displacement  398 non-null    float64\n",
      " 3   horsepower    392 non-null    float64\n",
      " 4   weight        398 non-null    int64  \n",
      " 5   acceleration  398 non-null    float64\n",
      " 6   model_year    398 non-null    int64  \n",
      " 7   origin        398 non-null    object \n",
      " 8   name          398 non-null    object \n",
      "dtypes: float64(4), int64(3), object(2)\n",
      "memory usage: 28.1+ KB\n"
     ]
    }
   ],
   "source": [
    "# 범주형데이터처리\n",
    "# 구간분할(binding) : cut()함수를 이용하여, 경곗값을 지정해 구간분할\n",
    "import seaborn as sns\n",
    "df = sns.load_dataset('mpg')\n",
    "df.info()"
   ]
  },
  {
   "cell_type": "code",
   "execution_count": 2,
   "id": "2c05b2ee",
   "metadata": {},
   "outputs": [
    {
     "name": "stdout",
     "output_type": "stream",
     "text": [
      "0      130.0\n",
      "1      165.0\n",
      "2      150.0\n",
      "3      150.0\n",
      "4      140.0\n",
      "       ...  \n",
      "393     86.0\n",
      "394     52.0\n",
      "395     84.0\n",
      "396     79.0\n",
      "397     82.0\n",
      "Name: horsepower, Length: 398, dtype: float64\n"
     ]
    }
   ],
   "source": [
    "print(df['horsepower']) # 연속형데이터인 horsepower를 구간분할 할 예정"
   ]
  },
  {
   "cell_type": "code",
   "execution_count": 3,
   "id": "9394b85a",
   "metadata": {},
   "outputs": [
    {
     "name": "stdout",
     "output_type": "stream",
     "text": [
      "0      보통출력\n",
      "1      보통출력\n",
      "2      보통출력\n",
      "3      보통출력\n",
      "4      보통출력\n",
      "       ... \n",
      "393     저출력\n",
      "394     저출력\n",
      "395     저출력\n",
      "396     저출력\n",
      "397     저출력\n",
      "Name: hp_bin, Length: 398, dtype: category\n",
      "Categories (3, object): ['저출력' < '보통출력' < '고출력']\n"
     ]
    }
   ],
   "source": [
    "import pandas as pd\n",
    "df['hp_bin']=pd.cut(df['horsepower'],\n",
    "                   bins=[46,105,165,230],\n",
    "                   labels=['저출력','보통출력','고출력'],\n",
    "                   include_lowest=True)\n",
    "print(df['hp_bin'])"
   ]
  },
  {
   "cell_type": "code",
   "execution_count": 4,
   "id": "f1829593",
   "metadata": {},
   "outputs": [
    {
     "name": "stdout",
     "output_type": "stream",
     "text": [
      "<class 'pandas.core.frame.DataFrame'>\n",
      "RangeIndex: 398 entries, 0 to 397\n",
      "Data columns (total 9 columns):\n",
      " #   Column        Non-Null Count  Dtype  \n",
      "---  ------        --------------  -----  \n",
      " 0   mpg           398 non-null    float64\n",
      " 1   cylinders     398 non-null    int64  \n",
      " 2   displacement  398 non-null    float64\n",
      " 3   horsepower    392 non-null    float64\n",
      " 4   weight        398 non-null    int64  \n",
      " 5   acceleration  398 non-null    float64\n",
      " 6   model_year    398 non-null    int64  \n",
      " 7   origin        398 non-null    object \n",
      " 8   name          398 non-null    object \n",
      "dtypes: float64(4), int64(3), object(2)\n",
      "memory usage: 28.1+ KB\n"
     ]
    }
   ],
   "source": [
    "# histogram() : 구간수를 지정하여 구간 경곗값 확인\n",
    "# 히스토그램 함수는 누락데이터가 존재하지 않을 때만 사용이 가능하다는 점 유의\n",
    "import seaborn as sns\n",
    "df = sns.load_dataset('mpg')\n",
    "df.info()"
   ]
  },
  {
   "cell_type": "code",
   "execution_count": 5,
   "id": "80fbb241",
   "metadata": {},
   "outputs": [
    {
     "name": "stdout",
     "output_type": "stream",
     "text": [
      "<class 'pandas.core.frame.DataFrame'>\n",
      "Int64Index: 392 entries, 0 to 397\n",
      "Data columns (total 9 columns):\n",
      " #   Column        Non-Null Count  Dtype  \n",
      "---  ------        --------------  -----  \n",
      " 0   mpg           392 non-null    float64\n",
      " 1   cylinders     392 non-null    int64  \n",
      " 2   displacement  392 non-null    float64\n",
      " 3   horsepower    392 non-null    float64\n",
      " 4   weight        392 non-null    int64  \n",
      " 5   acceleration  392 non-null    float64\n",
      " 6   model_year    392 non-null    int64  \n",
      " 7   origin        392 non-null    object \n",
      " 8   name          392 non-null    object \n",
      "dtypes: float64(4), int64(3), object(2)\n",
      "memory usage: 30.6+ KB\n"
     ]
    }
   ],
   "source": [
    "df.dropna(subset=['horsepower'], axis=0, inplace=True)\n",
    "df.info()"
   ]
  },
  {
   "cell_type": "code",
   "execution_count": 6,
   "id": "04880002",
   "metadata": {},
   "outputs": [
    {
     "data": {
      "text/plain": [
       "(array([257, 103,  32], dtype=int64),\n",
       " array([ 46.        , 107.33333333, 168.66666667, 230.        ]))"
      ]
     },
     "execution_count": 6,
     "metadata": {},
     "output_type": "execute_result"
    }
   ],
   "source": [
    "import numpy as np\n",
    "np.histogram(df['horsepower'], bins=3)"
   ]
  },
  {
   "cell_type": "code",
   "execution_count": 7,
   "id": "cc0896a0",
   "metadata": {},
   "outputs": [
    {
     "name": "stdout",
     "output_type": "stream",
     "text": [
      "[ 46.         107.33333333 168.66666667 230.        ]\n"
     ]
    }
   ],
   "source": [
    "count, bin_dividers = np.histogram(df['horsepower'], bins=3)\n",
    "print(bin_dividers)"
   ]
  },
  {
   "cell_type": "code",
   "execution_count": 8,
   "id": "b869ad44",
   "metadata": {},
   "outputs": [
    {
     "name": "stdout",
     "output_type": "stream",
     "text": [
      "0      보통출력\n",
      "1      보통출력\n",
      "2      보통출력\n",
      "3      보통출력\n",
      "4      보통출력\n",
      "       ... \n",
      "393     저출력\n",
      "394     저출력\n",
      "395     저출력\n",
      "396     저출력\n",
      "397     저출력\n",
      "Name: hp_bin, Length: 392, dtype: category\n",
      "Categories (3, object): ['저출력' < '보통출력' < '고출력']\n"
     ]
    }
   ],
   "source": [
    "df['hp_bin'] = pd.cut(df['horsepower'],\n",
    "                      bins=bin_dividers,\n",
    "                      labels=['저출력','보통출력','고출력'],\n",
    "                      include_lowest=True)\n",
    "print(df['hp_bin'])"
   ]
  },
  {
   "cell_type": "code",
   "execution_count": 9,
   "id": "2f36e663",
   "metadata": {},
   "outputs": [],
   "source": [
    "# 범주형변수의 더미변수 변환 : 해당특성이 존재하면 1, 아니면 0으로 표현\n",
    "# one-hot encoding 방법\n",
    "# 축소 랭크 방법 : refrence coding"
   ]
  },
  {
   "cell_type": "code",
   "execution_count": 10,
   "id": "8311e4f4",
   "metadata": {},
   "outputs": [],
   "source": [
    "# get_dummies() : 범주형범주를 더미변수로 변환\n",
    "horsepower_dummies = pd.get_dummies(df['hp_bin'])"
   ]
  },
  {
   "cell_type": "code",
   "execution_count": 11,
   "id": "c6ac6135",
   "metadata": {},
   "outputs": [
    {
     "name": "stdout",
     "output_type": "stream",
     "text": [
      "     저출력  보통출력  고출력\n",
      "0      0     1    0\n",
      "1      0     1    0\n",
      "2      0     1    0\n",
      "3      0     1    0\n",
      "4      0     1    0\n",
      "..   ...   ...  ...\n",
      "393    1     0    0\n",
      "394    1     0    0\n",
      "395    1     0    0\n",
      "396    1     0    0\n",
      "397    1     0    0\n",
      "\n",
      "[392 rows x 3 columns]\n"
     ]
    }
   ],
   "source": [
    "print(horsepower_dummies)"
   ]
  },
  {
   "cell_type": "code",
   "execution_count": 12,
   "id": "fe83d43b",
   "metadata": {},
   "outputs": [
    {
     "name": "stdout",
     "output_type": "stream",
     "text": [
      "     보통출력  고출력\n",
      "0       1    0\n",
      "1       1    0\n",
      "2       1    0\n",
      "3       1    0\n",
      "4       1    0\n",
      "..    ...  ...\n",
      "393     0    0\n",
      "394     0    0\n",
      "395     0    0\n",
      "396     0    0\n",
      "397     0    0\n",
      "\n",
      "[392 rows x 2 columns]\n"
     ]
    }
   ],
   "source": [
    "# 축소랭크 방식으로 더미변수 생성\n",
    "horsepower_dummies1 = pd.get_dummies(df['hp_bin'], drop_first=True)\n",
    "print(horsepower_dummies1)\n",
    "# 저출력을 기준값으로 2개로 축소됨"
   ]
  },
  {
   "cell_type": "code",
   "execution_count": 13,
   "id": "75372bdd",
   "metadata": {},
   "outputs": [
    {
     "data": {
      "text/plain": [
       "Index(['mpg', 'cylinders', 'displacement', 'horsepower', 'weight',\n",
       "       'acceleration', 'model_year', 'origin', 'name'],\n",
       "      dtype='object')"
      ]
     },
     "execution_count": 13,
     "metadata": {},
     "output_type": "execute_result"
    }
   ],
   "source": [
    "# 열 재구성\n",
    "import seaborn as sns\n",
    "df = sns.load_dataset('mpg')\n",
    "df.columns"
   ]
  },
  {
   "cell_type": "code",
   "execution_count": 14,
   "id": "4fbaff96",
   "metadata": {},
   "outputs": [
    {
     "name": "stdout",
     "output_type": "stream",
     "text": [
      "      mpg                       name  horsepower  cylinders  model_year\n",
      "0    18.0  chevrolet chevelle malibu       130.0          8          70\n",
      "1    15.0          buick skylark 320       165.0          8          70\n",
      "2    18.0         plymouth satellite       150.0          8          70\n",
      "3    16.0              amc rebel sst       150.0          8          70\n",
      "4    17.0                ford torino       140.0          8          70\n",
      "..    ...                        ...         ...        ...         ...\n",
      "393  27.0            ford mustang gl        86.0          4          82\n",
      "394  44.0                  vw pickup        52.0          4          82\n",
      "395  32.0              dodge rampage        84.0          4          82\n",
      "396  28.0                ford ranger        79.0          4          82\n",
      "397  31.0                 chevy s-10        82.0          4          82\n",
      "\n",
      "[398 rows x 5 columns]\n"
     ]
    }
   ],
   "source": [
    "# 열순서 바꾸기\n",
    "df1 = df[['mpg','name','horsepower','cylinders','model_year']]\n",
    "print(df1)"
   ]
  },
  {
   "cell_type": "code",
   "execution_count": 15,
   "id": "eb063813",
   "metadata": {},
   "outputs": [
    {
     "data": {
      "text/html": [
       "<div>\n",
       "<style scoped>\n",
       "    .dataframe tbody tr th:only-of-type {\n",
       "        vertical-align: middle;\n",
       "    }\n",
       "\n",
       "    .dataframe tbody tr th {\n",
       "        vertical-align: top;\n",
       "    }\n",
       "\n",
       "    .dataframe thead th {\n",
       "        text-align: right;\n",
       "    }\n",
       "</style>\n",
       "<table border=\"1\" class=\"dataframe\">\n",
       "  <thead>\n",
       "    <tr style=\"text-align: right;\">\n",
       "      <th></th>\n",
       "      <th>acceleration</th>\n",
       "      <th>cylinders</th>\n",
       "      <th>displacement</th>\n",
       "      <th>horsepower</th>\n",
       "      <th>model_year</th>\n",
       "      <th>mpg</th>\n",
       "      <th>name</th>\n",
       "      <th>origin</th>\n",
       "      <th>weight</th>\n",
       "    </tr>\n",
       "  </thead>\n",
       "  <tbody>\n",
       "    <tr>\n",
       "      <th>0</th>\n",
       "      <td>12.0</td>\n",
       "      <td>8</td>\n",
       "      <td>307.0</td>\n",
       "      <td>130.0</td>\n",
       "      <td>70</td>\n",
       "      <td>18.0</td>\n",
       "      <td>chevrolet chevelle malibu</td>\n",
       "      <td>usa</td>\n",
       "      <td>3504</td>\n",
       "    </tr>\n",
       "    <tr>\n",
       "      <th>1</th>\n",
       "      <td>11.5</td>\n",
       "      <td>8</td>\n",
       "      <td>350.0</td>\n",
       "      <td>165.0</td>\n",
       "      <td>70</td>\n",
       "      <td>15.0</td>\n",
       "      <td>buick skylark 320</td>\n",
       "      <td>usa</td>\n",
       "      <td>3693</td>\n",
       "    </tr>\n",
       "    <tr>\n",
       "      <th>2</th>\n",
       "      <td>11.0</td>\n",
       "      <td>8</td>\n",
       "      <td>318.0</td>\n",
       "      <td>150.0</td>\n",
       "      <td>70</td>\n",
       "      <td>18.0</td>\n",
       "      <td>plymouth satellite</td>\n",
       "      <td>usa</td>\n",
       "      <td>3436</td>\n",
       "    </tr>\n",
       "    <tr>\n",
       "      <th>3</th>\n",
       "      <td>12.0</td>\n",
       "      <td>8</td>\n",
       "      <td>304.0</td>\n",
       "      <td>150.0</td>\n",
       "      <td>70</td>\n",
       "      <td>16.0</td>\n",
       "      <td>amc rebel sst</td>\n",
       "      <td>usa</td>\n",
       "      <td>3433</td>\n",
       "    </tr>\n",
       "    <tr>\n",
       "      <th>4</th>\n",
       "      <td>10.5</td>\n",
       "      <td>8</td>\n",
       "      <td>302.0</td>\n",
       "      <td>140.0</td>\n",
       "      <td>70</td>\n",
       "      <td>17.0</td>\n",
       "      <td>ford torino</td>\n",
       "      <td>usa</td>\n",
       "      <td>3449</td>\n",
       "    </tr>\n",
       "    <tr>\n",
       "      <th>...</th>\n",
       "      <td>...</td>\n",
       "      <td>...</td>\n",
       "      <td>...</td>\n",
       "      <td>...</td>\n",
       "      <td>...</td>\n",
       "      <td>...</td>\n",
       "      <td>...</td>\n",
       "      <td>...</td>\n",
       "      <td>...</td>\n",
       "    </tr>\n",
       "    <tr>\n",
       "      <th>393</th>\n",
       "      <td>15.6</td>\n",
       "      <td>4</td>\n",
       "      <td>140.0</td>\n",
       "      <td>86.0</td>\n",
       "      <td>82</td>\n",
       "      <td>27.0</td>\n",
       "      <td>ford mustang gl</td>\n",
       "      <td>usa</td>\n",
       "      <td>2790</td>\n",
       "    </tr>\n",
       "    <tr>\n",
       "      <th>394</th>\n",
       "      <td>24.6</td>\n",
       "      <td>4</td>\n",
       "      <td>97.0</td>\n",
       "      <td>52.0</td>\n",
       "      <td>82</td>\n",
       "      <td>44.0</td>\n",
       "      <td>vw pickup</td>\n",
       "      <td>europe</td>\n",
       "      <td>2130</td>\n",
       "    </tr>\n",
       "    <tr>\n",
       "      <th>395</th>\n",
       "      <td>11.6</td>\n",
       "      <td>4</td>\n",
       "      <td>135.0</td>\n",
       "      <td>84.0</td>\n",
       "      <td>82</td>\n",
       "      <td>32.0</td>\n",
       "      <td>dodge rampage</td>\n",
       "      <td>usa</td>\n",
       "      <td>2295</td>\n",
       "    </tr>\n",
       "    <tr>\n",
       "      <th>396</th>\n",
       "      <td>18.6</td>\n",
       "      <td>4</td>\n",
       "      <td>120.0</td>\n",
       "      <td>79.0</td>\n",
       "      <td>82</td>\n",
       "      <td>28.0</td>\n",
       "      <td>ford ranger</td>\n",
       "      <td>usa</td>\n",
       "      <td>2625</td>\n",
       "    </tr>\n",
       "    <tr>\n",
       "      <th>397</th>\n",
       "      <td>19.4</td>\n",
       "      <td>4</td>\n",
       "      <td>119.0</td>\n",
       "      <td>82.0</td>\n",
       "      <td>82</td>\n",
       "      <td>31.0</td>\n",
       "      <td>chevy s-10</td>\n",
       "      <td>usa</td>\n",
       "      <td>2720</td>\n",
       "    </tr>\n",
       "  </tbody>\n",
       "</table>\n",
       "<p>398 rows × 9 columns</p>\n",
       "</div>"
      ],
      "text/plain": [
       "     acceleration  cylinders  displacement  horsepower  model_year   mpg  \\\n",
       "0            12.0          8         307.0       130.0          70  18.0   \n",
       "1            11.5          8         350.0       165.0          70  15.0   \n",
       "2            11.0          8         318.0       150.0          70  18.0   \n",
       "3            12.0          8         304.0       150.0          70  16.0   \n",
       "4            10.5          8         302.0       140.0          70  17.0   \n",
       "..            ...        ...           ...         ...         ...   ...   \n",
       "393          15.6          4         140.0        86.0          82  27.0   \n",
       "394          24.6          4          97.0        52.0          82  44.0   \n",
       "395          11.6          4         135.0        84.0          82  32.0   \n",
       "396          18.6          4         120.0        79.0          82  28.0   \n",
       "397          19.4          4         119.0        82.0          82  31.0   \n",
       "\n",
       "                          name  origin  weight  \n",
       "0    chevrolet chevelle malibu     usa    3504  \n",
       "1            buick skylark 320     usa    3693  \n",
       "2           plymouth satellite     usa    3436  \n",
       "3                amc rebel sst     usa    3433  \n",
       "4                  ford torino     usa    3449  \n",
       "..                         ...     ...     ...  \n",
       "393            ford mustang gl     usa    2790  \n",
       "394                  vw pickup  europe    2130  \n",
       "395              dodge rampage     usa    2295  \n",
       "396                ford ranger     usa    2625  \n",
       "397                 chevy s-10     usa    2720  \n",
       "\n",
       "[398 rows x 9 columns]"
      ]
     },
     "execution_count": 15,
     "metadata": {},
     "output_type": "execute_result"
    }
   ],
   "source": [
    "# 열순서 정렬\n",
    "# reverse=False(오름차순정렬), True(내림차순정렬)\n",
    "import seaborn as sns\n",
    "df = sns.load_dataset('mpg')\n",
    "list(df.columns)\n",
    "list1 = sorted(list(df.columns))\n",
    "df[list1]"
   ]
  },
  {
   "cell_type": "code",
   "execution_count": 16,
   "id": "d664a004",
   "metadata": {},
   "outputs": [
    {
     "data": {
      "text/html": [
       "<div>\n",
       "<style scoped>\n",
       "    .dataframe tbody tr th:only-of-type {\n",
       "        vertical-align: middle;\n",
       "    }\n",
       "\n",
       "    .dataframe tbody tr th {\n",
       "        vertical-align: top;\n",
       "    }\n",
       "\n",
       "    .dataframe thead th {\n",
       "        text-align: right;\n",
       "    }\n",
       "</style>\n",
       "<table border=\"1\" class=\"dataframe\">\n",
       "  <thead>\n",
       "    <tr style=\"text-align: right;\">\n",
       "      <th></th>\n",
       "      <th>weight</th>\n",
       "      <th>origin</th>\n",
       "      <th>name</th>\n",
       "      <th>mpg</th>\n",
       "      <th>model_year</th>\n",
       "      <th>horsepower</th>\n",
       "      <th>displacement</th>\n",
       "      <th>cylinders</th>\n",
       "      <th>acceleration</th>\n",
       "    </tr>\n",
       "  </thead>\n",
       "  <tbody>\n",
       "    <tr>\n",
       "      <th>0</th>\n",
       "      <td>3504</td>\n",
       "      <td>usa</td>\n",
       "      <td>chevrolet chevelle malibu</td>\n",
       "      <td>18.0</td>\n",
       "      <td>70</td>\n",
       "      <td>130.0</td>\n",
       "      <td>307.0</td>\n",
       "      <td>8</td>\n",
       "      <td>12.0</td>\n",
       "    </tr>\n",
       "    <tr>\n",
       "      <th>1</th>\n",
       "      <td>3693</td>\n",
       "      <td>usa</td>\n",
       "      <td>buick skylark 320</td>\n",
       "      <td>15.0</td>\n",
       "      <td>70</td>\n",
       "      <td>165.0</td>\n",
       "      <td>350.0</td>\n",
       "      <td>8</td>\n",
       "      <td>11.5</td>\n",
       "    </tr>\n",
       "    <tr>\n",
       "      <th>2</th>\n",
       "      <td>3436</td>\n",
       "      <td>usa</td>\n",
       "      <td>plymouth satellite</td>\n",
       "      <td>18.0</td>\n",
       "      <td>70</td>\n",
       "      <td>150.0</td>\n",
       "      <td>318.0</td>\n",
       "      <td>8</td>\n",
       "      <td>11.0</td>\n",
       "    </tr>\n",
       "    <tr>\n",
       "      <th>3</th>\n",
       "      <td>3433</td>\n",
       "      <td>usa</td>\n",
       "      <td>amc rebel sst</td>\n",
       "      <td>16.0</td>\n",
       "      <td>70</td>\n",
       "      <td>150.0</td>\n",
       "      <td>304.0</td>\n",
       "      <td>8</td>\n",
       "      <td>12.0</td>\n",
       "    </tr>\n",
       "    <tr>\n",
       "      <th>4</th>\n",
       "      <td>3449</td>\n",
       "      <td>usa</td>\n",
       "      <td>ford torino</td>\n",
       "      <td>17.0</td>\n",
       "      <td>70</td>\n",
       "      <td>140.0</td>\n",
       "      <td>302.0</td>\n",
       "      <td>8</td>\n",
       "      <td>10.5</td>\n",
       "    </tr>\n",
       "    <tr>\n",
       "      <th>...</th>\n",
       "      <td>...</td>\n",
       "      <td>...</td>\n",
       "      <td>...</td>\n",
       "      <td>...</td>\n",
       "      <td>...</td>\n",
       "      <td>...</td>\n",
       "      <td>...</td>\n",
       "      <td>...</td>\n",
       "      <td>...</td>\n",
       "    </tr>\n",
       "    <tr>\n",
       "      <th>393</th>\n",
       "      <td>2790</td>\n",
       "      <td>usa</td>\n",
       "      <td>ford mustang gl</td>\n",
       "      <td>27.0</td>\n",
       "      <td>82</td>\n",
       "      <td>86.0</td>\n",
       "      <td>140.0</td>\n",
       "      <td>4</td>\n",
       "      <td>15.6</td>\n",
       "    </tr>\n",
       "    <tr>\n",
       "      <th>394</th>\n",
       "      <td>2130</td>\n",
       "      <td>europe</td>\n",
       "      <td>vw pickup</td>\n",
       "      <td>44.0</td>\n",
       "      <td>82</td>\n",
       "      <td>52.0</td>\n",
       "      <td>97.0</td>\n",
       "      <td>4</td>\n",
       "      <td>24.6</td>\n",
       "    </tr>\n",
       "    <tr>\n",
       "      <th>395</th>\n",
       "      <td>2295</td>\n",
       "      <td>usa</td>\n",
       "      <td>dodge rampage</td>\n",
       "      <td>32.0</td>\n",
       "      <td>82</td>\n",
       "      <td>84.0</td>\n",
       "      <td>135.0</td>\n",
       "      <td>4</td>\n",
       "      <td>11.6</td>\n",
       "    </tr>\n",
       "    <tr>\n",
       "      <th>396</th>\n",
       "      <td>2625</td>\n",
       "      <td>usa</td>\n",
       "      <td>ford ranger</td>\n",
       "      <td>28.0</td>\n",
       "      <td>82</td>\n",
       "      <td>79.0</td>\n",
       "      <td>120.0</td>\n",
       "      <td>4</td>\n",
       "      <td>18.6</td>\n",
       "    </tr>\n",
       "    <tr>\n",
       "      <th>397</th>\n",
       "      <td>2720</td>\n",
       "      <td>usa</td>\n",
       "      <td>chevy s-10</td>\n",
       "      <td>31.0</td>\n",
       "      <td>82</td>\n",
       "      <td>82.0</td>\n",
       "      <td>119.0</td>\n",
       "      <td>4</td>\n",
       "      <td>19.4</td>\n",
       "    </tr>\n",
       "  </tbody>\n",
       "</table>\n",
       "<p>398 rows × 9 columns</p>\n",
       "</div>"
      ],
      "text/plain": [
       "     weight  origin                       name   mpg  model_year  horsepower  \\\n",
       "0      3504     usa  chevrolet chevelle malibu  18.0          70       130.0   \n",
       "1      3693     usa          buick skylark 320  15.0          70       165.0   \n",
       "2      3436     usa         plymouth satellite  18.0          70       150.0   \n",
       "3      3433     usa              amc rebel sst  16.0          70       150.0   \n",
       "4      3449     usa                ford torino  17.0          70       140.0   \n",
       "..      ...     ...                        ...   ...         ...         ...   \n",
       "393    2790     usa            ford mustang gl  27.0          82        86.0   \n",
       "394    2130  europe                  vw pickup  44.0          82        52.0   \n",
       "395    2295     usa              dodge rampage  32.0          82        84.0   \n",
       "396    2625     usa                ford ranger  28.0          82        79.0   \n",
       "397    2720     usa                 chevy s-10  31.0          82        82.0   \n",
       "\n",
       "     displacement  cylinders  acceleration  \n",
       "0           307.0          8          12.0  \n",
       "1           350.0          8          11.5  \n",
       "2           318.0          8          11.0  \n",
       "3           304.0          8          12.0  \n",
       "4           302.0          8          10.5  \n",
       "..            ...        ...           ...  \n",
       "393         140.0          4          15.6  \n",
       "394          97.0          4          24.6  \n",
       "395         135.0          4          11.6  \n",
       "396         120.0          4          18.6  \n",
       "397         119.0          4          19.4  \n",
       "\n",
       "[398 rows x 9 columns]"
      ]
     },
     "execution_count": 16,
     "metadata": {},
     "output_type": "execute_result"
    }
   ],
   "source": [
    "import seaborn as sns\n",
    "df = sns.load_dataset('mpg')\n",
    "list(df.columns)\n",
    "list2 = sorted(list(df.columns), reverse=True)\n",
    "df[list2]"
   ]
  },
  {
   "cell_type": "code",
   "execution_count": 17,
   "id": "48731767",
   "metadata": {},
   "outputs": [
    {
     "name": "stdout",
     "output_type": "stream",
     "text": [
      "          연월일     시가     고가     저가\n",
      "0  2021-08-01  10850  10900  10000\n",
      "1  2021-08-02  10550  10900   9990\n",
      "2  2021-08-03  10900  10950  10150\n",
      "3  2021-08-04  10800  11050  10500\n",
      "4  2021-08-05  10900  11000  10700\n",
      "5  2021-08-06  11400  11450  11000\n",
      "6  2021-08-07  11250  11450  10750\n",
      "7  2021-08-08  11350  11750  11200\n",
      "8  2021-08-09  11200  11600  10900\n",
      "9  2021-08-10  11850  11950  11300\n",
      "10 2021-08-11  13400  13400  12000\n",
      "11 2021-08-12  13600  13600  12900\n",
      "12 2021-08-13  13200  13700  13150\n"
     ]
    }
   ],
   "source": [
    "# 열분리 : 하나의 열에 들어있는 데이터를 분리하여 개별 변수로 저장\n",
    "import pandas as pd\n",
    "df = pd.read_excel('주가데이터.xlsx')\n",
    "print(df)"
   ]
  },
  {
   "cell_type": "code",
   "execution_count": 18,
   "id": "454a3408",
   "metadata": {},
   "outputs": [
    {
     "name": "stdout",
     "output_type": "stream",
     "text": [
      "<class 'pandas.core.frame.DataFrame'>\n",
      "RangeIndex: 13 entries, 0 to 12\n",
      "Data columns (total 4 columns):\n",
      " #   Column  Non-Null Count  Dtype         \n",
      "---  ------  --------------  -----         \n",
      " 0   연월일     13 non-null     datetime64[ns]\n",
      " 1   시가      13 non-null     int64         \n",
      " 2   고가      13 non-null     int64         \n",
      " 3   저가      13 non-null     int64         \n",
      "dtypes: datetime64[ns](1), int64(3)\n",
      "memory usage: 544.0 bytes\n"
     ]
    }
   ],
   "source": [
    "df.info()"
   ]
  },
  {
   "cell_type": "code",
   "execution_count": 19,
   "id": "ba413e6b",
   "metadata": {},
   "outputs": [
    {
     "data": {
      "text/plain": [
       "0     2021-08-01\n",
       "1     2021-08-02\n",
       "2     2021-08-03\n",
       "3     2021-08-04\n",
       "4     2021-08-05\n",
       "5     2021-08-06\n",
       "6     2021-08-07\n",
       "7     2021-08-08\n",
       "8     2021-08-09\n",
       "9     2021-08-10\n",
       "10    2021-08-11\n",
       "11    2021-08-12\n",
       "12    2021-08-13\n",
       "Name: 연월일, dtype: object"
      ]
     },
     "execution_count": 19,
     "metadata": {},
     "output_type": "execute_result"
    }
   ],
   "source": [
    "df['연월일'].astype('str')"
   ]
  },
  {
   "cell_type": "code",
   "execution_count": 20,
   "id": "c3e9ef53",
   "metadata": {},
   "outputs": [
    {
     "data": {
      "text/plain": [
       "0     [2021, 08, 01]\n",
       "1     [2021, 08, 02]\n",
       "2     [2021, 08, 03]\n",
       "3     [2021, 08, 04]\n",
       "4     [2021, 08, 05]\n",
       "5     [2021, 08, 06]\n",
       "6     [2021, 08, 07]\n",
       "7     [2021, 08, 08]\n",
       "8     [2021, 08, 09]\n",
       "9     [2021, 08, 10]\n",
       "10    [2021, 08, 11]\n",
       "11    [2021, 08, 12]\n",
       "12    [2021, 08, 13]\n",
       "Name: 연월일, dtype: object"
      ]
     },
     "execution_count": 20,
     "metadata": {},
     "output_type": "execute_result"
    }
   ],
   "source": [
    "df['연월일'].astype('str').str.split('-')"
   ]
  },
  {
   "cell_type": "code",
   "execution_count": 21,
   "id": "b4defdbd",
   "metadata": {},
   "outputs": [],
   "source": [
    "df['연']=df['연월일'].astype('str').str.split('-').str.get(0)\n",
    "df['월']=df['연월일'].astype('str').str.split('-').str.get(1)\n",
    "df['일']=df['연월일'].astype('str').str.split('-').str.get(2)"
   ]
  },
  {
   "cell_type": "code",
   "execution_count": 22,
   "id": "ffa522f7",
   "metadata": {},
   "outputs": [
    {
     "name": "stdout",
     "output_type": "stream",
     "text": [
      "          연월일     시가     고가     저가     연   월   일\n",
      "0  2021-08-01  10850  10900  10000  2021  08  01\n",
      "1  2021-08-02  10550  10900   9990  2021  08  02\n",
      "2  2021-08-03  10900  10950  10150  2021  08  03\n",
      "3  2021-08-04  10800  11050  10500  2021  08  04\n",
      "4  2021-08-05  10900  11000  10700  2021  08  05\n",
      "5  2021-08-06  11400  11450  11000  2021  08  06\n",
      "6  2021-08-07  11250  11450  10750  2021  08  07\n",
      "7  2021-08-08  11350  11750  11200  2021  08  08\n",
      "8  2021-08-09  11200  11600  10900  2021  08  09\n",
      "9  2021-08-10  11850  11950  11300  2021  08  10\n",
      "10 2021-08-11  13400  13400  12000  2021  08  11\n",
      "11 2021-08-12  13600  13600  12900  2021  08  12\n",
      "12 2021-08-13  13200  13700  13150  2021  08  13\n"
     ]
    }
   ],
   "source": [
    "print(df)"
   ]
  },
  {
   "cell_type": "code",
   "execution_count": 23,
   "id": "a4874304",
   "metadata": {},
   "outputs": [
    {
     "name": "stdout",
     "output_type": "stream",
     "text": [
      "0      18.0\n",
      "1      15.0\n",
      "2      18.0\n",
      "3      16.0\n",
      "4      17.0\n",
      "       ... \n",
      "393    27.0\n",
      "394    44.0\n",
      "395    32.0\n",
      "396    28.0\n",
      "397    31.0\n",
      "Name: mpg, Length: 398, dtype: float64\n"
     ]
    }
   ],
   "source": [
    "# 필터링\n",
    "# 불린 인덱싱 : 조건식에 해당하는 데이터를 판별하여 추출하기 위한 방법\n",
    "# -> 조건식을 이용하여 각 원소에 대한 불린값 반환 -> 불린값을 T로 데이터만 추출\n",
    "import seaborn as sns\n",
    "df = sns.load_dataset('mpg')\n",
    "print(df['mpg'])"
   ]
  },
  {
   "cell_type": "code",
   "execution_count": 24,
   "id": "89525fba",
   "metadata": {},
   "outputs": [
    {
     "name": "stdout",
     "output_type": "stream",
     "text": [
      "14     24.0\n",
      "15     22.0\n",
      "17     21.0\n",
      "18     27.0\n",
      "19     26.0\n",
      "       ... \n",
      "388    26.0\n",
      "389    22.0\n",
      "392    27.0\n",
      "393    27.0\n",
      "396    28.0\n",
      "Name: mpg, Length: 146, dtype: float64\n"
     ]
    }
   ],
   "source": [
    "mask1 = (df.mpg > 20) & (df.mpg < 30)\n",
    "df_bool = df.loc[mask1,:]\n",
    "print(df_bool['mpg'])"
   ]
  },
  {
   "cell_type": "code",
   "execution_count": 25,
   "id": "ef6cb88e",
   "metadata": {},
   "outputs": [
    {
     "data": {
      "text/plain": [
       "count    146.000000\n",
       "mean      24.807534\n",
       "std        2.699402\n",
       "min       20.200000\n",
       "25%       22.625000\n",
       "50%       25.000000\n",
       "75%       27.000000\n",
       "max       29.900000\n",
       "Name: mpg, dtype: float64"
      ]
     },
     "execution_count": 25,
     "metadata": {},
     "output_type": "execute_result"
    }
   ],
   "source": [
    "df_bool['mpg'].describe()"
   ]
  },
  {
   "cell_type": "code",
   "execution_count": 26,
   "id": "af16ee1d",
   "metadata": {},
   "outputs": [
    {
     "name": "stdout",
     "output_type": "stream",
     "text": [
      "    species     island  bill_length_mm  bill_depth_mm  flipper_length_mm  \\\n",
      "0    Adelie  Torgersen            39.1           18.7              181.0   \n",
      "1    Adelie  Torgersen            39.5           17.4              186.0   \n",
      "2    Adelie  Torgersen            40.3           18.0              195.0   \n",
      "3    Adelie  Torgersen             NaN            NaN                NaN   \n",
      "4    Adelie  Torgersen            36.7           19.3              193.0   \n",
      "..      ...        ...             ...            ...                ...   \n",
      "339  Gentoo     Biscoe             NaN            NaN                NaN   \n",
      "340  Gentoo     Biscoe            46.8           14.3              215.0   \n",
      "341  Gentoo     Biscoe            50.4           15.7              222.0   \n",
      "342  Gentoo     Biscoe            45.2           14.8              212.0   \n",
      "343  Gentoo     Biscoe            49.9           16.1              213.0   \n",
      "\n",
      "     body_mass_g     sex  \n",
      "0         3750.0    Male  \n",
      "1         3800.0  Female  \n",
      "2         3250.0  Female  \n",
      "3            NaN     NaN  \n",
      "4         3450.0  Female  \n",
      "..           ...     ...  \n",
      "339          NaN     NaN  \n",
      "340       4850.0  Female  \n",
      "341       5750.0    Male  \n",
      "342       5200.0  Female  \n",
      "343       5400.0    Male  \n",
      "\n",
      "[344 rows x 7 columns]\n"
     ]
    }
   ],
   "source": [
    "# 데이터 분석 실습 : 변수변환/재구성/필터링\n",
    "import seaborn as sns\n",
    "df = sns.load_dataset('penguins')\n",
    "print(df)"
   ]
  },
  {
   "cell_type": "code",
   "execution_count": 27,
   "id": "4ef4e4f9",
   "metadata": {},
   "outputs": [
    {
     "name": "stdout",
     "output_type": "stream",
     "text": [
      "<class 'pandas.core.frame.DataFrame'>\n",
      "RangeIndex: 344 entries, 0 to 343\n",
      "Data columns (total 7 columns):\n",
      " #   Column             Non-Null Count  Dtype  \n",
      "---  ------             --------------  -----  \n",
      " 0   species            344 non-null    object \n",
      " 1   island             344 non-null    object \n",
      " 2   bill_length_mm     342 non-null    float64\n",
      " 3   bill_depth_mm      342 non-null    float64\n",
      " 4   flipper_length_mm  342 non-null    float64\n",
      " 5   body_mass_g        342 non-null    float64\n",
      " 6   sex                333 non-null    object \n",
      "dtypes: float64(4), object(3)\n",
      "memory usage: 18.9+ KB\n"
     ]
    }
   ],
   "source": [
    "df.info()"
   ]
  },
  {
   "cell_type": "code",
   "execution_count": 28,
   "id": "8c129c13",
   "metadata": {},
   "outputs": [
    {
     "name": "stdout",
     "output_type": "stream",
     "text": [
      "<class 'pandas.core.frame.DataFrame'>\n",
      "Int64Index: 333 entries, 0 to 343\n",
      "Data columns (total 7 columns):\n",
      " #   Column             Non-Null Count  Dtype  \n",
      "---  ------             --------------  -----  \n",
      " 0   species            333 non-null    object \n",
      " 1   island             333 non-null    object \n",
      " 2   bill_length_mm     333 non-null    float64\n",
      " 3   bill_depth_mm      333 non-null    float64\n",
      " 4   flipper_length_mm  333 non-null    float64\n",
      " 5   body_mass_g        333 non-null    float64\n",
      " 6   sex                333 non-null    object \n",
      "dtypes: float64(4), object(3)\n",
      "memory usage: 20.8+ KB\n"
     ]
    }
   ],
   "source": [
    "df.dropna(subset=['body_mass_g','sex'], axis=0, inplace=True)\n",
    "df.info()"
   ]
  },
  {
   "cell_type": "code",
   "execution_count": 29,
   "id": "2693e858",
   "metadata": {},
   "outputs": [
    {
     "data": {
      "text/plain": [
       "(array([140, 135,  58], dtype=int64), array([2700., 3900., 5100., 6300.]))"
      ]
     },
     "execution_count": 29,
     "metadata": {},
     "output_type": "execute_result"
    }
   ],
   "source": [
    "# step1. 체중을 3개 군간으로 나누어 집단변수 생성\n",
    "import numpy as np\n",
    "np.histogram(df['body_mass_g'], bins=3)"
   ]
  },
  {
   "cell_type": "code",
   "execution_count": 30,
   "id": "3c20058d",
   "metadata": {},
   "outputs": [
    {
     "name": "stdout",
     "output_type": "stream",
     "text": [
      "[2700. 3900. 5100. 6300.]\n"
     ]
    }
   ],
   "source": [
    "count, bin_dividers = np.histogram(df['body_mass_g'], bins=3)\n",
    "print(bin_dividers)"
   ]
  },
  {
   "cell_type": "code",
   "execution_count": 31,
   "id": "13d2f14b",
   "metadata": {},
   "outputs": [
    {
     "name": "stdout",
     "output_type": "stream",
     "text": [
      "0       저체중\n",
      "1       저체중\n",
      "2       저체중\n",
      "4       저체중\n",
      "5       저체중\n",
      "       ... \n",
      "338    보통체중\n",
      "340    보통체중\n",
      "341     고체중\n",
      "342     고체중\n",
      "343     고체중\n",
      "Name: bm_bin, Length: 333, dtype: category\n",
      "Categories (3, object): ['저체중' < '보통체중' < '고체중']\n"
     ]
    }
   ],
   "source": [
    "import pandas as pd\n",
    "df['bm_bin'] = pd.cut(df['body_mass_g'],\n",
    "                     bins=bin_dividers,\n",
    "                     labels=['저체중','보통체중','고체중'],\n",
    "                     include_lowest=True)\n",
    "print(df['bm_bin'])"
   ]
  },
  {
   "cell_type": "code",
   "execution_count": 32,
   "id": "589c63c6",
   "metadata": {},
   "outputs": [
    {
     "data": {
      "text/plain": [
       "Index(['species', 'island', 'bill_length_mm', 'bill_depth_mm',\n",
       "       'flipper_length_mm', 'body_mass_g', 'sex', 'bm_bin'],\n",
       "      dtype='object')"
      ]
     },
     "execution_count": 32,
     "metadata": {},
     "output_type": "execute_result"
    }
   ],
   "source": [
    "# step2 조건에 맞는 새로운 데이터프레임 생성\n",
    "df.columns"
   ]
  },
  {
   "cell_type": "code",
   "execution_count": 36,
   "id": "073e1fd2",
   "metadata": {},
   "outputs": [
    {
     "name": "stdout",
     "output_type": "stream",
     "text": [
      "    bm_bin species     sex     island\n",
      "0      저체중  Adelie    Male  Torgersen\n",
      "1      저체중  Adelie  Female  Torgersen\n",
      "2      저체중  Adelie  Female  Torgersen\n",
      "4      저체중  Adelie  Female  Torgersen\n",
      "5      저체중  Adelie    Male  Torgersen\n",
      "..     ...     ...     ...        ...\n",
      "338   보통체중  Gentoo  Female     Biscoe\n",
      "340   보통체중  Gentoo  Female     Biscoe\n",
      "341    고체중  Gentoo    Male     Biscoe\n",
      "342    고체중  Gentoo  Female     Biscoe\n",
      "343    고체중  Gentoo    Male     Biscoe\n",
      "\n",
      "[333 rows x 4 columns]\n"
     ]
    }
   ],
   "source": [
    "df1 = df[['bm_bin','species','sex','island']]\n",
    "print(df1)"
   ]
  },
  {
   "cell_type": "code",
   "execution_count": 47,
   "id": "749ccb8d",
   "metadata": {},
   "outputs": [
    {
     "name": "stdout",
     "output_type": "stream",
     "text": [
      "0      0\n",
      "1      1\n",
      "2      1\n",
      "4      1\n",
      "5      0\n",
      "      ..\n",
      "338    1\n",
      "340    1\n",
      "341    0\n",
      "342    1\n",
      "343    0\n",
      "Name: sex, Length: 333, dtype: int64\n"
     ]
    },
    {
     "name": "stderr",
     "output_type": "stream",
     "text": [
      "C:\\Users\\M\\.conda\\envs\\cospropython\\lib\\site-packages\\ipykernel_launcher.py:3: SettingWithCopyWarning: \n",
      "A value is trying to be set on a copy of a slice from a DataFrame.\n",
      "Try using .loc[row_indexer,col_indexer] = value instead\n",
      "\n",
      "See the caveats in the documentation: https://pandas.pydata.org/pandas-docs/stable/user_guide/indexing.html#returning-a-view-versus-a-copy\n",
      "  This is separate from the ipykernel package so we can avoid doing imports until\n",
      "C:\\Users\\M\\.conda\\envs\\cospropython\\lib\\site-packages\\ipykernel_launcher.py:4: SettingWithCopyWarning: \n",
      "A value is trying to be set on a copy of a slice from a DataFrame.\n",
      "Try using .loc[row_indexer,col_indexer] = value instead\n",
      "\n",
      "See the caveats in the documentation: https://pandas.pydata.org/pandas-docs/stable/user_guide/indexing.html#returning-a-view-versus-a-copy\n",
      "  after removing the cwd from sys.path.\n"
     ]
    }
   ],
   "source": [
    "# 성별변수를 더미변수로 변환\n",
    "import pandas as pd\n",
    "df1['sex'] = pd.get_dummies(df1['sex'], drop_first=True)\n",
    "df1['sex'] = df1['sex'].replace({1: 0, 0: 1})\n",
    "\n",
    "print(df1['sex'])"
   ]
  },
  {
   "cell_type": "code",
   "execution_count": 48,
   "id": "307a647c",
   "metadata": {},
   "outputs": [
    {
     "name": "stdout",
     "output_type": "stream",
     "text": [
      "    bm_bin species  sex  island\n",
      "254    고체중  Gentoo    1  Biscoe\n",
      "293    고체중  Gentoo    1  Biscoe\n",
      "342    고체중  Gentoo    1  Biscoe\n"
     ]
    }
   ],
   "source": [
    "# 조건에 맞는 새로운 데이터프레임 생성\n",
    "mask1 = (df1.sex == 1) & (df1.bm_bin == '고체중')\n",
    "df1_bool = df1.loc[mask1, :]\n",
    "print(df1_bool)"
   ]
  },
  {
   "cell_type": "code",
   "execution_count": null,
   "id": "062494eb",
   "metadata": {},
   "outputs": [],
   "source": []
  }
 ],
 "metadata": {
  "kernelspec": {
   "display_name": "Python 3 (ipykernel)",
   "language": "python",
   "name": "python3"
  },
  "language_info": {
   "codemirror_mode": {
    "name": "ipython",
    "version": 3
   },
   "file_extension": ".py",
   "mimetype": "text/x-python",
   "name": "python",
   "nbconvert_exporter": "python",
   "pygments_lexer": "ipython3",
   "version": "3.7.16"
  }
 },
 "nbformat": 4,
 "nbformat_minor": 5
}
